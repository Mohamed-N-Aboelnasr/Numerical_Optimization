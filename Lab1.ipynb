{
 "cells": [
  {
   "cell_type": "markdown",
   "metadata": {},
   "source": [
    "<center>\n",
    "    <h1>Mohamed Nasser Aboelnasr</h1>\n",
    "</center>"
   ]
  },
  {
   "cell_type": "markdown",
   "metadata": {
    "id": "VNYrY1TeBiwa"
   },
   "source": [
    "## Practical Work 1"
   ]
  },
  {
   "cell_type": "markdown",
   "metadata": {
    "id": "CDPDTZHPBiwi"
   },
   "source": [
    "For this practical work, the student will have to develop a Python program that is able to implement the gradient descent in order to achieve the linear regression of a set of datapoints."
   ]
  },
  {
   "cell_type": "markdown",
   "metadata": {
    "id": "tHyiBjD_Biwj"
   },
   "source": [
    "#### Import numpy, matplotlib.pyplot and make it inline"
   ]
  },
  {
   "cell_type": "code",
   "execution_count": 128,
   "metadata": {
    "id": "_F6o_pBEBiwk"
   },
   "outputs": [],
   "source": [
    "import numpy as np\n",
    "import matplotlib.pyplot as plt "
   ]
  },
  {
   "cell_type": "markdown",
   "metadata": {
    "id": "UM9ZD0SBBiwl"
   },
   "source": [
    "#### Read RegData csv file into numpy array  (check your data)\n",
    "##### Data source\n",
    "https://college.cengage.com/mathematics/brase/understandable_statistics/7e/students/datasets/slr/frames/frame.html\n"
   ]
  },
  {
   "cell_type": "code",
   "execution_count": 129,
   "metadata": {
    "id": "my87Du15Biwn"
   },
   "outputs": [],
   "source": [
    "data=np.genfromtxt('/home/mnasser/Downloads/student_scores.csv',delimiter=',',skip_header=1)"
   ]
  },
  {
   "cell_type": "markdown",
   "metadata": {
    "id": "owZkx69SBiwn"
   },
   "source": [
    "#### Explore your data"
   ]
  },
  {
   "cell_type": "code",
   "execution_count": 130,
   "metadata": {
    "id": "kMqiB2jjBiwp"
   },
   "outputs": [
    {
     "name": "stdout",
     "output_type": "stream",
     "text": [
      "[[ 2.5 21. ]\n",
      " [ 5.1 47. ]\n",
      " [ 3.2 27. ]\n",
      " [ 8.5 75. ]\n",
      " [ 3.5 30. ]\n",
      " [ 1.5 20. ]\n",
      " [ 9.2 88. ]\n",
      " [ 5.5 60. ]\n",
      " [ 8.3 81. ]\n",
      " [ 2.7 25. ]\n",
      " [ 7.7 85. ]\n",
      " [ 5.9 62. ]\n",
      " [ 4.5 41. ]\n",
      " [ 3.3 42. ]\n",
      " [ 1.1 17. ]\n",
      " [ 8.9 95. ]\n",
      " [ 2.5 30. ]\n",
      " [ 1.9 24. ]\n",
      " [ 6.1 67. ]\n",
      " [ 7.4 69. ]\n",
      " [ 2.7 30. ]\n",
      " [ 4.8 54. ]\n",
      " [ 3.8 35. ]\n",
      " [ 6.9 76. ]\n",
      " [ 7.8 86. ]]\n"
     ]
    }
   ],
   "source": [
    "print(data)"
   ]
  },
  {
   "cell_type": "markdown",
   "metadata": {
    "id": "E9UmMCvxBiwq"
   },
   "source": [
    "#### Define variables X and y. Assign first column data to X and second column to y\n",
    "<b>Note:</b> X is the independent variable (input to LR model) and y is the dependent variable (output)"
   ]
  },
  {
   "cell_type": "code",
   "execution_count": 131,
   "metadata": {
    "id": "KE8mRQ1qBiwr"
   },
   "outputs": [],
   "source": [
    "x=data[:,0].reshape(len(data),1)\n",
    "y=data[:,1].reshape(len(data),1)"
   ]
  },
  {
   "cell_type": "markdown",
   "metadata": {
    "id": "C9pq_EtBBiwr"
   },
   "source": [
    "#### Explore your data"
   ]
  },
  {
   "cell_type": "code",
   "execution_count": 132,
   "metadata": {
    "id": "DCl36QMsBiws"
   },
   "outputs": [
    {
     "name": "stdout",
     "output_type": "stream",
     "text": [
      "[[2.5]\n",
      " [5.1]\n",
      " [3.2]\n",
      " [8.5]\n",
      " [3.5]\n",
      " [1.5]\n",
      " [9.2]\n",
      " [5.5]\n",
      " [8.3]\n",
      " [2.7]\n",
      " [7.7]\n",
      " [5.9]\n",
      " [4.5]\n",
      " [3.3]\n",
      " [1.1]\n",
      " [8.9]\n",
      " [2.5]\n",
      " [1.9]\n",
      " [6.1]\n",
      " [7.4]\n",
      " [2.7]\n",
      " [4.8]\n",
      " [3.8]\n",
      " [6.9]\n",
      " [7.8]]\n"
     ]
    }
   ],
   "source": [
    "print(x)"
   ]
  },
  {
   "cell_type": "code",
   "execution_count": 133,
   "metadata": {
    "id": "GRxlsqa3Biws",
    "scrolled": true
   },
   "outputs": [
    {
     "name": "stdout",
     "output_type": "stream",
     "text": [
      "[[21.]\n",
      " [47.]\n",
      " [27.]\n",
      " [75.]\n",
      " [30.]\n",
      " [20.]\n",
      " [88.]\n",
      " [60.]\n",
      " [81.]\n",
      " [25.]\n",
      " [85.]\n",
      " [62.]\n",
      " [41.]\n",
      " [42.]\n",
      " [17.]\n",
      " [95.]\n",
      " [30.]\n",
      " [24.]\n",
      " [67.]\n",
      " [69.]\n",
      " [30.]\n",
      " [54.]\n",
      " [35.]\n",
      " [76.]\n",
      " [86.]]\n"
     ]
    }
   ],
   "source": [
    "print(y)"
   ]
  },
  {
   "cell_type": "markdown",
   "metadata": {
    "id": "2KQyVG9lBiws"
   },
   "source": [
    "#### Plot the original data (scatter plot of X,y)"
   ]
  },
  {
   "cell_type": "code",
   "execution_count": 134,
   "metadata": {
    "id": "yAnX2vYnBiwt"
   },
   "outputs": [
    {
     "data": {
      "image/png": "[encoded data removed]",
      "text/plain": [
       "<Figure size 432x288 with 1 Axes>"
      ]
     },
     "metadata": {
      "needs_background": "light"
     },
     "output_type": "display_data"
    }
   ],
   "source": [
    "plt.scatter(x,y)\n",
    "plt.show()"
   ]
  },
  {
   "cell_type": "markdown",
   "metadata": {
    "id": "TCMaEjkBBiwt"
   },
   "source": [
    "## LR Full Implementation"
   ]
  },
  {
   "cell_type": "markdown",
   "metadata": {
    "id": "8VPdQ31cBiwu"
   },
   "source": [
    "### Step1: Initialize parameters (theta_0 & theta_1) with random value or simply zero. Also choose the Learning rate. ![11.png](data:image/png;base64,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)![1.png](data:image/png;base64,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)"
   ]
  },
  {
   "cell_type": "code",
   "execution_count": 135,
   "metadata": {
    "id": "kbp-waV1Biwx"
   },
   "outputs": [],
   "source": [
    "theta_0=0\n",
    "theta_1=10\n",
    "alpha=0.0001"
   ]
  },
  {
   "cell_type": "markdown",
   "metadata": {
    "id": "jGtwlmrsBiwy"
   },
   "source": [
    "### Step2: Use (theta_0 & theta_1) to predict the output h(x)= theta_0 + theta_1 * x\n",
    "![2.JPG](data:image/jpeg;base64,/9j/4AAQSkZJRgABAQEAYABgAAD/4REARXhpZgAATU0AKgAAAAgABAE7AAIAAAASAAAISodpAAQAAAABAAAIXJydAAEAAAAkAAAQ1OocAAcAAAgMAAAAPgAAAAAc6gAAAAgAAAAAAAAAAAAAAAAAAAAAAAAAAAAAAAAAAAAAAAAAAAAAAAAAAAAAAAAAAAAAAAAAAAAAAAAAAAAAAAAAAAAAAAAAAAAAAAAAAAAAAAAAAAAAAAAAAAAAAAAAAAAAAAAAAAAAAAAAAAAAAAAAAAAAAAAAAAAAAAAAAAAAAAAAAAAAAAAAAAAAAAAAAAAAAAAAAAAAAAAAAAAAAAAAAAAAAAAAAAAAAAAAAAAAAAAAAAAAAAAAAAAAAAAAAAAAAAAAAAAAAAAAAAAAAAAAAAAAAAAAAAAAAAAAAAAAAAAAAAAAAAAAAAAAAAAAAAAAAAAAAAAAAAAAAAAAAAAAAAAAAAAAAAAAAAAAAAAAAAAAAAAAAAAAAAAAAAAAAAAAAAAAAAAAAAAAAAAAAAAAAAAAAAAAAAAAAAAAAAAAAAAAAAAAAAAAAAAAAAAAAAAAAAAAAAAAAAAAAAAAAAAAAAAAAAAAAAAAAAAAAAAAAAAAAAAAAAAAAAAAAAAAAAAAAAAAAAAAAAAAAAAAAAAAAAAAAAAAAAAAAAAAAAAAAAAAAAAAAAAAAAAAAAAAAAAAAAAAAAAAAAAAAAAAAAAAAAAAAAAAAAAAAAAAAAAAAAAAAAAAAAAAAAAAAAAAAAAAAAAAAAAAAAAAAAAAAAAAAAAAAAAAAAAAAAAAAAAAAAAAAAAAAAAAAAAAAAAAAAAAAAAAAAAAAAAAAAAAAAAAAAAAAAAAAAAAAAAAAAAAAAAAAAAAAAAAAAAAAAAAAAAAAAAAAAAAAAAAAAAAAAAAAAAAAAAAAAAAAAAAAAAAAAAAAAAAAAAAAAAAAAAAAAAAAAAAAAAAAAAAAAAAAAAAAAAAAAAAAAAAAAAAAAAAAAAAAAAAAAAAAAAAAAAAAAAAAAAAAAAAAAAAAAAAAAAAAAAAAAAAAAAAAAAAAAAAAAAAAAAAAAAAAAAAAAAAAAAAAAAAAAAAAAAAAAAAAAAAAAAAAAAAAAAAAAAAAAAAAAAAAAAAAAAAAAAAAAAAAAAAAAAAAAAAAAAAAAAAAAAAAAAAAAAAAAAAAAAAAAAAAAAAAAAAAAAAAAAAAAAAAAAAAAAAAAAAAAAAAAAAAAAAAAAAAAAAAAAAAAAAAAAAAAAAAAAAAAAAAAAAAAAAAAAAAAAAAAAAAAAAAAAAAAAAAAAAAAAAAAAAAAAAAAAAAAAAAAAAAAAAAAAAAAAAAAAAAAAAAAAAAAAAAAAAAAAAAAAAAAAAAAAAAAAAAAAAAAAAAAAAAAAAAAAAAAAAAAAAAAAAAAAAAAAAAAAAAAAAAAAAAAAAAAAAAAAAAAAAAAAAAAAAAAAAAAAAAAAAAAAAAAAAAAAAAAAAAAAAAAAAAAAAAAAAAAAAAAAAAAAAAAAAAAAAAAAAAAAAAAAAAAAAAAAAAAAAAAAAAAAAAAAAAAAAAAAAAAAAAAAAAAAAAAAAAAAAAAAAAAAAAAAAAAAAAAAAAAAAAAAAAAAAAAAAAAAAAAAAAAAAAAAAAAAAAAAAAAAAAAAAAAAAAAAAAAAAAAAAAAAAAAAAAAAAAAAAAAAAAAAAAAAAAAAAAAAAAAAAAAAAAAAAAAAAAAAAAAAAAAAAAAAAAAAAAAAAAAAAAAAAAAAAAAAAAAAAAAAAAAAAAAAAAAAAAAAAAAAAAAAAAAAAAAAAAAAAAAAAAAAAAAAAAAAAAAAAAAAAAAAAAAAAAAAAAAAAAAAAAAAAAAAAAAAAAAAAAAAAAAAAAAAAAAAAAAAAAAAAAAAAAAAAAAAAAAAAAAAAAAAAAAAAAAAAAAAAAAAAAAAAAAAAAAAAAAAAAAAAAAAAAAAAAAAAAAAAAAAAAAAAAAAAAAAAAAAAAAAAAAAAAAAAAAAAAAAAAAAAAAAAAAAAAAAAAAAAAAAAAAAAAAAAAAAAAAAAAAAAAAAAAAAAAAAAAAAAAAAAAAAAAAAAAAAAAAAAAAAAAAAAAAAAAAAAAAAAAAAAAAAAAAAAAAAAAAAAAAAAAAAAAAAAAAAAAAAAAAAAAAAAAAAAAAAAAAAAAAAAAAAAAAAAAAAAAAAAAAAAAAAAAAAAAAAAAAAAAAAAAAAAAAAAAAAAAAAAAAAAAAAAAAAAAAAAAAAAAAAAAAAAAAAAAAAAAAAAAAAAAAAAAAAAAAAAAAAAAAAAAAAAAAAAAAAAAAAAAAAAAAAAAAAAAAAAAAAAAAAAAAAAAAAAAAAAAAAAAAAAAAAAAAAAAAAAAAAAAAAAAAAAAAAAAAAAAAAAAAAAAAAAAAAAAAAAAAAAAAAAAAAAAAAAAAAAAAAAAAAAAAAAAAAAAAAAAAAAAAAAAAAAAAAAAAAAAAAAAAAAAAAAAAAAAAAAAAAAAAAAAAAAAAAAAAAAAAAAAAAAAAAAAAAAAAAAAAAAAAAAAAAAAAAAAAAAAAAAAAAAAAAAAAAAAAAAAAAAAAAAAAAAAAAAAAAAAAAAAAAAAAAAAAAAAAAAAAAAAAAAAAAAAAAAAAAAAAAAAAAAAAAAAAAAAAAAAAAAAAAAAAAAAAAAAAAAAAAAAAAAAAAAAAAAAAAAAAAAAAAAAAAAAAAAAAAAAAAAAAAAAAAAAAAAAAAAAAAAAAAAAAAAAAAAAAAAAAAAAAAAAAAAAAAAAAAAAAAAAAAAAAAAAAAAAAAAAAAAAAAAAAAAAAAAAAAAAAAAAAAAAAAAAAAAAAAAAAAAAAAAAAAAAAAAAAAAAAAAAAAAAAAAAAAAAAAAAAAAAAAAAEFobWVkIEFiZGVscmVoZWVtAAAFkAMAAgAAABQAABCqkAQAAgAAABQAABC+kpEAAgAAAAM4MAAAkpIAAgAAAAM4MAAA6hwABwAACAwAAAieAAAAABzqAAAACAAAAAAAAAAAAAAAAAAAAAAAAAAAAAAAAAAAAAAAAAAAAAAAAAAAAAAAAAAAAAAAAAAAAAAAAAAAAAAAAAAAAAAAAAAAAAAAAAAAAAAAAAAAAAAAAAAAAAAAAAAAAAAAAAAAAAAAAAAAAAAAAAAAAAAAAAAAAAAAAAAAAAAAAAAAAAAAAAAAAAAAAAAAAAAAAAAAAAAAAAAAAAAAAAAAAAAAAAAAAAAAAAAAAAAAAAAAAAAAAAAAAAAAAAAAAAAAAAAAAAAAAAAAAAAAAAAAAAAAAAAAAAAAAAAAAAAAAAAAAAAAAAAAAAAAAAAAAAAAAAAAAAAAAAAAAAAAAAAAAAAAAAAAAAAAAAAAAAAAAAAAAAAAAAAAAAAAAAAAAAAAAAAAAAAAAAAAAAAAAAAAAAAAAAAAAAAAAAAAAAAAAAAAAAAAAAAAAAAAAAAAAAAAAAAAAAAAAAAAAAAAAAAAAAAAAAAAAAAAAAAAAAAAAAAAAAAAAAAAAAAAAAAAAAAAAAAAAAAAAAAAAAAAAAAAAAAAAAAAAAAAAAAAAAAAAAAAAAAAAAAAAAAAAAAAAAAAAAAAAAAAAAAAAAAAAAAAAAAAAAAAAAAAAAAAAAAAAAAAAAAAAAAAAAAAAAAAAAAAAAAAAAAAAAAAAAAAAAAAAAAAAAAAAAAAAAAAAAAAAAAAAAAAAAAAAAAAAAAAAAAAAAAAAAAAAAAAAAAAAAAAAAAAAAAAAAAAAAAAAAAAAAAAAAAAAAAAAAAAAAAAAAAAAAAAAAAAAAAAAAAAAAAAAAAAAAAAAAAAAAAAAAAAAAAAAAAAAAAAAAAAAAAAAAAAAAAAAAAAAAAAAAAAAAAAAAAAAAAAAAAAAAAAAAAAAAAAAAAAAAAAAAAAAAAAAAAAAAAAAAAAAAAAAAAAAAAAAAAAAAAAAAAAAAAAAAAAAAAAAAAAAAAAAAAAAAAAAAAAAAAAAAAAAAAAAAAAAAAAAAAAAAAAAAAAAAAAAAAAAAAAAAAAAAAAAAAAAAAAAAAAAAAAAAAAAAAAAAAAAAAAAAAAAAAAAAAAAAAAAAAAAAAAAAAAAAAAAAAAAAAAAAAAAAAAAAAAAAAAAAAAAAAAAAAAAAAAAAAAAAAAAAAAAAAAAAAAAAAAAAAAAAAAAAAAAAAAAAAAAAAAAAAAAAAAAAAAAAAAAAAAAAAAAAAAAAAAAAAAAAAAAAAAAAAAAAAAAAAAAAAAAAAAAAAAAAAAAAAAAAAAAAAAAAAAAAAAAAAAAAAAAAAAAAAAAAAAAAAAAAAAAAAAAAAAAAAAAAAAAAAAAAAAAAAAAAAAAAAAAAAAAAAAAAAAAAAAAAAAAAAAAAAAAAAAAAAAAAAAAAAAAAAAAAAAAAAAAAAAAAAAAAAAAAAAAAAAAAAAAAAAAAAAAAAAAAAAAAAAAAAAAAAAAAAAAAAAAAAAAAAAAAAAAAAAAAAAAAAAAAAAAAAAAAAAAAAAAAAAAAAAAAAAAAAAAAAAAAAAAAAAAAAAAAAAAAAAAAAAAAAAAAAAAAAAAAAAAAAAAAAAAAAAAAAAAAAAAAAAAAAAAAAAAAAAAAAAAAAAAAAAAAAAAAAAAAAAAAAAAAAAAAAAAAAAAAAAAAAAAAAAAAAAAAAAAAAAAAAAAAAAAAAAAAAAAAAAAAAAAAAAAAAAAAAAAAAAAAAAAAAAAAAAAAAAAAAAAAAAAAAAAAAAAAAAAAAAAAAAAAAAAAAAAAAAAAAAAAAAAAAAAAAAAAAAAAAAAAAAAAAAAAAAAAAAAAAAAAAAAAAAAAAAAAAAAAAAAAAAAAAAAAAAAAAAAAAAAAAAAAAAAAAAAAAAAAAAAAAAAAAAAAAAAAAAAAAAAAAAAAAAAAAAAAAAAAAAAAAAAAAAAAAAAAAAAAAAAAAAAAAAAAAAAAAAAAAAAAAAAAAAAAAAAAAAAAAAAAAAAAAAAAAAAAAAAAAAAAAAAAAAAAAAAAAAAAAAAAAAAAAAAAAAAAAAAAAAAAAAAAAAAAAAAAAAAAAAAAAAAAAAAAAAAAAAAAAAAAAAAAAAAAAAAAAAAAAAAAAAAAAAAAAAAAAAAAAAAAAAAAAAAAAAAAAAAAAAAAAAAAAAAAAAAAAAAAAAAAAAAAAAAAAAAAAAAAAAAAAAAAAAAAAAAAAAAAAAAAAAAAAAAAAAAAAAAAAAAAAAAAAAAAAAAAAAAAAAAAAAAAAAAAAAAAAAAAAAAAAAAAAAAAAAAAAAAAAAAAAAAAAAAAAAAAAAAAAAAAAAAAAAAAAAAAAAAAAAAAAAAAAAAAAAAAAAAAAAAAAAAAAAAAAAAAAAAAAAAAAAAAAAAAAAAAAAAAAAAAAAAAAAAAAAAAAAAAAAAAAAAAAAAAAAAAAAAAAAAAAAAAAAAAAAAAAAAAAAAAAAAAAAAAAAAAAAAAAAAAAAAAAAAAAAAAAAAAAAAAAAAAAAAAAAAAAAAAAAAAAAAAAAAAAAAAAAAAAAAAAAAAAAAAAAAAAAAAAAAAAAAAAAAAAAAAAAAAAAAAAAAAAAAAAAAAAAAAAAAAAAAAAAAAAAAAAAAAAAAAAAAAAAAAAAAAAAAAAAAAAAAAAAAAAAAAAAAAAAAAAAAAAAAAAAAAAAAAAAAAAAAAAAAAAAAAAAAAAAAAAAAAAAAAAAAAAAAAAAAAAAAAAAAAAAAAAAAAAAAAAAAAAAAAAAAAAAAAAAAAAAAAAAAAAAAAAAAAAAAAAAAAAAAAAAAAAAAAAAAAAAMjAyMTowNzowNyAwMDo1OTozNgAyMDIxOjA3OjA3IDAwOjU5OjM2AAAAQQBoAG0AZQBkACAAQQBiAGQAZQBsAHIAZQBoAGUAZQBtAAAA/+ELJGh0dHA6Ly9ucy5hZG9iZS5jb20veGFwLzEuMC8APD94cGFja2V0IGJlZ2luPSfvu78nIGlkPSdXNU0wTXBDZWhpSHpyZVN6TlRjemtjOWQnPz4NCjx4OnhtcG1ldGEgeG1sbnM6eD0iYWRvYmU6bnM6bWV0YS8iPjxyZGY6UkRGIHhtbG5zOnJkZj0iaHR0cDovL3d3dy53My5vcmcvMTk5OS8wMi8yMi1yZGYtc3ludGF4LW5zIyI+PHJkZjpEZXNjcmlwdGlvbiByZGY6YWJvdXQ9InV1aWQ6ZmFmNWJkZDUtYmEzZC0xMWRhLWFkMzEtZDMzZDc1MTgyZjFiIiB4bWxuczpkYz0iaHR0cDovL3B1cmwub3JnL2RjL2VsZW1lbnRzLzEuMS8iLz48cmRmOkRlc2NyaXB0aW9uIHJkZjphYm91dD0idXVpZDpmYWY1YmRkNS1iYTNkLTExZGEtYWQzMS1kMzNkNzUxODJmMWIiIHhtbG5zOnhtcD0iaHR0cDovL25zLmFkb2JlLmNvbS94YXAvMS4wLyI+PHhtcDpDcmVhdGVEYXRlPjIwMjEtMDctMDdUMDA6NTk6MzYuNzk2PC94bXA6Q3JlYXRlRGF0ZT48L3JkZjpEZXNjcmlwdGlvbj48cmRmOkRlc2NyaXB0aW9uIHJkZjphYm91dD0idXVpZDpmYWY1YmRkNS1iYTNkLTExZGEtYWQzMS1kMzNkNzUxODJmMWIiIHhtbG5zOmRjPSJodHRwOi8vcHVybC5vcmcvZGMvZWxlbWVudHMvMS4xLyI+PGRjOmNyZWF0b3I+PHJkZjpTZXEgeG1sbnM6cmRmPSJodHRwOi8vd3d3LnczLm9yZy8xOTk5LzAyLzIyLXJkZi1zeW50YXgtbnMjIj48cmRmOmxpPkFobWVkIEFiZGVscmVoZWVtPC9yZGY6bGk+PC9yZGY6U2VxPg0KCQkJPC9kYzpjcmVhdG9yPjwvcmRmOkRlc2NyaXB0aW9uPjwvcmRmOlJERj48L3g6eG1wbWV0YT4NCiAgICAgICAgICAgICAgICAgICAgICAgICAgICAgICAgICAgICAgICAgICAgICAgICAgICAgICAgICAgICAgICAgICAgICAgICAgICAgICAgICAgICAgICAgICAgICAgICAgICAKICAgICAgICAgICAgICAgICAgICAgICAgICAgICAgICAgICAgICAgICAgICAgICAgICAgICAgICAgICAgICAgICAgICAgICAgICAgICAgICAgICAgICAgICAgICAgICAgICAgIAogICAgICAgICAgICAgICAgICAgICAgICAgICAgICAgICAgICAgICAgICAgICAgICAgICAgICAgICAgICAgICAgICAgICAgICAgICAgICAgICAgICAgICAgICAgICAgICAgICAgCiAgICAgICAgICAgICAgICAgICAgICAgICAgICAgICAgICAgICAgICAgICAgICAgICAgICAgICAgICAgICAgICAgICAgICAgICAgICAgICAgICAgICAgICAgICAgICAgICAgICAKICAgICAgICAgICAgICAgICAgICAgICAgICAgICAgICAgICAgICAgICAgICAgICAgICAgICAgICAgICAgICAgICAgICAgICAgICAgICAgICAgICAgICAgICAgICAgICAgICAgIAogICAgICAgICAgICAgICAgICAgICAgICAgICAgICAgICAgICAgICAgICAgICAgICAgICAgICAgICAgICAgICAgICAgICAgICAgICAgICAgICAgICAgICAgICAgICAgICAgICAgCiAgICAgICAgICAgICAgICAgICAgICAgICAgICAgICAgICAgICAgICAgICAgICAgICAgICAgICAgICAgICAgICAgICAgICAgICAgICAgICAgICAgICAgICAgICAgICAgICAgICAKICAgICAgICAgICAgICAgICAgICAgICAgICAgICAgICAgICAgICAgICAgICAgICAgICAgICAgICAgICAgICAgICAgICAgICAgICAgICAgICAgICAgICAgICAgICAgICAgICAgIAogICAgICAgICAgICAgICAgICAgICAgICAgICAgICAgICAgICAgICAgICAgICAgICAgICAgICAgICAgICAgICAgICAgICAgICAgICAgICAgICAgICAgICAgICAgICAgICAgICAgCiAgICAgICAgICAgICAgICAgICAgICAgICAgICAgICAgICAgICAgICAgICAgICAgICAgICAgICAgICAgICAgICAgICAgICAgICAgICAgICAgICAgICAgICAgICAgICAgICAgICAKICAgICAgICAgICAgICAgICAgICAgICAgICAgICAgICAgICAgICAgICAgICAgICAgICAgICAgICAgICAgICAgICAgICAgICAgICAgICAgICAgICAgICAgICAgICAgICAgICAgIAogICAgICAgICAgICAgICAgICAgICAgICAgICAgICAgICAgICAgICAgICAgICAgICAgICAgICAgICAgICAgICAgICAgICAgICAgICAgICAgICAgICAgICAgICAgICAgICAgICAgCiAgICAgICAgICAgICAgICAgICAgICAgICAgICAgICAgICAgICAgICAgICAgICAgICAgICAgICAgICAgICAgICAgICAgICAgICAgICAgICAgICAgICAgICAgICAgICAgICAgICAKICAgICAgICAgICAgICAgICAgICAgICAgICAgICAgICAgICAgICAgICAgICAgICAgICAgICAgICAgICAgICAgICAgICAgICAgICAgICAgICAgICAgICAgICAgICAgICAgICAgIAogICAgICAgICAgICAgICAgICAgICAgICAgICAgICAgICAgICAgICAgICAgICAgICAgICAgICAgICAgICAgICAgICAgICAgICAgICAgICAgICAgICAgICAgICAgICAgICAgICAgCiAgICAgICAgICAgICAgICAgICAgICAgICAgICAgICAgICAgICAgICAgICAgICAgICAgICAgICAgICAgICAgICAgICAgICAgICAgICAgICAgICAgICAgICAgICAgICAgICAgICAKICAgICAgICAgICAgICAgICAgICAgICAgICAgICAgICAgICAgICAgICAgICAgICAgICAgICAgICAgICAgICAgICAgICAgICAgICAgICAgICAgICAgICAgICAgICAgICAgICAgIAogICAgICAgICAgICAgICAgICAgICAgICAgICAgICAgICAgICAgICAgICAgICAgICAgICAgICAgICAgICAgICAgICAgICAgICAgICAgICAgICAgICAgICAgICAgICAgICAgICAgCiAgICAgICAgICAgICAgICAgICAgICAgICAgICAgICAgICAgICAgICAgICAgICAgICAgICAgICAgICAgICAgICAgICAgICAgICAgICAgICAgICAgICAgICAgICAgICAgICAgICAKICAgICAgICAgICAgICAgICAgICAgICAgICAgICAgICAgICAgICAgICAgICAgICAgICAgICAgICAgICAgICAgICAgICAgICAgICAgICAgICAgICAgICAgICAgICAgICAgICAgIAogICAgICAgICAgICAgICAgICAgICAgICAgICAgPD94cGFja2V0IGVuZD0ndyc/Pv/bAEMABwUFBgUEBwYFBggHBwgKEQsKCQkKFQ8QDBEYFRoZGBUYFxseJyEbHSUdFxgiLiIlKCkrLCsaIC8zLyoyJyorKv/bAEMBBwgICgkKFAsLFCocGBwqKioqKioqKioqKioqKioqKioqKioqKioqKioqKioqKioqKioqKioqKioqKioqKioqKv/AABEIAEAA9QMBIgACEQEDEQH/xAAfAAABBQEBAQEBAQAAAAAAAAAAAQIDBAUGBwgJCgv/xAC1EAACAQMDAgQDBQUEBAAAAX0BAgMABBEFEiExQQYTUWEHInEUMoGRoQgjQrHBFVLR8CQzYnKCCQoWFxgZGiUmJygpKjQ1Njc4OTpDREVGR0hJSlNUVVZXWFlaY2RlZmdoaWpzdHV2d3h5eoOEhYaHiImKkpOUlZaXmJmaoqOkpaanqKmqsrO0tba3uLm6wsPExcbHyMnK0tPU1dbX2Nna4eLj5OXm5+jp6vHy8/T19vf4+fr/xAAfAQADAQEBAQEBAQEBAAAAAAAAAQIDBAUGBwgJCgv/xAC1EQACAQIEBAMEBwUEBAABAncAAQIDEQQFITEGEkFRB2FxEyIygQgUQpGhscEJIzNS8BVictEKFiQ04SXxFxgZGiYnKCkqNTY3ODk6Q0RFRkdISUpTVFVWV1hZWmNkZWZnaGlqc3R1dnd4eXqCg4SFhoeIiYqSk5SVlpeYmZqio6Slpqeoqaqys7S1tre4ubrCw8TFxsfIycrS09TV1tfY2dri4+Tl5ufo6ery8/T19vf4+fr/2gAMAwEAAhEDEQA/APpGiiigAooooAKKKKACiiigAooooAKKKKACiiigAooooAKKKKACiiigAooooAKKKKACiiigAooooAKKKKACiiigAqhrd3dWGjXN1YpC80KFws7FUwBk5Iq/XE/F7Vm0j4Y6q8W7zrlBbRBepZztwKANHwF4kvPFvg+01q/s47N7rcyxxuWG0HAOT69a6WvMzrGsfD74d6RdT2lqtlbJb2zWZz5uGwud3Td3xivSRMggEzkIm3cSxxge9AD6yPEuujQdLEyR+fdTyLBawg/6yVjhR9O59qfp3iPS9Vujb2VyJJNm9QQRvXONy56jPcVy2uzNffGfw7prcw2lnNelf9vOxT/OgDstLgurfTo01Cfz7kjMjgYGT2A9BVuqOr6j/ZmnmZYmmlZgkUS9XcnAFclf+Ltc0vxbp3h6e1tLi61WJ5IHi3BYCvXfzyMdx3oA7O+hmuLGWO2nMExX5JAM7T24rM8M662sWk8V2gh1CxlMF1ED0cdx7EciqvhDWta1iPUF13SzYm1umhhkKlRcIP4wD0FZNux0745XMCHEeqaSJ2XtvjcLn8moA7uiiuc1TxZNpt/JbJ4f1W7VMYmt4NyN9DmgDo6K5D/hO7j/AKFTXf8AwG/+vV/R/FEurX32eTQtUsRtJ825h2r9M5oA6Cuf8SeKF0a6stNsohdarqDlba3zgADlnY9lFdBXjHhnXpdU+MHijXpNNvtQgsWGm2bW0W9YwvL/AIk0AegaD4kurjxNf+HdXWEX1nCk4kgzskjb2PQg8V09eSeA9SfxH8bPFesLBNb21nbRWW2ZdpDg5INemW2t6ZeXRt7W+gll5+RXBJx6etAF+iio3uIYm2yTRofRmAoAa13bpeJatMgnkUukZPzMB1IFTVx2oXVufinpDefFgafNzvH94V1iXVvIwVJ42Y9AHBJoAlrnNc8UPa65a6Bo8KXWq3KmQq5+SCMdXfH5Ad66GSQRRNI/CqCTXjHw28Q3F7r/AIl8U3Gk6jfNf3jQW8tvDuVYYzgKDmgD0bwx4im1XUNW0vUUiS/0qZY5TFnZIrLuVgD0+ldHXlHwjvn1zxT428QujRQXOoLDGJBggRjHNeoW99a3ckiWtxFM0R2yCNw20+hx0oAnorJ1TUbxNQh07SoUe4kQyPLKD5cSZxk46knoK42Hx54hvbfX4tO0yG4utBkaOQxKzC5bGVVFzkH19KAPSKKo6Ld3V/otpdahamzuZoleW3JyY2I5FXqACiiigArzj4jq2s+M/CHh1QWje9N9cAD+CIZGfxIr0eozbxNOszRqZVBCuVGQD2zQB518S3/tDxR4V0K6Ih05ro311K/CkRDKpn6np7VD4/13UdQ8PaJplrayLLrl95bQxNh2t1+ZuT0JUD869JuLO2uwouoI5gp3L5ig4PqKw/EegS6hqWkapYCM3Wlys6RyHCurLtIz27UAcpBez6l8ZdKsoNOksItK0yRpUYqcK5AUfKfar2qqbT466JcOP3d3pc0Cn/aVg2PyroPDnhw6Vd32p37rPqmouGuJVHCqOFRfYCo/GGiz6ja2l/pqqdS0ucXNvnjfj7yf8CGRQBJ4r8VWnhaOwa8tp7j7ZdLbp5S52E/xE9gK4zT9Str/AON+papeyCG0sdNWCylk4WXJzIyk9cEY49K9DtJrXXdKjmlgDRyD5opk5Vu4IPcGpn02ylEYktIWEX+rzGDt+npQBBo99NqVkbqWDyUd28kHqyZ4Y+metcmR9s+PKNHythorCT2MkgwPyU12l5dxafZSXE2fLiXJCjJPsBWD4R0i4hmv9c1SPy7/AFWQO0Z6xRDhE/Adfc0AdMelc1qsHjNtRkOjXmkx2fGxbiB2cfUg10tFAHHfZviJ/wBBDQv/AAGk/wDiq0NFh8XJf51660uW12n5bWF1fPbkk10NFACMMqR6ivKPBF5F4K8J+IYrhTJqi6rcFbZR+8mdm/d4HUggjmvWKgNjam6FybaIzgYEuwbvzoA8lvdGvvAnwS1e6lkK6zqcnn3kinlXlcAgH2BxWv8AESNNF+HelXunIsE9lc2phdBgjkAj8Qa7XxNoUHiXw3eaRdErHcx7dw/hPUH8DXP6j4Y1bxFpemaRrP2eO0s5Y5LiSJyTceX0AHbJGTQB2cZ3RqT3ANY2reEND1u8+1apYJcTbdu8sw4/A1tgYAA7UUAeYX3gPw0nxI0u2XS4/JksZmZN7ckMMd66/T/BHh/S76O8sdNSG4iOUcMxx+ZrRm0e2m1y31Vt32m3iaFOeNrHJ4/Cr9AFfUImuNNuYY/vyRMq/UivKvCOov4Y+DkWl2EXm680k1vHZj7/AJzO3JHYDrmvXagWxtUumuUt4lnb70gQbj+NAHO+C/Blt4a8EW+iTqJ2dTJdsf8AlpK3Ln86xfhnBFa+IvGkNugjjTVcKq9ANgrvrgzLbubVFeUD5VY4BP1rj/CGga7omvazdX0do0Oq3f2k+VKS0XGMcjmgC5qHjnT9P8UXOiTwzJNDZ/aWnKfIfRQe5PoK5P4Yaiml+Cb69uVLavqOozStZtxJ5hbCqR1HAFenS2VtPMk01vFJIn3XZASv0NNWxtUumuEt4lmbrIEG4/jQBNEWMSmQBXIG4DsafQOlFABRRRQAUUUUAFFFFABRRRQAgAXoMUtFFACEAjkZFLRRQAUUUUAFFFFABRRRQAUUUUAFFFFABRRRQAUUUUAFFFFABRRRQAUUUUAFFFFAH//Z)\n",
    "#### Note: you will need to iterate through all data points"
   ]
  },
  {
   "cell_type": "code",
   "execution_count": 136,
   "metadata": {
    "id": "q4sJDlTTBiwy"
   },
   "outputs": [
    {
     "data": {
      "image/png": "[encoded data removed]",
      "text/plain": [
       "<Figure size 432x288 with 1 Axes>"
      ]
     },
     "metadata": {
      "needs_background": "light"
     },
     "output_type": "display_data"
    }
   ],
   "source": [
    "y_predict=theta_0+theta_1*x\n",
    "# showing scatter plot for predicted y\n",
    "plt.scatter(x,y_predict)\n",
    "plt.show()"
   ]
  },
  {
   "cell_type": "markdown",
   "metadata": {
    "id": "LsZrYhvoBiwy"
   },
   "source": [
    "### Step3: Calculate Cost function 𝑱(theta_0,theta_1 )\n",
    "![3.JPG](data:image/jpeg;base64,/9j/4AAQSkZJRgABAQEAYABgAAD/4REARXhpZgAATU0AKgAAAAgABAE7AAIAAAASAAAISodpAAQAAAABAAAIXJydAAEAAAAkAAAQ1OocAAcAAAgMAAAAPgAAAAAc6gAAAAgAAAAAAAAAAAAAAAAAAAAAAAAAAAAAAAAAAAAAAAAAAAAAAAAAAAAAAAAAAAAAAAAAAAAAAAAAAAAAAAAAAAAAAAAAAAAAAAAAAAAAAAAAAAAAAAAAAAAAAAAAAAAAAAAAAAAAAAAAAAAAAAAAAAAAAAAAAAAAAAAAAAAAAAAAAAAAAAAAAAAAAAAAAAAAAAAAAAAAAAAAAAAAAAAAAAAAAAAAAAAAAAAAAAAAAAAAAAAAAAAAAAAAAAAAAAAAAAAAAAAAAAAAAAAAAAAAAAAAAAAAAAAAAAAAAAAAAAAAAAAAAAAAAAAAAAAAAAAAAAAAAAAAAAAAAAAAAAAAAAAAAAAAAAAAAAAAAAAAAAAAAAAAAAAAAAAAAAAAAAAAAAAAAAAAAAAAAAAAAAAAAAAAAAAAAAAAAAAAAAAAAAAAAAAAAAAAAAAAAAAAAAAAAAAAAAAAAAAAAAAAAAAAAAAAAAAAAAAAAAAAAAAAAAAAAAAAAAAAAAAAAAAAAAAAAAAAAAAAAAAAAAAAAAAAAAAAAAAAAAAAAAAAAAAAAAAAAAAAAAAAAAAAAAAAAAAAAAAAAAAAAAAAAAAAAAAAAAAAAAAAAAAAAAAAAAAAAAAAAAAAAAAAAAAAAAAAAAAAAAAAAAAAAAAAAAAAAAAAAAAAAAAAAAAAAAAAAAAAAAAAAAAAAAAAAAAAAAAAAAAAAAAAAAAAAAAAAAAAAAAAAAAAAAAAAAAAAAAAAAAAAAAAAAAAAAAAAAAAAAAAAAAAAAAAAAAAAAAAAAAAAAAAAAAAAAAAAAAAAAAAAAAAAAAAAAAAAAAAAAAAAAAAAAAAAAAAAAAAAAAAAAAAAAAAAAAAAAAAAAAAAAAAAAAAAAAAAAAAAAAAAAAAAAAAAAAAAAAAAAAAAAAAAAAAAAAAAAAAAAAAAAAAAAAAAAAAAAAAAAAAAAAAAAAAAAAAAAAAAAAAAAAAAAAAAAAAAAAAAAAAAAAAAAAAAAAAAAAAAAAAAAAAAAAAAAAAAAAAAAAAAAAAAAAAAAAAAAAAAAAAAAAAAAAAAAAAAAAAAAAAAAAAAAAAAAAAAAAAAAAAAAAAAAAAAAAAAAAAAAAAAAAAAAAAAAAAAAAAAAAAAAAAAAAAAAAAAAAAAAAAAAAAAAAAAAAAAAAAAAAAAAAAAAAAAAAAAAAAAAAAAAAAAAAAAAAAAAAAAAAAAAAAAAAAAAAAAAAAAAAAAAAAAAAAAAAAAAAAAAAAAAAAAAAAAAAAAAAAAAAAAAAAAAAAAAAAAAAAAAAAAAAAAAAAAAAAAAAAAAAAAAAAAAAAAAAAAAAAAAAAAAAAAAAAAAAAAAAAAAAAAAAAAAAAAAAAAAAAAAAAAAAAAAAAAAAAAAAAAAAAAAAAAAAAAAAAAAAAAAAAAAAAAAAAAAAAAAAAAAAAAAAAAAAAAAAAAAAAAAAAAAAAAAAAAAAAAAAAAAAAAAAAAAAAAAAAAAAAAAAAAAAAAAAAAAAAAAAAAAAAAAAAAAAAAAAAAAAAAAAAAAAAAAAAAAAAAAAAAAAAAAAAAAAAAAAAAAAAAAAAAAAAAAAAAAAAAAAAAAAAAAAAAAAAAAAAAAAAAAAAAAAAAAAAAAAAAAAAAAAAAAAAAAAAAAAAAAAAAAAAAAAAAAAAAAAAAAAAAAAAAAAAAAAAAAAAAAAAAAAAAAAAAAAAAAAAAAAAAAAAAAAAAAAAAAAAAAAAAAAAAAAAAAAAAAAAAAAAAAAAAAAAAAAAAAAAAAAAAAAAAAAAAAAAAAAAAAAAAAAAAAAAAAAAAAAAAAAAAAAAAAAAAAAAAAAAAAAAAAAAAAAAAAAAAAAAAAAAAAAAAAAAAAAAAAAAAAAAAAAAAAAAAAAAAAAAAAAAAAAAAAAAAAAAAAAAAAAAAAAAAAAAAAAAAAAAAAAAAAAAAAAAAAAAAAAAAAAAAAAAAAAAAAAAAAAAAAAAAAAAAAAAAAAAAAAAAAAAAAAAAAAAAAAAAAAAAAAAAAAAAAAAAAAAAAAAAAAAAAAAAAAAAAAAAAAAAAAAAAAAAAAAAAAAAAAAAAAAAAAAAAAAAAAAAAAAAAAAAAAAAAAAAAAAAAAAAAAAAAAAAAAAAAAAAAAAAAAAAAAAAAAAAAAAAAAAAAAAAAAAAAAAAAAAAAAAAAAAAAAAAAAAAAAAAAAAAAAAAAAAAAAAAAAAAAAAAAAAAAAAAAAAAAAAAAAAAAAAAAAAAAAAAAAAAAAAAAAAAAAAAAAAAAAAAAAAAAAAAAAAAAAAAAAAAAAAAAAAAAAAAAAAAAAAAAAAAAAAAAAAAAAAAAAAAAAAAAAAAAAAAAAAAAAAAAAAAAAAAAAAAAAAAAAAAAAAAAAAAAAAAAAAAAAAAAAAAAAAAAAAAAAAAAAAAAAAAAAAAAAAAAAAAAAAAAAAAAAAAAAAAAAAAAAAAAAAAAAAAAAAAAAAAAAAAAAAAAAAAAAAAAAAAAAAAAAAAAAAAAAAAAAAAAAAAAAAAAAAAAAAAAAAAAAAAAAAAAAAAAAAAAAAAAAAAAAAAAAAAAAAAAAAAAAAAAAAAAAAAAAAAAAAAAAAAAAAAAAAAAAAAAAAAAAAAAAAAAAAAAAAAAAAAAAAAAAAAAAAAAAAAAAAAAAAAAAAAAAAAAAAAAAAAAAAAAAAAAAAAAAAAAAAAAAAAAAAAAAAAAAAAAAAAAAAAAAAAAAAAAAAAAAAAAAAAAAAAAAAAAAAAAAAAAAAAAAAAAAAAEFobWVkIEFiZGVscmVoZWVtAAAFkAMAAgAAABQAABCqkAQAAgAAABQAABC+kpEAAgAAAAM1NwAAkpIAAgAAAAM1NwAA6hwABwAACAwAAAieAAAAABzqAAAACAAAAAAAAAAAAAAAAAAAAAAAAAAAAAAAAAAAAAAAAAAAAAAAAAAAAAAAAAAAAAAAAAAAAAAAAAAAAAAAAAAAAAAAAAAAAAAAAAAAAAAAAAAAAAAAAAAAAAAAAAAAAAAAAAAAAAAAAAAAAAAAAAAAAAAAAAAAAAAAAAAAAAAAAAAAAAAAAAAAAAAAAAAAAAAAAAAAAAAAAAAAAAAAAAAAAAAAAAAAAAAAAAAAAAAAAAAAAAAAAAAAAAAAAAAAAAAAAAAAAAAAAAAAAAAAAAAAAAAAAAAAAAAAAAAAAAAAAAAAAAAAAAAAAAAAAAAAAAAAAAAAAAAAAAAAAAAAAAAAAAAAAAAAAAAAAAAAAAAAAAAAAAAAAAAAAAAAAAAAAAAAAAAAAAAAAAAAAAAAAAAAAAAAAAAAAAAAAAAAAAAAAAAAAAAAAAAAAAAAAAAAAAAAAAAAAAAAAAAAAAAAAAAAAAAAAAAAAAAAAAAAAAAAAAAAAAAAAAAAAAAAAAAAAAAAAAAAAAAAAAAAAAAAAAAAAAAAAAAAAAAAAAAAAAAAAAAAAAAAAAAAAAAAAAAAAAAAAAAAAAAAAAAAAAAAAAAAAAAAAAAAAAAAAAAAAAAAAAAAAAAAAAAAAAAAAAAAAAAAAAAAAAAAAAAAAAAAAAAAAAAAAAAAAAAAAAAAAAAAAAAAAAAAAAAAAAAAAAAAAAAAAAAAAAAAAAAAAAAAAAAAAAAAAAAAAAAAAAAAAAAAAAAAAAAAAAAAAAAAAAAAAAAAAAAAAAAAAAAAAAAAAAAAAAAAAAAAAAAAAAAAAAAAAAAAAAAAAAAAAAAAAAAAAAAAAAAAAAAAAAAAAAAAAAAAAAAAAAAAAAAAAAAAAAAAAAAAAAAAAAAAAAAAAAAAAAAAAAAAAAAAAAAAAAAAAAAAAAAAAAAAAAAAAAAAAAAAAAAAAAAAAAAAAAAAAAAAAAAAAAAAAAAAAAAAAAAAAAAAAAAAAAAAAAAAAAAAAAAAAAAAAAAAAAAAAAAAAAAAAAAAAAAAAAAAAAAAAAAAAAAAAAAAAAAAAAAAAAAAAAAAAAAAAAAAAAAAAAAAAAAAAAAAAAAAAAAAAAAAAAAAAAAAAAAAAAAAAAAAAAAAAAAAAAAAAAAAAAAAAAAAAAAAAAAAAAAAAAAAAAAAAAAAAAAAAAAAAAAAAAAAAAAAAAAAAAAAAAAAAAAAAAAAAAAAAAAAAAAAAAAAAAAAAAAAAAAAAAAAAAAAAAAAAAAAAAAAAAAAAAAAAAAAAAAAAAAAAAAAAAAAAAAAAAAAAAAAAAAAAAAAAAAAAAAAAAAAAAAAAAAAAAAAAAAAAAAAAAAAAAAAAAAAAAAAAAAAAAAAAAAAAAAAAAAAAAAAAAAAAAAAAAAAAAAAAAAAAAAAAAAAAAAAAAAAAAAAAAAAAAAAAAAAAAAAAAAAAAAAAAAAAAAAAAAAAAAAAAAAAAAAAAAAAAAAAAAAAAAAAAAAAAAAAAAAAAAAAAAAAAAAAAAAAAAAAAAAAAAAAAAAAAAAAAAAAAAAAAAAAAAAAAAAAAAAAAAAAAAAAAAAAAAAAAAAAAAAAAAAAAAAAAAAAAAAAAAAAAAAAAAAAAAAAAAAAAAAAAAAAAAAAAAAAAAAAAAAAAAAAAAAAAAAAAAAAAAAAAAAAAAAAAAAAAAAAAAAAAAAAAAAAAAAAAAAAAAAAAAAAAAAAAAAAAAAAAAAAAAAAAAAAAAAAAAAAAAAAAAAAAAAAAAAAAAAAAAAAAAAAAAAAAAAAAAAAAAAAAAAAAAAAAAAAAAAAAAAAAAAAAAAAAAAAAAAAAAAAAAAAAAAAAAAAAAAAAAAAAAAAAAAAAAAAAAAAAAAAAAAAAAAAAAAAAAAAAAAAAAAAAAAAAAAAAAAAAAAAAAAAAAAAAAAAAAAAAAAAAAAAAAAAAAAAAAAAAAAAAAAAAAAAAAAAAAAAAAAAAAAAAAAAAAAAAAAAAAAAAAAAAAAAAAAAAAAAAAAAAAAAAAAAAAAAAAAAAAAAAAAAAAAAAAAAAAAAAAAAAAAAAAAAAAAAAAAAAAAAAAAAAAAAAAAAAAAAAAAAAAAAAAAAAAAAAAAAAAAAAAAAAAAAAAAAAAAAAAAAAAAAAAAAAAAAAAAAAAAAAAAAAAAAAAAAAAAAAAAAAAAAAAAAAAAAAAAAAAAAAAAAAAAAAAAAAAAAAAAAAAAAAAAAAAAAAAAAAAAAAAAAAAAAAAAAAAAAAAAAAAAAAAAAAAAAAAAAAAAAAAAAAAAAAAAAAAAAAAAAAAAAAAAAAAAAAAAAAAAAAAAAAAAAAAAAAAAAAAAAAAAAAAAAAAAAAAAAAAAAAAAAAAAAAAAAAAAAAAAAAAAAAAAAAAAAAAAAAAAAAAAAAAAAAAAAAAAAAAAAAAAAAAAAAAAAAAAAAAAAAAAAAAAAAAAAAAAAAAAAAAAAAAAAAAAAAAAAAAAAAAAAAAAAAAAAAAAAAAAAAAAAAAAAAAAAAAAAAAAAAAAAAAAAAAAAAAAAAAAAAAAAAAAAAAAAAAAAAAAAAAAAAAAAAAAAAAAAAAAAAAAAAAAAAAAAAAAAAAAAAAAAAAAAAAAAAAAAAAAAAAAAAAAAAAAAAAAAAAAAAAAAAAAAAAAAAAAAAAAAAAAAAAAAAAAAAAAAAAAAAAAAAAAAAAAAAAAAAAAAAAAAAAAAAAAAAAAAAAAAAAAAAAAAAAAAAAAAAAAAAAAAAAAAAAAAAAAAAAAAAAAMjAyMTowNzowNyAwMTowMjowOAAyMDIxOjA3OjA3IDAxOjAyOjA4AAAAQQBoAG0AZQBkACAAQQBiAGQAZQBsAHIAZQBoAGUAZQBtAAAA/+ELJGh0dHA6Ly9ucy5hZG9iZS5jb20veGFwLzEuMC8APD94cGFja2V0IGJlZ2luPSfvu78nIGlkPSdXNU0wTXBDZWhpSHpyZVN6TlRjemtjOWQnPz4NCjx4OnhtcG1ldGEgeG1sbnM6eD0iYWRvYmU6bnM6bWV0YS8iPjxyZGY6UkRGIHhtbG5zOnJkZj0iaHR0cDovL3d3dy53My5vcmcvMTk5OS8wMi8yMi1yZGYtc3ludGF4LW5zIyI+PHJkZjpEZXNjcmlwdGlvbiByZGY6YWJvdXQ9InV1aWQ6ZmFmNWJkZDUtYmEzZC0xMWRhLWFkMzEtZDMzZDc1MTgyZjFiIiB4bWxuczpkYz0iaHR0cDovL3B1cmwub3JnL2RjL2VsZW1lbnRzLzEuMS8iLz48cmRmOkRlc2NyaXB0aW9uIHJkZjphYm91dD0idXVpZDpmYWY1YmRkNS1iYTNkLTExZGEtYWQzMS1kMzNkNzUxODJmMWIiIHhtbG5zOnhtcD0iaHR0cDovL25zLmFkb2JlLmNvbS94YXAvMS4wLyI+PHhtcDpDcmVhdGVEYXRlPjIwMjEtMDctMDdUMDE6MDI6MDguNTY1PC94bXA6Q3JlYXRlRGF0ZT48L3JkZjpEZXNjcmlwdGlvbj48cmRmOkRlc2NyaXB0aW9uIHJkZjphYm91dD0idXVpZDpmYWY1YmRkNS1iYTNkLTExZGEtYWQzMS1kMzNkNzUxODJmMWIiIHhtbG5zOmRjPSJodHRwOi8vcHVybC5vcmcvZGMvZWxlbWVudHMvMS4xLyI+PGRjOmNyZWF0b3I+PHJkZjpTZXEgeG1sbnM6cmRmPSJodHRwOi8vd3d3LnczLm9yZy8xOTk5LzAyLzIyLXJkZi1zeW50YXgtbnMjIj48cmRmOmxpPkFobWVkIEFiZGVscmVoZWVtPC9yZGY6bGk+PC9yZGY6U2VxPg0KCQkJPC9kYzpjcmVhdG9yPjwvcmRmOkRlc2NyaXB0aW9uPjwvcmRmOlJERj48L3g6eG1wbWV0YT4NCiAgICAgICAgICAgICAgICAgICAgICAgICAgICAgICAgICAgICAgICAgICAgICAgICAgICAgICAgICAgICAgICAgICAgICAgICAgICAgICAgICAgICAgICAgICAgICAgICAgICAKICAgICAgICAgICAgICAgICAgICAgICAgICAgICAgICAgICAgICAgICAgICAgICAgICAgICAgICAgICAgICAgICAgICAgICAgICAgICAgICAgICAgICAgICAgICAgICAgICAgIAogICAgICAgICAgICAgICAgICAgICAgICAgICAgICAgICAgICAgICAgICAgICAgICAgICAgICAgICAgICAgICAgICAgICAgICAgICAgICAgICAgICAgICAgICAgICAgICAgICAgCiAgICAgICAgICAgICAgICAgICAgICAgICAgICAgICAgICAgICAgICAgICAgICAgICAgICAgICAgICAgICAgICAgICAgICAgICAgICAgICAgICAgICAgICAgICAgICAgICAgICAKICAgICAgICAgICAgICAgICAgICAgICAgICAgICAgICAgICAgICAgICAgICAgICAgICAgICAgICAgICAgICAgICAgICAgICAgICAgICAgICAgICAgICAgICAgICAgICAgICAgIAogICAgICAgICAgICAgICAgICAgICAgICAgICAgICAgICAgICAgICAgICAgICAgICAgICAgICAgICAgICAgICAgICAgICAgICAgICAgICAgICAgICAgICAgICAgICAgICAgICAgCiAgICAgICAgICAgICAgICAgICAgICAgICAgICAgICAgICAgICAgICAgICAgICAgICAgICAgICAgICAgICAgICAgICAgICAgICAgICAgICAgICAgICAgICAgICAgICAgICAgICAKICAgICAgICAgICAgICAgICAgICAgICAgICAgICAgICAgICAgICAgICAgICAgICAgICAgICAgICAgICAgICAgICAgICAgICAgICAgICAgICAgICAgICAgICAgICAgICAgICAgIAogICAgICAgICAgICAgICAgICAgICAgICAgICAgICAgICAgICAgICAgICAgICAgICAgICAgICAgICAgICAgICAgICAgICAgICAgICAgICAgICAgICAgICAgICAgICAgICAgICAgCiAgICAgICAgICAgICAgICAgICAgICAgICAgICAgICAgICAgICAgICAgICAgICAgICAgICAgICAgICAgICAgICAgICAgICAgICAgICAgICAgICAgICAgICAgICAgICAgICAgICAKICAgICAgICAgICAgICAgICAgICAgICAgICAgICAgICAgICAgICAgICAgICAgICAgICAgICAgICAgICAgICAgICAgICAgICAgICAgICAgICAgICAgICAgICAgICAgICAgICAgIAogICAgICAgICAgICAgICAgICAgICAgICAgICAgICAgICAgICAgICAgICAgICAgICAgICAgICAgICAgICAgICAgICAgICAgICAgICAgICAgICAgICAgICAgICAgICAgICAgICAgCiAgICAgICAgICAgICAgICAgICAgICAgICAgICAgICAgICAgICAgICAgICAgICAgICAgICAgICAgICAgICAgICAgICAgICAgICAgICAgICAgICAgICAgICAgICAgICAgICAgICAKICAgICAgICAgICAgICAgICAgICAgICAgICAgICAgICAgICAgICAgICAgICAgICAgICAgICAgICAgICAgICAgICAgICAgICAgICAgICAgICAgICAgICAgICAgICAgICAgICAgIAogICAgICAgICAgICAgICAgICAgICAgICAgICAgICAgICAgICAgICAgICAgICAgICAgICAgICAgICAgICAgICAgICAgICAgICAgICAgICAgICAgICAgICAgICAgICAgICAgICAgCiAgICAgICAgICAgICAgICAgICAgICAgICAgICAgICAgICAgICAgICAgICAgICAgICAgICAgICAgICAgICAgICAgICAgICAgICAgICAgICAgICAgICAgICAgICAgICAgICAgICAKICAgICAgICAgICAgICAgICAgICAgICAgICAgICAgICAgICAgICAgICAgICAgICAgICAgICAgICAgICAgICAgICAgICAgICAgICAgICAgICAgICAgICAgICAgICAgICAgICAgIAogICAgICAgICAgICAgICAgICAgICAgICAgICAgICAgICAgICAgICAgICAgICAgICAgICAgICAgICAgICAgICAgICAgICAgICAgICAgICAgICAgICAgICAgICAgICAgICAgICAgCiAgICAgICAgICAgICAgICAgICAgICAgICAgICAgICAgICAgICAgICAgICAgICAgICAgICAgICAgICAgICAgICAgICAgICAgICAgICAgICAgICAgICAgICAgICAgICAgICAgICAKICAgICAgICAgICAgICAgICAgICAgICAgICAgICAgICAgICAgICAgICAgICAgICAgICAgICAgICAgICAgICAgICAgICAgICAgICAgICAgICAgICAgICAgICAgICAgICAgICAgIAogICAgICAgICAgICAgICAgICAgICAgICAgICAgPD94cGFja2V0IGVuZD0ndyc/Pv/bAEMABwUFBgUEBwYFBggHBwgKEQsKCQkKFQ8QDBEYFRoZGBUYFxseJyEbHSUdFxgiLiIlKCkrLCsaIC8zLyoyJyorKv/bAEMBBwgICgkKFAsLFCocGBwqKioqKioqKioqKioqKioqKioqKioqKioqKioqKioqKioqKioqKioqKioqKioqKioqKv/AABEIAE4CwwMBIgACEQEDEQH/xAAfAAABBQEBAQEBAQAAAAAAAAAAAQIDBAUGBwgJCgv/xAC1EAACAQMDAgQDBQUEBAAAAX0BAgMABBEFEiExQQYTUWEHInEUMoGRoQgjQrHBFVLR8CQzYnKCCQoWFxgZGiUmJygpKjQ1Njc4OTpDREVGR0hJSlNUVVZXWFlaY2RlZmdoaWpzdHV2d3h5eoOEhYaHiImKkpOUlZaXmJmaoqOkpaanqKmqsrO0tba3uLm6wsPExcbHyMnK0tPU1dbX2Nna4eLj5OXm5+jp6vHy8/T19vf4+fr/xAAfAQADAQEBAQEBAQEBAAAAAAAAAQIDBAUGBwgJCgv/xAC1EQACAQIEBAMEBwUEBAABAncAAQIDEQQFITEGEkFRB2FxEyIygQgUQpGhscEJIzNS8BVictEKFiQ04SXxFxgZGiYnKCkqNTY3ODk6Q0RFRkdISUpTVFVWV1hZWmNkZWZnaGlqc3R1dnd4eXqCg4SFhoeIiYqSk5SVlpeYmZqio6Slpqeoqaqys7S1tre4ubrCw8TFxsfIycrS09TV1tfY2dri4+Tl5ufo6ery8/T19vf4+fr/2gAMAwEAAhEDEQA/APpGiiigAooooAKKKKACiiigAooooAKKKKACiiigAooooAKKKKACiiigAooooAKKKKACiiigAooooAKKKKACiiigAooooAKKKKACiiigAooooAKKKKACiiigAooooAKKKKACiiigAooooAKKKKAEd1jUs7BVHUk4FN86PeEMihm6DcMmuW+JAjh8F317MzFbWFmSIHiR2G1c/QsDXG6zoz6b4Q8I6Kk851rULqBHvS5MyADc+G6gYGKAPW1ljdyqSKzL1AbJFPrzZ5bXTvi1DHbbre107TttyVyTcSSsAgP948E5r0kHIzQAUUUUAFFFFABRRRQAUUUUAFFFFABRRRmgAoozRQAUUUUAFFFFABRRRQAUUUUAFFFFABRRRQAUVzNz4smlur6LQ9OOpf2c+y62zqhVsZ2gHqcfStDw14jsfFWiRanphbynJVkcYaNgcMpHqDQBrUUUUAFFFFABRRXn/wAVviBceDdNs7HRIFutd1aXyLKFugJ43Ed8ZoA9Aorx23+GnxGuLZb68+I91BqLjcYI4cwof7vWvQ/Bq+IYPDUcXjKS3k1KJ2V5oOFkUH5W9iRQBv0Vz0nj3wpFqBspPEGnrcA4MZnXIPpXQK6vGHRgykZDA8EUALRWCfHHhhdU/s469YC73bfK89c59PrXKfEn4pxeDNX0SxsZrKWS7vFhvUkk+aCM4+bHbr3oA9JoqhpeuaZrcbyaRf296kZwzQSBgp98VJq0z2+jXk0R2yRwOyn0IUkUAW6K+ffhxpHjr4g+FTrZ+IV9Y7riSLyViDAbT65r13wzpt74S8OzDxP4ifVSjGRry5UJsX0+lAHS0VBZ3ttqFnHdWM6TwSjckkbZVh6g1HY6tYalJcJYXkNw1s5jmEbg+Ww7H0NAFuisiTxXoENhLey6vZpbQyGOSUzAKrjqv19qs6Trema7a/adHvoL2HOC8LhgD+FAF6iqOq63puh232jV763s4f780gUH86r2XinQtS06W/sdWtJ7WEZlmSUFUHv6UAa1Ga8u8HfGGx1vxP4gsNWvtOtLWxuRHZS+cB56+vPX8K1/FGnPf+OPDt5D4u/syNGJGnK3F73455oA7qioLu9ttPtXub6eO3gQZaSRgqj8TWVpfjXw3rd0bbSdbsrqf/nnHMCx/CgDcoqpqGqWOlQpLqV1FbRu4RWlbaCx6D61Qu/GPhyw1JdPvNasobtiAIXmUNk9OKANqikDKV3AgrjOc8UyG4huY99vKkqZxuRgRn8KAJKKKKACiiigAoqG8tIb20kt7pd0Ui4YZIyK8h+GGkwax4+8VaoGnbTrG9FtYxGd2RGUfMQCaAPYpZUhiaWVgiIMszHAAptvcR3Vuk9u2+OQblb1Fcj4luW1jxhpnhVCRbshvb7B+9Gp+VPoWx+VaPjPxLB4M8H3equgYwIFgiHG9zwqj8aAN4zRiURs6h2GQpbk/hT68g8VWdxoHwlfxJqUrP4iZorlrkk5jdmB8tfRQDjFesWMzXGn28z/AHpIlY/UjNAE9FFFABTPOj87yvMXzMZ2bhnHriua+IPiv/hEfC8l3AvmX1w621nF/flc4X8uv4Vxvi+xbwd4P0bVJJ2m17+0bfzbsk75WdsOv+7gkY9qAPWqiuLiO1geadgkaDLMewp8bbo1Y9wDSuiyIVdQysMEEdRQAkUqTRLJEwdHAZWU5BHrTq43wxcNpHi7VPC0jfuI0F5Ygn7sTHDIPYN+hrsqACiijNABRRRQAUyZ2jhd44zIyjIQHBb2p9BOOtAHMeHPFk+t+JNZ0m50/wCxvpnlZzIHLbwT2+ldPXn3hCRD8WPGuHUkm16H/YNeg0AFBO1ST0HNFFAHFyfEjwXqX2ize8W8EL7JohbvIFYHoRj1FPl8d+EZp4ZpjI8sBJidrKQlMjBwdvFcb440u5+GvjRPH+gwl9LuWEetWcY4wePNA9RXrGmahZ6xpdvqGnypNbXMYkjdeQQaAOMvfiV8PrW+W81C8hhuQNommtnVsfUiux0jV7HXdLh1HSrhbm0nXdHKvRhTr/SdP1S1e21KzguoXGGSWMMD+dY/hDwuPCMF3ptjgaZ5xltI85MQblk+men1oA6OqOs6va6Hpct9ethE4VR1djwFA7knirwrgNeuRrnxd0bQT81tptu2pTr2L52x5+nJoA7TTJrq40+Ka/hWCZxuMSnOz0BPrVoMrZ2sDjrg1DdrE9jMtx/qth3844xzXmvwbNpa6HqWpTXKwpqepStbRzTdI1O1Qu4+1AHqNFHXpRQAVBa3lveK7WsqyqjlGKnIBHUVznjzVbm00+y0zTnKXur3K2kbjrGpGXb8FBrodPsYNMsIrS0jEcMShVUUAWaCQqkngDqagS+tZHkSO5iZov8AWKHBKfX0rP1q9jm8KanPp86SlbWUq0bBhkKfSgCPQtXn1ya4vIgq6armK3P8UpU4Z/pngfSrZvbptbexFjItuId4vNw2ls/dx1zWR4LhYfDXSktJFSRrJdrkZAYjr+dY/gHUpbzXNZkkv5JbJrj7NZpK2TK0S4lkHsWz+VAHR6NrElxql5pOoBRfWZDErwssbfdcD9D71qpeW73j2qyr58ahmjzyAehrk7wmL4y6b5X/AC20uYS47gOpGfxqbx+H0zS08S2an7VpTCRtvWSHPzofbHP1FAHW0VDZ3Ud7Zw3MB3RzRrIh9QRkVNQAUUUUAFFFRG6txci3M8YmIyIyw3EeuKAJaxH1ia78Uf2Tp23baoJbyVudufuoPc9fpWyZEVlVmUM33QTya43wF8+r+K5pOZW1Z1JPXaqgL+lAHTalfXNnJaLa2El2JpgkjIwAhX+8c9qo3GsS6b4lt7G+Km21DItZAMFZAMlD9RyK5i5v7uP4p21n/aTiG2ie5vTuxGFchYoseucnNaHxJOzSdLmj/wBdHqtsYj3zvA/kTQBu6/rMmg2sd9JB5tkjYuWX70SnjdjuB39q04pUnhSWJgyOAysDwQabc28d5Zy286ho5kKOpHUEYNcV8LL6X+yNR0K7cvPol9JaAk8mPOU/Q4/CgDS1y7ttMkuLHQYbWPWNQG52OEC8Y8yQ+w/OneAtH0/QfDK6dptyLvyZX+0Tj/lpMTlz+Zqvq3ww8Ka7qs2o6rpnn3UxG+QysCcfQ1v6Lolh4e0uPTtIgFvaxZ2xgk4ycnrQBfooooAKKKKACvEfHBWT9qDwal3jyVti0Ybpvy3T36V7dXmnxe+H+oeKIdO1zwy6x69osnm2244Eoznbn6igD0uvLPj7rd7pnge20/TZnt5dXvI7RpUOCqHrg+/SqFr8XfGa2gtbv4bao+qKNreWCImb1z6VP4s8KeLvH3woQazDbWniKC6F5bW0R+VAp+VCfXH60AasHwS8EjwmumPpELStBta7I/el8fe3eua5D4YT67q3wp8V+GLW8eS90uWazs5i3zY5AGfwq/H8VvGK6Iumf8K/1U66IvK3bD5O/GN27071reBPCutfDr4b312LMan4gvJGvJ7VXwGcn7gPsM0AcN8P5vh4mkWvhfxxoMela9E22WS/iKmeTP3hIfU1ofHXwzog8ReELldPgM2oaokNzJjmVPlGCe4xUPj3V9W+KOgroNn8PtStdTeVf9Mu4gq22DyQ9dB8WvCWtyeDvDFzo9vJql54euIppIl5eUKBkj8qAPSdA8L6L4Yhlh0DTobGOZg0iwrjcR3qfXf+Re1D/r2k/wDQTWP4J8WXniyzuLi80C+0XyWCql4u0ycckD0FbesRvNod9HEpZ3t5FVR3JU8UAfPPwcvfiRB4CC+ENM0m5077VLh7qUq+7PPAr0zxNN4guPghrz+L7a1ttR+yy7o7Viybe3J71F8BdH1DQ/hmtpq9nLZ3H2yZ/LlXDYLcHFdp4r0Y+IfCep6SrbGu7d4lb0JHFAHPfBnj4PeHf+vQVynwK/5Dvj3/ALDcn/oTVleC/Ffjfwj4Wh8GnwRfXOqWe6C2usYt2GeGZvQVufAzQdd0SbxV/wAJLatDdXOoeaZNuElJySy+oyaAOS+DngLR/FWqeJb/AMQo19DaapLHBZyH90rEkl9vc9BWz4Q0q38G/tH6noWhL9n02908XDWyn5Vb2FbnwP0TU9Fg8UDVrKa0NxqzyReauN6+o9qRNE1MftLvq/2Kb+zjpXl/advybs9M+tAHP2Gk23xL+PWv/wDCTJ9r0/QUWG2s3PyZPcj869Esfhb4T03Ubu5sNMSBL23NvcWyH91Iuc8r61wWtWHiX4b/ABa1DxTo2iXGuaPrMYFzFajMkTj2/wA9a7TwX4v8S+K9alkvPDE2i6NHFhHvOJpJM9h2FAHm3ws8C+GdU+IPja2v9GtZ4bC+C2yOmREOeB+VbXxNjSH43fDqONQqJKyqB2AqnYz+Ifhp8VPE0o8L6hrFhrc6zW89mmQD6H06mtrx9o+q6t8WfAep2unTtb2zl7l1XIgzzhj2oAzPG9ufHvx303wdqcjjRrG1N3NbqxAnb3p3xf8Ahr4e0bwFPr/hqxj0nUtJKzQzWvyE4I4PrV34i+HvEOifEXTvH/hOwbVGii+z3tkn32T1HrWT4r8Q+LPitpY8LaN4S1DSLa6dRe3t+uxY0ByQPWmBF8X9Um174DeHdRkcrPdTWzs4HIYjk/nW1rnwd8Kw/CrUGNn52orYvc/2jKczNKE3bifr2p3xf8J3f/Cq9H0TQLOa8Nlc26hIly21eCa9A121nm+H2oWsMTPO+myRrGByWMZGPrmkBzXweu7jxF8FdM/tCVmeSB7cyZ+baCVBz64rZ+H/AIEtfh/oc2m2V7cXiSztMXn6gnsKxfg9p+p6B8GrG2vbGWG/gSVvs0q7WzuJAI961vhz4h8Q+I9AmuvFejf2TdJcNGkW0jcg6HBoA66iiigApHdY0LyMFVRksxwAKWs3xFo6eIPDl9pMkrwrdwtEZEOCuRQBX8R65b6b4L1PWIpkkit7SSVZEYEEhTjn61y/wQ0ptO+F1jNMpFxfu95KT1LOc5/LFMl+Hd7e+FLPwlJPBYaDDtFwlszNLcKDnblugPeu/s7SGwsobS1QRwwoEjQfwgDAFAHE6UTJ8cteMnWPTbdU+hJJrG+MlrLrmt+DvDyu8cV5qXmyMnUBFzW/qEJ0f4tWOqONtrqtobKR+yyqdyZ+oyK1PFHht9ZvNK1GzkSK/wBKuPOgMgyrggqynvyDQB5x8SPD9xea34b8KW+r6hfHULxZ7iGZwyrBHySQB64rv4tfvdS1+/0fw+luE0pUSeafJBcjIQAe3U1Y0Twy9prV1ruqzLdapdKI9yjCQRjkInt6nvWB4Mj/ALI+IHjOC+dYnurmO7h3nG+MpjI+hFAHTeFvEK+I9NllaMQ3NrO9tcxBshZFODg+netuuB+GNtL9j8RXo3LDqGrTy2746p90MPbirnw+tta08avY65rDawYLv91cMuCARkp+HFAHNfEvT5PEfxT8GaD500NuhmvpJIjhgUHykfjWd4t8Pz6n8UPC3h2PVb/UIoJTqN4tw4ZYkT7p4HBJr0XXvD097r2ma5prxJf6eHRRMDtkRxyDjkcgGn+H/DI0q8vdUvpRdarfsDcT4wAo+6ijsooAo+KvFmoeHNQ0yCLTUktr6+jtfPaXpu6kLXXV518VbqBJvC6PPGjLrcDEFwCBzzXocciSRh42V1PRlOQaAOC1c+V8ddAMXWXS7hZMegZcV39cRpsP9s/FnUNWUbrfSrQWMb9jIx3Pj6YArt6AOJ8RxaW+sObzxtcaTJtGbZLtEC++CM1lfZ9D/wCimXf/AIHxf4V3tzoumXkxmvNPtp5D1eSJWP5mov8AhGtE/wCgRZf9+F/woAwPDMWmLq4Nl4zn1iTYf9Ge6SQH3wBmuy61StdG02ym82zsLaCTGN8cQU/mKu0Ac7rereJLK+8rRvD8eoW+0HzmuxHz6YIrMk13xnNE0cngyBkYYYHUV5H5Vra7a6tfaxp1vbDGlHebx0lKSA4+XHqM1zOh6nd6Z8UdY0eK8lutDtbFbiV533/ZZc/c3e45xQBHbW2tWd2Lq1+HVjFODnzEvlDH8cc1rf8ACQ+Nv+hOh/8ABiv+FXLXx7pd9PcW1jFdT3dvgyWyQneFIyGx6EUwfETQ30oanA081gpAluEiOyE5xhj2IPX0oA1tCvdWvrR31vTE06YPhY1nEu5fXIArUpqOJFV0OVYZBHcU6gCG8tIL+ymtLyNZYJkKSIw4YHtXmHwt0/UPDPi/xB4aspftvhq0ffazls/Z5G5MPvjP4V1firWruW6j8OeH2/4md2uZZhyLOLvIffsB61s6Fo1roGkxWFipEcY5ZjlnY8lie5J5oA0aKR3WNC0jBVAySTgCsfQvEdv4hnvm07bLaWsvkrcK2VlYD5sewPFAGzXmegkyftCeJTJ1TTrdUz6ZNemV55c250f49W96/wAsGs6YYAx6ebG2cfkaANf4l6udE+G+sXcZxKbcxRe7v8oH5muQ1LQNN8FfAWRLiBbi8NksSvIMuZpMABT2wzdvSuz8a+FZfFtnp9mLlYbeC+jubhSM+aqHO388UvjTwq/iaw0+KCVENjeR3QikB2S7D91sdqAJLLUV8M/D23utanLtY2SGdifmLBRx9TWMPFGsWVx4eutU8tI9cuPKFkE5twVLKd3c4HP1rO+Imh3J8FxW1zM0hv8AVbdr+SPKhU3jgeijAFNt/DkOp/FGwexmuZ9N0GJneSWYyI07DAVc8cDOaANPxQTJ8W/B0T/cWO6cem7aorsNUtZr3TZba2uDbvINpkA5A7498Vy/j6A2d5oPiNFJXSrz9/gZxDINrH8ODWp4u0W+8RaHHb6RqkmnyCVJfNiON6g5257A0AcX4j0q0m+LXhjQtOhEMMVrNcXoiOPNj4Cq+OoJGea7Hw94PsNBl1c2s80y6nMZJY5GG2PjG1QOgxWVF4P1i28YN4nivLaW+ntvsssUqt5caA5XYRz9c9a6jSNNOmWrJJM088zmWaVv4mPoOw7AUAZnhSzn0O3k0G4jZobZmNrN1V4icgH3GcVe03w7pWiPJLYWoiLFmwMnbuO5semTzWrRQBzWi6bNd+JrzxFextEZIxbWsTj5liByWPoSefpir/iuNJfB+rpL9xrOUHP+4a1q5b4jXUkPgq8tLTm71ACzt0HVmfj9Bk/hQA/4dSPL8OdBaTJY2Mec/StXWb3ULGzEml6b/aEu7BiEojwPXJp2h6cukaFY6fH921gSIfgAKv0Acl/wkfiv/oTm/wDA5P8ACp7HXfEk99FFd+FzbQs2Hm+2I2weuAOa6aigAOccda8q1jT2n+Knh3RreQtdxSS6rfXYGGKDKqmew5xj2r1QmvO/MtL74g6n4i8O6lbtPp1sbDUY7pGEceDuyG9R3oAGkbXPj2sIZjb6DppcgHjzZSAP/Hc1v2+ny6H4wury3iaSy1faZtgz5UyjAY+xH6iuc+EVleXK654n1Jmkm1i9ZoZGTbuhXhSB6Ht7V6TQBlSeG9Ll1k6o9sDdMFDNk4bb93I74zWdqunS+IPE1hHJGyWGlyi5dmGBLKB8oHsOua6aigArzTwEzD4tePY1/wBX9ogb8dlelMwRCzHAAyTXn3wug+23fiXxHtwuqam/kn1jj+QH8waAPQqKKKACiiigAooooAKKKKACiiigAooooAKKKKACiiigAooooAKKKKACjFFFABRRRQAUUUUAFFFFACYFLRRQAUUUUAFFFFABRRRQAYoxRRQBS1bSbbWdOezvFJRiGVlOGRgchgexBqe0hkgtIop5jPIihTIRgt71NRQAVTvdI0/UmVr60hnZPul1BIq5RQAyOKOGJY4UVEUYVVGABUdpZQWMJitowilix9yTkmp6KADFFFFAGdeaBpGoXBnvtNtriU4+eWIMf1qd7FY9Maz08izG0qhjUfJ9BVqigClpWl22j2CWlmpCLkszHLOx6sT3JNXaKKACiiigAooooA5fxxrWtaVpkaeHdHutSuZ22s0G39yvduT19Kx/BEmoXF5NZXPhW50ew8ovPJesrvdykjkkHnjNegUUAee6BpWraXo/izWGsGGqahPK9vBxuKKu2IVRv/CeoWfwq0TQLa1d1M0J1NYwC+3O5+O5J4r1CigCnpbXD6fE15AsEmOIlOdi9h9cVcP3Tzj3orH8Q65a6NZN9pSSUvG7FIzghFGWbPbAoA5L/hVl6urX2pWnjXV7ea+k8yUxiP8AADI6D0qX/hXGtf8ARQdd/KP/AOJra07V9I0LwfYXNqt42nzIGh+R5pMN83PU96j/AOFh6L/zx1L/AMAJf8KAOY1X4N3etW7W+pePfEE0LDDR70AP5Cu18H+FrLwZ4ZtdE052eG3U/O+NzknJJqfSdes/EEM32EXUez5WM0DREZ9Nw5rkfDP2i2+MfiCwkvrm5gi0+3dFnk3bSWOcUAeh1h+KvD417T4jC/k39nKtxZzf3JF6Z9j0P1rcooAp6bcXFzp8Ul7bG2uCMSRE5we+D6VbpcUUARzQRXMLRXEayRuMMrDINNtrO3soRDaQpDGOioMCpqKAI7i3iuraS3uI1kikUq6MMhge1VdI006TYi0Wd5ooyRF5nJRey574q9RQAgNLSAUtABRRRQAVmPosdxrqandu0zQLtt4j92Inq3uT61p0UAGKKKKACiiigA61g3Hg3R7madpIH8u4fzJoFkIjkb1ZR1reooAZFDHBCsUKKkaAKqqMAD0p9FFABRRRQBi+J4tSvdP/ALN0pSj3mY5Lk9IEP3m9zjgVe0nS7bRdJt9Psk2QW6BEFXKKACiiigAooooAKKKKACiiigAooooAKKKKACiiigAooooAKKKKACiiigAooooAKKKKACiiigAooooAKKKKACiiigAooooAKKKKACiiigAooooAKKKKACiiigAooooAKKKKACiiigAooooAKKKKACiiigAooooAK5b4haRf634VksdMj3tNIizgEB2h3AuFJ7kCupooA51NN1qXw9BbWt7HpU6N8oSFZAkY4VMHjOMc1U/4R/xZ/wBDcv8A4AR11tFAGRo1jq2nxTnVtU/tNjzHiBYtvtx1rk9JtNct/ijqmuzaHMllf2sNuh81CylCckjPTmvQ6KACiiigAooooAKKKKACiiigAooooAKKKKACiiigAooooAKKKKACiiigAooooAKKKKACiiigAooooAKKKKACiiigD//Z)"
   ]
  },
  {
   "cell_type": "code",
   "execution_count": 137,
   "metadata": {
    "id": "kgDAuXfrBiwz"
   },
   "outputs": [
    {
     "name": "stdout",
     "output_type": "stream",
     "text": [
      "[15.52]\n"
     ]
    }
   ],
   "source": [
    "m=len(x)\n",
    "cost_func=(1/(2*m))*sum((y_predict-y)**2)\n",
    "print(cost_func)"
   ]
  },
  {
   "cell_type": "markdown",
   "metadata": {
    "id": "B8UB4h9wBiwz"
   },
   "source": [
    "### Step4: Calculate the gradient.\n",
    "\n",
    "\n",
    "![6.JPG](data:image/jpeg;base64,/9j/4AAQSkZJRgABAQEAYABgAAD/4REARXhpZgAATU0AKgAAAAgABAE7AAIAAAASAAAISodpAAQAAAABAAAIXJydAAEAAAAkAAAQ1OocAAcAAAgMAAAAPgAAAAAc6gAAAAgAAAAAAAAAAAAAAAAAAAAAAAAAAAAAAAAAAAAAAAAAAAAAAAAAAAAAAAAAAAAAAAAAAAAAAAAAAAAAAAAAAAAAAAAAAAAAAAAAAAAAAAAAAAAAAAAAAAAAAAAAAAAAAAAAAAAAAAAAAAAAAAAAAAAAAAAAAAAAAAAAAAAAAAAAAAAAAAAAAAAAAAAAAAAAAAAAAAAAAAAAAAAAAAAAAAAAAAAAAAAAAAAAAAAAAAAAAAAAAAAAAAAAAAAAAAAAAAAAAAAAAAAAAAAAAAAAAAAAAAAAAAAAAAAAAAAAAAAAAAAAAAAAAAAAAAAAAAAAAAAAAAAAAAAAAAAAAAAAAAAAAAAAAAAAAAAAAAAAAAAAAAAAAAAAAAAAAAAAAAAAAAAAAAAAAAAAAAAAAAAAAAAAAAAAAAAAAAAAAAAAAAAAAAAAAAAAAAAAAAAAAAAAAAAAAAAAAAAAAAAAAAAAAAAAAAAAAAAAAAAAAAAAAAAAAAAAAAAAAAAAAAAAAAAAAAAAAAAAAAAAAAAAAAAAAAAAAAAAAAAAAAAAAAAAAAAAAAAAAAAAAAAAAAAAAAAAAAAAAAAAAAAAAAAAAAAAAAAAAAAAAAAAAAAAAAAAAAAAAAAAAAAAAAAAAAAAAAAAAAAAAAAAAAAAAAAAAAAAAAAAAAAAAAAAAAAAAAAAAAAAAAAAAAAAAAAAAAAAAAAAAAAAAAAAAAAAAAAAAAAAAAAAAAAAAAAAAAAAAAAAAAAAAAAAAAAAAAAAAAAAAAAAAAAAAAAAAAAAAAAAAAAAAAAAAAAAAAAAAAAAAAAAAAAAAAAAAAAAAAAAAAAAAAAAAAAAAAAAAAAAAAAAAAAAAAAAAAAAAAAAAAAAAAAAAAAAAAAAAAAAAAAAAAAAAAAAAAAAAAAAAAAAAAAAAAAAAAAAAAAAAAAAAAAAAAAAAAAAAAAAAAAAAAAAAAAAAAAAAAAAAAAAAAAAAAAAAAAAAAAAAAAAAAAAAAAAAAAAAAAAAAAAAAAAAAAAAAAAAAAAAAAAAAAAAAAAAAAAAAAAAAAAAAAAAAAAAAAAAAAAAAAAAAAAAAAAAAAAAAAAAAAAAAAAAAAAAAAAAAAAAAAAAAAAAAAAAAAAAAAAAAAAAAAAAAAAAAAAAAAAAAAAAAAAAAAAAAAAAAAAAAAAAAAAAAAAAAAAAAAAAAAAAAAAAAAAAAAAAAAAAAAAAAAAAAAAAAAAAAAAAAAAAAAAAAAAAAAAAAAAAAAAAAAAAAAAAAAAAAAAAAAAAAAAAAAAAAAAAAAAAAAAAAAAAAAAAAAAAAAAAAAAAAAAAAAAAAAAAAAAAAAAAAAAAAAAAAAAAAAAAAAAAAAAAAAAAAAAAAAAAAAAAAAAAAAAAAAAAAAAAAAAAAAAAAAAAAAAAAAAAAAAAAAAAAAAAAAAAAAAAAAAAAAAAAAAAAAAAAAAAAAAAAAAAAAAAAAAAAAAAAAAAAAAAAAAAAAAAAAAAAAAAAAAAAAAAAAAAAAAAAAAAAAAAAAAAAAAAAAAAAAAAAAAAAAAAAAAAAAAAAAAAAAAAAAAAAAAAAAAAAAAAAAAAAAAAAAAAAAAAAAAAAAAAAAAAAAAAAAAAAAAAAAAAAAAAAAAAAAAAAAAAAAAAAAAAAAAAAAAAAAAAAAAAAAAAAAAAAAAAAAAAAAAAAAAAAAAAAAAAAAAAAAAAAAAAAAAAAAAAAAAAAAAAAAAAAAAAAAAAAAAAAAAAAAAAAAAAAAAAAAAAAAAAAAAAAAAAAAAAAAAAAAAAAAAAAAAAAAAAAAAAAAAAAAAAAAAAAAAAAAAAAAAAAAAAAAAAAAAAAAAAAAAAAAAAAAAAAAAAAAAAAAAAAAAAAAAAAAAAAAAAAAAAAAAAAAAAAAAAAAAAAAAAAAAAAAAAAAAAAAAAAAAAAAAAAAAAAAAAAAAAAAAAAAAAAAAAAAAAAAAAAAAAAAAAAAAAAAAAAAAAAAAAAAAAAAAAAAAAAAAAAAAAAAAAAAAAAAAAAAAAAAAAAAAAAAAAAAAAAAAAAAAAAAAAAAAAAAAAAAAAAAAAAAAAAAAAAAAAAAAAAAAAAAAAAAAAAAAAAAAAAAAAAAAAAAAAAAAAAAAAAAAAAAAAAAAAAAAAAAAAAAAAAAAAAAAAAAAAAAAAAAAAAAAAAAAAAAAAAAAAAAAAAAAAAAAAAAAAAAAAAAAAAAAAAAAAAAAAAAAAAAAAAAAAAAAAAAAAAAAAAAAAAAAAAAAAAAAAAAAAAAAAAAAAAAAAAAAAAAAAAAAAAAAAAAAAAAAAAAAAAAAAAAAAAAAAAAAAAAAAAAAAAAAAAAAAAAAAAAAAAAAAAAAAAAAAAAAAAAAAAAAAAAAAAAAAAAAAAAAAAAAAAAAAAAAAAAAAAAAAAAAAAAAAAAAAAAAAAAAAAAAAAAAAAAAAAAAAAAAAAAAAAAAAAAAAAAAAAAAAAAAAAAAAAAAAAAAAAAAAAAAAAAAAAAAAAAAAAAAAAAAAAAAAAAAAAAAAAAAAAAAAAAAAAAAAAAAAAAAAAAAAAAAAAAAAAAAAAAAAAAAAAAAAAAAAAAAAAAAAAAAAAAAAAAAAAAAAAAAAAAAAAAAAAAAAAAAAAAAAAAAAAAAAAAAAAAAAAAAAAAAAAAAAAAAAAAAAAAAAAAAAAAAAAAAAAAAAAAAAAAAAAAAAAAAAAAAAAAAAAAAAAAAAAAAAAAAAAAAAAAAAAAAAAAAAAAAAAAAAAAAAAAAAAAAAEFobWVkIEFiZGVscmVoZWVtAAAFkAMAAgAAABQAABCqkAQAAgAAABQAABC+kpEAAgAAAAM4MQAAkpIAAgAAAAM4MQAA6hwABwAACAwAAAieAAAAABzqAAAACAAAAAAAAAAAAAAAAAAAAAAAAAAAAAAAAAAAAAAAAAAAAAAAAAAAAAAAAAAAAAAAAAAAAAAAAAAAAAAAAAAAAAAAAAAAAAAAAAAAAAAAAAAAAAAAAAAAAAAAAAAAAAAAAAAAAAAAAAAAAAAAAAAAAAAAAAAAAAAAAAAAAAAAAAAAAAAAAAAAAAAAAAAAAAAAAAAAAAAAAAAAAAAAAAAAAAAAAAAAAAAAAAAAAAAAAAAAAAAAAAAAAAAAAAAAAAAAAAAAAAAAAAAAAAAAAAAAAAAAAAAAAAAAAAAAAAAAAAAAAAAAAAAAAAAAAAAAAAAAAAAAAAAAAAAAAAAAAAAAAAAAAAAAAAAAAAAAAAAAAAAAAAAAAAAAAAAAAAAAAAAAAAAAAAAAAAAAAAAAAAAAAAAAAAAAAAAAAAAAAAAAAAAAAAAAAAAAAAAAAAAAAAAAAAAAAAAAAAAAAAAAAAAAAAAAAAAAAAAAAAAAAAAAAAAAAAAAAAAAAAAAAAAAAAAAAAAAAAAAAAAAAAAAAAAAAAAAAAAAAAAAAAAAAAAAAAAAAAAAAAAAAAAAAAAAAAAAAAAAAAAAAAAAAAAAAAAAAAAAAAAAAAAAAAAAAAAAAAAAAAAAAAAAAAAAAAAAAAAAAAAAAAAAAAAAAAAAAAAAAAAAAAAAAAAAAAAAAAAAAAAAAAAAAAAAAAAAAAAAAAAAAAAAAAAAAAAAAAAAAAAAAAAAAAAAAAAAAAAAAAAAAAAAAAAAAAAAAAAAAAAAAAAAAAAAAAAAAAAAAAAAAAAAAAAAAAAAAAAAAAAAAAAAAAAAAAAAAAAAAAAAAAAAAAAAAAAAAAAAAAAAAAAAAAAAAAAAAAAAAAAAAAAAAAAAAAAAAAAAAAAAAAAAAAAAAAAAAAAAAAAAAAAAAAAAAAAAAAAAAAAAAAAAAAAAAAAAAAAAAAAAAAAAAAAAAAAAAAAAAAAAAAAAAAAAAAAAAAAAAAAAAAAAAAAAAAAAAAAAAAAAAAAAAAAAAAAAAAAAAAAAAAAAAAAAAAAAAAAAAAAAAAAAAAAAAAAAAAAAAAAAAAAAAAAAAAAAAAAAAAAAAAAAAAAAAAAAAAAAAAAAAAAAAAAAAAAAAAAAAAAAAAAAAAAAAAAAAAAAAAAAAAAAAAAAAAAAAAAAAAAAAAAAAAAAAAAAAAAAAAAAAAAAAAAAAAAAAAAAAAAAAAAAAAAAAAAAAAAAAAAAAAAAAAAAAAAAAAAAAAAAAAAAAAAAAAAAAAAAAAAAAAAAAAAAAAAAAAAAAAAAAAAAAAAAAAAAAAAAAAAAAAAAAAAAAAAAAAAAAAAAAAAAAAAAAAAAAAAAAAAAAAAAAAAAAAAAAAAAAAAAAAAAAAAAAAAAAAAAAAAAAAAAAAAAAAAAAAAAAAAAAAAAAAAAAAAAAAAAAAAAAAAAAAAAAAAAAAAAAAAAAAAAAAAAAAAAAAAAAAAAAAAAAAAAAAAAAAAAAAAAAAAAAAAAAAAAAAAAAAAAAAAAAAAAAAAAAAAAAAAAAAAAAAAAAAAAAAAAAAAAAAAAAAAAAAAAAAAAAAAAAAAAAAAAAAAAAAAAAAAAAAAAAAAAAAAAAAAAAAAAAAAAAAAAAAAAAAAAAAAAAAAAAAAAAAAAAAAAAAAAAAAAAAAAAAAAAAAAAAAAAAAAAAAAAAAAAAAAAAAAAAAAAAAAAAAAAAAAAAAAAAAAAAAAAAAAAAAAAAAAAAAAAAAAAAAAAAAAAAAAAAAAAAAAAAAAAAAAAAAAAAAAAAAAAAAAAAAAAAAAAAAAAAAAAAAAAAAAAAAAAAAAAAAAAAAAAAAAAAAAAAAAAAAAAAAAAAAAAAAAAAAAAAAAAAAAAAAAAAAAAAAAAAAAAAAAAAAAAAAAAAAAAAAAAAAAAAAAAAAAAAAAAAAAAAAAAAAAAAAAAAAAAAAAAAAAAAAAAAAAAAAAAAAAAAAAAAAAAAAAAAAAAAAAAAAAAAAAAAAAAAAAAAAAAAAAAAAAAAAAAAAAAAAAAAAAAAAAAAAAAAAAAAAAAAAAAAAAAAAAAAAAAAAAAAAAAAAAAAAAAAAAAAAAAAAAAAAAAAAAAAAAAAAAAAAAAAAAAAAAAAAAAAAAAAAAAAAAAAAAAAAAAAAAAAAAAAAAAAAAAAAAAAAAAAAAAAAAAAAAAAAAAAAAAAAAAAAAAAAAAAAAAAAAAAAAAAAAAAAAAAAAAAAAAAAAAAAAAAAAAAAAAAAAAAAAAAAAAAAAAAAAAAAAAAAAAAAAAAAAAAAAAAAAAAAAAAAAAAAAAAAAAAAAAAAAAAAAAAAAAAAAAAAAAAAAAAAAAAAAAAAAAAAAAAAAAAAAAAAAAAAAAAAAAAAAAAAAAAAAAAAAAAAAAAAAAAAAAAAAAAAAAAAAAAAAAAAAAAAAAAAAAAAAAAAAAAAAAAAAAAAAAAAAAAAAAAAAAAAAAAAAAAAAAAAAAAAAAAAAAAAAAAAAAAAAAAAAAAAAAAAAAAAAAAAAAAAAAAAAAAAAAAAAAAAAAAAAAAAAAAAAAAAAAAAAAAAAAAAAAAAAAAAAAAAAAAAAAAAAAAAAAAAAAAAAAAAAAAAAAAAAAAAAAAAAAAAAAAAAAAAAAAAAAAAAAAAAAAAAAAAAAAAAAAAAAAAAAAAAAAAAAAAAAAAAAAAAAAAAAAAAAAAAAAAAAAAAAAAAAAAAAAAAAAAAAAAAAAAAAAAAAAAAAAAAAAAAAAAAAAAAAAAAAAAAAAAAMjAyMTowNzowNyAxMTowODoxNgAyMDIxOjA3OjA3IDExOjA4OjE2AAAAQQBoAG0AZQBkACAAQQBiAGQAZQBsAHIAZQBoAGUAZQBtAAAA/+ELJGh0dHA6Ly9ucy5hZG9iZS5jb20veGFwLzEuMC8APD94cGFja2V0IGJlZ2luPSfvu78nIGlkPSdXNU0wTXBDZWhpSHpyZVN6TlRjemtjOWQnPz4NCjx4OnhtcG1ldGEgeG1sbnM6eD0iYWRvYmU6bnM6bWV0YS8iPjxyZGY6UkRGIHhtbG5zOnJkZj0iaHR0cDovL3d3dy53My5vcmcvMTk5OS8wMi8yMi1yZGYtc3ludGF4LW5zIyI+PHJkZjpEZXNjcmlwdGlvbiByZGY6YWJvdXQ9InV1aWQ6ZmFmNWJkZDUtYmEzZC0xMWRhLWFkMzEtZDMzZDc1MTgyZjFiIiB4bWxuczpkYz0iaHR0cDovL3B1cmwub3JnL2RjL2VsZW1lbnRzLzEuMS8iLz48cmRmOkRlc2NyaXB0aW9uIHJkZjphYm91dD0idXVpZDpmYWY1YmRkNS1iYTNkLTExZGEtYWQzMS1kMzNkNzUxODJmMWIiIHhtbG5zOnhtcD0iaHR0cDovL25zLmFkb2JlLmNvbS94YXAvMS4wLyI+PHhtcDpDcmVhdGVEYXRlPjIwMjEtMDctMDdUMTE6MDg6MTYuODEzPC94bXA6Q3JlYXRlRGF0ZT48L3JkZjpEZXNjcmlwdGlvbj48cmRmOkRlc2NyaXB0aW9uIHJkZjphYm91dD0idXVpZDpmYWY1YmRkNS1iYTNkLTExZGEtYWQzMS1kMzNkNzUxODJmMWIiIHhtbG5zOmRjPSJodHRwOi8vcHVybC5vcmcvZGMvZWxlbWVudHMvMS4xLyI+PGRjOmNyZWF0b3I+PHJkZjpTZXEgeG1sbnM6cmRmPSJodHRwOi8vd3d3LnczLm9yZy8xOTk5LzAyLzIyLXJkZi1zeW50YXgtbnMjIj48cmRmOmxpPkFobWVkIEFiZGVscmVoZWVtPC9yZGY6bGk+PC9yZGY6U2VxPg0KCQkJPC9kYzpjcmVhdG9yPjwvcmRmOkRlc2NyaXB0aW9uPjwvcmRmOlJERj48L3g6eG1wbWV0YT4NCiAgICAgICAgICAgICAgICAgICAgICAgICAgICAgICAgICAgICAgICAgICAgICAgICAgICAgICAgICAgICAgICAgICAgICAgICAgICAgICAgICAgICAgICAgICAgICAgICAgICAKICAgICAgICAgICAgICAgICAgICAgICAgICAgICAgICAgICAgICAgICAgICAgICAgICAgICAgICAgICAgICAgICAgICAgICAgICAgICAgICAgICAgICAgICAgICAgICAgICAgIAogICAgICAgICAgICAgICAgICAgICAgICAgICAgICAgICAgICAgICAgICAgICAgICAgICAgICAgICAgICAgICAgICAgICAgICAgICAgICAgICAgICAgICAgICAgICAgICAgICAgCiAgICAgICAgICAgICAgICAgICAgICAgICAgICAgICAgICAgICAgICAgICAgICAgICAgICAgICAgICAgICAgICAgICAgICAgICAgICAgICAgICAgICAgICAgICAgICAgICAgICAKICAgICAgICAgICAgICAgICAgICAgICAgICAgICAgICAgICAgICAgICAgICAgICAgICAgICAgICAgICAgICAgICAgICAgICAgICAgICAgICAgICAgICAgICAgICAgICAgICAgIAogICAgICAgICAgICAgICAgICAgICAgICAgICAgICAgICAgICAgICAgICAgICAgICAgICAgICAgICAgICAgICAgICAgICAgICAgICAgICAgICAgICAgICAgICAgICAgICAgICAgCiAgICAgICAgICAgICAgICAgICAgICAgICAgICAgICAgICAgICAgICAgICAgICAgICAgICAgICAgICAgICAgICAgICAgICAgICAgICAgICAgICAgICAgICAgICAgICAgICAgICAKICAgICAgICAgICAgICAgICAgICAgICAgICAgICAgICAgICAgICAgICAgICAgICAgICAgICAgICAgICAgICAgICAgICAgICAgICAgICAgICAgICAgICAgICAgICAgICAgICAgIAogICAgICAgICAgICAgICAgICAgICAgICAgICAgICAgICAgICAgICAgICAgICAgICAgICAgICAgICAgICAgICAgICAgICAgICAgICAgICAgICAgICAgICAgICAgICAgICAgICAgCiAgICAgICAgICAgICAgICAgICAgICAgICAgICAgICAgICAgICAgICAgICAgICAgICAgICAgICAgICAgICAgICAgICAgICAgICAgICAgICAgICAgICAgICAgICAgICAgICAgICAKICAgICAgICAgICAgICAgICAgICAgICAgICAgICAgICAgICAgICAgICAgICAgICAgICAgICAgICAgICAgICAgICAgICAgICAgICAgICAgICAgICAgICAgICAgICAgICAgICAgIAogICAgICAgICAgICAgICAgICAgICAgICAgICAgICAgICAgICAgICAgICAgICAgICAgICAgICAgICAgICAgICAgICAgICAgICAgICAgICAgICAgICAgICAgICAgICAgICAgICAgCiAgICAgICAgICAgICAgICAgICAgICAgICAgICAgICAgICAgICAgICAgICAgICAgICAgICAgICAgICAgICAgICAgICAgICAgICAgICAgICAgICAgICAgICAgICAgICAgICAgICAKICAgICAgICAgICAgICAgICAgICAgICAgICAgICAgICAgICAgICAgICAgICAgICAgICAgICAgICAgICAgICAgICAgICAgICAgICAgICAgICAgICAgICAgICAgICAgICAgICAgIAogICAgICAgICAgICAgICAgICAgICAgICAgICAgICAgICAgICAgICAgICAgICAgICAgICAgICAgICAgICAgICAgICAgICAgICAgICAgICAgICAgICAgICAgICAgICAgICAgICAgCiAgICAgICAgICAgICAgICAgICAgICAgICAgICAgICAgICAgICAgICAgICAgICAgICAgICAgICAgICAgICAgICAgICAgICAgICAgICAgICAgICAgICAgICAgICAgICAgICAgICAKICAgICAgICAgICAgICAgICAgICAgICAgICAgICAgICAgICAgICAgICAgICAgICAgICAgICAgICAgICAgICAgICAgICAgICAgICAgICAgICAgICAgICAgICAgICAgICAgICAgIAogICAgICAgICAgICAgICAgICAgICAgICAgICAgICAgICAgICAgICAgICAgICAgICAgICAgICAgICAgICAgICAgICAgICAgICAgICAgICAgICAgICAgICAgICAgICAgICAgICAgCiAgICAgICAgICAgICAgICAgICAgICAgICAgICAgICAgICAgICAgICAgICAgICAgICAgICAgICAgICAgICAgICAgICAgICAgICAgICAgICAgICAgICAgICAgICAgICAgICAgICAKICAgICAgICAgICAgICAgICAgICAgICAgICAgICAgICAgICAgICAgICAgICAgICAgICAgICAgICAgICAgICAgICAgICAgICAgICAgICAgICAgICAgICAgICAgICAgICAgICAgIAogICAgICAgICAgICAgICAgICAgICAgICAgICAgPD94cGFja2V0IGVuZD0ndyc/Pv/bAEMABwUFBgUEBwYFBggHBwgKEQsKCQkKFQ8QDBEYFRoZGBUYFxseJyEbHSUdFxgiLiIlKCkrLCsaIC8zLyoyJyorKv/bAEMBBwgICgkKFAsLFCocGBwqKioqKioqKioqKioqKioqKioqKioqKioqKioqKioqKioqKioqKioqKioqKioqKioqKv/AABEIAcYCZQMBIgACEQEDEQH/xAAfAAABBQEBAQEBAQAAAAAAAAAAAQIDBAUGBwgJCgv/xAC1EAACAQMDAgQDBQUEBAAAAX0BAgMABBEFEiExQQYTUWEHInEUMoGRoQgjQrHBFVLR8CQzYnKCCQoWFxgZGiUmJygpKjQ1Njc4OTpDREVGR0hJSlNUVVZXWFlaY2RlZmdoaWpzdHV2d3h5eoOEhYaHiImKkpOUlZaXmJmaoqOkpaanqKmqsrO0tba3uLm6wsPExcbHyMnK0tPU1dbX2Nna4eLj5OXm5+jp6vHy8/T19vf4+fr/xAAfAQADAQEBAQEBAQEBAAAAAAAAAQIDBAUGBwgJCgv/xAC1EQACAQIEBAMEBwUEBAABAncAAQIDEQQFITEGEkFRB2FxEyIygQgUQpGhscEJIzNS8BVictEKFiQ04SXxFxgZGiYnKCkqNTY3ODk6Q0RFRkdISUpTVFVWV1hZWmNkZWZnaGlqc3R1dnd4eXqCg4SFhoeIiYqSk5SVlpeYmZqio6Slpqeoqaqys7S1tre4ubrCw8TFxsfIycrS09TV1tfY2dri4+Tl5ufo6ery8/T19vf4+fr/2gAMAwEAAhEDEQA/APpGiiigAooooAKKKKACiiigAoqN5RHkuQoHcmuH1n4zeCtDuhBd6zE8mORCN+PxoA7yiuD0T4y+DNeuRBZ6tGkrNtVJhs3H2ruFlDqGQgqRkH1oAkopu7PTH50m88ehNAD6KTd/+uk3e35UAOopkr+XEzddqk15T4C+MF54v8fXmgT6dbwQ2+7bKjHccAnoT7UAes0V5F4p+MOr6B8QIvD8Ph0zwu4Xz/m5BGcjt3r1qNy6AldpxkgnpQA+imlsUBs/1oAdRTd9G+gB1FZmreINM0G2W41m+gsombaHmbAJ9BVqy1C21GzS6sZ0ngkGVkQ5Vh7GgCzRSZJzxzXF+KPiv4X8Ial9g1u9aK42htix7uMn39qAO1orzKL9oDwDLME/tR1B/iaLA/nXdaN4g0zX7P7VpF7Ddw/3o2zj60AadFNDbunSlLYoAWim7vz+lAYkdPwoAdRSZoLYoAWim7ucd6N35/WgB1FM3nqMEUu/HXjnHNADqKYXx/IUjzLHE0jkKqqWY9gBQBJRWRpfijR9auZbfS9StrqaEEyRwvuK4OP5mtbmgBaKKKACiiigAooooAKKKKACiiigAooooAKKKKACiiigAooooAKKKKACiiigAooooAKKKKACiiigAooooAKDRQaAIpfvCiiX7wooAlooooAKKKKACiiigAoooNAHgv7SHjTU9Gs9P0HSZpbdr9zJM8TkFlAxsz2B3A8elWvAnwk8IeHfB0OteMIoL2WWJZpp7wnZEMZ246cc1X/aP8EalrNpYa/pEck0lkSkscY5Cnnd+G0D8ah8IfFbwd4r8Cx+HvGcyW0iwiGdZ3KiYAY3Zz160Aaeq6J8F9aES2uoaRZXKyKY5LOcI2cjAwDg81q/FjxRqfgP4YWV54Xu1SRZo4Y52jWTK7GOcEEdvSvBviRb+CbXxPpieAfIaGRk83y5TIA28+pPbFep/GwGP4B6SCNpEsIx0/5ZtQBQ8OfEH4rePtOgufDEFvFBaxqlxPNChFw+PmIBGOoPA9a6jxhr3xUj1g2Xhqwt4LaNAftlyi/O3PGWBHp+dXP2fVCfDG22gKdwJA7nHX8a8b8ZavN4k+L91o/i7xDc6Zo6ylF/eMEUfTpz0oA6eb4sfEbwTr9pB4yazvILh1VhEqZAPptAr1L4ifEy38GeCLfV40ElxeKpgibocru/Svl/xlpHhHR9bsoPBmsTaoFkTznZgUyT2I69q9Q+POk3N18MPC2oRBmjtYo1faOBmMf4UATaJ42+MmqaT/b62NveaSPmNuIEQunU4wM9Peuf+Alybv4xXc80OyWRZG2sOUOxsjmu68E/F/wnpnwttob7UEgvLSAxfZi37xmC9vr0rgvgTd/b/jTcXSqyJMJXAfqP3bd6AOu8f/EzxBovxks9FspoEsWKho2t42Y5UH7xUkdexrtPil8VD4GFnY6ZbLdape52Rn+ADGCf++q8c+Kyk/tBWX++nP8AwAVZ/aV0maLxbpepzxubGWLyzKBnptyBnoeaANrUfGXxm0i0/ty9l002EYDvaxpEWI9Dxu/WvQ/BXxL/AOE1+Hd3rUKJa6hZq6yxrkqjDODg+2D+NeLWPgv4Qzaet1N43ul3KS8MkqqwOORivTPhzoXhjTPhxr03hC9ur2znV9zXBHUDHGPpQBxXhL4yfEPxBPeaRptvHqeomQlLloUVYVBIAO0AHqOvpVu0+LXxA8J+OrTRfHkUM0dzMqny4VUgFsZBUDNZ37NILeONcBOcwtn0+/S/H04+Lmg4OOIjjOB/rKAJ/wBo+fxQ8cLXTwDw9JIjWq7F8zcVBOTjPXNa3wRX4kG30ppLi3fwuUOYisW8DPrt3frVj9oeykn+FGlXABAtZEZjj1AX+tbPwR8b+HW8GaPoLapAuplSotWIDMcn8aAPYs9Sa+S/jdHHN8eNPtpl8yN3tw6schgZSCMV9Z5BjyOmK+S/jjKtr8ebK5nOyKL7O7uegAlJJoA94uPhJ4I1PSBHJ4eskaWJf3kMexgcDnIxXhnhqS/+Ffx2Gg2d07afNOYjCxypiL/Lx/ex3r2a6+NngbTtGjZdctrmVIVxFC4LZx04rxrwXZ33xQ+Mx8S+Q6WFtceYXI/h3cD8qAPUPid8XLzw1rUPhzwvBFNqlwoJkmPEWTheOnUGuRvvHvxe8KWi6zrr2N7YZG+OOOPKg/7oBrkfjboZs/i+LrXPtMemXOzFxGv3V3HoemR1q2vgr4QtZiefxxc7tu5o2kTeTjp0oA9oHxVtpvhJ/wAJhbwrI6x5eAHhZO4/MGvOdB8efGHxbZSaroj2JtlYgW4ij3HHPAIya67w+ngjwv8ABseZPJd6BdOVZ7hclgxLdBXkPibSfCXh2wbVvh942khnJL/Y0uNrEdQBj+tJgfQ6eMrvRfht/b3iu1a1vooyZbdhtO7OAMflXlWl/EL4t/EF57zwRBb2enROQDJEhD+2XBzRqN14i8e/s4S3eoRvc3tvJneVwZI1ZTnHfHP5UvwL+JPhjQfB0mla5qMVjPDIX/ftjILHpn60ID0Lw54w8SaT4F1PU/iLZC2ubEnb8gQTAZ6du3615xY/Ev4peO/NvPBzafY2MUm0K4j3HGD/ABg9j2rrPiLrll8SPhZrH/CKStcx2UmZHGcOMNnHqOK8O+Hug+ANZ0+YeLvEF1pV7HLlVDqsbDA6Z79f0pge0fDj4v6xqHjN/CnjWGGPUMEJNCAuSBnBA46Vj+OfjP4n8L/FifSLJEubCP5EtFiXMjHGMtjd69+9Q+AvCvw1tfiTZDw34hvNT1BAzoCQyfdOcnHpXJ+Pxn9pAbVOftacqeTwelAHReJvH/xj8KxRa5qkNta6fK+BbfZoyAOOCcbu/rXbap4r8TeNPguur+ERFaXckbC6QqDhQcNtDZ6rn86l/aFUP8LLnp/rlz7c1lfBON7n4G3cHVmE4VT/ALtAHjfwkHjlvFGojwLNCl8IW+0mZEbK+YufvA98V9jaML5dFtF1d1e9ESi4ZQAC+OSMcda+V/gZ4h0nwh8RdbfxDfQ2SNDLCHlIA3eanGfwNfV1hdwX1jFc2kiywTKHjdejKehoAsUUUUAFFFFABRRRQAUUUUAFFFFABRRRQAUUUUAFFFFABRRRQAUUUUAFFFFABRRRQAUUUUAFFFFABRRRQAUGig0ARS/eFFEv3hRQBLRRRQAUUUUAFFFFABRQaSgBrqHUqy7lPUGuP1f4U+DNcmEuoaFbM2Scou3JP0rsqKAOM034TeCtJl8yy0G1RwwYMUBII6Yra1/wpo/ibS00/WrJLq2Rgyxt0BAwP0NbNFAGboegad4c0qPTtGtltbVOVjTtWT4h+HfhfxTcifXNHt7mUDAcpg/nXUUUAcM3we8ENaR239g2yxxtuQouCDnPJrqH0TT5tJ/s2e0iktNgTyWXK4AwOPpWjRQBxNp8IvBNlqK31v4ftUnRgyts6GtHTfAXh3SfEMut6dpscGoSjDyrkcYx/KulooA5fU/h14Z1jXU1nUdLjmvo8bZW6jAxWzqWj2Gr2ZtdSs47iHkBJFDD/wCtV+igDgV+C3gMXAm/4R223ZzgjI/wrq7Tw9pdhpL6dZWMUFo4w0KKACK06KAOZ8O/D7w54Vvri70LTUtJrgbZWQnkZzS654A8O+JNWt9R1rTkurm2wImc524OR+tdNRQBnX2iWGp6Q+m3tpHPaOoVoXGQQOn8hWBoXwv8I+HNUXUdI0WCC6Q5WRRyPp6V2FFADQDtx7fWuT8RfDHwr4p1L7frmkxXVxsCbzxwCT/WuuooA4G2+CvgS1lWVPDtsWHQMNwH4GuysdLs9MtEttPto7eGMALHEgVfyFXKKAMrWfDeleILM2usWMN5Cc/LKmcZ9K5m1+DXgazuFng8P2yyKc5I4/Ku7ooAzJfD2lTaOdLksLc2RGPI8sbR+FcrB8GPA1tdLcweH7ZZUIK8cA/Su9ooAqw2FvbWot4IVSLGPLVeMfSuP1L4P+CdVvpL270C3ad23MQMBvwFd1RQBk6N4e0zw9pwstHsYra27xxrgH6+tc/qnwj8E6zdG4vdAtzIeCyjZn8q7U0ooA53w94D8N+FcHQtKt7V1ziRUG7n3qtqXw48Mat4iGuX+lxy6grBln6HIrq6KAMrX/Dum+J9NbT9ZthcWrH5o2PBpnh/wxpfhjS10/RLUW1srFhGhOMmtiigDi9U+FHg3WNRe+v9Ct5bh3Ls2Mbj6muvtraK0to4LdAkUahUUDAAHapaKACiiigAooooAKKKKACiiigAooooAKKKKACiiigAooooAKKKKACiiigAooooAKKKKACiiigAooooAKKKKACg0UGgCKX7wool+8KKAJaKKKACiiigAooooADSUtFACUUYoxQAtJS0UAJQKDQKAFooooASilNJQAtIaWigBKKWkoAKUUlFAC0lFFABSikooAWikpaACikooAWikooAWikooADRS0GgBKWkooAWikooAWikooAWikooAWikooAWikooAWikooAWikooAWikooAWikooAWikooAWikooAWikooAWikooAWikpaACiiigAooooAKKKKAEoPSig9KAI5PvUUSfeooAlooooAKKKKACiiigAooooAKKKKAGSOscbO5CqoySewrkpvip4Mt7l4JvEFoskbFXU7vlx9Biuk1b/kD3uef9Hf8A9BNeB/DDV/A9po2qQ+KTYC5+3y8XEBZiu9sDOD7UAe86XrFjrVmt1pl3DdQuoKvE+c59u1XQ3PGMdj614z8I4GHjjxJfaPbS23h6WTNsr5Cn5m+6D0GDU2g/Ejxp4pl1Cz0TR9O8+ynKPNOzhQuAeg79e9AHsOf/ANVG71x+deca/wDEPU9P1Gy8N2FnZy+I7mESyGWUrBAOpJPU8Dpx1qofiJrvh3WbC18YJpM9rfP5a3GmyH923XkEnjrQB6lnnFISR/npXBDx1qFn8Vh4Z1eC3Syu4BJZXCZDMckEHJIJ+70x1qTxJ42v7Lx7o/hbQ7eG4ubsebctNnEUQ3EnI7/KaAOkj8T6TNr8mixXsbahEu54BnIHHP6j861d/fqPavO9O15ZfjJf6SdMso2jtfM+2KmJm+5wT+P6VVvviF4h1vxPf6H4A02znbTji5u7522ZJIChVxn7p70Aen7uPSkya8z034geINH8V2Xh/wAe6baRS35/0a6sGYx9+CG56j171p3Xje8g+Llv4VSCFrOS2815CDvBxn1xQB3Jb0/CjNcT448Z3Phi/wBDhtoom/tG88iTzEJIHqMGq3jnx9faD4k03w9otvam+1BSyz3zlYUGcAHHU+2RQB37MF5zxWD4c8Y6Z4ouNRh0ppS2m3LW9x5ke0bgSDj1GRUXhyfxNMkn/CTR6dt2nypLIsA34En3715r8M7jUbOH4gzaTHE99HqsrRJKCVb94/BGR/OgD23OMZxigHJrjvAvjqHxV4HTXLqNbaWFT9siU58tgMnAPbr+VM+Hfi/UPGVrf6lPbQxWC3JitCgO91AXLNk+5/KgDsZ50t4XllIVEBZ2P8IrB8IeL4fGFpeXllaSxWkNw8MMrkfvwpILAdhwD+NZHxe1htH+GmpSxkiaXbFGVPcsP6Zq/wCArFNH+GuiQhFRl0+F5McAuY13H8TQB1Oef5UvevG/CvxL8c+ONJlbQdD06OaGZke5uJGEJGAQAo5z179xXTeBfHepa9darpev6clvq2lNiVbdiUkBCkbQfZhQB39NJI6DJ9K8/u/iH4it7yaCHwBqU6oxCyC5QBx69Kv+HPGWs63qq22oeEL/AEmEru+0Tzoy59MAZoA6HVdd07RLU3GqXkNrFjO+VsZ/DrU9hqNrqdjFeWMyzwSrlHTkGvNPid4HsLnQ9e1+9uLm8uI7Q+RHI/7uE9OFH1NdB8IV/wCLT6ED3gP/AKEaALth40iufG194au7SS0ubdRJC7OpFwhJ5UdsYH510ynjrn0ryb4nH+xPiV4N1q3bY81w9tPwPmUtHgZ/A12Xi3U/EmnxWTeFdNhvzJOBcCRsbFyMkfhmgDqOaWooGke3jadQkjKC6g5wcc1NigAooooASilxSUAApcUlLmgBKKXFJQAUuKSlzQAYoNFBoASlxSUuaADFFFFACUUUuKAEooooAKKKKACiiigAooooAKM0UUAGaM0UUAGaM0UUAGaM0UUAFB6UUHpQBHJ96iiT71FAEtFFFABRRRQAUUUUAFFFFABRRRQBV1NDJpV2qgktC4AHf5TXlfwd8J248P6g+u6PCbhtQmKm6gBbb5j4xn2xXrx5FNC46UAQRWsVtCsdvGqR4wEVQF/SvNPg9pl1YNrxvLaSF5L0kGVfvjavSvU8fLjp/SmhQPugAfSgDxT4i+Efs/xKi8U6nplxqmjyQCKaO1kZZIzjAPB5GQKbpWm+BNV1myj03wnqk8u8FZJnkVIye5BavbSp2kZ60gTC4Pp/npQB5z8VvDdxcaTY63osLNqOiyieBUySyghinv8Adqn8LtNv9X1rUvGXiC1kt7y7YRQxSj/VoFUdO3O7869TAODnAz1wKVQAOOB6YoA8p03T7k/tAajcvDKtu9iVSTZ8uf3Y6/gaydLuNR+FvivWzqulXl9pmpXP2i3urRN7KSzEgj/gQr2op824AFum7HOKXaPx96APG5BqHxL8caNf2uk3On6ZprFpJLldjkjJGB+VP8bW174Z+LGn+LpLK4vtOW28h0tl3ODtxnH4V7EFx0/U5oCn2FAHhPjPXdQ8Ya94Xl03Q7+3sYL7cbqZeQfTb2HWu1+Id/4Y+2W9h4o0O6v0kBZJoYS3lkf7QII9sV6Bs4wOOcigoe3HtQB5L8MoNXj8Tai9mdTTwts/0WPUjudXwM4J5xU3wjsbq11bxmbmB4vN1V2jMi43jc/I9ua9U2Y55J9c0gTA4HXqKAPnbxjbap4N8V6t4Y0O2P2Xxi2ICr/6hiWDEe37xfyr3Xw5olv4e8P2um2iKqxIM8Yye5NYT/D77V8SIvFOo6i90ltHstbRkG2Ek5JB9eF/KuzGSPT60AcJ8YtIk1j4a6glvH5k0JWVF9wR0/CtDwFqC6r8MtFnDLIx0+JZdv8AfEa5B/Gunnt0ureSKVdyupUg+hrm/BPg0eC9Pu9Pt7x57OS4eWCNhzCrEnaD3AyB+FAHI/AbTLrTvBt3HfWz2zG9ZlV1IONq81J4fsL0fHTxFdeTNHbTRptlKYDfukH06ivUQuM4GB+VCqM5xgnqaAPP73wF4tub+4lt/H95bwSSF44VtIz5YJ6ZxzWh4b8J+I9H1j7Tq3i6fV7coV+zy2yIA397Irs/xppBJ9u9AHlfxQ8c2cej614bXTtSlu5rcqjx25aMsfel+Dvi+3l8N6X4cewv4Ly1gIdpYCqdexz716lsyozkY96Np6g8+4oA8j+KONe+JHg7RLT55YLhrmdf7qgx/wD167Pxh4nvPC0Fm1jpEupG5nWNgjY8sEgEng+tJp/gmO28dX3ia9uTdTzqEt0KACBATwP0/KupKbu3Q5+poAbbyGaCOUrsZ0BK/wB3IzipqT/JpaACiiigApDS0lABRRRQAtIaKKACiiigBaDSUUAFFFGKAFopKKAClpKKAFpMUoooASiiigAooooAKKKKACiiigAooooAKKKKACiiigAoPSig9KAI5PvUUSfeooAlooooAKKKKACiiigAooooAKQ0tBoASjNFISM89aAFoo470ZFABRS5ozQAlFLmjNACUUuBRxQAgpaMijNABRRRQAUmRQa8yvNd1fxF8VrrwpZ3b2FhY232iZk4eQ/JgBuoHzn8qAPTqKq2Fn9itUh86abYMeZPIXZvqTVqgApDS0hoAKKKKACloooADSUppKACiiigAooooAKKKKACiiigAooooAKKKKACiiigAooooAKWkooAU0lKKKAEooooAKKKKACiiigAooooAWg0UUAJRS0lACiikoFABRS0hoAKKUUUAJQelFB6UARyfeook+9RQBLRRRQAUUUUAFFFFABRRRQAUUUUAVdSdo9LunQkMsLkEdQdprxD4f8Ah2/8daXqGpaj4p16CaK9ljUQXsgUKHYAYz7CvbtWGdGvR/07v/6Ca+f/AId/DuPxV4V1O5Oq6haSm/nCLbzER5EjjkA+1AHY/CvxLq0nizxD4X1S+fVYdLm2QXjHcSoZhtZv73A/Wuo1f4k6BpWoPp6yT3t5D/rYbGFp2T/e2g4x1rkPg/cx6Ne6z4VuoIbbVrOQ7pQPmuxlgH9zxk/71cr8MrPXYZ9YtLfxFYaXqBuy08F3H+9bgYbJHPT9KAPavDvjHR/FEEj6TdeZJF/rYHUpJH9VPI7VgXHxi8KW11fWst3L9rs52ga2SFmkZgSDtUDJHHX6Vm+E/DMtt8QrzXbzxPYandSQ+XLBaEZHygZKj6CuX+HGqaLp/wAUPGkeo3dpbXT3j+T5zBOPMbOGPHpQB6b4X+ImgeK7qS00+5dLuPBa2uUMUmP721sHHBpfEXxA0Tw5eJZXk8s1667hbWkTSuRn0UH0rz+/uYNX/aC0abw7JHc/ZoALya3YMoXdwGYcHo1Y1nHqqfGrxHHDrNrpFxIytA16vLrsXIQntwenvQB6z4e+IGi+Ir6TT7WWWC/QZNrdoYZCOOQrYPcUzxD8Q9G8P6p9gma5ubxVLtBZ27TMo/2goOP/ANdcjb+Fb+58f6fqur+LNNu57QHZBb7VkYH170258X6vrHxE1jQdAuNO0b7Ay+ZPeKA9wcsPlB6j5T+YoA7bw74+0TxK9xb6dNILy1TdLaTRMkoHX7rAE1wE/wAXruH4qT6cbTUhpsUGDbCzbzC/HzAYyR9Ky/BVxczftAXYutWtdVmjs9rz2mNgOJOOOK15Ly2sv2j5JL+6ihVrAbDLIFBOF4yeKAPXNPuxf6fBdKkkayxq4WRSrAEZ5B6H2qz3qKCeOeFZIXR0I4KsCPzFSigBjttBzwByWyK8i8KMt5+0N4lvbX97apYeSZlGUD7osru9cqfyr0/W9Ftdc057S88zy2/55uUP5ivN/h7fto/xM13wVCBJaWkIuIZWXDrymQT1b7/X2oA9YGcc0tIowoz1paACkNLSGgAooooAWikzS0AFFFFACUUGigApaSloAQ0UGigAooooAKKKKACiiigAooooAKKKKACiiigAooooAKKKWgBKKU0lABRRRQAUUUUAFFFAoAKKXFGKAEooNFABRS4oxQACiiigBKD0ooPSgCOT71FEn3qKAJaKKKACiiigAooooAKKKKACiiigBksazQvFIMo6lWHqDWZo3h3TfD9o9tpNstvE7tIwXuxJJP5k1q0UAY3/AAi+lHxCuuG0Q6isZj8/HJXjj9BVPV/AXh7XbkXGpadFJKP41G0n6nvXS5ozQBiaL4V0nw9C8ejWUVuW+8R1b6mvPfCfw1M/izxXP4s0iOW0u7wyWhkIOVLMeMc9xXrvb3pMc0AYegeEdE8MIV0PTobXd1ZByfxo13whoviMq2r2Ec7qMK5GGH41uAYFKaAOd0TwPoPh64E+madHDNt2785OP8io9b8AeHfEGoLe6ppsc1woIEg4Y/U966aigDndM8EaDo2pC/03TYoLgReUHUchef8A4o03X/BGheJpoptZ0+O4khxsYjBA9K6SigCtYWNvp1lFaWcQihiUKiDsAMCrQ96KM0AI3TmvH9H/AOJR+0jrNxft9nhv9P228kwwJCDFwD+B/KvYDVDUtFsNWi2ahaxzAdMjkfjQBfU/hS1XsrGCwtUt7VNkaDCrknFWKACkNLSGgAooooAKKXFJQAUUUUAFFGaQsAMmgBaKM0UAFFFMndo4HdELsoyFB60AP/nQeBk9K4fTPG2palPq0Q0qKH+z+s8s2Iz/ALPAJz+HY1EfH91/widrr66fHHbyyiMxtId756bABzn3IoA72io4JDLCrlShYA7SentUlABRRRQAUUCloASilxSUAFFFFABRRS4oASloooAKMUUUAJRRRQAUUUUAFFFFAC5opKXNAAaSiigBc0UlLmgAoozRmgBKD0ooPSgCOT71FEn3qKAJaKKKACiiigAooooAKKKKACjvRR3oADSYpaKAExRS0negAoooFABijFKTiojcQrJ5bSoH/ulhn8qAJMUUZooAKKKKACiiigApaSkzQA6io2njjH7x1UepOKeGDDIORQAtIaWkoAKKKKAFpDRRQAUUUUAGK8z+KE2raSukT2mrSIk+oQxNEqAZDSIMZz716ZXmXxluYF0/QwZUyuq27Mu4ZA85MmgD0e1yLaLPJ2DJJ74qaq9lLHPaRvC6uhQYKnParFABux1prYYEA4OK5zx3D4ik8Mzt4Ru47fUY1LoJI9wkwM7fx6fjXlPw58b+IfFmqz6LrviabS9ZgYqYPsiYcAZyCT160AerweD7O10K/wBOiklxfSvLLKPvks5Y/wA8VFqHgiyvNF0zTI55YItNIMRUA5K4xkfhUf8AwjXiP/ocbn/wDj/xpreGPEjKdvjG6Vux+yRmgDprS3W2gESsxAPVjyatV5drGg/E/T4WuNK8WW1+E5+zy2QRnA7Ahq7DwjrF1qmhQ/2pE0F/HlbhG9QTz/KgDoKKhmuobdlWWVVL8Kp6mntIqJudgq+pOKAHilpqMGUFTkHoQadQAUGiorieO3hMkzBUHUmgCSimo6uispBDDIp1AB3oyMVl69qyaPYecV3yOwjiTP33Jwo/MipbSSeLTBLqLr5uNzc4C56D+QoAv7h69s0uRWMs2o32mySRpFbTbyY8Sb1dRnGTjjtTvD+uJrmlrdbBFKp2TR5zsYdR+tAGvRUEF1HOC0bBgDgkdj6VPQAlFFFABRRRQAUHjrS5qC6nW3tZJpDtSNSzNjoBzQBLketGaxPD+oXeqxS6hPiK2lYi3i2/wg8MT7gZ/GrEd5cXOpTwQxx+QI+LhZdxDc8baANPIIz2pawdI1mdtVuNJ1QKt3CN6OvSZDwDj1yD+Va6XUJuWtlkHmqMsh6gev60AT0UUUAFGKUUUAJR2oo7UARyfeFFEv3hRQBLRRRQAUUUUAFFFFABRRRQAUd6KO9AAaSlNJQAopD1oooAKUUlLmgDmPH/AIrXwj4XnvkUSXTgx20ROA8hGFB9skVxXiVk0P4bf2lcXYl1yaWGQTeb8ys0qDao9NvGPrV34r6aNU8SeDba6UyWTX7efGej/NFgH9ap+I/DVn4j8ZaXo2lWyR2llItxezjcQpXlUGSR2X86APS9JmebRLGWY/vHt43cnuSoJ/WroNcHpGpTa/4s1iwM8kFlpaiOKOI7TuwvJx261f8AA2v3WrLqlpesZX026MAlPBcAsP8A2WmgOtLhVJPQdfas/Tdd0/VvONhcpKIHKSf7JFXZCBGwOMY5rA0UeHpVv/7BjtpGLn7THbjG5+9MDabUrRN2bmIbevzik/tOyLALdRcjOQ4riZtPtXmk3eCZpNzHLec3zc9aYNMtB08DzDjH+uapA7+G5huY98EqyJnAKnNVtV1GHSdKuL26O2GFCzHPSqPhqFYLArFpLaYobiFiSfrzWD8Xo55/hvqMdsW3MVX5fQnmgDA8PaiNe8Map4l1y8+W4ike2thLhYo8EgkevP6V03wq1W51fwHZ3F27O25lVmHJAPeuT8UeH9OHguw8K+HrONtQ1CIQb4iT5ceApkP03ZrWjll0DxNoHgewuWhtvsXnSMgG+TBkOM9vudaAPSs0Vw2jeIbqD4k33hq4naW1FqLi2aQAsD8gK578s3X0rt/m29cH+VAC0Vzsmm+JTM7Ra9GiE5VTbKcfpTf7M8Uf9DDD/wCAi0AdLmop5o4ImlldURRlmY4AFQ2EN3Dahb65FzL3kCBc/gK4T4tT3bQ6LpkTyRWWoXiw3csfBCllAGe2dxpoaOrPinSeMXS7c437fl/OtNZ0dAyMpUjKnPUetcd4xgsrP4d6lZweTiO2zEqjBBGD278ZqP4ZibUPCthqF/P5szW4i8vPAUcDI9flFMZ3YP8A9asq98M6NqE3mX2nQTv6yJnH0qnqOk69NdPJZa+9tEckJ5CMFHpyKrJoXigcjxS5BH8VpH/hUknR2dlbWNuIbKJYol6KowKsCuX/ALF8Uf8AQ0f+Scf+Fa2j2moWsEi6nqP25y2Q3lhNv5UAaLjINeL/ABf+F0l9N/wl/hHfb61ZhZGSNsecFPX64/QV7SelRsFKkOAV75oA84+FHxPg8a6cun6kFt9atY9s8Ocb9p2lh+OOPevSx09a8E1PwDb6p8aotS8BXTWTwsZNRki4jB4BA9yTkj6172v6UAIRnrUXlxRmSYIqkjLMBgkD/wDVUxFQXgY2Uwj+9sOPyoGcp4fl/wCEk12+1ecbre0la2s17fKxDN9TtH61R+L94IPBEkCSGK4u5BBC6yFcFiFzx35qz8MG2+F7lHOJI9QuDIPQ7zWR4sgPiX4oaJozkPaaePt10pHDMGyo/NKAZ0/hvU9PsNJ03S5L3fP5ACmTOXPU8nqetdLnAzj2xmvNPEUg1P4naRYR4S30iNrmdunVXCj/AMeWtDxV4olfWtL0GwneBr4edNMFy0cQHT2+8vNAju9wOdpBP1rjvtUviDx9LZ7iLDTEBkUHiSQ54P0ypqt4M1o6h4012ztJJZbC1WII0hJwxMmRk/QUzwQGTxd4nilO2f7UHwfTYg/pQB2tzeW9jGpmcIDwAB1/Cs3/AISrSBHI326MeWcPuH3D6n0FRX+q6MniCOzupl/tCKJpUhY9F9f1/WuH8BW9jq03ibX9VijaLU7toRG/QorPgY69DTQ0dF4xuYby10TUbZ/PtEv4izryuDIvP4VpeMi7+GJ5baMzSBQEAJ2845I+hzWlbaXp76GtjBapDabNqwgcJ9Ks2dmtlbCFWd1B4LHJ/WmMw/BcLWXhW2gk3OyIrO7H7xIycemDVPwNH5sms3aY8i5uy8QxgbfUV1F7bfaLcxCUxKTyV706ysYNOs0trVAkMYwqjsKkk5LUZm8N+N7GS3Yiy1MmKaIngSAE7h+Siu0ByMZ6964b4jkNdaEif603qlQOuB1/QGu3jGY198UASZpKx9UsdZuLmM6ZqsdnEBgoYA5P4ms9NI8VYPmeI48DpttEoA6imySJEheQhQO9Zmk2erWrt/ampregjjEITH5VcvrRL238iYsFJHKnBoArWeuafqF9NaWlyr3EOPMQdQO38jWfrt9banomr2Gn3CSXcMB3xoclTwcflj864vwZdwC68VeLr4RwvEzpGucCKONSwGOn8RrR+EmnyP4evNZu0H2nVrl5WJ5yo+Uc+mFFAHS+Fitz4K09AT8tsqSYPIZRgj8waxvAsTx3Wq3c0E0DTykeW33YVXO3HqTuPPtXTWOiwabdSyWbvHFLktDn5NxOSR6c5/Or7Kdp2naSOD6GgDjpX+1/Fy28jLLbWGJiOiEmTAz+I/OrHjmGWz0r+3LFil3YurHZx5iE7Sreo5z+Fbml6Pb6YZ5IwXnnffLK/LMcAdfTiqHjaVIfBGpyScARcnr1YCgDV0rUI9U0q1voOUuIlkX8QD/Wrf0rmfh9FLb+AdGWfO8WceQRj+Ba6bpQAUUUUAFKKSjtQBHJ96iiX7wooAlooooAKKKKACiiigAooooAKO9FFAAaSilxQAUneloxQAlFLijFAFa8sLXUIvLvIEmUdNwztPqPQ+9NsdNtNNhMVjbpChOSEH3j6n1NW6KAOOtvDNxo/iXUtV0lI3TUQN8bk8Nxz+hq/wCFPDY0GG8kkOZr2czy49SSf6muhxR0HHFADSilcMoIPXIqtY6VYaZ5n9n2kNt5jF38pAu4nucVbooAXFJtHpS0UAJgVFPaxXMTRXEayRuMMrDIP4VNRQBnWGg6bpjM9lapFIQBvyS2B2yece1ZGt+GZbjxXZeIdP8ALN5awmHa/RkO7j/x811FIVyOaAOT0fw1NH4yvPEWoxxpNNCIIo05CD5ckZ6Z25/Gutxxik2/nSgYGBQAUUUUAJVa90611GDyb2FZo85AYdD6j0qzRmgDOj0DTYlKraowIwd/zZH40+w0aw0wEWNukIJzhRV7NFAFO61Sys5VjuriOJnIVd5xk1E2vaYkwja9hVmYKu5sAk9h715/8U7aK6m07RoBm41a7Xewb5kReDj0+/T/AIjWkC2Oi+GbK2CG/u40zGMsEVlLHPXpmgDvpNb0+K6EEt5CkhOApccmr+cDvgfrXl/xDtozp+g+E9Pi23F1Op3Y5REBYtnr/Aa9C0ueCfT0W1laVI/3PmMfvFeM/pQBdZsKfQdea4HV9dvPFmozaB4Xm8u2Q7L7UUI/d/xFF9yMDP8AtV0nijSLzXdGmsrDUX09pkKGaMDeARjg9q4HT/hP4l0u1W207x7qVrEhJCRKAOefTk0AejaBolj4e0qKy0+IIqjLv1aRjySSeSc561qA15h/wrjxj/0UfVvyH+FB+G/jAjB+I+r4/D/CgD0e7v7eygea6mSONBlizYxWdouvw6+s8tn89qjbUlH8fr+uRXmOofAzU9WYLq/jXU7yPILJIxwRXqPh3Qrbw74ftNLtABFbLgEcZyScn86BmZa6ZJoPii6uLaMtp+oHdIo/gkznP0OWreTTLJdQa/S2jF06hTNtG4jnjP4mrOwBsjrjFOoAoTaJp1xdrdTWkbzr/wAtCPmP1Pf8aw77wvMPFR1vT9nnvD5J39FXjoOn8Irq6TA49qAMTw34cg0CzmSL5pbmUzTSZ5Zz/npVO+0mSw8VrrdhGx86MR3UY/5ackAn6ZH5V1FJj3oAzJ9G0zULhLy4sonuFGFkZcN9M96WPw9pUNwZ4bGGN2bcSq4GfXHStLGKWgBAMClxRRQAYpjttUn86fSEZoA5gaVLrHiqLVr1CttYgrbxkfeYggt/49+ldN/CPTvShQOlLigA60UUUAB9e9U9SF62mzDTnVLrZ+7LDOD9KuUUAeYX/hPVNc0RdMuLZLe4ugBql7tCK699irhckE9vSvRNK0+DS9Lt7K2XEUCBEz1q1tHHGcdKVRj/AOuaBC4FGOvvRRQAh6cVy3ie0vNdkTRoVZLNiGupcfeA5C/nj8q6kjPWmMMmgBttAtvaxww8RxoET2AGKmpFFLQAGkpaMUAJR2oo7UARyfeFFEv3hRQBLRRRQAUUUUAFFFFABRRRQAUUUUAGKKKKACiiigAooooAKKKKADFGKKKADFGKKKACiiigAooooAKKKKACiiigAooooAMUYoooAMUYoooAo3GjWN1qdvfz28b3NsGEUhHK5xn+Qplxotnc6jBfTwrJcW/+rkYcr64rRpDQBlah4f07U7iCe8t0klgzskx8wznjPpyavwW8dvCkUCKiIMKoHQVLilAoAgubiO0tXluGxGikscZz+HesXStYhvby+uo9RMltAdphaLb5ZwD6Z6Gtq8iklt5Fg2iQqdjN0VscH865Pwd4d1XRrO5hvdkbzyO8kqsGMjno35YH4UAah8a6EpO6/QY6/KasWfijSb65W3tb1HkY8KAarNoerH7utsvt9nXFT2uk6jDcpJNqrTKDyvkgUAYfjLWNW0nWNES2uVS3vLtYnQpksMj/ABrsl44PB/KuJ8caJrWq6ho76VYRzR2F0s7M0yqW5Gep9q7O3MjQo00flyEZZAc4P1oAmopaSgYUUUUAGKMUtFAhMUYpaKAExRilooATFGKWigBMUYpaKAExRilooATFGKWigAooooAKKKKACkxS0UAFFGc0UAFFFFABikxxS0GgCKUfMKKJfvCigCWiiigAooooAKKKKACiiigAooooAKKKKACiiigAooooAKKKKACiiigAooooAKKKKACiiigAooooAKKKKACiiigAooooAKKKKAEZ1T77BfqcUEjjmsTxVpNzrGiy29jc/ZrhTvhfnlxnGfQVn2Xje0giWDXobrTbtAA6SQs6n3DqCDQB1VKK57/hOPDv/QSUf9spP/iaUeOPDn/QSX/v0/8A8TQB0NJWD/wnHh3tqK/9+n/+JpP+E48Pf9BFf+/Un/xNAG/S1gf8Jx4e/wCgiv8A36f/AOJo/wCE48Pf9BFf+/T/APxNAG/RWB/wnHh7/oIr/wB+n/8AiaP+E48Pf9BFf+/T/wDxNAG/SGsD/hOPD/8A0EV/79P/AIUHxx4e/wCgiP8Av2/+FAG/RXP/APCceHv+gkP+/b//ABNH/CceHv8AoJD/AL9v/wDE0DOhorAHjbw8emor+Mb/AOFD+NfD6gZ1JMH0jf8A+JoEb+aKybTxNo19IIrXUYXkI4QttY/gcVbub+0soDNdXEcMY+8zvgCgC3RXPHxx4eHTUVYdiqMQfxAo/wCE48Pd9QH/AH6f/CgdjoaK57/hOfDv/QRX/v0//wATR/wnHh7/AKCI/wC/T/8AxNAWOhornv8AhN/D3/QRH/ft/wD4mj/hN/D3/QRH/ft//iaAsdDRXP8A/Cb+Hv8AoIj/AL9P/wDE0f8ACb+Hv+giP+/T/wDxNAWOgorn/wDhN/D3/QRH/fp//iaP+E38Pf8AQRH/AH6f/wCJoCx0FFc//wAJv4e/6CI/79P/APE0f8Jv4e/6CI/79P8A/E0BY6Ciuf8A+E38Pf8AQRH/AH6f/Ck/4Tjw9/0EB/36f/CgLHQE0ZFc4/jnw+ORfk+oSCRj+QWsy3u9Q8UeI4JrSCaz0e2bd5s6lGnfGOF6gcnrjpQFjtVxtxTqaPlXHoOtLQIWikooAWg0lHagCOX7wopJfvCigCaiiigAooooAKKKKACiiigAooooAKKKKACiiigAooooAKKKKACiiigAooooAKKKKACiiigAooooAKKKKACiiigAooooAKKKKAEIzTJLeGYfvYkf/eUGn0UAV/7Osv8An0g/79ij+zbL/n0g/wC/YqxRQBX/ALOs/wDn0g/79ij+zrP/AJ9IP+/YqxRQBX/s6z/59IP+/Yo/s6z/AOfSD/v2KsUUAV/7Os/+fSD/AL9ij+zrP/n0g/79irIooArf2bZf8+kH/fsUh02x72kH/fsVapkjFceh9KAK/wDZ1l3tIB/2zFL/AGdZdrSD/v2K5e61Br3xDPGdQle3jG3yLNeY2x1ZjwfoBUfgfxHJqura1prTNcJp8wRJm4JBzwfcUAdZ/Z1l/wA+kH/fsUf2dZY/49IP+/Yq1RQBjar4a03UrSWN7SJHYfLJGu1lP1Fcj4W0W+1m9uf+ErV54tNlNvarIpCy4JHmEd87QfxrvL+/h0+3Ms+/aP7gyRWXo3i3SNemkj0qdpzG5VsLwGz0oGjTi0yxSMBbOBR6CMU7+z7P/n0h/wC/Yqrfa1b2NxbWwDS3Fw2EjTrjPLH2H9Kt3F3FaW7T3MgjjUZZ2OAtACf2fZ/8+kH/AH7FH9nWf/PpB/37FZdv4t065u7eBXdDcZMLumFlA7j8xVldZj/tZ7CX91KOYw3SRfb3oAt/2dZ/8+kH/fsUf2dZ/wDPpB/37FWVORS0AVf7Os/+fSD/AL9ij+zrP/n0g/79irNFAFb+zrP/AJ9IP+/Yo/s6z/59IP8Av2Ks0UAVv7Os/wDn0g/79ij+zrP/AJ9IP+/YqzRQBW/s6z/59IP+/Yo/s6z/AOfSD/v2P8Ks0UAQLY2qfdtoVPsgqYAAYAxS0UAFFFFABRRRQAClNJS9qBEUv3hRRL94UUAS0UUUAFFFFABRRRQAUUUUAFFFFABRRRQAUUUUAFFFFABRRRQAUUUUAFFFFABRRRQAUUUUAFFFFABRRRQAUUUUAFFFFABRmijFACUUuKMUDEopcUYoASiiigAopcUYoASlzSUUCI5LmKEgSyohPTc2M1UvbiCe0miS7jieSNkWQOPkJGAaoa/ounX8f2m+tGuXhT5UWRlyfwI9K4m607S7HQjql5psG2EB57cTybkXv/F1ABoA0PDtvqHh3RbqwhiguLiWVmF09wBvyep47D+VbHhDRbLw1ZXDSXkM15eSma5m3AbmYk447DOPwrn7208Lr/ZsOn6Ubi61IBoY3lkwF5yT83+yal0DSPD2pazqWmz6Wiz6ewy8U8mCD2wWoA7/AO32vAFxEewG8c1PvGRz1HFc7F4H8ORzJJHp2105X9/Icf8Aj1L4tvdW0vQ0fw9bxyTCRFIkUsqpuGT+WaAJPGerLonhDUdQcD91FxnuScf1rnfg7oP9j+AbSeeMLd6gPtUrY5y4Df1NUPGsWqeM9O0/w/ZIT5sqS3tyFwiqASVH44r0e0tls7KG2iGI4UEa+wAxQM4zwZcDWvEWu6w2WMFz9kgz0RVAbj/vs1h/EbWnv/Gek+E4hMbV2FzeiEZYqASB9Mha2fh0sem6h4j0kk+bFqDTDd1KMigH81NE+kzaf8U7rX5Ld5YpbIRwsq5wwA4z26GgDn/FOqx6r8QPC2iaPbywtayeZKGTb5cYAAGM9ORXUfElTZ6BFrMPy3GnXKTI47IGBYfQhab4X8MXUnii88V66g+23S+Vbwnn7PFkcZ98L+VTfEwrL4NmsF+aS9dbeNR3L/L/AFoEdVp1yLvT4Lgf8tIw3FWao6PbG00m1hbrHEqmr1ACUtJRmgBcUYozRmgBKKKKBhRRRQIKKKKBhRS4oxQAlFFFABRmiigCOT7wook+8KKBEtFFFABRRRQAUUUUAFFFFABRRRQAUUUUAFFFFABRRRQAUUUUAFFFFABRRRQAUUUUAFFFFABRRRQAUUUUAFFFFABRRRQAUUUUAFFFFABRRRQAhoFBooAWikpe1ACUUUUDOM+IsWpz6TaRaa8iQPcBbsx5z5eDkDHP5VkeKNLj8R6fb+H9Et2S3klQ3U+w/JGGGRn1IzXpNJjHbnv70AeX3Xh77J4+e/vIZ5YbaxWGyEbMvO3GAQeMkn86rQaVf+DfCt7qLB1v9Vuy0j53GBCWIUk56DA/CvWSue3NQXVnFeQmC5iSWNhysi5FAznI72ez8dQadBK0lvPbtJIpGcMOmPTqa6rG4c/jVO20mytbj7Rb2yJLt2hwvzY9KugYoEN8pQcqoU98DGaeR2opaBGLeaAr63Dq1kRBdKNspHSVM9D+Z/OtcJjkhQTycU+igBuCev6Vi3Ph77f4hi1K+lMiWv8Ax6wfwo2eXPqeF/KtyigBqgjrTqKKAEooooAKKKKBhRRRQAUUUUAFFFFAC0UlLQIDSUppKBhQaKDQBHJ94UUSfeooGS0UUUEhRRRQAUUUUAFFFFABRRRQAUUUUAFFFFABRRRQAUUUUAFFFFABRRRQAUUUUAFFFFABRRRQAUUUUAFFFFABRRRQAUUUUAFFITWN4g8UaZ4bs5LnVJyiRqWIVC3A69KANqiqOlalb6xpsF/ZljBcLvTcpBIq9QAhooNNflDyRx1FACllHVgPxpplT+8v515za2D6h8Tr+R/PWy061KyCQFVuJGKMM+oAyKzdNRj4L8TazdWtxMJ5JPs0G05QLuIIH8PUflQUetAg9DmlrmPAvnQ+Gba1uTJJLGmXlZSFYk9AT14xXTCgQtFFFAAKWkooELRRQaACkoooAKKKKBhRRRQAoopKKBBSiiigAooooASiiigYUtJS0CA0lKaSgAooooGFFFFABQaKDQBHJ96iiT71FAyWiiigkKKKKACiiigAooooAKKKKACiiigAooooAKKKKACikbt25rmrjxpaC4vItOie9+wruuXjPyoO4z3OOcUAdNRVHSdVt9Z0yC+s2LQzLuXI6e1XgcjnigAoopM0ALRRRQAUUUmcf19qAForD1XxNBYahFptsjXeoTZ2QR/w9OWP8I5/nUnh/wAR23iC3maBWint5DFPC4+aNsA4/IigDYooooAKKKKACiig0AFFJmjNABXIfFJQfhrrpwMizft/smuv+tcl8QbPVtY8L3+k6RYCeS8haISNKFVcjHNAFj4ff8iBouf+fYfzNdKK5XwOmp2Hh+y0zVNOa2NrFsMokVlY5/OuqFAFe+v7bTbSS6vpkhgiUu8j9FAGSa5+L4keEZlZ4tetJVXqYizY/IV0N7aw3tnJbXMayxSqUdGHDAjBFfNviTw7f/BbxsPEOnQRXvh27fEsOzPl54IOffBzQB7kPiB4TGT/AGtDz1Plvz/47QfH3hIRkHVYNvp5b4/9Bp/hq+0PxPoltqOn29s8U6Bv9WPkJH3T7/4VrnSrBlwbK3I/65igDnn+JvguEhG8QWceeAGLL/St/S9YsNZsY7zSruK7t5CQksbZBwSD+oNZ2p+DPD2p27RXmk2rq4IP7vn86y/B/gz/AIQnULq20ty2k3P7xISf9S/GQPY8n8aBnaUVk6vriaYsMSRtcXlwdsNupwWPqfQe/vVm5vWsdNe6nQy+UhZ1hGScDtmgC7RWF4U8VWvizS2vrKGeGNZWjxOoUsR1xgmtznvQAtFIDmqGsaza6LZfaLok5IVI1GWkYnAA/E0CNCiq1lPLPZRzXEflO43FM52g9M++MVYzQMGOBUUdzFNM8cUis0f3gD901n+J9S/sjw1f3w+9DAxX2ODg1T8PoNN8Mw3k4Z55k82QqMltx4/QigDfZ9pO44GMk+lJBPFcRCSB1dSMgg1zHh/VLPWNV1KSGOfzbdzHKHfMecn7vvx0qPSriTTfHV9ow5glhW5j5+7ndwPyFAHX0VjXeujT9ais72Py4rgfuZ+oJ/un34/WtjORx36UALSikpRQAUUUUCEo7UE01mwOfyNAET3UUU6wySASP9xM8mpS2P6e9cf4Snk1jVtW1W6U4S5e3twT90IxU8e+2pLnWbS+8Y6fpklvdLIN8sThto+UrncvpyP1oGdQlzFJK6JIGdOqg81KDXH+KJjpGs6ZqUDspmmW3kQdGBP/ANlW5quqtpcCXbRF7bI8zHVM96ANWiore4jurdJ7d1kjkUMjDuDUmcjI5oAU1C1zEkyxPIodvuqTy34VIx2qSTwOa4/wpO2taxq2p3Bz5Vy9vB/shWIPH/AaAOwyeT19MUxZ4pJGRJFZl+8A3K1yl3rdjd+L7DS7m3ukuDulhKHjgjJcf3en60eJnbR9c0nU7QEI8wgmjHAYN8oJ/Fh+VAHVuMt0Y/SimyKeMZ/CigZYooooJCiiigAooooAKKKKACiiigAooooAKKKKACiiigDlPiR4ibw14F1G9hOLkxNHb/8AXRgQp/PFcLb3svg34R3CXekXcVzcW5Mtw2zEkkjbQeGJ6ED8K7n4i+HbjxJ4Y+zWgVpYpknCN/HtOdv44xWZqehaj4xu9Ltb63ez0izKyXEbH5pnUZVeP4dwU0AT+A54vDnw10v+2bhIGMRkYuTwGJI7e9dhZXsF/ZRXVo4lhmUOjjowPesDxvawjwNqCeUm2OACMEAhcEDAp3gDnwBo3/XpH+HyigDpG+7WFZ6jrUnii6s7rTo101EDQ3iy8yHAyNuOOp79q3GOFJHpWBa3+tSeKru0uNLjg0qOMNBeCYkyMQuRtxxyT37UAPutfvbe4eOPQNQnVCQHRo8N7jLVF/wkt/1/4RnUun96P/4qkvPC9xdXUkya7qEAdidibML7DioT4Puf+hi1POO5T/4mgDV0zVrjUJGSfSruy2j705XB/Imrl9dLZWM1w4JESFsAZNUtJ0WXTXZpNTu7zcMYuCuB+QFWdUtXvNMuYIyQ8kZUEUAeVfDjWbq4h1TxbfaTdzvqMu5JAybY4VyQOSDwG9Kv/CK8a7sdc8Q3eYor2+Zk3nogVB6c8g1Jp2ga3F8PrfwnbQtavs8ie6bnahAUlfU9fyrt9K0S10bQrfSoY1NvAhXDDg98mgC3pur2Wr27TafOs0asVJXsQcf0q7mvPvhW2NP1YKFCrqMy7VHQb2r0DHHrQBSn1vTrWYxXN5DE46q74NR/8JFpH/QStf8Av6KkudF068mMt3ZQTOf4nTJqH/hGtF/6Blr/AN+xQBbtdQtr1S1pNHMqnBMbA1HquqWukaZPf38oit7dC8jegAyf5U+z0610+MpZwRwKxyRGuK5v4keHrvxN4OvNNsXCzSr8ue/B4P1oAi0zxDrOv6W2q2FtFaWZ3GFJsl5gozn/AGc9O9WPDfjaDX7CCWOB1naZ4JIgc7GUsCfp8v60ml3V1baFDYR6RMjxw+ThmG0H1z+NYHw48N6j4cudTh1O0/fTXckyyBsxhWYtge/I/WgDu7vWtPsZFjvLuGBj0Er7c1W/4SfQy3/IUteP+moq3c6VY3kwkvLOC4ccKZYwf51D/wAI7o2MnS7M/wDbFf8ACgCMeJtD6f2raY/66irVnrOnX0hSzvYJ3HURuDUP/COaL/0CrP8A78LU9ppNhYEtaWdvAT3jiCn86ALZPNZ+t6JZ6/pM+n6jCksEylWVlzj3HvWgeOvWopp44YnklcIiqSzN0AoA+brW61n4D+ODb3e668LX0hWNsn93k5H0IwR+dfRunX1vqdhDd2biSGZA6PjGQRkGvO9U0/8A4WtfLZTQ+V4bsZ97TFcvduuV2of4V5bnnoPWvSLS1hsrWO2tY1ihiUIiKOAB0FAEpANIV5z3pSdo5pGbqBQM4bR5v7V+KmtTSHKaXEkMYPYtnP8A6BWj8RNUOieAdVuYjiU27xQrnHzspCj8yKztHiOk/FTWYZV/d6pCk8THuUzuH/j4o8faPqWv6t4f0+CAvYLeJPePngqrqcfoaBmNo1/qfgT4ZWd5PDbiNCu6Ak73aSXru/4H6dq9Ig1CN9MivJ8RK0SyNuP3cjPNcd490S+1abRLa1tjNpsFwJLmOP7x2qdo+mQtZ3juTV59J0zSYytt/aV8sTqp+7EFfCZ9eF/KgDtrXxLYXl6ltCzK0gLRlxgSAd19etctrMg1T4v6Rpk5byba2Nz5eeC3z4P5qKqwJqGq/E6xtQIPseiwuJZIlIBZ8YX/AMhn86t63ANO+Lmj6w+fInt2tnYDo2JMD82FAjs9RvDZW4MURkldtqKOhPvXK3XizVbPxjbeH2ghmmu4TKHXIEWNvGO/3vbpWz4kvdVso7NtGsFvQ04WfLYZEwTkfjgfjXM2VhqafEG+17ULF3WSEQ2wU52Dvn9PyoGasK6v4p8J6paa1YpYXEqyQxKH3bht4b25P6Vc8PSyXXhwafOrw3dvGYJNw6Y4DD2xitewF0YA95t8wnIC9hVgRKrlwBuPVscmgDnPDHhyTw3auklysq7nkYquCSzZyfU/41HpFnLf+L7vWnG2HyxDAMdVG75vxz0rqdmSM/j70IgRdqqFHoBigRzPxBgz4Ou7lOJrYpLG2OhDqf6Vr6Ddtf8Ah+wunzult43b3JUZrJ+IE4HhG6tUG+W62xIoPJywFa2gWjWPh3T7VicxW0aN9dooAtXV7bWSbrqeOFfV2xVE+KdEH/MTtj/20FXrqwtb2Ly7yCOdfSQZqn/wjej9tLs/+/IoESW+vaXdOqW19BIzdFVwSatyTbUJUVVh0PTLWQS21hbxyL0ZYwCKtOMxsF5YDigDjZ/Gl5B4q0rTGtAy6kSBH/HGoI+c/n09qtyeK3k+IUPhqC33KLczTzbvufewP0H51z7W8lr8UL/xBIFvLWO0MatBICYAu8kEduDS/DNZtb1jWvFN1D5TXc3kwqTkqihRwfcg/nQBt+HLSbQdW1HT5/mguZ3uLaTGPvsWYH8WqZPCdwPGFzrbajuE6KiR+XzGoJyAc98jt2rpzGGwWVePUZxSgH2x6YoGcl4htX1zXdOsYEZo7WVbiWXsMH7v/jv610txbrNayxOoKOhUg/zqYRIpJVQDnJxxmob2dbazlmc4WNCxz39qAOP+Hd2y6LqNjIzOum3kkKHPO1WYAfkKf4h8Y32h6VFqptElt5JkhFsflkJZgAc/j0xVLwbDf2vhjVdUtLZJ57+6kuoIWcqDuZmAJx/tCqGs2PiLxG3h68vtNEKWNwk99CrZJKurYUd+negZ1enatrs+vx2t7p0YsZYPMFwj/dJH3cY5NQeGrN9A1bU7KdTsurlp4Wxx8zFiPw3VtWEl1cyeZLA1vBjCRscnHqa0jGrMGZQSOmR0oEc3B4Vmi8X3WstehhcBVCFPmVVLHaD6HdUOu2x17WtPsYtxgtZhPPIOMFeQMfUD866zFNEaqxZVVSepA60CGSYyMk/gaKJcq3Cg565NFAE1FFFABRRRQAUUUUAFFFFABRRRQAUUUUAFFFFABRRRQAUmKWigChq2j2+s2ZtrzzDE33lR9u7603RtFttDsltLLzBCgwqO+7aK0aKAEI4puD/jx1p9JQAYpaKKACkIzS0UAIRxjn86gubVLm1eBi4VxglTg/nU5ooAxdG8LadoMkjacJo/NYs6mTIJPJNbY6c0lFAxaKSigBaQjP8A9aiigAxSEAD1FLRQIw/EOvNotuXjhEhVGkYt0VVxn+dZFv44mv8Awm3iCysDHaxxtK6zdSqjJxUXxVi1G78HvYaRCXnvZPIZh1VWBBNReNdNuLT4dpoehwMz3Hl2o2dlZgGP5E0DsXbfxtLqPhb+3tOswLZIzI6zEgnDYOK3PDmtw+I9BtNVt0aOO5jDhG6jIzXIeLdKvrD4ZW+jaNBuYiKGZl6om4Mx/nXReFYWtNIgs7eHZZWsKRQlhy4UAZ/SgDcuLiO1tXnnkEccalnZuigDJNeS6l430rxjrr2EmtQ6doFsw88s+JLtxztB7L938jXq93bQ3lrLa3cSzQSqUaNxkMCMEGudk8DeDI5445dC0xXlJCK0I+bjJwPwoEQ2fj/wRY20dta65p8MUY2qivgADtUx+Jfg1Rz4hsuP9upf+FdeDun/AAjWl/8AgMtA+HfhAdPDWlf+Aq0AYWrfGzwTptu8g1QXLKMhIRkn2p3w98XX3jy4udZFu9ppS5jtY2PMnIBZvxDVrzeBvBdrGXm8P6TEvcm3UVuaZYWWn2McWkwQ29sOVjgUKtAyvq2hRam1vNuaO4t23xyocEe30/wrRRHCjzDuPepaKAuM2n8fWqeoaRa6nGqXUe7Y25GBwyN/eB9eT+dX6SgRRsNJtdNVxaR7TIQzuTlmPqTUesaLb6zZ/Z7ncuGDK6HDIQc5H5VpUUDK1nA8FskcrmRkG3ce4HSrApaKACiiigApKWigDJm0VLvWUvLtjKkQ/dxt0BwRn9a1VXbj2GMUtFAC0UlFAhaYVyMe/NOooA5SPwDYQR3Nvbz3ENrdyGS4jRgDKTwQzYyRjt7muh0/TrbTLOO1sYVhgjGFVe1W6KACkoooGFZusaUNXtRbSyyJCSC6rxu9s1pUUAQW9rHa2yW8CCONFChV4wMdqlC06igQgHrTqSigBaDSUGgCOT7wook+9RQOxLRRRQIKKKKACiiigAooooAKKKKACiiigAooooAKKKKACiiigAooooAKKKKACiiigAooooAQ0UtFACUUUtACUUtFACUUUtACUUtFADSAetGARjtS0UDE2jGMcUoFFFAhrnCnHLY4GcZrjLLW21P4izadLZQSfYoN4nA+aFjkbM/Q5/4FXZyAlT1PHQd6wNO8I2lhrl1qKTTySXEnmuruSMlAn8hQBBea1q9vPIiWtiUVjtZ7gKTz9ajt/EOsTyqn2TTiC3O26BI/Wth/DOiySGSTSbNnY5LNApJ/HFIPDGiBgw0izDKcg+QvH6UAYXxLt45fAd7JJGDIFXB64+Yd63vDQx4Y03pj7Mn8qi8QeHk17TWsXupbaBgARFxnmrelacdK0+K0FxJMkShVaQ5OKAL9FJRQAtFFFACGig0ooASilpKBhRRRQAUUtJQIKKKKBhSikooELRRRQAUGiigBKKWkoGFAooFAhaKKKACig0lAC0Gko7UARydRRRL94UUDuS0UUUCCiiigAooooAKKKKACiiigAooooAKKKKACiiigAooooAKKKKACiiigAooooAKKKKACiiigAxRRRQAUUUUAJRmiq97fW2n2r3N7PHBDGMs8jYAoAsZozUUNzFOivC6ujDKsDwaZe39rp1s9xfXEdvCn35JW2qPxNAFiio4J47mFJoJFljdQyuhyGB6EGn8/jmgYtLik/CkLYB4+lAhcDNGBxx06VBeXsFjay3F3KsMMSlnkc4Cgdyadb3cN3Ak1vIssUgyrocgj1oAmopu40u78fpQAEetFFH60AFFJnjNGef50AKKWm5NG7k8Hj2oAdRSZ5xQScdKAFpKqWmrWN9cTwWd3DPLbttlWN8lD6GrZP6UAFFJzRk56UDFzRSZozzj+lAhaKQnAzxj1zVWbVLK3vIrW4uoY7ib/AFcbOAzfQUDLdFJnp70Z/P0oAWjNIDkUZ/TrQIXNGaB0oPAzQAZorDv/ABTbWuoNp9rFJeX0aeZJBEOUXjkk8dx3qzoWvWniHTlvdPJMLHA3DBB7g0DNOiiigAzRmkLYz7VhXviyzttRlsbdWu7iCMyTJCM+UBnqeg6HjrQI3+tGKz9G1i11zTY76wbfDJkAkYIIJBBH1FXyQBk8CgBcUVXsr+11G2W4sp454W6OjZBqfORQBHL94UUS/eFFAEtFFFABRRRQAUUUUAFFFFABRRRQAUUUUAFFFFABRRRQAUUUUAFFFFABRRRQAUUUUAFFFFABRRRQAUUUUAFFFFACV538U52urrw94fyVh1S+VZyO6BkBH5Ma9Erzv4pW00F94d12NN0Wl3gebB6IWQk/kpoGi34r8Wv4YvdL0axjt4pL0bYrm9k8uBCAeC2CQfl9O4qLxFrF5F8O72813TrG6eIqCkc++GYbvvA4z+Yq74liuNTt4BBoFrrdhMgYo8oRkfrkE/hXM2/gTXB8N9Y0t0jSe/uPMt7M3BYW67ydu7FAy9rfj268P6d4Vg0rSEuX1hAqQK+0R8JgAnt81F5448S6T4rtdAvNGtLifUIy1tLazkxqwyTvLKp4AB4Bo1nwXrF7J4KaBLcnR8G7JcjHEfC8c/dNaWueFtQv/if4f1yARizsIpUmJfDAlSBgY55NBImi+MdSHjObwx4jsoIbz7P9ohmtZC8bpx6gEHJPbtVnwf4tfxPea5btbrENMvWtgysf3mGcEnIGPu1SufC2pyfGSDxCscZsFsDAz+Z8wbP93FUtK0HxJ4W8R6z/AGZZW15Zapdm5SVrjYYSxZjuXad3LUAZOpeMLnxb8J/FVzdW6W7WyTQosbEgjyzyeBWZ4m1fxDpHgbwq2iXMMEM8sMbuzMGZjJjHAI29O+evFaej/D7xJZfDDxJouofZJtR1B5TEYHOx9yYHUDHNafiHwRqt/wDDzRrG2igfUdLljm8oy7Vcq4bAbHHFAHSzXniWz0IPNb6dLflsCQXBWFBz8zMyg+nQHrWRpPji/j8aw+HtehsXkuozJBc6fMZUyMZVsgFTyO2OvNVfF2ieJvE2h6VMbGONre4El3pX2riddrDHmY9SD0qhpPgnVF+Imma7FoVnpFlDE6vElyXfJK/e7djjHvQBo2HjPxNr2sazpuiadZKdNuPJNxcTMEJ2qduApbPzemORz1q9ovxEtrnwzqeoatH9nm0hzFdInK7gcDae4OR+dP8AB3hvUtH8QeJLu+SNY9QvfOgKybiy7EHIxxyprD0r4dahLovivTtT8mBNXujJbsrFtoyCCfxH60AEvxE1q20BPElzaaV/Zbr532UXyi5ERGRkEbd2O27rW1rfjwpe6Xpfh23+26jqkfmW7SnZHEn99z1A69Aelc3pfgm9h0uHR7/wbpc0kCrD9ua7YxyhRt8wrjIzjOMd62vEvhfV4fEuleIfDsNvczafGYZLN5PKEin+6cHHU9aAJofGGraP4pstI8XW1pGupArbXNnIzqXAJ2sGUEcKe3pV3w74wk1nxhr2jvbLFHpbqqSqxJfI54xWS3h/XfFfi3TdT8QWsel2elMXigjuPNeZyrDJO0AAbv0qMaB4g8LePNV1jQ9Og1Sz1ZQXU3HlPE4xzyMEde/pQBZ0b4g3F3J4sNxYqYtClKIIWyZcb89cf3R+dWPC3ifV/EC210U0uWznzu+yXW6SIjPDAgDoB3rK8GeE/FGgnxPcalFpkt7qU4mhCSsYm+/lTlcjqO1VIPCGv3XjrS9UstItfD1vbZN48dzv+0fe4CAY7jkkUAZnhnUb/SL/AMfX2lWyXNxBdq6ROdocYXPP0ya63U/iNHB8PbLxDp1qbm5v1QW9qTgmRlzj8DxSeDPCeo6P4i8TT6lDH9m1KbfEyybty4A5GOK4vwd4en1H4n6jpkkqTaFoF1JLbiN8hJHc7UOf7oQigD2q1adrOM3YUS7R5gRsgHvXOeFfFUviCbWFltli/s+cwoQ33xtBz+tdQQWwR0rzay0PxV4T17WU0ewtdRsNUl86Od5/LaFiqghhg5HB6e1AEun/ABFvbrwr4k1X7DD5mj3MsEcayHDhHZeeP9mq48d+KpPB/wDwlUeiWsOnJCJ5LZ5yZvLAJZhhdvQdM1kQ+F9a8NfCvxiNaW2FzdzS3KmNyysGkZvQH+IUuiQ+MdW+FdnoVtptpsv7QW5vvtGFjiddpYrjOcHOPagDqdU+IeU0e38O263t/rK77dZHCoigEtuPJ4CN0Brl9TvNWk+M3heDXrKCGRFdxPbSF4346cgHv3HatfVPAOo6TLoGqeHY4b270VDE1tNJ5a3CtuBIbBwRvJ/Co5vD3izWviNoXiC/sLOysbPcHgW53yplTyflweffvQNHRavq3iCG6kTTodKt4VDbW1G82NOexUKG4+uOormtc8caprXwhvdc8PRw21zErpcCWQ5jYAcoVBzwfakufCuup4m1Ke90e112G5l3Wc01yYxbKSflKY916elTeF/AOq2Pwn1Lw1qotUurkSiLyJSUUsgC8kZxkelAFzQvE+r6F8Podc8WyWctqtshRreRjI7MQBuDKAOT61UvviFq+j6bDrWqWulvpMjBngtbwPcRIwyMqQASBwQCeakHhLVvEvw4PhbxDZxWD26Ksc8U/mJKUYEHGAcEDBqnY+D7s28enT+C9LhlhUIb17pnhk2jG4LjPPXGKBHqULrNCskcm5WGQ3rWd4l1RdD8NX+pSOF+zQlwW6Z6D9SK0olWONUjQKoGAB2rF8a6RNr3g7UNOtsCWaMbd3QlWDY/SgDzfwRrs2leD7rXNY0m+kn1AyXUt1tBBVmJQDnOMEflWz8Ibo2fgFb7VmNv9vuGnRX9GAIA/OnXOkaxrXhHTPDVrbSWkKQxx3tzIQNoVcFVA68/yo8RW6ab408H6bCjJp0bOqR9ACDHtFA0d9aapaXzMltMHdeq9D+Rq3mvP74vF8btJjtxtjl09mlUHAP+twcfgK27vxBqFn4uh019KkNhKuBeq427sZ24zn1/KgC34s1xPDvhe+1SQ4FtCzZ+grzDwhr0vh74a3usanpN9JeXcclxNcGMbR8nfJzxg13/AMRNCuvEngbUNMsFVp5oiIwx4PBrD1PTtT8S6XY6DbW0tpZfJ9ullIG5AeUUDOcjI/GgZJ8Kphp3w4t77VJRAt1LLNmQ9i7Y+nFdzaX9rqdmtxYzLPBIDtdOhrN1PTbe28J3FrHCrRQ2rhEC9cIcVk/DA4+HmnF12YRiwPGOaCTI+H050zxt4n8OoMW1vOs8CZ+4rlxj/wAcFek54rzT4eKdX8beKPECD/RLidbeBv8Anoql8MP++69KHK0AMl+8KKJPvUUAS0UUUAFFFFABRRRQAUUUUAFFFFABRRRQAUUUUAFFFFABRRRQAUUUUAFFFFABRRRQAUUUUAFFFFABRRRQAUUUUAJUN1aQ3kDQ3MSyxuOVYZBqaigCOKBIVCRoFUdABwKkx7CgUtABikxS0UAJj6UbR6UtFACY9hRjPpS0UAJtHpRtHpS0UAIFA7UuKKKAEx9KMetLRQAmB2owKWigBNo9KNopaKAE2iqdppdnYzTyWltHFJcvvmZFx5jZPJ9+T+dXaKAEFBApaKAILm2hu7eSC6jEkLja6OMgilt7WG1gSG3iSONBhVUYAFTUUAJjPajaPSlooATaPSjaPSlooATaPSjApaKAE70NQaKAErN1fQrTWoEjvUO6Jt0UithkPqD68CtOloAxrDw/bWN418xkuLtl2efL1C+g9Op/Orr2CS30dzIzERrhU7A+v1q4aSgBu3tk0BcdOnpTqKBlLVNMi1Wwe0naRY3GG8ttpI781T0HwxY+HLM2ummbyMYCSSbsVs0UCK1pZQWNuILOCOFF6Ki7R9asL93/ABp1B6UAQy/eool+8KKAJqKKKACiiigAooooAKKKKACiiigAoopM+lAC0VyXibxBr/h61udQXTYL2ygG5kiYiTHOT1x+la/hvxDZ+J9Fg1PTmJhmHGex9KANaiiigAooooAKKKKACiiigAooooAKKKKACiiigAooooADSUppKACiiigYUUUUAFFFFABRRS4oEFFFFABRRRQAUUUUAFFFFABRRRQAUUUUAFFFFABRRRQAUUUUAFFFFABRRRQAUUUUAIaKDRQAUUUUAFFFFABRRS0AJRSmkoAKD0ooPSgCOT7wook+9RQBLRRRQAUUUUAFFFFABRRRQAUUUUAFGKKKAMHxqoPgvV8/8+j47HpXH/AJifhVZl2LHzW5Jz2WvQdWNoNNn/tLabTyz527pt715N8K01WWKZvCBWLwwLlvLS8+Zs4GduO2MfrQB7NmioowyoPMxuI529KlHSgAooooAKKKKACiiigAooooAKKKKACiiigAooooADSUppKBhRRRQAUUUUAFFFFABS0lLmgQUUZozQAUUZozQAUUZozQAUUZozQAUUZozQAUUZozQAUUZozQAUUZozQAUUZozQAUUZozQAUUZozQAUUZozQAhooooAKKKKACiiigApaSlzQAUhpc0hoAKD0ooPSgCOT71FEn3qKAJaKKKACiiigAooooAKKKKACiiigAooppz24460AYfjJseENUI5ItXwByelch8BYjH8LLRWKkGZyCDnPyrXQeIvDOq+I7eewudYNvp84w8dvFh2Hcbu1bPh/QbHw5pUWm6XAIbWEYRR/OgDS206iigAooooAKKKKACiiigAooooAKKKKACiiigAooooAKTFLRQAmKMUtFACYoxS0UAJijFLRQAmKMUtFACYopaDQAlFFFAwoxSiigQlFFFABRRRQAYoxS0UAJijFLRQAmKMUtFACYoxS0UAJijFLRQAmKKWkNABRRRQMKKKKBBRRRQAUUUUAFFFFABRRRQAUdqKO1AEcn3hRRL94UUAS0UUUAFFFFABRRRQAUUUUAFFFFABRRRQAUUUUAFFFFABRRRQAUUUUAFFFFABRRRQAUUUUAFFFFABRRRQAUUUUAFFFFABRRRQAUGiigBKWiigAoNFFACUUUUAKKKKKACkNFFABRRRQAtFFFABRRRQAUUUUAFIaKKAFFFFFABSGiigAooooGLRRRQIKSiigBRRRRQAUhoooAUUUUUAJQelFFAEcn3qKKKAP/2Q==)\n",
    "\n",
    "![5.JPG](data:image/jpeg;base64,/9j/4AAQSkZJRgABAQEAYABgAAD/4REARXhpZgAATU0AKgAAAAgABAE7AAIAAAASAAAISodpAAQAAAABAAAIXJydAAEAAAAkAAAQ1OocAAcAAAgMAAAAPgAAAAAc6gAAAAgAAAAAAAAAAAAAAAAAAAAAAAAAAAAAAAAAAAAAAAAAAAAAAAAAAAAAAAAAAAAAAAAAAAAAAAAAAAAAAAAAAAAAAAAAAAAAAAAAAAAAAAAAAAAAAAAAAAAAAAAAAAAAAAAAAAAAAAAAAAAAAAAAAAAAAAAAAAAAAAAAAAAAAAAAAAAAAAAAAAAAAAAAAAAAAAAAAAAAAAAAAAAAAAAAAAAAAAAAAAAAAAAAAAAAAAAAAAAAAAAAAAAAAAAAAAAAAAAAAAAAAAAAAAAAAAAAAAAAAAAAAAAAAAAAAAAAAAAAAAAAAAAAAAAAAAAAAAAAAAAAAAAAAAAAAAAAAAAAAAAAAAAAAAAAAAAAAAAAAAAAAAAAAAAAAAAAAAAAAAAAAAAAAAAAAAAAAAAAAAAAAAAAAAAAAAAAAAAAAAAAAAAAAAAAAAAAAAAAAAAAAAAAAAAAAAAAAAAAAAAAAAAAAAAAAAAAAAAAAAAAAAAAAAAAAAAAAAAAAAAAAAAAAAAAAAAAAAAAAAAAAAAAAAAAAAAAAAAAAAAAAAAAAAAAAAAAAAAAAAAAAAAAAAAAAAAAAAAAAAAAAAAAAAAAAAAAAAAAAAAAAAAAAAAAAAAAAAAAAAAAAAAAAAAAAAAAAAAAAAAAAAAAAAAAAAAAAAAAAAAAAAAAAAAAAAAAAAAAAAAAAAAAAAAAAAAAAAAAAAAAAAAAAAAAAAAAAAAAAAAAAAAAAAAAAAAAAAAAAAAAAAAAAAAAAAAAAAAAAAAAAAAAAAAAAAAAAAAAAAAAAAAAAAAAAAAAAAAAAAAAAAAAAAAAAAAAAAAAAAAAAAAAAAAAAAAAAAAAAAAAAAAAAAAAAAAAAAAAAAAAAAAAAAAAAAAAAAAAAAAAAAAAAAAAAAAAAAAAAAAAAAAAAAAAAAAAAAAAAAAAAAAAAAAAAAAAAAAAAAAAAAAAAAAAAAAAAAAAAAAAAAAAAAAAAAAAAAAAAAAAAAAAAAAAAAAAAAAAAAAAAAAAAAAAAAAAAAAAAAAAAAAAAAAAAAAAAAAAAAAAAAAAAAAAAAAAAAAAAAAAAAAAAAAAAAAAAAAAAAAAAAAAAAAAAAAAAAAAAAAAAAAAAAAAAAAAAAAAAAAAAAAAAAAAAAAAAAAAAAAAAAAAAAAAAAAAAAAAAAAAAAAAAAAAAAAAAAAAAAAAAAAAAAAAAAAAAAAAAAAAAAAAAAAAAAAAAAAAAAAAAAAAAAAAAAAAAAAAAAAAAAAAAAAAAAAAAAAAAAAAAAAAAAAAAAAAAAAAAAAAAAAAAAAAAAAAAAAAAAAAAAAAAAAAAAAAAAAAAAAAAAAAAAAAAAAAAAAAAAAAAAAAAAAAAAAAAAAAAAAAAAAAAAAAAAAAAAAAAAAAAAAAAAAAAAAAAAAAAAAAAAAAAAAAAAAAAAAAAAAAAAAAAAAAAAAAAAAAAAAAAAAAAAAAAAAAAAAAAAAAAAAAAAAAAAAAAAAAAAAAAAAAAAAAAAAAAAAAAAAAAAAAAAAAAAAAAAAAAAAAAAAAAAAAAAAAAAAAAAAAAAAAAAAAAAAAAAAAAAAAAAAAAAAAAAAAAAAAAAAAAAAAAAAAAAAAAAAAAAAAAAAAAAAAAAAAAAAAAAAAAAAAAAAAAAAAAAAAAAAAAAAAAAAAAAAAAAAAAAAAAAAAAAAAAAAAAAAAAAAAAAAAAAAAAAAAAAAAAAAAAAAAAAAAAAAAAAAAAAAAAAAAAAAAAAAAAAAAAAAAAAAAAAAAAAAAAAAAAAAAAAAAAAAAAAAAAAAAAAAAAAAAAAAAAAAAAAAAAAAAAAAAAAAAAAAAAAAAAAAAAAAAAAAAAAAAAAAAAAAAAAAAAAAAAAAAAAAAAAAAAAAAAAAAAAAAAAAAAAAAAAAAAAAAAAAAAAAAAAAAAAAAAAAAAAAAAAAAAAAAAAAAAAAAAAAAAAAAAAAAAAAAAAAAAAAAAAAAAAAAAAAAAAAAAAAAAAAAAAAAAAAAAAAAAAAAAAAAAAAAAAAAAAAAAAAAAAAAAAAAAAAAAAAAAAAAAAAAAAAAAAAAAAAAAAAAAAAAAAAAAAAAAAAAAAAAAAAAAAAAAAAAAAAAAAAAAAAAAAAAAAAAAAAAAAAAAAAAAAAAAAAAAAAAAAAAAAAAAAAAAAAAAAAAAAAAAAAAAAAAAAAAAAAAAAAAAAAAAAAAAAAAAAAAAAAAAAAAAAAAAAAAAAAAAAAAAAAAAAAAAAAAAAAAAAAAAAAAAAAAAAAAAAAAAAAAAAAAAAAAAAAAAAAAAAAAAAAAAAAAAAAAAAAAAAAAAAAAAAAAAAAAAAAAAAAAAAAAAAAAAAAAAAAAAAAAAAAAAAAAAAAAAAAAAAAAAAAAAAAAAAAAAAAAAAAAAAAAAAAAAAAAAAAAAAAAAAAAAAAAAAAAAAAAAAAAAAAAAAAAAAAAAAAAAAAAAAAAAAAAAAAAAAAAAAAAAAAAAAAAAAAAAAAAAAAAAAAAAAAAAAAAAAAAAAAAAAAAAAAAAAAAAAAAAAAAAAAAAAAAAAAAAAAAAAAAAAAAAAAAAAAAAAAAAAAAAAAAAAAAAAAAAAAAAAAAAAAAAAAAAAAAAAAAAAAAAAAAAAAAAAAAAAAAAAAAAAAAAAAAAAAAAAAAAAAAAAAAAAAAAAAAAAAAAAAAAAAAAAAAAAAAAAAAAAAAAAAAAAAAAAAAAAAAAAAAAAAAAAAAAAAAAAAAAAAAAAAAAAAAAAAAAAAAAAAAAAAAAEFobWVkIEFiZGVscmVoZWVtAAAFkAMAAgAAABQAABCqkAQAAgAAABQAABC+kpEAAgAAAAM5MAAAkpIAAgAAAAM5MAAA6hwABwAACAwAAAieAAAAABzqAAAACAAAAAAAAAAAAAAAAAAAAAAAAAAAAAAAAAAAAAAAAAAAAAAAAAAAAAAAAAAAAAAAAAAAAAAAAAAAAAAAAAAAAAAAAAAAAAAAAAAAAAAAAAAAAAAAAAAAAAAAAAAAAAAAAAAAAAAAAAAAAAAAAAAAAAAAAAAAAAAAAAAAAAAAAAAAAAAAAAAAAAAAAAAAAAAAAAAAAAAAAAAAAAAAAAAAAAAAAAAAAAAAAAAAAAAAAAAAAAAAAAAAAAAAAAAAAAAAAAAAAAAAAAAAAAAAAAAAAAAAAAAAAAAAAAAAAAAAAAAAAAAAAAAAAAAAAAAAAAAAAAAAAAAAAAAAAAAAAAAAAAAAAAAAAAAAAAAAAAAAAAAAAAAAAAAAAAAAAAAAAAAAAAAAAAAAAAAAAAAAAAAAAAAAAAAAAAAAAAAAAAAAAAAAAAAAAAAAAAAAAAAAAAAAAAAAAAAAAAAAAAAAAAAAAAAAAAAAAAAAAAAAAAAAAAAAAAAAAAAAAAAAAAAAAAAAAAAAAAAAAAAAAAAAAAAAAAAAAAAAAAAAAAAAAAAAAAAAAAAAAAAAAAAAAAAAAAAAAAAAAAAAAAAAAAAAAAAAAAAAAAAAAAAAAAAAAAAAAAAAAAAAAAAAAAAAAAAAAAAAAAAAAAAAAAAAAAAAAAAAAAAAAAAAAAAAAAAAAAAAAAAAAAAAAAAAAAAAAAAAAAAAAAAAAAAAAAAAAAAAAAAAAAAAAAAAAAAAAAAAAAAAAAAAAAAAAAAAAAAAAAAAAAAAAAAAAAAAAAAAAAAAAAAAAAAAAAAAAAAAAAAAAAAAAAAAAAAAAAAAAAAAAAAAAAAAAAAAAAAAAAAAAAAAAAAAAAAAAAAAAAAAAAAAAAAAAAAAAAAAAAAAAAAAAAAAAAAAAAAAAAAAAAAAAAAAAAAAAAAAAAAAAAAAAAAAAAAAAAAAAAAAAAAAAAAAAAAAAAAAAAAAAAAAAAAAAAAAAAAAAAAAAAAAAAAAAAAAAAAAAAAAAAAAAAAAAAAAAAAAAAAAAAAAAAAAAAAAAAAAAAAAAAAAAAAAAAAAAAAAAAAAAAAAAAAAAAAAAAAAAAAAAAAAAAAAAAAAAAAAAAAAAAAAAAAAAAAAAAAAAAAAAAAAAAAAAAAAAAAAAAAAAAAAAAAAAAAAAAAAAAAAAAAAAAAAAAAAAAAAAAAAAAAAAAAAAAAAAAAAAAAAAAAAAAAAAAAAAAAAAAAAAAAAAAAAAAAAAAAAAAAAAAAAAAAAAAAAAAAAAAAAAAAAAAAAAAAAAAAAAAAAAAAAAAAAAAAAAAAAAAAAAAAAAAAAAAAAAAAAAAAAAAAAAAAAAAAAAAAAAAAAAAAAAAAAAAAAAAAAAAAAAAAAAAAAAAAAAAAAAAAAAAAAAAAAAAAAAAAAAAAAAAAAAAAAAAAAAAAAAAAAAAAAAAAAAAAAAAAAAAAAAAAAAAAAAAAAAAAAAAAAAAAAAAAAAAAAAAAAAAAAAAAAAAAAAAAAAAAAAAAAAAAAAAAAAAAAAAAAAAAAAAAAAAAAAAAAAAAAAAAAAAAAAAAAAAAAAAAAAAAAAAAAAAAAAAAAAAAAAAAAAAAAAAAAAAAAAAAAAAAAAAAAAAAAAAAAAAAAAAAAAAAAAAAAAAAAAAAAAAAAAAAAAAAAAAAAAAAAAAAAAAAAAAAAAAAAAAAAAAAAAAAAAAAAAAAAAAAAAAAAAAAAAAAAAAAAAAAAAAAAAAAAAAAAAAAAAAAAAAAAAAAAAAAAAAAAAAAAAAAAAAAAAAAAAAAAAAAAAAAAAAAAAAAAAAAAAAAAAAAAAAAAAAAAAAAAAAAAAAAAAAAAAAAAAAAAAAAAAAAAAAAAAAAAAAAAAAAAAAAAAAAAAAAAAAAAAAAAAAAAAAAAAAAAAAAAAAAAAAAAAAAAAAAAAAAAAAAAAAAAAAAAAAAAAAAAAAAAAAAAAAAAAAAAAAAAAAAAAAAAAAAAAAAAAAAAAAAAAAAAAAAAAAAAAAAAAAAAAAAAAAAAAAAAAAAAAAAAAAAAAAAAAAAAAAAAAAAAAAAAAAAAAAAAAAAAAAAAAAAAAAAAAAAAAAAAAAAAAAAAAAAAAAAAAAAAAAAAAAAAAAAAAAAAAAAAAAAAAAAAAAAAAAAAAAAAAAAAAAAAAAAAAAAAAAAAAAAAAAAAAAAAAAAAAAAAAAAAAAAAAAAAAAAAAAAAAAAAAAAAAAAAAAAAAAAAAAAAAAAAAAAAAAAAAAAAAAAAAAAAAAAAAAAAAAAAAAAAAAAAAAAAAAAAAAAAAAAAAAAAAAAAAAAAAAAAAAAAAAAAAAAAAAAAAAAAAAAAAAAAAAAAAAAAAAAAAAAAAAAAAAAAAAAAAAAAAAAAAAAAAAAAAAAAAAAAAAAAAAAAAAAAAAAAAAAAAAAAAAAAAAAAAAAAAAAAAAAAAAAAAAAAAAAAAAAAAAAAAAAAAAAAAAAAAAAAAAAAAAAAAAAAAAAAAAAAAAAAAAAAAAAAAAAAAAAAAAAAAAAAAAAAAAAAAAAAAAAAAAAAAAAAAAAAAAAAAAAAAAAAAAAAAAAAAAAAAAAAAAAAAAAAAAAAAAAAAAAAAAAAAAAAAAAAAAAAAAAAAAAAAAAAAAAAAAAAAAAAAAAAAAAAAAAAAAAAAAAAAAAAAAAAAAAAAAAAAAAAAAAAAAAAAAAAAAAAAAAAAAAAAAAAAAAAAAAAAAAAAAAAAAAAAAAAAAAAAAAAAAAAAAAAAAAAAAAAAAAAMjAyMTowNzowNyAxMTowMzo0MgAyMDIxOjA3OjA3IDExOjAzOjQyAAAAQQBoAG0AZQBkACAAQQBiAGQAZQBsAHIAZQBoAGUAZQBtAAAA/+ELJGh0dHA6Ly9ucy5hZG9iZS5jb20veGFwLzEuMC8APD94cGFja2V0IGJlZ2luPSfvu78nIGlkPSdXNU0wTXBDZWhpSHpyZVN6TlRjemtjOWQnPz4NCjx4OnhtcG1ldGEgeG1sbnM6eD0iYWRvYmU6bnM6bWV0YS8iPjxyZGY6UkRGIHhtbG5zOnJkZj0iaHR0cDovL3d3dy53My5vcmcvMTk5OS8wMi8yMi1yZGYtc3ludGF4LW5zIyI+PHJkZjpEZXNjcmlwdGlvbiByZGY6YWJvdXQ9InV1aWQ6ZmFmNWJkZDUtYmEzZC0xMWRhLWFkMzEtZDMzZDc1MTgyZjFiIiB4bWxuczpkYz0iaHR0cDovL3B1cmwub3JnL2RjL2VsZW1lbnRzLzEuMS8iLz48cmRmOkRlc2NyaXB0aW9uIHJkZjphYm91dD0idXVpZDpmYWY1YmRkNS1iYTNkLTExZGEtYWQzMS1kMzNkNzUxODJmMWIiIHhtbG5zOnhtcD0iaHR0cDovL25zLmFkb2JlLmNvbS94YXAvMS4wLyI+PHhtcDpDcmVhdGVEYXRlPjIwMjEtMDctMDdUMTE6MDM6NDIuODk1PC94bXA6Q3JlYXRlRGF0ZT48L3JkZjpEZXNjcmlwdGlvbj48cmRmOkRlc2NyaXB0aW9uIHJkZjphYm91dD0idXVpZDpmYWY1YmRkNS1iYTNkLTExZGEtYWQzMS1kMzNkNzUxODJmMWIiIHhtbG5zOmRjPSJodHRwOi8vcHVybC5vcmcvZGMvZWxlbWVudHMvMS4xLyI+PGRjOmNyZWF0b3I+PHJkZjpTZXEgeG1sbnM6cmRmPSJodHRwOi8vd3d3LnczLm9yZy8xOTk5LzAyLzIyLXJkZi1zeW50YXgtbnMjIj48cmRmOmxpPkFobWVkIEFiZGVscmVoZWVtPC9yZGY6bGk+PC9yZGY6U2VxPg0KCQkJPC9kYzpjcmVhdG9yPjwvcmRmOkRlc2NyaXB0aW9uPjwvcmRmOlJERj48L3g6eG1wbWV0YT4NCiAgICAgICAgICAgICAgICAgICAgICAgICAgICAgICAgICAgICAgICAgICAgICAgICAgICAgICAgICAgICAgICAgICAgICAgICAgICAgICAgICAgICAgICAgICAgICAgICAgICAKICAgICAgICAgICAgICAgICAgICAgICAgICAgICAgICAgICAgICAgICAgICAgICAgICAgICAgICAgICAgICAgICAgICAgICAgICAgICAgICAgICAgICAgICAgICAgICAgICAgIAogICAgICAgICAgICAgICAgICAgICAgICAgICAgICAgICAgICAgICAgICAgICAgICAgICAgICAgICAgICAgICAgICAgICAgICAgICAgICAgICAgICAgICAgICAgICAgICAgICAgCiAgICAgICAgICAgICAgICAgICAgICAgICAgICAgICAgICAgICAgICAgICAgICAgICAgICAgICAgICAgICAgICAgICAgICAgICAgICAgICAgICAgICAgICAgICAgICAgICAgICAKICAgICAgICAgICAgICAgICAgICAgICAgICAgICAgICAgICAgICAgICAgICAgICAgICAgICAgICAgICAgICAgICAgICAgICAgICAgICAgICAgICAgICAgICAgICAgICAgICAgIAogICAgICAgICAgICAgICAgICAgICAgICAgICAgICAgICAgICAgICAgICAgICAgICAgICAgICAgICAgICAgICAgICAgICAgICAgICAgICAgICAgICAgICAgICAgICAgICAgICAgCiAgICAgICAgICAgICAgICAgICAgICAgICAgICAgICAgICAgICAgICAgICAgICAgICAgICAgICAgICAgICAgICAgICAgICAgICAgICAgICAgICAgICAgICAgICAgICAgICAgICAKICAgICAgICAgICAgICAgICAgICAgICAgICAgICAgICAgICAgICAgICAgICAgICAgICAgICAgICAgICAgICAgICAgICAgICAgICAgICAgICAgICAgICAgICAgICAgICAgICAgIAogICAgICAgICAgICAgICAgICAgICAgICAgICAgICAgICAgICAgICAgICAgICAgICAgICAgICAgICAgICAgICAgICAgICAgICAgICAgICAgICAgICAgICAgICAgICAgICAgICAgCiAgICAgICAgICAgICAgICAgICAgICAgICAgICAgICAgICAgICAgICAgICAgICAgICAgICAgICAgICAgICAgICAgICAgICAgICAgICAgICAgICAgICAgICAgICAgICAgICAgICAKICAgICAgICAgICAgICAgICAgICAgICAgICAgICAgICAgICAgICAgICAgICAgICAgICAgICAgICAgICAgICAgICAgICAgICAgICAgICAgICAgICAgICAgICAgICAgICAgICAgIAogICAgICAgICAgICAgICAgICAgICAgICAgICAgICAgICAgICAgICAgICAgICAgICAgICAgICAgICAgICAgICAgICAgICAgICAgICAgICAgICAgICAgICAgICAgICAgICAgICAgCiAgICAgICAgICAgICAgICAgICAgICAgICAgICAgICAgICAgICAgICAgICAgICAgICAgICAgICAgICAgICAgICAgICAgICAgICAgICAgICAgICAgICAgICAgICAgICAgICAgICAKICAgICAgICAgICAgICAgICAgICAgICAgICAgICAgICAgICAgICAgICAgICAgICAgICAgICAgICAgICAgICAgICAgICAgICAgICAgICAgICAgICAgICAgICAgICAgICAgICAgIAogICAgICAgICAgICAgICAgICAgICAgICAgICAgICAgICAgICAgICAgICAgICAgICAgICAgICAgICAgICAgICAgICAgICAgICAgICAgICAgICAgICAgICAgICAgICAgICAgICAgCiAgICAgICAgICAgICAgICAgICAgICAgICAgICAgICAgICAgICAgICAgICAgICAgICAgICAgICAgICAgICAgICAgICAgICAgICAgICAgICAgICAgICAgICAgICAgICAgICAgICAKICAgICAgICAgICAgICAgICAgICAgICAgICAgICAgICAgICAgICAgICAgICAgICAgICAgICAgICAgICAgICAgICAgICAgICAgICAgICAgICAgICAgICAgICAgICAgICAgICAgIAogICAgICAgICAgICAgICAgICAgICAgICAgICAgICAgICAgICAgICAgICAgICAgICAgICAgICAgICAgICAgICAgICAgICAgICAgICAgICAgICAgICAgICAgICAgICAgICAgICAgCiAgICAgICAgICAgICAgICAgICAgICAgICAgICAgICAgICAgICAgICAgICAgICAgICAgICAgICAgICAgICAgICAgICAgICAgICAgICAgICAgICAgICAgICAgICAgICAgICAgICAKICAgICAgICAgICAgICAgICAgICAgICAgICAgICAgICAgICAgICAgICAgICAgICAgICAgICAgICAgICAgICAgICAgICAgICAgICAgICAgICAgICAgICAgICAgICAgICAgICAgIAogICAgICAgICAgICAgICAgICAgICAgICAgICAgPD94cGFja2V0IGVuZD0ndyc/Pv/bAEMABwUFBgUEBwYFBggHBwgKEQsKCQkKFQ8QDBEYFRoZGBUYFxseJyEbHSUdFxgiLiIlKCkrLCsaIC8zLyoyJyorKv/bAEMBBwgICgkKFAsLFCocGBwqKioqKioqKioqKioqKioqKioqKioqKioqKioqKioqKioqKioqKioqKioqKioqKioqKv/AABEIAN8B6AMBIgACEQEDEQH/xAAfAAABBQEBAQEBAQAAAAAAAAAAAQIDBAUGBwgJCgv/xAC1EAACAQMDAgQDBQUEBAAAAX0BAgMABBEFEiExQQYTUWEHInEUMoGRoQgjQrHBFVLR8CQzYnKCCQoWFxgZGiUmJygpKjQ1Njc4OTpDREVGR0hJSlNUVVZXWFlaY2RlZmdoaWpzdHV2d3h5eoOEhYaHiImKkpOUlZaXmJmaoqOkpaanqKmqsrO0tba3uLm6wsPExcbHyMnK0tPU1dbX2Nna4eLj5OXm5+jp6vHy8/T19vf4+fr/xAAfAQADAQEBAQEBAQEBAAAAAAAAAQIDBAUGBwgJCgv/xAC1EQACAQIEBAMEBwUEBAABAncAAQIDEQQFITEGEkFRB2FxEyIygQgUQpGhscEJIzNS8BVictEKFiQ04SXxFxgZGiYnKCkqNTY3ODk6Q0RFRkdISUpTVFVWV1hZWmNkZWZnaGlqc3R1dnd4eXqCg4SFhoeIiYqSk5SVlpeYmZqio6Slpqeoqaqys7S1tre4ubrCw8TFxsfIycrS09TV1tfY2dri4+Tl5ufo6ery8/T19vf4+fr/2gAMAwEAAhEDEQA/APpGiiigAooooAKKKKACiiigAooooAKKKKACiiigAooooAKKKKACiiigAooooAKKKKACiiigAooooAKKKKACiiigAooooAKKKKACiiigAooooAKKKKACiiigAooooAKKKKACiiigAooooAKKKKACiiigAooooAKKKKACiiigAooooAKKKKAG7jRuNRyypDC8srBI0UszHoAOprw2X4vfEfxEt5rHw98FW134ctmdVuLwkyzhM7mVRIpOR/CqtzkZJ4pXV7Ds7Hu240bjXGaN8S9HvPhva+Mdd3aFZzJl0u85DZIwvGXzgkbRkjtV3w78Q/Cfiuwu73QdctriCyBa5Z90RhUDJZg4BC4/ixjg88GqejafQlaq50240bjXG+H/AIs+B/FOrf2ZoevxXN5sZxE0MkZYLydpdQGOOcDJwCexrE8AfGXSvHPjTWNFgeKNYZP+JaFSQtdRqDvkJIAXthTg896W7t8xvTc9N3GjcaSigBdxo3GkooAXcaNxpKKAF3GjcaSigBdxo3GkooAXcaNxpKKAF3GjcaSigBdxo3GkooAXcaNxpKKAF3GjcaSigBdxo3GkooAXcaNxpKKAF3GmvIUjZsFtozgY5/Olqnq9nPqGi3tnaXP2Se4geKO42b/KZlIDYyM4znGRSlezsNWvqcPD8b/DE8MMkMOpOtxDcSxEW6nf5J+cD5vTnP3QM5IwQO60rU4tY0ez1K1EiwXkCTxiRdrBWUMMjscGvP7n4QxPpU1jZaqtuo0JNGtW+y7vIXdumkxuGTJ0PTHqa9A020aw0u2tHmM7QRrGZNgXdgY6DgfSq01/rq/0sTrf+vL/AIJb3GjcaSikMXcaNxpKKAF3GjcaSigBdxo3GkooAXcaNxpKKAF3GjcaSigBdxo3GkooAXcaNxpKKAF3GjcaSigBQTmnU1fvU6gAooooAKKKKACiiigAooooAo6pZ/2jo95Y7tn2mB4d393cpGf1r598JfF+L4TeEf8AhC/Fvh/Uo9Z0wyrbrEi+XcguxVtxIIBYkZAYYGfavo2mNFG7ZdFY+pGaVtX5j6LyPCPGWo67q3h/4f8AjHxj4fezsdO1Bp9Wsoo2fyU42TNGRlQNrHBzjIyeahnm0r4hfE7XfEHhyyv7/wAMx+HJLHUbiwgKPeSNzsjDbSzhSvB/uj1GffyAwwwBB7GkVFQYRQo9AMU7LX5/irCV1b5fg7nzT4K8Q29r4v8AC2keHr9PGFqlw0UdjqWj7L3QoSwy3n9CVzg4OPlwAOMdj8LtVsNM+Mfj/Q76XyNTvtT8+1t2jbMkahmLA4xjDA9ec17IsUatuVFB9QKXy0379q7v72Oaaeuvn+Nv8hNfp+v+Y6iiikMKKKKACiiigAooooAKKKKACiiqerXtvp2jXt7e4+zW0Dyy7um1VJP6ClJ8quxpNuyLlFeEeAbqTwT8CbnxVDaxjWNevC1sGXgNLKI4l/3R97Fdb4+1mXwB4HstL0i7/wCJ3rV0lnFe3DfN5r48y4cn0H4D5ewptNaddF830+VxKz/H7l1PR1mieVo0kRnT7yhgSv1FPrxa7s9IHxa8D+HtBnhvbaLTr0ag0cokMqMo+aRgeWMg3ZPOea7zwNrM91LrWg6hM893oN79m86Q5aWFlDxMx7ttOCe5XPenv+P4Owr2/D8Vc62isrXfEmmeHIYZNXlmjWZiqeVayzZI9RGrY/GsX/haPhT/AJ+77/wU3f8A8apDOvoqGzu4b+yhu7Ys0M8YkjLIUJUjIyrAEfQjNed/FlHi1bwTPFcXCGTxHawvGszCNl+Y8pnaTkDkjNO3vJd2l97sHRvyb+49KorjfinqVxZ+BprDTm26hrUqaXaYPIeY7SfwXcfwrJ1v4W+HpvD92/iOeaWCxtNlk/ntGthDHGANoBxuypYsepPoMVDdk5dF/X+Q0rtLv/X+Z6RRXm3h3xjceD/g/wCGtQ8bre3F1crHAzqqmTc5Pl79zDnbjJ9jmtX/AIWloZ1e+00W+oG6tIEnVPIA+0IwJBT5uOFJy+0Ac9KuVotrsTHVJ9ztK+cPjxH418Ga9Fr2jeJNbXQL6QCWGG9dRbSd1HorDJHGAcj0Fe9+GvEFp4q8N2Wt6akyWt7H5kazptcDJHIBPp60/XtDsPEug3ej6vCJrS7jMcin9CPQg8g9iKmSaem6Ki015M818L+C7fxd4as9b0j4leNpLa6TcAdTTcjd1b5OCDxUWneHvE/g/wCNOhW03izWNZ0HUYLnEd/clysiRk4boD1BBwOh9K4HwFq+pfA/4rT+DPETySaJqUo8ibHy5Y4SVR7/AHWHt7V9NPBFJNHLJGjSREmNyuSmRg4PbirutJx2f9W+RFnrCW6JKK4rUtQbX/iYnhbcRp+n2Iv75F/5buz7Y4m/2eGYjvx2zXPeKb6yl+PWiLJG0jaLpst00cCgyTyynZGnbOAGbkgAZJIFQnt53/C/+RT0v5W/G3+aPVqK82vPiBD4u0/wxaeGpLm0XxNdyxNK4CSxQQBjNggkAnaFDA8bsjmoPHesW/8AwlGgfD2zuotNsbmM3WpyeaI9tonAiDdt7Dae+PrT1vbzt/X9dw/r9D02KaOZS0MiSAHBKMDg+lZGua62nX2m6ZZokmoapKyQB/uoqLueRsckAY4HUkDI6jzXRLS38RfFzxtbaFcrDZWtlZC3uLNhthuVQhXQjjIGVI7jIPHFamm6tL4lTwX47mi2i0FzZakiDiFnHls+P7okjGfRWyeBQtbP+uv52+5oHpdf1tf+vQ6PUfFk9tf629jJa3dvocEct5aCGRbhSQzNhidp+QBlABzjB6gjp7W6hvbOG6tXEkE8ayRuOjKRkH8jXn0eiatoekeNJdQFtdXfiG7mNhHbszPJvTy4lYkDAChc9QAGOcdO08N6UdC8LaXpLP5hsbOK3L/3iiBc/pQttfL8d/u0B76ef4Wt9+pp0UUUAFZniLXLfw5oNzql2rOkIAWNPvSOxCog9yxA/Gq3i7xNH4Q8O3Gs3NjdXdtbDdMLYKSi5ALEEjgZzx6Vzfj25bxNp/8AYOlWc89w1rDrNnOCvlTiGeNvLznIYjGMjHzdaW/9f10uPb+v662Ny81q/g1HSNJ+16fBqt6skkkMkErqyKhJ2EED5SVySeR2GRV/w5rkev6UblY/JmhmktrmHdnypo2Kuue4yMg9wQa51bG6vfiJb+M/tFqNDh0g26eaWEsTFy0nyYG0/KgOTkbSMZOQeFvCzTeGtX/tNZbaTWdTuNRiAJWW23t+7IPVXCqrexOKfr5/nZfhqL08vyu/x0Ok1h9ZIhg0FbWOSTcXubtDJHEBjA2Kylic+oAwfYGh4G8QXniXwtHf6nax210s81vIISTG5jkZC6Z52nbkZrntL17xN4r8CRrpMVpJqUF3Lp+qPLctbnMTFWKFUbBbAOe27jnBHWeG4NQtdIW31KysbDyjsgtrGRpEjjAAA3FVyc57Dt9aF1B9DXooooAVfvU6mr96nUAFFFFABRRRQAUUUUAFFFFADKKKKACiiigAooooAKKKKACiiigAooooAKKKKACiiigArzT4gQ+N/EVtrvhbT9IhTTtQSCG01NJQAiMf3/mgtnoCAFXvXpdFJpPcabWx518RPC/2b4SW1jo8LSjQHtbmKJRy6W7KWHudoY/WpPFekXOveLvA/inSIf7T03T3mkljhZcsk0QCSLuIBwQO/evQCMjB5FVdO0y00m3eDT4vJhaRpPLUnapPJ2jsM84Hcn1qru933v8APYmySsu1vkct4W8LXY8Yap4w16NIr+9jW1tLVSD9ktlOQpI4LMfmbHAPAqt8PbQ3Pivxn4kQf6LqmoJDbN2kSCPyy49i24A98V293ax3trJbT7vLkG1grFSR6ZFOt7eK1t44LaNYoY1CoiDAUDoAKS0+6343/T8RvX77/wBf10MzX9M1PU4YV0jW5NJZGJd47eKXzB6YkU4/CsT/AIRXxX/0Pl1/4LbX/wCN12VFAEFlDNb2MENzcG5mjjVZJmUKZGA5bAAAz1wOK4f4m6Xq2rX3hT+ydKuL1NP1uC+uXjaMBI0yD95gSeegrv6KOqfZ3+4OjXyOO1PR9Q1v4n6Hd3Fq0ej6Pay3Su7L+8upPkC4Bz8qbjnpk1m+L9R8S3XiIWEPgy+1PQrfa7GK6gjF3IDkBgzZ2D0xyevAwfQ6KOwd/wCv6/4J5drGj+IvH2teFU8QaB/Zuj2l7Lf3du8ySFfLXbCj4PzFmLNwMAEDrVK88JeIX0n4h65DpTHX9adrLT4fMTctqqiNSDnAyCzYyOgr16ik0mrev42/RW9BptNP0/C/6u5jeE9Pk0nwnp2ny26232WBYUiDZKqowMnpuwMnHGfXrV/UdRtNI0y41DUZ1t7W2jMksrnhVA5NWq+Yfjh8W7DVvFMHheESXegWFwG1NbeXYbx1P+rDYPyg8H1P0BonJyl5v+rihFKPkju/A+l3PxN8bf8ACx/EVu0WmWhMXh+ylHRQeZ2HqT09/oK9fnnhtoWmuZUhiQZZ5GCqv1Jr56tv2qdIs7WK2tfCE0MEKBI40u1CqoGAANlV5vjlP8UPEGh+EtL0dtOtr7UYPtjvP5jPGjhyowBgYXnrVpXahHb+tSW7Jyl/XkepxWx0b48XN3cfLBr+kpHA56GaBjuT6lG3D6H0rG/4RXX1k+IfiZdNY69qYez0mMyJuECxhEYHOF3H5sEj7or0zUdLtNWt1hvoRIqOJEOcNG45DKRyCPUVbrPlXLbya+93/wCB6F3tK/o/u0/4PqeOQ+HZ/CS/DbUb21Fpa6NJJYXKlgTGLiPaJHI4BMvXHA3jk9a6C50PV9L+L2qeJoNKbVLa80eO2t9joPKlV/utuIwp65Geh46V3t3aW99aS2t5Ck8EylJI5FyrA9QRRaW0dnaRW0O7y4lCLvYscD3PJq223d+f4r/gt/MlJJW9PwdzkvB3h5PAnhrU9S165ifUL2WTUdUuV4QMedq5/hUcD/69M+Emj3GkfDWxj1CIxXF3JLeSRMOU82RnCkeu0jIrrL7TrXUo4472PzY45BII2J2lh0yOhwecHuAe1WulH/DfL+rfcP8A4f5/1cTAOOOnSloopAcvqHw38I6pqE19qGh2s9zO5eSR15Y+pqfRfAnhrw9qH27RdIt7S52FPMjXB2nqK6GihabA9dzN8Q2trfeGdTtNQdI7We0ljmdzhVUqQSfoK5f4UaNqlj4L0668R8aibKG2SP8A54wIPkU/7RyWP1A7V0moeG9P1TVrfUL0TSSW6FFi85hEwyG+aMHa3IB5HYela1C0v5/pf/MHrZf10/yE2jGMDHpimzTR28DzTusccalndjgKAMkmn1Wv9PttTtfs97H5sJYM0ZJ2vjsw7j2PFJ36Acb8JNOltfCl7qM8bR/21qlzqUaMMERyP8mR2yoB/Gu7pAAqgKMAcADtS1Xkv6sHmwooopAKv3qdTV+9TqACiiigAooooAKKKKACiiigBlFFFABRRRQAUUUUAFFFFABRRRQAUUUUAFFFFABRRRQAUUUUAFFFFABRRRQAUUUUAFFFFABRRRQAUUUUAFYzzWreI49NjsbOUNA000nmJviIIABjxkg5PPt71s15tN4Y1bWfHviu5vdLtDbTw2ttYy6gnmwvHH87fIrBiS7N3GNo60dQ6HoP2Cz/AOfSD/v2KxNJ1uyvvGOr6JFpi282kxQSNMQvz+bvxgAcYCevesTTPAE9jqtrdNp/hdBDKrlrfTpVkGDnKkykA+hwauaDpl/b/FfxXqVxZSxWV5bWUdvOxXbIY1fdjBzxuHUUw6P5fmdlRRRSAKKKKACiiigAooooAKKKKACiiigAooooAKKKKACiiigBV+9Tqav3qdQAUUUUAFFFFABRRRQAUUUUAMooooAKKKKACiiigAooooAKKKKACiiigAooooAKKKKACiiigAooooAKKKKACiiigAooooAKKKKACiiigAooooAKKKKACiiigAooooAKKKKACiiigAooooAKKKKACiiigAooooAKKKKAFX71Opq/ep1ABRRRQAUUUUAFFFFABRRRQAyiiigAooooAKKKKACiiigAooooAKKKKACiiigAooooAKKKKACiiigAooooAKKKKACiiigAooooAKKKKACiiigAooooAKKKKACiiigAooooAKKKKACiiigAooooAKKKKACiiigAooooAVfvU6mr96nUAFFFFABRRRQAUUUUAFFFFADKKKKACiiigAooooAKKKKACiiigAooooAKKKKACiiigAooooAKKKKACiiigAooooAKKKKACiiigAooooAKKKKACiiigAooooAKKKKACiiigAooooAKKKKACiiigAooooAKKKKACiiigBV+9Tqav3qdQAUUUUAFFFFABRRRQAUUUUARk4GT0ryLXv2h9E0zWLmy0jRdS1yK1YpNdWa/u1cE5Ge/TrXqWsW811od9b2jbZ5raRIjnGGKkD9a+dvBnj+08K/BWbQdKutN0jxdZ3LR3EGqAIspMp3E56/Jx+FTfV+X9fgVbRf1/Vz3Lwp470Lxf4Yh13TbtY7WRzEwnYIY5B1Q57/zFbH9q6f5Dzfb7Xyo22PJ5y7Vb0Jzwa+VL7Vb3XvgVPFe2tjaQx+KIoon06Hy45MqxZ1P8XzE816F8SdA8OeHb3wv4T0jQbdxqd1LO0d1dtDauyooLzHq7dCBn17mre+ne34J/qQvPs3+LX6Ht0F5bXNuZ7a4imhGcyRuGUY68iuY174h6ZouueH9NiX7edcvDaRy20qssLDby3/fQr5wsrvVNF+GfxJ0/Tb1GitdStoi2n7hCqGR1cxjOVU4A+ldbrmh+DtE+IvwwHguSEefdpJMkE24OPk2yMM8Mefrj2oiryj2bX4q4Sdk+9pfge4+HvEx1uLU5Lmwk01NPunty08iESKv/LQEHgfWtaC/s7qF5rW6gmiT77xyBlXvyR0r5T1W91G1+HvimKxJW2uvHEkN7+8KBoiD8rN2UkAE11PhGw1DSvFXiWGC00fSLCbw9O1xpem6j9oUOF+WXHYnpUc3uc3l/wC2qRdvet5/+3WPf01bTnkiRNQtWeb/AFaiZSX5xwM88g1h2vj7R7z4gXfhKCUG8tLcTSSFwELEgCNfVuc+2DXzpc+FdLsP2Y9H8WW0Tx67HeK0d6sjB0Hnuu0c8Dvgd+a77w54d0CP9qLXfPs7dHisoby13tgi4fYWdeeWJZvzNacvv8r7tfcrmbfu3X9a2PdaKKKkoKKKKACiiigAooooAKKKKACiiigAooooAKKKKACiiigAooooAKKKKACiiigAooooAKKKKACiiigAooooAKKKKACiiigAooooAKKKKACiiigBV+9Tqav3qdQAUUUUAFFFFABRRRQAUUUUAMrl9c+G3g7xLqH27W/D9nd3RXaZWUqWGSecEZPPU11FFAGNf+EdA1PRoNJvdKt5NPtpFlhtgu1Edc4IAxzyfzo8R+EtB8W2sVv4k0yDUIoX3xrKD8hxjgjmtmih67gtNjBsPA/hrTFvksNFtYE1CNY7pFT5ZVUYUFenAqhp3wu8FaTc21xp3h20t5rWbz4ZF3bkk45zn2FdbRR1uHkYcXgvw7Bpuo6fHpFv9k1SV5ryFlLLM7feY57/AEqPRPAvhnw5ZXdpomjW1nDeKVuFjB/eKRggknOMdq6CigDAk8D+G5vCsfhuTSIG0eJtyWZLbFO4tnrnqSadeeCvDl/4jttfvNJgl1W1CiG6OQ6bfu9D2zW7RRfW4dLBRRRQAUUUUAFFFU9W1GLSNGvdSucmGzt3nkx12opY/wAqTaSuxpNuyMzxF4oPhmJrzUdOm/syN0Wa9SRSIgxA3FeuATz+dT+KfEUXhbwrfa7NA1zBZxGZ0jYAso9CeK8c8a6hr+t/A0axqGpTJf8AiaaKKy0uADyhHK3ypjGWbZ8xOetdD8Y5WuvAug+ELCcTT69f29iWjbOUQgyNx6EDNNqVmut0vm7fldAmrp9LN/Jf56na2PjO3uPB1jr97Zz2Q1BUNtaOQ0spf7igDuc9Ksa94og8P2Nm11A731/IsNrYxsDJLKf4QemB3PQAZrl9WUD41+D9IC7bKx0u6uYUx8vmALGPxCk/nWUHv9f/AGhNWuYvszQeFdPihhS5dlVJJ13NIMA87QR9Kd03ps7/AHK/+X4olXSd91b73b/M6e3+ItqNS1qxv7OSB9DnijvpEIZI0kTcsnrt7H0xnpXZKyugZCGVhkEHgivKfhVYyeIG8aeKdSjTyPEV4YYQMlZIIlMYYZ6g5P5VvfBrUbjU/hDoU94zNKkTw7m6sscjIp/JRQttey/FDe+m12v6/E7miiikAUUUUAFFFFABRRRQBznxA1GXSvh9rN1apJJcraskCxg7jK3ypjH+0RXjGr6Z4g0221WCXWNUkFla6fpbSIznzbqRgzyDHZEbt1IGa2fFPx18QeFfHT+Gb7wvaLM0oSCeS8KRyoxwr7iMAHv6c11g8R/FIgEeBtMIPQ/2uv8AhSj/ADr+v6u/w7Dlp7r/AK/qx6DA263jYBxlAcOMN07j1qSvNvB3xH1/WfiNd+EvE3htNHubeya7DrOZA4DKoxxgg7jz7V6TVPv3JWmnYKKKKQwooprMqIWdgqqMkk4AFADqKzp9e0u2W1ae+hjW7DGAs3+swMnH0HNaCsGUMpBBGQR3oAWiiigAooooAKKo3GtabaW809xeQxxQSLFK5bhHJACn3yQPxqzb3MN3CJbaVZYzwGU5FAEtFFFABRRTZJEijaSVgiICzMxwAB3oAdRWTJ4jsk0+0vEjuZobyTy4TFAzFuCQ2B/CQOD7j1q/Z3lvqFnHdWcqywyjKOp4NAFhfvU6mr96nUAFFFFABRRRQAUUUUAFFFFADKKKKACiiigAooooAKKKKACiiigAooooAKKKKACorq2hvbOa1uoxLBOjRyI3RlIwR+RqWqOqtqqWqnQ4rOW43jct5K0abcHJBVWOc47etJq6sw2MXTPAGj6bLprF7q8XSU2WEd1KHS2GMZUADkDgE5IFV9D+GPh7w/qltfWa3MrWbTPaRTy70tjKcuUGOp9yaued43/58fD/AP4Gz/8AxqjzvG//AD4+H/8AwNn/APjVVd3uHSxH4s0K5udU0jxDpEYl1HRpXIhJx58Mi7ZIwfXoRnuvvRceCtI1XUL3Vj9stZdXt44r6KN/L89FHAcYyDglTgg4qTzvG/8Az4+H/wDwNn/+NUed43/58fD/AP4Gz/8AxqkBPrFtcWHhr+yvDFmkcskX2a22riK2GMb29lHOOp6Va8N6FbeGfDVhotjkwWUCxKT1bHVj7k5P41ned43/AOfHw/8A+Bs//wAarS0h9bfzv7eg0+HG3yvsU7yZ653bkXHbGM96O/mHbyNKisrxND9o8N3cX2S7vNyj9xZzeVK/zD7rZGPzrzT+xB/0JnjD/wAHX/26l1H0PYK5n4ha9qPhjwLqetaTDbyzWUDSkXDEDA9MDk+3FP8ABNr9k0OSP+zdR03M7HydRufPkPA5Dbm49s9jWb8YHVfg/wCJdzAZsXAyep4qaukG12HT1krnS6ZqBn8N2eo3rKhktEnlbooygYn6Vi+A/Ed34h8Kw6xrDQQHUJ5ZLKIDYRb7yIs5PLFQDn3rn/F+oSj4PaTpGmyf6br8VrpduVOceYoDt+CBjWb4w0SLV/iV4J8I6Zi3t9Gtnv7iRB80cKARxgHsSQcenXtW0v4jS72/V/crfiZRf7tN9r/ovvdz1X7Za7Hf7TDtjOHbzBhT6H0qZWDKGUggjIIPWvmy60+GT4d+MvEUQAt9e1Y2GkWuf3Zy4gEp9TgMQT3BPXkfQegQ29v4c06CycyW0NtHHE5z8yqoAPPqBULVX9PxV/w0Lejt6/g7f5/ccP8AGj4Zx/EHwoZLKNRrVgpktH6GQd4yfQ9vQ1z/AMAPiXJrumP4S8Quya1palIzKcNNGvGDn+Jeh9se9e0MyohZyFVRkkngCvAfDXhqy8f/AB/vPGnh6N7LRNKlAa5iOBf3IBDFf9k9/Uf71FPSbj0e/l5hPWN+q2/yPapfD9tJ4ut/EOSt1BZSWeAOGR3R+foU4+pqpda/LceL4/D2khDNBEt1fzOMrBGThVA7u+Dj0AJ9M9BXnvgtXj+L3xCW6/1ryWLx57xeSQMe2QaFvbtf+vxuD2b/AK/rp9xdl8T6j/wuD/hH4p7caTb6X9tu2ePDRsz7EXfnvgnpWr4g8SfYJ9N07TBHcalq0hS1UnKKqjc8rEfwqPzJA7145fym60f4k+Pb0+dbzztp2mwEZWQx/uEcj+Ibm4HTOT6Y3/Cmnf2P8RPA9kZvOt7fwxPbRSEkhp0dPNwf88CiOqin/V05flZfMJaNtf1ay/O7+R2viXxRdWOt6R4X0cxza3qQLvK6fJbwJ9+Zlz+AGeTXEa14v1TUZfEXhy5kEttYeINOspLlRtJtp3XerY98qT6NT7ZoE+M3j7Xdbv7mwGk2drDbmIqGMBjLttBBzll7d61/hr4Lkk8Gatc+K4ZDd+Jrt7y4jmOJI0J/dAkdGAAPsTRHpJ+v4qy+5P8AEJaaL0/B3f3tfgab6o158ZhoSzqLCy0jzJLZlUh5ZGIUDjIwisT9RVn4X3Vxc+CVS4LMlre3VrA7HJaGOd0TnvhQB+Fbv9jKLZysiLqEkQhk1BYVEzKPf1x+Gecdqs6dp9tpOmwWFhEIreBAkaDsP6nvmhaf153/AA2Fv/Xlb/glqisDW7PxTcXyvoGr2FnbbAGjubMysWycnIYcdOKqWWneN476F77X9KmtlcGWOPT2VmXPIB3nBx3oWo3odPLLHBE0kzrGijJZjgCsrW9YjtvDdzd6fPFJPJayvZgOD5zhCwC+vStK6tYL21kt7uFJoZFKvHIoIYH2ryL4baf9tMPhi8tjIvg3WLrbcSL0X5hCgPuJCT7IPWpacrx8v+H/ADHfltL+vL8izHqz2XhH4babZ3flPrMsM13IwVhKgj82UtkHJZyoz6tXSaNLdr8RvGOmWLiKDyLW5jZl3LHPIjhuPcIhI/HvW/pvhrT9NjjijgilitpGeyEkQZrQNyVRjyBnpjoOKn0rSIdL+0yBjNdXcvnXM7DBkbAA+gAAAHYD8a0bTbfe/wCNtP66kpWSXp+e5V8Na/8A23b3UVxELfUNPuDa3kAbIRwAQQe6spDA+hrarzXQb6HTPiv8RdRvJ0t9Mt4rFp5XOFVxCSxz/u4z+FegQanZXGlR6lDdRNZSxCZJ9w2FCMhs+mKnon5IfW39f0jzoePdU0D4qatoPi+/tItLj0/7fYSpbbWlXOCpO45YHIwOuKj8TSeLLv4Oa/fa1LEjXCB4rWK3KSQ2vmAsHO45YxZyO1cr8Srq41ddK+J1tDC2keH7+P7NG6Avd25cCSXntnbtHplu4r2m81rTk8O/2nJuurCZF/1MRl3q+APlGcj5uaFfk81p+qv6rT5Mb+Py3/R/15nK6pfNP8YvDWnWzzx2dvp092wh3eXKWwkYOOMABjz7Vb+HRm2eJQ3/AB6DX7r7J6bMrux7eZv/AFrprXTIrPSRp9tJNHCqFIzuy0a9gCfToM5qaysrfTrKK0soligiXCIO3+J9+9Nafj+Lv/wCd1934K363LC/ep1NX71OpDCiiigAooooAKKKKACiiigBlFFFABRRRQAUUUUAFFFFABRRRQAUUUUAFFFFABRRRQAVzXivULG3jMMvif8AsW78pmiAkjAJ6hmVgcgY9uM10teHWV5Pa+H/ABybmB7zxlrOoXNjBZld0giI2RADtEFbdnpioldppb2/yX6lK2l+/wDX5Gxp/wAStQ8WaL4S0rR2W31rXoWlvJ41yLSGJiskgB7sVIXPGT7VteC9cvp/if400CW5kudP0s2jWxkOWjZ4suue/IzXAeD/AAvZ+BvG2pW/idZj/Z+hWkdi0LuhuCcmVY9pBYmUkY9xWzp2k3fgz4danqesWkx1fxTqkYltku2jmhEsgSKMScnKg5P41rpzNrrf73KyX4GfSz8vyu3+h7LRTY0EcaoCSFAAJOT+dOqSgooooAKrXun2Wp25g1G0gu4ScmOeJXU/gRirNFAFRNK0+NbdY7C1RbU5twsKjyTjGV4+XjjipPsVqLx7sW0P2l4xG83ljeyDnaW6ke1T0UAUW0TSn0+OwfTLNrOJt0dubdTGhznIXGAck1dAwMDgUtIw3KQCVyMZHUUAeM/GLx7Dc6tb/D3S9Xt9Nlvsf2rqEsoRbSDqVzn7zDt6H3rrPDviz4c+F/D9po+keJNIhtbWMIg+1plj3Y88knk1zl9+zf4L1PUri7v9Q1q4u53MsrvdoWYk8k/JUH/DL/gP/n41n/wKT/43SjdRs+v9fgOVm9Df1r4o6Pf+ItB8O+EdYgvb/UL+PzmtWEixQJ88mT0yVXGOvOa6m/8AD7t4mtdf0yVYbxI/s1yjj5LmDdnBx0ZTkqfcjvkcj4P+BnhDwX4ng1zR5dQlvLUMqC4nV1XcpU8BRzgmvS6rRJd/6X5fmydW/L+v6+RRbRdLbTTp7abZmyJ3G2MC+WTnOduMdefrVHX/AA3Hq0NjLZyLZ32mS+dYzKvEZxtKEd0ZSQR/hW5RSGUjpdncyxXV9YWkl4qrmUxBipHOAxGcA5xV2iigAooooAKKKKAM3Wv7Z8mD+wBZmTzh532tmAEeDnbtB+bOKdo2kRaPZNEjebNNI01xOVAM0jdWP8gOwAFaFFABUVx532aT7Js8/afL8wkLntnHapaKAMXRvDNppel3VtcBb6S/lee+lmQEXDt1yvTbgABewAFaMmnWUun/AGCWzt3swgT7O0SmPaOg24xj2qzRQBRfRNKk05dPk0yzayX7ts1uhjH/AAHGK5LxpGttqHhDw9og+wfa9VV2S0/dAQQoZJBhcDBwo/Gu7rEt/C1lD4ok16We6ubsq6wrPIGS2V9u4RjAxnYvXP60L4k/n9wdH/W5t0UUUAKv3qdTV+9TqACiiigAooooAKKKKACiiigBlFFFABRRRQAUUUUAFFFFABRRRQAUUUUAFFFFABRRRQAUUUUAFcdrmk6t4i8Z6RHcWQt9G0i8+3G4Myt9qcR4jUKDkYZ2JyP4R612NFHW4dLBRRRQAUUUUAFFFFABRRRQAUUUUAeZr4taHxF4n1VRoUCWV7FpMV3qFw1r5oVC7qXAfJVmwBgdGPtWnoXjyTVtbt7Fr7wrIJiRssdYeaY4BPyoYlz09RxXTaR4d0rQpr2XSrNbeS+na4uW3MxkdiSTyTjkk4GByeK06Folf+u/4g9W7f12/A4PwAuzxp48jBYqmqxBdzFsD7NH3Nd5Wdpug6bpN9f3mn25in1GUTXTmV28xwMA4YkDgAcY6Vo0dEuyX4IOrfm/zCiiigAooooAKKKKACiiigAooooAKKKKACiiigAooooAKKKKAFX71Opq/ep1ABRRRQAUUUUAFFFFABRRRQAyiiigAooooAKKKKACiiigAooooAKKKKACiiigAooooAKKKKACiiigAooooAKKKKACiiigAooooAKKKKACiiigAooooAKKKKACiiigAooooAKKKKACiiigAooooAKKKKACiiigAooooAVfvU6mr96nUAFFFFABRRRQB//Z)\n",
    "\n",
    "\n",
    "\n",
    "\n",
    "\n",
    "![4.JPG](data:image/jpeg;base64,/9j/4AAQSkZJRgABAQEAYABgAAD/4REARXhpZgAATU0AKgAAAAgABAE7AAIAAAASAAAISodpAAQAAAABAAAIXJydAAEAAAAkAAAQ1OocAAcAAAgMAAAAPgAAAAAc6gAAAAgAAAAAAAAAAAAAAAAAAAAAAAAAAAAAAAAAAAAAAAAAAAAAAAAAAAAAAAAAAAAAAAAAAAAAAAAAAAAAAAAAAAAAAAAAAAAAAAAAAAAAAAAAAAAAAAAAAAAAAAAAAAAAAAAAAAAAAAAAAAAAAAAAAAAAAAAAAAAAAAAAAAAAAAAAAAAAAAAAAAAAAAAAAAAAAAAAAAAAAAAAAAAAAAAAAAAAAAAAAAAAAAAAAAAAAAAAAAAAAAAAAAAAAAAAAAAAAAAAAAAAAAAAAAAAAAAAAAAAAAAAAAAAAAAAAAAAAAAAAAAAAAAAAAAAAAAAAAAAAAAAAAAAAAAAAAAAAAAAAAAAAAAAAAAAAAAAAAAAAAAAAAAAAAAAAAAAAAAAAAAAAAAAAAAAAAAAAAAAAAAAAAAAAAAAAAAAAAAAAAAAAAAAAAAAAAAAAAAAAAAAAAAAAAAAAAAAAAAAAAAAAAAAAAAAAAAAAAAAAAAAAAAAAAAAAAAAAAAAAAAAAAAAAAAAAAAAAAAAAAAAAAAAAAAAAAAAAAAAAAAAAAAAAAAAAAAAAAAAAAAAAAAAAAAAAAAAAAAAAAAAAAAAAAAAAAAAAAAAAAAAAAAAAAAAAAAAAAAAAAAAAAAAAAAAAAAAAAAAAAAAAAAAAAAAAAAAAAAAAAAAAAAAAAAAAAAAAAAAAAAAAAAAAAAAAAAAAAAAAAAAAAAAAAAAAAAAAAAAAAAAAAAAAAAAAAAAAAAAAAAAAAAAAAAAAAAAAAAAAAAAAAAAAAAAAAAAAAAAAAAAAAAAAAAAAAAAAAAAAAAAAAAAAAAAAAAAAAAAAAAAAAAAAAAAAAAAAAAAAAAAAAAAAAAAAAAAAAAAAAAAAAAAAAAAAAAAAAAAAAAAAAAAAAAAAAAAAAAAAAAAAAAAAAAAAAAAAAAAAAAAAAAAAAAAAAAAAAAAAAAAAAAAAAAAAAAAAAAAAAAAAAAAAAAAAAAAAAAAAAAAAAAAAAAAAAAAAAAAAAAAAAAAAAAAAAAAAAAAAAAAAAAAAAAAAAAAAAAAAAAAAAAAAAAAAAAAAAAAAAAAAAAAAAAAAAAAAAAAAAAAAAAAAAAAAAAAAAAAAAAAAAAAAAAAAAAAAAAAAAAAAAAAAAAAAAAAAAAAAAAAAAAAAAAAAAAAAAAAAAAAAAAAAAAAAAAAAAAAAAAAAAAAAAAAAAAAAAAAAAAAAAAAAAAAAAAAAAAAAAAAAAAAAAAAAAAAAAAAAAAAAAAAAAAAAAAAAAAAAAAAAAAAAAAAAAAAAAAAAAAAAAAAAAAAAAAAAAAAAAAAAAAAAAAAAAAAAAAAAAAAAAAAAAAAAAAAAAAAAAAAAAAAAAAAAAAAAAAAAAAAAAAAAAAAAAAAAAAAAAAAAAAAAAAAAAAAAAAAAAAAAAAAAAAAAAAAAAAAAAAAAAAAAAAAAAAAAAAAAAAAAAAAAAAAAAAAAAAAAAAAAAAAAAAAAAAAAAAAAAAAAAAAAAAAAAAAAAAAAAAAAAAAAAAAAAAAAAAAAAAAAAAAAAAAAAAAAAAAAAAAAAAAAAAAAAAAAAAAAAAAAAAAAAAAAAAAAAAAAAAAAAAAAAAAAAAAAAAAAAAAAAAAAAAAAAAAAAAAAAAAAAAAAAAAAAAAAAAAAAAAAAAAAAAAAAAAAAAAAAAAAAAAAAAAAAAAAAAAAAAAAAAAAAAAAAAAAAAAAAAAAAAAAAAAAAAAAAAAAAAAAAAAAAAAAAAAAAAAAAAAAAAAAAAAAAAAAAAAAAAAAAAAAAAAAAAAAAAAAAAAAAAAAAAAAAAAAAAAAAAAAAAAAAAAAAAAAAAAAAAAAAAAAAAAAAAAAAAAAAAAAAAAAAAAAAAAAAAAAAAAAAAAAAAAAAAAAAAAAAAAAAAAAAAAAAAAAAAAAAAAAAAAAAAAAAAAAAAAAAAAAAAAAAAAAAAAAAAAAAAAAAAAAAAAAAAAAAAAAAAAAAAAAAAAAAAAAAAAAAAAAAAAAAAAAAAAAAAAAAAAAAAAAAAAAAAAAAAAAAAAAAAAAAAAAAAAAAAAAAAAAAAAAAAAAAAAAAAAAAAAAAAAAAAAAAAAAAAAAAAAAAAAAAAAAAAAAAAAAAAAAAAAAAAAAAAAAAAAAAAAAAAAAAAAAAAAAAAAAAAAAAAAAAAAAAAAAAAAAAAAAAAAAAAAAAAAAAAAAAAAAAAAAAAAAAAAAAAAAAAAAAAAAAAAAAAAAAAAAAAAAAAAAAAAAAAAAAAAAAAAAAAAAAAAAAAAAAAAAAAAAAAAAAAAAAAAAAAAAAAAAAAAAAAAAAAAAAAAAAAAAAAAAAAAAAAAAAAAAAAAAAAAAAAAAAAAAAAAAAAAAAAAAAAAAAAAAAAAAAAAAAAAAAAAAAAAAAAAAAAAAAAAAAAAAAAAAAAAAAAAAAAAAAAAAAAAAAAAAAAAAAAAAAAAAAAAAAAAAAAAAAAAAAAAAAAAAAAAAAAAAAAAAAAAAAAAAAAAAAAAAAAAAAAAAAAAAAAAAAAAAAAAAAAAAAAAAAAAAAAAAAAAAAAAAAAAAAAAAAAAAAAAAAAAAAAAAAAAAAAAAAAAAAAAAAAAAAAAAAAAAAAAAAAAAAAAAAAAAAAAAAAAAAAAAAAAAAAAAAAAAAAAAAAAAAAAAAAAAAAAAAAAAAAAAAAAAAAAAAAAAAAAAAAAAAAAAAAAAAAAAAAAAAAAAAAAAAAAAAAAAAAAAAAAAAAAAAAAAAAAAAAAAAAAAAAAAAAAAEFobWVkIEFiZGVscmVoZWVtAAAFkAMAAgAAABQAABCqkAQAAgAAABQAABC+kpEAAgAAAAMxOQAAkpIAAgAAAAMxOQAA6hwABwAACAwAAAieAAAAABzqAAAACAAAAAAAAAAAAAAAAAAAAAAAAAAAAAAAAAAAAAAAAAAAAAAAAAAAAAAAAAAAAAAAAAAAAAAAAAAAAAAAAAAAAAAAAAAAAAAAAAAAAAAAAAAAAAAAAAAAAAAAAAAAAAAAAAAAAAAAAAAAAAAAAAAAAAAAAAAAAAAAAAAAAAAAAAAAAAAAAAAAAAAAAAAAAAAAAAAAAAAAAAAAAAAAAAAAAAAAAAAAAAAAAAAAAAAAAAAAAAAAAAAAAAAAAAAAAAAAAAAAAAAAAAAAAAAAAAAAAAAAAAAAAAAAAAAAAAAAAAAAAAAAAAAAAAAAAAAAAAAAAAAAAAAAAAAAAAAAAAAAAAAAAAAAAAAAAAAAAAAAAAAAAAAAAAAAAAAAAAAAAAAAAAAAAAAAAAAAAAAAAAAAAAAAAAAAAAAAAAAAAAAAAAAAAAAAAAAAAAAAAAAAAAAAAAAAAAAAAAAAAAAAAAAAAAAAAAAAAAAAAAAAAAAAAAAAAAAAAAAAAAAAAAAAAAAAAAAAAAAAAAAAAAAAAAAAAAAAAAAAAAAAAAAAAAAAAAAAAAAAAAAAAAAAAAAAAAAAAAAAAAAAAAAAAAAAAAAAAAAAAAAAAAAAAAAAAAAAAAAAAAAAAAAAAAAAAAAAAAAAAAAAAAAAAAAAAAAAAAAAAAAAAAAAAAAAAAAAAAAAAAAAAAAAAAAAAAAAAAAAAAAAAAAAAAAAAAAAAAAAAAAAAAAAAAAAAAAAAAAAAAAAAAAAAAAAAAAAAAAAAAAAAAAAAAAAAAAAAAAAAAAAAAAAAAAAAAAAAAAAAAAAAAAAAAAAAAAAAAAAAAAAAAAAAAAAAAAAAAAAAAAAAAAAAAAAAAAAAAAAAAAAAAAAAAAAAAAAAAAAAAAAAAAAAAAAAAAAAAAAAAAAAAAAAAAAAAAAAAAAAAAAAAAAAAAAAAAAAAAAAAAAAAAAAAAAAAAAAAAAAAAAAAAAAAAAAAAAAAAAAAAAAAAAAAAAAAAAAAAAAAAAAAAAAAAAAAAAAAAAAAAAAAAAAAAAAAAAAAAAAAAAAAAAAAAAAAAAAAAAAAAAAAAAAAAAAAAAAAAAAAAAAAAAAAAAAAAAAAAAAAAAAAAAAAAAAAAAAAAAAAAAAAAAAAAAAAAAAAAAAAAAAAAAAAAAAAAAAAAAAAAAAAAAAAAAAAAAAAAAAAAAAAAAAAAAAAAAAAAAAAAAAAAAAAAAAAAAAAAAAAAAAAAAAAAAAAAAAAAAAAAAAAAAAAAAAAAAAAAAAAAAAAAAAAAAAAAAAAAAAAAAAAAAAAAAAAAAAAAAAAAAAAAAAAAAAAAAAAAAAAAAAAAAAAAAAAAAAAAAAAAAAAAAAAAAAAAAAAAAAAAAAAAAAAAAAAAAAAAAAAAAAAAAAAAAAAAAAAAAAAAAAAAAAAAAAAAAAAAAAAAAAAAAAAAAAAAAAAAAAAAAAAAAAAAAAAAAAAAAAAAAAAAAAAAAAAAAAAAAAAAAAAAAAAAAAAAAAAAAAAAAAAAAAAAAAAAAAAAAAAAAAAAAAAAAAAAAAAAAAAAAAAAAAAAAAAAAAAAAAAAAAAAAAAAAAAAAAAAAAAAAAAAAAAAAAAAAAAAAAAAAAAAAAAAAAAAAAAAAAAAAAAAAAAAAAAAAAAAAAAAAAAAAAAAAAAAAAAAAAAAAAAAAAAAAAAAAAAAAAAAAAAAAAAAAAAAAAAAAAAAAAAAAAAAAAAAAAAAAAAAAAAAAAAAAAAAAAAAAAAAAAAAAAAAAAAAAAAAAAAAAAAAAAAAAAAAAAAAAAAAAAAAAAAAAAAAAAAAAAAAAAAAAAAAAAAAAAAAAAAAAAAAAAAAAAAAAAAAAAAAAAAAAAAAAAAAAAAAAAAAAAAAAAAAAAAAAAAAAAAAAAAAAAAAAAAAAAAAAAAAAAAAAAAAAAAAAAAAAAAAAAAAAAAAAAAAAAAAAAAAAAAAAAAAAAAAAAAAAAAAAAAAAAAAAAAAAAAAAAAAAAAAAAAAAAAAAAAAAAAAAAAAAAAAAAAAAAAAAAAAAAAAAAAAAAAAAAAAAAAAAAAAAAAAAAAAAAAAAAAAAAAAAAAAAAAAAAAAAAAAAAAAAAAAAAAAAAAAAAAAAAAAAAAAAAAAAAAAAAAAAAAAAAAAAAAAAAAAAAAAAAAAAAAAAAAAAAAAAAAAAAAAAAAAAAAAAAAAAAAAAAAAAAAAAAAAAAAAAAAAAAAAAAAAAAAAAAAAAAAAAAAAAAAAAAAAAAAAAAAAAAAAAAAAAAAAAAAAAAAAAAAAAAAAAAAAAAAAAAAAAAAAAAAAAAAAAAAAAAAAAAAAAAAAAAAAAAAAAAAAAAAAAAAAAAAAAAAAAAAAAAAAAAAAAAAAAAAAAAAAAAAAAAAAAAAAAAAAAAAAAAAAAAAAAAAAAAAAAAAAAAAAAAAAAAAAAAAAAAAAAAAAAAAAAAAAAAAAAAAAAAAAAAAAAAAAAAAAAAAAAAAAAAAAAAAAAAAAAAAAAAAAAAAAAAAAAAAAAAAAAAAAAAAAAAAAAAAAAAAAAAAAAAAAAAAAAAAAAAAAAAAAAAAAAAAAAAAAAAAAAAAAAAAAAAAAAAAAAAAAAAAAAAAAAAAAAAAAAAAAAAAAAAAAAAAAAAAAAAAAAAAAAAAAAAAAAAAAAAAAAAAAAAAAAAAAAAAAAAAAAAAAAAAAAAAAAAAAAAAAAAAAAAAAAAAAAAAAAAAAAAAAAAAAAAAAAAAAAAAAAAAAAAAAAAAAAAAAAMjAyMTowNzowNyAwMTowMzo1MQAyMDIxOjA3OjA3IDAxOjAzOjUxAAAAQQBoAG0AZQBkACAAQQBiAGQAZQBsAHIAZQBoAGUAZQBtAAAA/+ELJGh0dHA6Ly9ucy5hZG9iZS5jb20veGFwLzEuMC8APD94cGFja2V0IGJlZ2luPSfvu78nIGlkPSdXNU0wTXBDZWhpSHpyZVN6TlRjemtjOWQnPz4NCjx4OnhtcG1ldGEgeG1sbnM6eD0iYWRvYmU6bnM6bWV0YS8iPjxyZGY6UkRGIHhtbG5zOnJkZj0iaHR0cDovL3d3dy53My5vcmcvMTk5OS8wMi8yMi1yZGYtc3ludGF4LW5zIyI+PHJkZjpEZXNjcmlwdGlvbiByZGY6YWJvdXQ9InV1aWQ6ZmFmNWJkZDUtYmEzZC0xMWRhLWFkMzEtZDMzZDc1MTgyZjFiIiB4bWxuczpkYz0iaHR0cDovL3B1cmwub3JnL2RjL2VsZW1lbnRzLzEuMS8iLz48cmRmOkRlc2NyaXB0aW9uIHJkZjphYm91dD0idXVpZDpmYWY1YmRkNS1iYTNkLTExZGEtYWQzMS1kMzNkNzUxODJmMWIiIHhtbG5zOnhtcD0iaHR0cDovL25zLmFkb2JlLmNvbS94YXAvMS4wLyI+PHhtcDpDcmVhdGVEYXRlPjIwMjEtMDctMDdUMDE6MDM6NTEuMTg2PC94bXA6Q3JlYXRlRGF0ZT48L3JkZjpEZXNjcmlwdGlvbj48cmRmOkRlc2NyaXB0aW9uIHJkZjphYm91dD0idXVpZDpmYWY1YmRkNS1iYTNkLTExZGEtYWQzMS1kMzNkNzUxODJmMWIiIHhtbG5zOmRjPSJodHRwOi8vcHVybC5vcmcvZGMvZWxlbWVudHMvMS4xLyI+PGRjOmNyZWF0b3I+PHJkZjpTZXEgeG1sbnM6cmRmPSJodHRwOi8vd3d3LnczLm9yZy8xOTk5LzAyLzIyLXJkZi1zeW50YXgtbnMjIj48cmRmOmxpPkFobWVkIEFiZGVscmVoZWVtPC9yZGY6bGk+PC9yZGY6U2VxPg0KCQkJPC9kYzpjcmVhdG9yPjwvcmRmOkRlc2NyaXB0aW9uPjwvcmRmOlJERj48L3g6eG1wbWV0YT4NCiAgICAgICAgICAgICAgICAgICAgICAgICAgICAgICAgICAgICAgICAgICAgICAgICAgICAgICAgICAgICAgICAgICAgICAgICAgICAgICAgICAgICAgICAgICAgICAgICAgICAKICAgICAgICAgICAgICAgICAgICAgICAgICAgICAgICAgICAgICAgICAgICAgICAgICAgICAgICAgICAgICAgICAgICAgICAgICAgICAgICAgICAgICAgICAgICAgICAgICAgIAogICAgICAgICAgICAgICAgICAgICAgICAgICAgICAgICAgICAgICAgICAgICAgICAgICAgICAgICAgICAgICAgICAgICAgICAgICAgICAgICAgICAgICAgICAgICAgICAgICAgCiAgICAgICAgICAgICAgICAgICAgICAgICAgICAgICAgICAgICAgICAgICAgICAgICAgICAgICAgICAgICAgICAgICAgICAgICAgICAgICAgICAgICAgICAgICAgICAgICAgICAKICAgICAgICAgICAgICAgICAgICAgICAgICAgICAgICAgICAgICAgICAgICAgICAgICAgICAgICAgICAgICAgICAgICAgICAgICAgICAgICAgICAgICAgICAgICAgICAgICAgIAogICAgICAgICAgICAgICAgICAgICAgICAgICAgICAgICAgICAgICAgICAgICAgICAgICAgICAgICAgICAgICAgICAgICAgICAgICAgICAgICAgICAgICAgICAgICAgICAgICAgCiAgICAgICAgICAgICAgICAgICAgICAgICAgICAgICAgICAgICAgICAgICAgICAgICAgICAgICAgICAgICAgICAgICAgICAgICAgICAgICAgICAgICAgICAgICAgICAgICAgICAKICAgICAgICAgICAgICAgICAgICAgICAgICAgICAgICAgICAgICAgICAgICAgICAgICAgICAgICAgICAgICAgICAgICAgICAgICAgICAgICAgICAgICAgICAgICAgICAgICAgIAogICAgICAgICAgICAgICAgICAgICAgICAgICAgICAgICAgICAgICAgICAgICAgICAgICAgICAgICAgICAgICAgICAgICAgICAgICAgICAgICAgICAgICAgICAgICAgICAgICAgCiAgICAgICAgICAgICAgICAgICAgICAgICAgICAgICAgICAgICAgICAgICAgICAgICAgICAgICAgICAgICAgICAgICAgICAgICAgICAgICAgICAgICAgICAgICAgICAgICAgICAKICAgICAgICAgICAgICAgICAgICAgICAgICAgICAgICAgICAgICAgICAgICAgICAgICAgICAgICAgICAgICAgICAgICAgICAgICAgICAgICAgICAgICAgICAgICAgICAgICAgIAogICAgICAgICAgICAgICAgICAgICAgICAgICAgICAgICAgICAgICAgICAgICAgICAgICAgICAgICAgICAgICAgICAgICAgICAgICAgICAgICAgICAgICAgICAgICAgICAgICAgCiAgICAgICAgICAgICAgICAgICAgICAgICAgICAgICAgICAgICAgICAgICAgICAgICAgICAgICAgICAgICAgICAgICAgICAgICAgICAgICAgICAgICAgICAgICAgICAgICAgICAKICAgICAgICAgICAgICAgICAgICAgICAgICAgICAgICAgICAgICAgICAgICAgICAgICAgICAgICAgICAgICAgICAgICAgICAgICAgICAgICAgICAgICAgICAgICAgICAgICAgIAogICAgICAgICAgICAgICAgICAgICAgICAgICAgICAgICAgICAgICAgICAgICAgICAgICAgICAgICAgICAgICAgICAgICAgICAgICAgICAgICAgICAgICAgICAgICAgICAgICAgCiAgICAgICAgICAgICAgICAgICAgICAgICAgICAgICAgICAgICAgICAgICAgICAgICAgICAgICAgICAgICAgICAgICAgICAgICAgICAgICAgICAgICAgICAgICAgICAgICAgICAKICAgICAgICAgICAgICAgICAgICAgICAgICAgICAgICAgICAgICAgICAgICAgICAgICAgICAgICAgICAgICAgICAgICAgICAgICAgICAgICAgICAgICAgICAgICAgICAgICAgIAogICAgICAgICAgICAgICAgICAgICAgICAgICAgICAgICAgICAgICAgICAgICAgICAgICAgICAgICAgICAgICAgICAgICAgICAgICAgICAgICAgICAgICAgICAgICAgICAgICAgCiAgICAgICAgICAgICAgICAgICAgICAgICAgICAgICAgICAgICAgICAgICAgICAgICAgICAgICAgICAgICAgICAgICAgICAgICAgICAgICAgICAgICAgICAgICAgICAgICAgICAKICAgICAgICAgICAgICAgICAgICAgICAgICAgICAgICAgICAgICAgICAgICAgICAgICAgICAgICAgICAgICAgICAgICAgICAgICAgICAgICAgICAgICAgICAgICAgICAgICAgIAogICAgICAgICAgICAgICAgICAgICAgICAgICAgPD94cGFja2V0IGVuZD0ndyc/Pv/bAEMABwUFBgUEBwYFBggHBwgKEQsKCQkKFQ8QDBEYFRoZGBUYFxseJyEbHSUdFxgiLiIlKCkrLCsaIC8zLyoyJyorKv/bAEMBBwgICgkKFAsLFCocGBwqKioqKioqKioqKioqKioqKioqKioqKioqKioqKioqKioqKioqKioqKioqKioqKioqKv/AABEIAY4B6gMBIgACEQEDEQH/xAAfAAABBQEBAQEBAQAAAAAAAAAAAQIDBAUGBwgJCgv/xAC1EAACAQMDAgQDBQUEBAAAAX0BAgMABBEFEiExQQYTUWEHInEUMoGRoQgjQrHBFVLR8CQzYnKCCQoWFxgZGiUmJygpKjQ1Njc4OTpDREVGR0hJSlNUVVZXWFlaY2RlZmdoaWpzdHV2d3h5eoOEhYaHiImKkpOUlZaXmJmaoqOkpaanqKmqsrO0tba3uLm6wsPExcbHyMnK0tPU1dbX2Nna4eLj5OXm5+jp6vHy8/T19vf4+fr/xAAfAQADAQEBAQEBAQEBAAAAAAAAAQIDBAUGBwgJCgv/xAC1EQACAQIEBAMEBwUEBAABAncAAQIDEQQFITEGEkFRB2FxEyIygQgUQpGhscEJIzNS8BVictEKFiQ04SXxFxgZGiYnKCkqNTY3ODk6Q0RFRkdISUpTVFVWV1hZWmNkZWZnaGlqc3R1dnd4eXqCg4SFhoeIiYqSk5SVlpeYmZqio6Slpqeoqaqys7S1tre4ubrCw8TFxsfIycrS09TV1tfY2dri4+Tl5ufo6ery8/T19vf4+fr/2gAMAwEAAhEDEQA/APpGikpaACiiigAooooAKKKKACjIpN1fPHxS+OFxofxMsbHRZA1npkn+mAdJieCv4D9aAPoiis/RNZtde0W01OwkElvdRh0YH1rQoAKKKKACiiigAooooAKKKKACiiigAooooAKKKKACiiigAooooAKKKKACiiigAooooAKKKKACiiigAooooAKKKKACiiigAooooAKKKKACiiigAooooAKKKKACiiigAooooAKKKKAEpc0YpCcCgBc0ZrHt/FGkXWlXeow3iG2smdbh2BHlFPvAj2q7p2oW+qadBfWUnmW86CSN8YyD0oAt0VF9qg/57R/99CkkuEjt2mZvkVSxIGeKAJqK8w8O/FZ9U0bxBrd2sX2LT5THbwxROJGIOBksMEk44HSuq0vxSsa6bZeI5obXVtQj8yOFVIU99oJ6kCgDZ1O3uLvTZ7ezuPs08iFVm27thPfFeFa/8FfDGl+IvD1rdLdahLqV3ILyeWUhpPlJ7dOea9R1nxokWkXWpaA0d/Hpk4W9TaeV/i2t0yBz3rN8UXkN/wCKvBF3bMGhmuXkRh3BjOKANTwL4I/4QWzuNNs9RmutMZ99tDOMtBn7w3dxXXUgApaACiiigAooooAKKKKACiiigAooooAKKKKACiiigAooooAKKKKACiiigAooooAKKKKACiiigAooooAKKKKACiiigAooooAKKKKACiiigAooooAKKKKACiiigAooooAKKKKACiiigApKKMUAeJ+L9H1GL4iy+GNLK/2f4uaO6u8McwCM/vTj/b+UfnXsS2aQ6X9kt0UIsPlorDgDGADjtVOy8MaTYa1datbWgW+uv9bOzszEegyflHsMVr0AeRP8NdcaRmXRfB5BJPLXWTzXpWhWUmn6Fa2c0UEUkUYVkttxjU/7O7nH1rTpKAPGr7w/qVr8J9XW7tXjki1dr4xuMlollDZ/Lmtf4gabd+PtN0rRdFtDHFdgXR1Yj5bVccbCDneemPSvTJI1ljZJFV0cYZWGQRVbT9NtNLs1tLCEQQISVjUkgZ+tAHmdnPLoXwf1bSda0n+zJrGJ7bKL8l0W4V0P8RbPT1pRZT6aPhvZ3YIngYq4Ixg+WeD6V6Tf6RZap5H9oW6zi3lE0YfOA46HHQ4965PxqMeOPB3/AF+Sf+gGgDuh0ooHSigAooooAKKKKACiiigAooooAKKKKACiiigAooooAKKKKACiiigAooooAKKKKACiiigAooooAKKKKACiiigAooooAKKKKACiiigAooooAKKKKACiiigAooooAKKKKACiiigAooooAQUtJS5oAKKM0ZoAKSlzSUAFFFFABXDeNv8AkePB3/X5J/6LNdzXDeNv+R48Hf8AX5J/6LNAHddqSl7UlABRRRQAUUUUAFFFFABRRRQAUUUUAFFFFABRRRQAUUUUAFFFFABRRRQAUUUUAFFFFABRRRQAUUUUAFFFFABRRRQAUUUUAFFFFABRRRQAUUVT1G7e0gBiALs4VcqxBJ+lK40ruxcxRQhJUZ698UtMQlFFFABRRRQAUUUUAFFFFABRS0lAC4oxSUtACUUUUAFFFFABXDeNv+R48Hf9fkn/AKLNdzXDeNv+R48Hf9fkn/os0Ad12pKXtSUAFLikP3T9K43wZqt9qfiPxYl5cvJFaaksNvGTxGgiU4H480AdlRS0lAC4oxSUtACUUUUAFFFFABRRRQAUUUUAFFFFABRRRQAUUUUAFFFFABRRRQAUUUUAFFFJuAOCRn0zQAtFFFABRSbhu25G7GcZ5p1ACUUUUAFFIzBVJYgADJJNKCCMg5oAKKKP8KADNZVxm512CMj93CpkPyt16DkHH4GuetLudfjFqlq00phOmwSrHvOwHJBOOx4610WlRl5bq6dNrSykAlADtXgdzmplqXHRXNRelLSLwKWqIENFBooAKKKKACiiigAooooAKKMUUAGKKWkxQAUUUUAFFFFABXDeNv8AkePB3/X5J/6LNdzXDeNv+R48Hf8AX5J/6LNAHddqSl7UlAAehrhfAi+V4y8cQ9l1ONv++oFNd1XDeHm+y/FzxVaDj7Vb213j1wCmf0FAHc0UUUAGKKWjFACUtJRQAtJRmigAooooAKKKKACiiigApaSigAooooAWkoooAKKKKACiiorq5js7WS4mJEcYyxCk/oKAMjxa1+vh25bS5JorgFcNAm9sZ5wP8Oa8+DeLZZILwW2pLtheN3OGlEe8ZZMqOcdAwzXUx/EjTprFbyOGQW6zmKeSRSgh64Y5HIJHaqh+JY+1CA6PNvURtKA2SA5wMYGOnPJFAGRcatrEN3DbXF1rosppZvs3lxj7S6hMjcNucbu+M+tOt7zx0+pW8d99pgYCExFY8o65O8yYG3djHce1dbr/AInOl6gltbWC3My2z3LmSUR7UXggEg5PPSsxviJuinlj09EjjaKJHluQDJJIAQAoUk4B7ZPoKAE8YR+IjrYbQ0lSNrQIZoUXcGMqZAJ/2cms+6PiW01BrO4utabTUnlEdzbojzudilATt5XJbt1GDxVg/Ea6vdLl/szTI1vY7eeWUTThETy228EgFsk9CBUVh8SslbeS1ae8kIIydiACFHPIBPVumKAGXq+LYtNuLsXWpMTfxxvHhQy2wVSWQIv3iepGcDOO1Zl5e+Nl0yFF/tR5RbzPbTRpt3sJPkV12kltgHJIBHbNdKvxBuZoPtcGiuLONbdppJJwrKZuAAuOcEjv0/KrVt4qvU+H9/r2oWsKz2v2jbHDIWU+W7Kuc4x0oA5nUJ/Fd1qepqkWoTRTW9yIYvL2Ii+V+7BUghvmxjBzk8ire3xZbWk2oG5vFmW7eMW77FhSAW7YbGOBvA5z+lXdX8X6pZu1jYwRTSWV1Z215dyyhMvK6A7I8ZI+bGeMZ74qU+PVv7ea2sLJ1vI4/KkV2H7i4aTy0iI9T8zf7o96AKngfWry/wDEksEt5f3MI02CaVboKQszMwJXaOAccduOK9DzxXmdn4qlsrqzXStIsYLWaW5WUxyRxNM0KEklQPkycnPOO/WtSw8cPrVnZ6nYWzW9m96LR45mXzGJHJwM7cMOM9RzQBSubjyPi9rEyZJTR4FGMcsXbAGeCa7rS7cWmnQxYAIXJ+ULk9+BwK4G2/4mHxr1yMAMlvBbI/3T0Xd0IPc9R0r0hQAoxSWrLlpFIWiiimQFFFFABRRRQAUUUUAFFFFAC0lLSUALmjNGKSgAooooAKKKKACuG8bf8jx4O/6/JP8A0Wa7muG8bf8AI8eDv+vyT/0WaAO67UlL2pKACuH1MNpvxi0e8OEh1KxlsnP951IdR+Qau5rhvinHLa+HrTXrZC8uh3sV6Qo5MYbEgH/AWNAHcUUyCZLiCOaFw8cihkZTwVPINSYoASlzSUUAFFFFABRRRQAUUUUAFFFFABRRRQAUUUUAFFLijFACUUuKKAEopcUYoASkIz1p2KMUAUpNJsZrN7Sa1he3kOWiZAVJznpUc+gaXcXcdzNYwPNHja5TkY6flWjSZ5wKAOe8T+D7bxOYftNxJCI1ZCERDuU9eSCR+FWh4V0f+z1snsYXhGwncvJKjCtn1GOtHiXxFb+F9CuNWvobia3t13SLbpvfHrjjgVjaV8Ql1vS4dQ0zw/q9xazrujkWOPDD/vugDWk8HeH5YRE+lWxjVy4XZ/Eep/HHNSz+F9FuYTFNptuylt2NmOcAdvYAfhWbZ+NUufEcOjTaRqVpczRtKPOjTaFHckMcCrOreLrLS7+SyEVxd3cVubmSC2j3skY7n0zg4HegDSXSLBI3jW1iCPs3KE4Oz7v5cYpjaFp50y709bZEtrwyGZFGAxk+8fqc1WbxNZLHYj94099GskNt5ZEu092U/dAzznpWwDkUAY48K6UzW8l1aR3VxbrGFuJlDOxT7rE9yPWjTfC2n6dNdT+WJ7i7ujdyzSKMtJ0B4HYcCtms2bWre31pNNuN0Msq7oGkGFmPdVPcjGcUAQSeE9CkuZbhtKtTLJnc/lDJz1/PHPrST+GtNe6gnSBYTDKJtsQ2qzhdqlh3wK2e1cn468ZReEbCN5LeSd7jcqbCPlIHBPqOaqEJVJckNw9TP8Aw/ate8Uau2f8ASdSaOMnH3EAUfyrvBxXlnww8d+G4/CcVncX8NncRyt5guG2eY5JJYZx3NemWt7bXkIltLiKeP+/E4YfpRKLg+WW5dRpy0J6KKKkgKKKKACiiigAooooAKKKKACilpKAFopMUUAFFFFABRRRQAVw3jb/kePB3/X5J/wCizXc1w3jb/kePB3/X5J/6LNAHc9qrXkEs8JFvMYZB91wM4/A8VZ7UUDTadyjY3xnZ4JhsuIseYgBIGScfNjByB26VJqNlDqWm3FlcqJIbiJopFPdWGCKZf2H2tAyu0U0eTHKuCUOMZAPH502zvmkJhuU8qdPvLnIxk4Occ5AzjtU31KtdXRzfwwvJW8JLo18+6/0KQ6fccYzs+4cehTaa7SuB1UHwp8TLPWFGNO1/bYXhzxHOP9S/48oT9K77IqiBKKKKACiiigAooooAKKKKACvOfGviDWfDnjbQEs9RRrTVJmtXtJQoCsR8r56nBr0C6hee2kjinaB3UgSoBlD6jPFcnqfw7ttZ0c2uoajeyXokSVNSyomVkOVIwMAD0xQBvaTa3em2jjVtVa+d5NwklRYwmf4QBjitSuI8QSSWt5oPh0Ot8byfdcteR+YWjQbi3UYOcY7ZNVNU8Za3b+NNOsoPD+pC2eOcvEvlEzYxhlOeAPw60Ad9LPFAB50ioGOF3NjJ9Kkrz/4hhbzRdBvJrRoJ/wC1bRgkvLRkyDIODivQAc0Acn4t1rVdMvIY9N1fQbJWQkpqchVm+mCKwYvFfiMyoH8S+DXUsAwSZ9xBPQDd1rutQ0DStVlWTUtOtrp1BUNNErkD8RVVfB3h1WDLodgCOhFuv+FAGzGSY1LMCcclehrznxd4h1nw98R9DtbbUkex1lZIDbylAIJBgq/TPTIx3PFd/d2zz2UsFvO9q7ptSWMDKH1GeK5TVPh1BrGlRW97qd497Fcx3K6lhPODR/dxxgDkjAFAHQ6TbXWnWTLqmrPfyNKW86VEj2g9FwvFaB3bSV61xOvTG21zw94ZR1vftMjz3LXaeY2xOj5yMHccV3CjCgDsKAOee98WB22aPYlc8Fr05I/74qewu/EMt0q6jptnBB3eO5LsPw2ituigDmPiF4kn8KeBdR1a0TfPDHiPPQMTgE/Suevv7R0D4bHxN/at3c6pDaC5maWUmOXcuSuz7qjnjFd1rGlWut6XcadqEImtrhCkiHuDXOr4Aik0OLRdR1W8vdKhAC28u0FlHRWcAFgPSgBvgS0v9T+GtmnimV72e+hZ5hN12v0X8BXCeBtUHwx8Y614L1uYpppDX2mSyHjZ1KD/AD2r1Hw54cPh23khGo3t8jN+7Fy4bykHRFwBwKzvF/w70jxnqOlXuqKwl02fzUK/8tF7o3saAIvB1rcXsN74lv18m81Q5hDjJgt1/wBWv4/eP1rn/hjY6hqes694mutVlnS4v3tkDQpiaKEbQwI6DOeldN4k8SrYJd6PYWtw2oC1BtgsJ2OW4ADdOOpHpV3wV4fPhjwZp2kuweWCL96w7yMSzn8yaAOZ8AXD6v488Z6jeENNb3yWMGf+WcSoDgfU80vxE8Qav4T1nQb+x1BDaXeoJZz2U21VYPwGBxng8k+g/PT/ALEuPDniy/1TTYWlsdYKm7WIDdBMo2iUD+IEcEdsA880zUfh3a634Zu9N1fUby9uLqNU+3ylfNj2tvXaAABhgD745oA3dJtb7S4bqTWdYN75knmK0kaRrCMAbRjtn1rnfi6uz4Z6lqEDBLrThHeW0wGSkiOCMH3GR9Cab4paXSNI0bQxONQm1XUY7aY36iTzI8F5HI4xhVzxwDgVc8Y6Rc+LrVfDsUbQWEzRyX10R/yzU7hEg7sxAyegGfUUAdBot09/odjeSDD3ECSMPcqDXH/ETT7bXdS0TRGG64uJzIxD4KQqPnOO+TgfjXcRRpbQJFGNkcahVHYAVxnhST/hI/FmreIiG+zRH7DZejKhO5x9WJ/KjnlBpxdmaU0tZPob2meEtF0nTzZ21hEYGcuySLvyT9aoXXw80CSTztPgl0m5HSbTZmgP4qvyn8RXVL9wUDrTlJyd2ZLRaHFCDxr4eO6C4i8SWS8+VMBDcgezD5WP1xWnoPjTS9duHtEeSz1CP/WWF2nlzL7gH7w9xkV0dYfiLwpp3iONDdxmO6h5gu4Tslhb1Vhz+HSkM2gcilrhrPX9V8K6lDpPjBhcWkrBLTWFXark9FlHRW9+hruAR2NAC0UUUAFFFFABRRRQAtJQKXFABSYpaKAEooooAKKKKACuG8bf8jx4O/6/JP8A0Wa7muG8bf8AI8eDv+vyT/0WaAO67UlL2pKACql7YJeR9fLlXJilCgtG2MZGeKt0UmNNpnMa1p8XifQb7w/qmYZZozsfn5SD+7kDYA3AgNgHtSeBtfuNW0d7PWB5es6Y4tr+M/3wOJAPRxhgfety/wBOjv4ArnbIh3RSgAmN8YDD3Ga4LxQbnwx4ih8V2sMjvbxiHVYI8n7Ta7iFlGAAZEPzY/u7hU7FNc2qPSTRVeyvYdQs4rq0dZYJkWSN1OQykZBHtirFWQFFYd54s06z1OfTyZJLq3TdIiISFyu4AntkCqVj4/0i6traSYyQNMsZfKlkhZxlVZhwDQB1NFczH8QNAdHkN00cao0gkkjZVkCnBKnHPNX9O8T6ZqlrcT28pVbUZmWRdrIMZyR9OaANeiuT/wCFh6QLiXzBNHbxxLIJXjZd+44UKCOc+1WB480JoBJHPJI2WDRJEWdNvXKjpigDpKWuZ/4T3QsygTyM0cixYETfM55Cj1OKdL460SG0juTO7QyAnesZITBwd3pg0Aa82lWVzfxXtxaQS3UGRDO8YLxg9cHqKlezt5LqK5eFGniBWOQjLKD1wfesOfxvpKPeRW8hmktVbcdpCZC7sFsccEUkHjvRJbgQtM6HJUyGNvL3BN5UPjBwKANi+0qy1NY11G0huRG4dPMQNtYcgj3q4MAYAwPasfR/E+na5PJDZGYSJGspWaJoyUbowyORWxQAtFGKKACiiigCnNpNjcahHfT2cEl1CpWOd4wXQHnAJ6VcHSiigAooooAKRlDDDcilooAKKKKAGlAWzjmnAYFFFABiiiigCpd6XZX88E15aQTyWzb4XljDGNsYJXPQ4q0BilzWHrHi3RdDuPI1O+jt5Su4I3UirhCU3ywV35CclHVmJ8SvEE9jpMWjaTltW1ctDCFYKY0AzJJk8cDj6kCt3wro0GheHbOxtohGkUYB+UKSe5OO/rXG+HYJ/EWvf8JNqUe2TUQYrSE7SbezQ5GVPXexyfT5a9JQYUADgdKz5bS1Nm7QSQ/tSDrR2oHWmZC0hpaQ0AVNS0y11axls7+FZoJVwyMM5rk/D1ze+GfEA8M6xKZ7WVS+lXLElmQdYmJ6sO3qK7euJ+KSLB4Zg1ReLjTbyKeFs4wdwBGfcHpQM7YdKKZAxeBGPVgCaeaBBRRRQAUUUUAFLSUUALRSUUAFFFFABRRRQAVw3jb/AJHjwd/1+Sf+izXc1w3jb/kePB3/AF+Sf+izQB3Xakpe1JQAUUUUAFVb3T4b+38qdFbB3IWUNtbswz3GatUUDTseaaJNc/DjxBHoGpyM+gX8h/s65Yk/ZZD/AMsnPQBjkjsDx6V6UCCuQePWqGsaNZ67pU2n6lCJreUYZT29CD61ydpd6joUn/CNa1qUkHnHbpuqbFPmDn922eN4GOv3h71F7blv39Vua2qeCrHV9aF/PcTLgqTGgUchSuN2NwGO2cVXi+H2nRBYoru7Wz3I81qHGyZk4BbjPYZ9cVmX3hDX5NXvVsdUZbKSN7mCQyHetyyhSMDovBbju1XPBGgappL3kmotJF5qIioZQ4LAcvgev5mqvczGWPw3tP7MS01e+uLwJGyJHuASLJydvGfzra0vwxZadp91ZmVpxeArIWCrkYxgBQO1ea2uk6nqF3JYWdrOlxHbyR3V200iea5kBBJPQkVt6l4T17+2kbTreOG3hkhMTxzYOwDDAk5Oc9hgUwNG+8G6HCn2fV9VnmcxqsHnFSYwh4KjHOOlXoPAdlCqyWeoXVvc4YPPAVQurckEAY+npXMN4J1yR4itskNzDC8b3ZuixnYuDnHUcVJbeDfEYurgXMrMSJs3CzgeYGHyrjrx79KAOiv/AATotxaCGe6lRmvBcxyPIGPm4x/Fw3ToapXvw+0N5LW1uNQnWWSJolX5SZOdxIGMKeOoxVd/A08OpwSW1uklrC9vJ5TTH76febn+fetDxNpuoXWvf6Erq0+nS28MwJAikyDyR0yARmgBG8D6Ld6lOst9LNcCPDxqyKwVl28kAEjjgHIzVi68J6MbSPS3nbJkkuY43lwWOzac98AEVyd14f1XSo7nVdP082N85tktYYpWl3uMhw+OxB6/jWjc+DdYNnGVb7U1s0KtFJOczoDvlUntlj09ABQBoeCNBvbDULq91HU1vStvHYoquX8vyycjoOeR+XWuygu4LlXNvKsnluY32nO1hwQfevLn8DeIP7OWKwRLELc3Fy8S3jfvY3IItyR68/N24ArtPDltPDrOs3DW7W9tPNF5Kt3KxhWP0yMZ74oA6SigdBRQAUUUUAFFFFABRRRQAUUUUAFFFFABRRRQAUUUhOKAGucV5Dr+gD4leNrttLuPL0/Tovs8l4U3LJOG+ZE9QAOT6nFdN4j1e98S6pJ4U8LTPFghNV1NBkWkfeND/wA9WH/fIOfSuitrC08N+HVtdNgEMFtGFjjVS3Pqcck56n8a2oYirhZ+0pOzJlTjUspHhejeF9YtPEmqaZa302oXFmSyWaX8lq80R/iicHHXqp6GvTvB/iHSLAtp99eatZ38h5tddlJcH/Yc8MPcE10tvoFlLJYXt3bhryzDeVKWJZN33lz1I9jVzUdH07VrU2+p2cF1F02SxhhWGsm5Pdm1RptJbLQtq25QVIIPf1p4rjW8DT6X8/hHXLzSyDkWsx+0Wx9tjcj8CKRNW8b6bJs1LQ7LU4x/y20+48tj/wAAf/GmZnZ0VyP/AAnhgX/T/DeuwN6LZ+b/AOgE05PHa3Ct9i0DXJnHRXsjFn8XwKAOrJwa4DxNcL4z8RWvhnTWEtpaTLc6pMOUQKcrF6Fie3YVblj8W+Jn8mcDw7px/wBYY5A91IvoD91Prya6PRNCsNA08WemQLFGCWYjlnbuzHqT70DNBBhAAMADAHpSmjp0ooEFFFFABRRRQAYopaSgBaKSigAooooAKKKKACuG8bf8jx4O/wCvyT/0Wa7muG8bf8jx4O/6/JP/AEA0Ad12pKWkoAKKKKACiiigAqhq2k2mtabLZahCJYZRgr0I9wexHrV+ilZME2jw7T/HfiDT/EsWmTXZNlFP5RM0YyEBIBLH6da9tjkV4wysCCM5BrgbKwtda+KvieG7hWa3t7K2tjGwyp3BnP8A6EKZcyav8PJwbdJtV8O9Sn3prJR6H+JfQHmunEVoVWuSPLYqMOb1PRaKz9G13Ttf02O+0q6juIJBwUbkH0I7H2rQzXOSGKMUtFACYopaSgBaSiigAooooAKKKKACiiigAooooAKKKKACiiigAooooAKKKqajqllpFjJeandR2tvEMtJKwAHt9fagC2SAMmuE1fXdS8V6lNoPgyXyooyEv9ZHKweqRdmk6+y1GZtb+ILFIRc6J4bkHzSnMd1ernooPMaH16kHtXaaXpVlo2nxWOl20drbQjCRxjAA/qfc0AQaJoll4e0mKw02ARQxjnHJdiclmPUkkkk+ppupKlze2lq2f9Z5xwrdF9weOSOvXkVpkgVlWKfadUur0oBgiGNioBIHXkHkZ/LmpluXHqzWX7oxS0i/dGKWqICiiigBMUUtFACUUtFACUUtJQAUUUUAFFFFABRS4pKACijFFABRRRQAUUUUAFcN41/5Hjwf7Xcn/oBrua4fxoM+OPB4H/P3J/6AaAO4ooooAKKKKAClxSUtABikI4NLQelAHC+Ah9o8TeMr1ur6sYAfZI1FdrLbpNGUkCsp6gjNcZ8L/wB5pOrXXe41e6c/g5H9K7igd2ed6p4MfTdSfUtCvH0y7Y5+0opaOTufPXIBHuOav2Pjl7CVLHxpZnSrk4VLtTvtbg+qyds+jYrsZIkljZJFDKwwQRkGsW5tI4Imtb6EXmnS5DCUb9g77snG2p1uXpL1NpJkljV42DowyrKcgj61JXDr4Qv9EbzvA2pi0gIz/Z10TLbMP9nncn4ce1TR+PJNMkWDxjpU2jseBdKDLbN/20H3f+BAVRmdlmkqtbajaXtqLizuYZ4WGRJG4ZT+IqZJlfIVlP0NGorrYkxRiiigYYoxRRQAYoxRRQAYoxRRQAYoxRRQAYoxRRQAYoxRUcs0cKM8zrGijJZjgAfWgCTFNZgoyT+tclc/EOymvGsfDVtNr14pwwsxmGM/7cp+UfgSagk8Ma74mJPi3Uhb2THJ03TGKKw9JJfvN9BgUAWtR8bwNdy6d4Ztm1rUk4ZIWxFEf9uToPp1qHTvBc19ex6p4zuxql4jB4rZQRa2x7bEP3iP7x/Suk0zSbDR7FLTS7WO1t0GFjiGB/8Ar96ugYGBQAgGOlOzSUooApancC1sZZO+MKMgEseABnjJz3o0y2+yadDFgBguW+ULlu5wOM5qDUWW41C2s94yGE7pkZKr0yCORn05BxWivQVPUt6QsOpaSiqIFzRmkooGLmikpaBBRRRQAUUUUAGKMUUUAGKMUUUAFJS0lAC0UlLQAlFFFABRRRQAVxHjL/kfPB3/AF+Sf+izXb1xHjL/AJHzwd/1+Sf+gGgDt6KKKACiiigAooooAKD/AFopT0oA4f4Vf8ifKe51G7z/AN/3rt64n4aKLax1qwJ5tNYuUIJzjL7v/Zq7agApGjV1IZQQeoNLRQBlfPpkhcuWtSTncMlD3JJPAq8wt7u1+YJLC69wCpFTModcMMj3rifHEGn6dorz61Pdf2Uj75YorhkZ2P8AD1GV/wBkdaT0LtzepwvxJvfBGg28o0i+NpqjyBWh0+RvLJz0dV+XP61c8D6Z4y0EvqcelpqMFzCp8uW72OV65XgjPscVT1PwlPqvhlNTOmRWxvpooNP0+3hBWygZhlztHLkDk9hXtlvEsNtHEoACKFAHbArshjJxw/1eys9TB0lz83U5WL4h2cLbNd07UtGfubq3JT/vtcitvTPEui6yqnS9Ws7osMhYp1ZvyzmtMorDDKCPcViaj4K8NaqWa/0LT5nY8yfZ1D/99AA/rXIaG4DxS59644fDmztc/wBj6vremqTkRwajI0a/RXJApG8LeKYARY+NLkr2F1aRSn8wBQB2VFcf/Z3jyEKItb0qfHUzWLKT/wB8tTHT4goOJtDlH/XOVT/M0btITelzss0V4Lp2p/EA+KjapPdNPFNh0kVjEpP94Y+7XpP2Xx/KMHUtFgHqtrIx/Vq7MZg3hWk5J37EU6ntFex2VGa4v/hHPGU+ftHjERK3UW1gi4+hbNO/4V6brH9r+JtfvfVRfGBT7FY9ua4zQ6W/1jT9MjMmo31vaKO80qp/M1zs3xK0Rsro4utakHRdOgaUZ/3vuj86t2ngHwxZEGPRbWSQf8tbhfOf67nyc10EUMcMYSNFRQMYUYoA5A6j421v5dO0210CA/8ALe/bz5T9I1IA/E09Ph9b3knm+J9TvtccnJink2QA+0S4GPrmuwpKAILOxtbC2SCytoreJRhY4kCqPwFT96KKACiiigANIfY0tMkXzFKHOCMHBxxQBmabIbu8uroklN/lphyRhevBAwc5rVAqO1t0tbZIY921BgbmyfzNS0rFSd3oFFFGKRItIaWkNUAUtJS0gCiiimAUUUUAFFFFABRRRQAUlLSUAGKMUuaKAEooooAKKKKACuI8Zf8AI+eDv+vyT/0A129cP4yP/FeeDv8Ar8k/9ANAHcUUUuKAEooooAKKKXFACUtGKMUAcPoDf2T8T/EWmSZWPUEi1KDI65GyT9VH513Fcl400a+n+ya3oKh9V0tmeOMtjz42+/GfqACPcVpaF4q07XrUPbShLhflmtpfllhburL1oA2qKjknihjMk0ixoOSznAFcve+OILm4ax8KQNrV8cqWhBEEPu8vQfQZPtQBsa9r1j4d01rzU5diZ2og5aRj0VR3Jrn9M0O98RanFr3imPYsXzWGmtyLf/bf+85/SrOieEpFv01jxRcLqOsKMRkD9zbD0jU9P97qa6n6UmMy5oZdNuGntVMkLnMkWeQf7wJOAAO2K0Le6iubdZYXDxsOGHQ9qlIB4PPtUEFnFBNLJEGDSkFvmOOPbtQht3XmWaKKM0yQooooAKKKKAMm2/sz/hIr9YBi/wDLjNxweVwQv9a1ayrd9M/4SO8jhTGoeVG052nlcnbz09a1qqfQAoooqQCkxS0UAFFFFACUUGigAooooAKKKKACiiigBaKSigBaQ0opDQAtFJRQAtFJRQAtFJRQAtFJRQAtFJRQAtJS0lABRmlooASiiigAooooAK4fxl/yPng7/r8k/wDQDXcVw/jL/kfPB3/X5J/6AaAO4Jwmev0rA03xjYardSW9pFdNLDcm2mQwkGFgM5f0Hoe9at8l7JaldPmihmJGGljLgD6AiuatNDl8J6hrettfrLZXUYuJ4Wj+YSqpBYNngEY4x2oA7CiuHPjK9sYdDRtJvbhtRZS7KocAOpYBWyM44HIrQk1O6Pj/AE60Ezx289hJK1uwHDArgn35NAG5qOpW+l2Ml5eFxDHgsUjZyPwUE1j2/jzQ7q6jt4Z5zJK4RAbWUZJPqVxWxqViup2Elq800KyYHmQSFHHOeCOlYtv4MgtrqOddX1iQxurhJL5mU47Edx7UAbt7eLY2M106PIsKF2WNcsQBk4HrWfoview1+OKbTBNLbywiVZ/LIQ5/hz/e9RVi/gvLmSJLa4jhgyfPDJl2B6bTnA9DweK5S30658CeFhp0N4bqJrpYLJFAjeNXfONxzkjJ/AfjQB2080dtbtNcOEjQZZj2HrXJasngbXrkTakbSW4XAEqko+P94YNdhGuI1ViW4wc96Xy0/uL+VAHHap4T8H6Zpkmq6ta7rS1jMjm4nkkTaP8AZLEH8qQeMdL0TTtOU6VPYw38iRWUSRqC+7p8o6ccn2re8R6JD4i8P3uk3LMkV1EYyynBXuD+BGa5+98H6rqK6Q9xq8An0dg9uRbZWR8bdzKT6dgaAM/W9T1nTPiRaWOoatNb6Nqq7LN4Y1HlzD+BiR37VpWl5ewa/eSJqN3e6dp8JE4KKd8nXauMcgda0vF/hdfFnhl9Nlm8i4BWSG5UcxSqchgKydUtW0rwo/hvS0uLi/ng2+ftIDsxwzlsYz1NAFC38Z6g/hw+K5zNHbySNHBYNEAJATtQ565zyT0rprnXY/Dfh+G/8RTswdl82VI8JGW4/ACqus+D1vvA8GiWsixyWqxNDIwyN6EHJ+pFR6roV54t0Wex1CUWdpLCE8lYv3iyDuWzgrnkAYoA6Cx1KPUo5WhjniVGKhpYym//AGlz1HvWZpesznxJeaBflXuIYhcQygY8yJjjkeoPHvmq0V1eafqOjaHcXQurjy2knmj/AHWVQYB285BOO9O0vR5pvGl94lu1MW+2Wztom4YIGLMx+pxj2FAHU0UUUAFFFFAGTBLpx8S3ccceNQEMZlfaeUydvP51rVkRT6b/AMJVc2yIf7R+zRvI2Dgx7mC8/XNa4HFVLoAUUUVIBRRRQAUUUUAIaKDRQAUUUUAFFFFABRRRQAUUUUAKKQ0opDQAUUUUAFFFFABRRRQAUVDd3cNjayXNy4jhiUu7H+EDqah03VrHV7VbnTbuG6hYZDxOGH6UAXKKUUUAFJS0lABS0mKMUAFUNX/tP+zZP7EFubzjZ9pLbD65xzV+igDjAfiMTyvh8D/ttTsfET/qX/8AyNXZUlAHG4+Inp4f/wDI1cj4q/4TYeL/AAt9rGjG4F0/2fy/N252HO7PPT0r2GuH8Zc+OvB59LuT/wBANAEv/FxPTw//AORqRl+IToUdfDzKRggiYg12gpKAOK8r4g/J+68O/u/ufLL8tJ5HxAMwlMPhzzAMB9su4D6129FAHG/8XF9PD/8A5Go/4uL6eH//ACNXZUUAcb/xcX08P/8AkamSR/EGUASx+HXAORuWU4NdrRQBxv8AxcX08P8A/kaj/i4vp4f/API1dlRQBxv/ABcX08P/APkak/4uJ6eH/wDyNXZ0UAcb/wAXF9PD/wD5GpP+Lienh/8A8jV2dFAHG/8AFxfTw/8A+RqT/i4vp4f/API1dnRQBxRi+IJkEhj8OlwMBsTZH407/i4vp4f/API1dnRQBxv/ABcX08P/APkaj/i4vp4f/wDI1dlRmgDjf+Li+nh//wAjUh/4WL6eH/8AyNXZ0mRQB5ulz4zPim4tkh8PjUltUeSTZNzGWYKN3fkNWt/xcX08P/nNW4t/pzeK5bNYcagtsrvLt6x7jgZ+ua1cjbmqlfqBx3/FxfTw/wDnNR/xcX08P/nNXZ5oqQOM/wCLi+nh/wDOaj/i4vp4f/OauzooA4z/AIuL6eH/AM5qP+Li+nh/85q7OigDjP8Ai4v/AFL/AOc1H/Fxf+pf/OauyNFAHG/8XF/6l/8AOaj/AIuL/wBS/wDnNXZUUAcb/wAXF/6l/wDOaj/i4v8A1L/5zV2VFAHG/wDFxf8AqX/zmo/4uL/1L/5zV2VFAHG/8XF/6l/85qP+Li/9S/8AnNXZUUAcb/xcX/qX/wA5qP8Ai4v/AFL/AOc1dlRQBxv/ABcX/qX/AM5qP+Li/wDUv/nNXZUUAcb/AMXF/wCpf/Oaj/i4v/Uv/nNXZUhoA47/AIuL/wBS/wDnNR/xcX08P/nNSa78RtP8L6xcWWv201miwGa1nyGW6x1Rcfx+xrotB1KfV9Ggvrqwk095xuEErAuq9s46HHagDmLj/hYJgcTJ4daMqQ4YzYx7+1fL2jxeMpfH9/J8ORdA/aXO/TQ/2cDd6njb6Zr7RvrKHUbKW0u08yCZSjqT1B7U2w0yz0qzS1061itoEGFjiQKP0oA53wEvjJdEUeOXtGugo2mD73vuxwfwrq8H3/OlooAWkpaSgBc0UlLmgBKKKKACiiigBc1WuLC1ubmC4nt45Jrdi0TsuShPcVYooAKKKKACiiigAooooAKKKKACiiigAooooAKKKKACiiigAooooAWuN1vx1cWPix/Duk6JcanfC2FyPLlVEVc4+YnoPeuxrlovDV1H8UbnxEZIzazaYtoEyd4cSbs+mMUAcwvxkd9Bl1xfC+oLptjIYtRnd0HkOG2uFGfnwe4q/qnjm30bxNrkksl9PDp+jR3xtQU8rBY8r33Hvk1Tb4c6m3wl8QeF1ubY3ep3NxLFJltiiSbeAeM5A9qdr3w81PU9W8QXUM9uqalocWnRhicq6tkk8dKAJrX4hbr7StQ1Hwrd2Fpq7JbW99KUL7myyhlU5CntUEnxGh0OLXLuddT1AW2rpYeQQnyMyjATAHH1ra13wle6l4d8PWMMsKy6Ze21xKzE4ZYxzj86wLr4bapM2p7Li2AuvEUGpplm4iQDKnj73H0oAtn4naomurob+DtQGqTQC4t4PPjIaLONzNnC4PBFX7b4mWsmj293Pp9xBM+pDTJrdiC0MuSOSOCOKvS+Grp/ibB4hDxfZY9NNoUJO7d5hbPpiuXvvhxq7aLfJZ3Vr9sOunVbZX3bGG7IVj1HWgDrtV8YQaV4ng0aW2leSazkuxID8oCdQa5Q/F6ddFtdbPhbUDpU7iMTB03FycAKuckE96kbwn4r1rxcNc1xtNtkXTprJLa3kdyu8dSxAzz7VOngLUU+F+jeHDPB9psZYXkfJ2sEfJA49KANTQ/HU1/4m/sPVtDudKu3tzcw+bIriRM+x4PtXYda5W48N3UvxKs/ECyRfZYLF7Ypk7ySc/lXUjpQAGig0UAFFFFABRRRQAUUUUAFFFFABRRRQAUUUUAFIaWigDzvxZ8O73xxrjz61f8AkWdmmdLS2JzHN/z1fPXHp0rsvD0eqQ6Jbxa88Ml9GuySSDO18dG56E1pY5ooAWikzS5oASiiigBaSlpKAFpKKWgBKKKKACiiigAooooAKKKKACiiigAooooAKKKKACiiigAooooAKKKKACiioEvbWSeSFLmFpYxl4xICyfUdqAJ6KgivbWcuILmGUx/fCSA7frjpRFe2s6O8FzDIsf32SQEL9cdKAJ6KrHUbIWjXRvLf7Ov3pvNXYP8AgWcVV1HXLHTYzNeTrHbrC0zTkjYqjHU++eOuaANPApMAdKrxalYzNAsd3Cz3CeZEnmDc64zkDqRVn6UAGKTA9KWigA4o4HSiigAwKXApKWgBOntUS3UBJCzRkr1AYcVS8QGX+wb37PI0cpiYK6KWKnHoOa8ws9GvPEssy6Zp8NnFb2S2xuVkcCZ2I3nOBkgA+/NAHrX2y2LAfaI+TgDeOtRX2q2WmwSTXtwkaxruYfxAfTqa8813wPqs0s9tplnAltmJbeSJkTEYI3biylt/uCPrUs/gzU7mT7Pdada3DNfiaXUJp9ztEDlVAxkHAAx070Ad/DqdrKjP5uxVfZmQFMnAPGevWpnuIkOHljUk8AsK8wvfAviCaWKSV2n3wPvjjmjCxyvIWZjvRsjGBkc8Vpv4DuX0+9SXypbq4mt4o55HLNFBFtGQf73DH6kUAdtbapZ3l3c2ttcJJPasonResZIyAfwqX7XAHZDLHuQZYbhlR3JrnfDGiXOlnW5p7eOO8vb+WZJQQ29CAEJx06cj61yMHg7xJO0k1zbxRXP9m3kQYSoEkuZRgcBc7McjJJ4HSgD07T7+11SwivLCZZ7eZdySJ0Ye1WKzvD+nR6T4esbGGAW6wW6J5QIO0gc8jrz371pUAJRSmkoAKKKKACiiigAooooAKKKKACiiigAooooAWkpaSgAxRS5oxQAlGKKXNACUUuKSgAooooAKM0VheK7u/tdFKaQWS9uJUgikWPzPLLMBuI6YA5oA3NwpcivMNV1jxNpVxdW0V1cy2QvY4TezxKjIPLLOVIQqAW2qCVODmox4m8Ux6faSRyvKrSN9qmNqW8m3d9scv3V3OOTgDBHJoA9S3DPWgsAcd64/wvHdSeLvEVxd6heSiGSK1jgnAAChN28YUDku3I9Oe1Ydh4q1LVvIu9O1G5nu59SYR6cLYCJbQSYLMSufuLkPuxlgMUAem5prSIilnYKo6k8V5vZeJdWnhsr1by6kuWE0mo2P2EmO0QIxC/dDFlYKOvzc9M8VtO1vV9Tt1sZ7iW++0XlvBJK1srQEYZ5Ch2gjhQNrZ2kjk5oA9RMiDGWAycDnrS5HrXkem6hrUWni6gF5eyytd3zxXVvnyWVgkaAbQRgEkgHtgVovr2uEOmh6hcaik0cUZuZLQBYp2fBKgKBtC5JBBxxzQB6WWA6mlxXNeHX1T+2dWt766murWB0SJ541UltoLYKgfLk10m72NAC4opaQ0AVr+3kurGeGCTyZJI2VZB1Qkda8z1Twnq1lokbwWFlFd20D26SW5Z5Lp5PlLuQuQOcnqfevULidba2knkztjUs2PQCuG1HxpqobTpI7GO1tLwtMrmUNJ5SKWOVxxkD360AY+seD9RXT4YrHTbGzL2y6cttauSsoZhuaRgo+XAOOvWtSbwTqFxNJdxWmnWACwxDT4HPlTxI4Yq7BR1xgcHjr1xQfiBeWVq00ulSzwwLCsswkG9pZRkRqqjkjIBNXbXx1d3FyLFtHkW+kmWOHJZYnypZjuZQRtC8jHcUAZt94J1KcXV1HY2SNdTRymzguDGsJjUhXB2lWbnkFcECmyfD/AFObSZYrldLlmNvbW6xqpjiKrMZZh907dxwMgdulaN/4s1y31bSrY6dbwLIZ5b1jPvCxRL1UgdCWHJwc5Heobfx1fDQ7m+h01riOxtlurtriZUZd6+aI1AGCQjD9BQBVHw+1FvEbzTPEbNtSW8SVJdrrGrBkjC7Mjbtxw2ME/SvSR0rjJfG119pd7bTA1jHfw2PnPMFd3k2g7UweVL85PY+ldkOlABRQaKACiiigAzXNjxRPLeztZ6aZtPt5TFLcGdVYEfeIQ9QPrn0rpKyD4V0g3rXRtB5jMWI3ttLHqducZ/ClqBmS+OLWKxs7traUJdxyyquRlUQfeI9/61Sbx7cxYM+hyQKLX7ZKXuV/cxdt2B1PYDNa0PgTw/CrBbAMDGYvnkdsITkqMngZ7VpNoenu8zNaxsZ4hDLkZ3oOin2pgcdB8UIpbWWZtKlB8jzoUjfcXyQAp4AVjketTal4y1eKK5trfSYo9RjuLeFUe5DIfNPHIHUAHI/U1uw+ENEt8qtnv5Q/vJGfbtOVAyTgA9ulT3HhjSbu5FzNajzvPW48wMQ3mKMA5B9KAIdY12bTJNPtbWwa7vL6Xy1iWQKqYUksWP8ACMemayrTxvLqE32Cz0svqiNKs0JnCxII8At5mOQSwA4znrjFaeq+E7bWdbtr++ldltYnSKNGZCrMRltwIPQEfjT5vB2iTW9vF9j2C3DBGjkZGw33gWBBOe+etAGC3xDaRbB4tLKJcg72uLgIoYSbDGrYKlsjIyQCO+eKZP41vm16C30+2VraXUZoZJJ5AojhgTMrDA/vHH1rem8EaDNNHI1gqrGqKIkdljIU5XKA7Tj3FSt4S0ZvKzZqBEs6KAxHyzZMg687ic80Ac7b+O7iTRZr20017pbO1F7dtNMsWxHUyIq8EM2zB7DB65q1N44kzLNa6U8tlDPDBJM86qzNIqkBVPUguM5IHB5rVufBuiXc4kmslI2JGyKzKkioMKGUHDADgAg1bXQNOWPyxbLt+0/ayPWXOd350AaKnKg/zpaTGKUUAJRS0lABRSiigBKKKUUAJRS0lABRSiigBKKKKAFpKWkoAKXNGKSgAoopcUAGaSiigAopcUlABSEZpaKAE2gUnlj8fWnUUANZFdCjcgjBFRWlnBY2sdtaxrFDEoVI1HCgelT0uKAKa39rJqElmkym5jRXePPzBT0OPTrVnYP8mqN1pFpLqUOpmHN7boyxyBipII5U46j69Kh0HXV1q0lZ7eS0ureQw3FtKPmicAH8QQQQR1BFAGttFJsA6Zp1FAEeMsfT0rL1e31ee4szpV3BbxpLmcSxli6eg9K18AUbF9KGrjjJxd0KOgooooEMkjWWNkcBlYYYHuKxYvBugxSM6aem5kMfzMThT1UZPA9hW5RQBntoGmPaz2zWcZhuH3ypj7zcYP14FQf8Iro4tPs4tML5nm7xI2/fjG7fnOccda2KKAMdvCeiNHCn2BAsMTwIASPkf76nnkH3qObwzoNxqBleziaaPYWUMcHb9wsgODjHGR2rcrIu9GhbXItaieaG4hjaOQRHi4T+6w74PIPUc+tAFlNGsEVQtsg2zm5A/wCmpzlvryavVn6Tq9rrenx3unyb4XyORhlI4KkdQQRyK0KAEooNFABRRRQAuKKSloAKjmnSBC8rqiDqzHAqHUr+HS9OuL26bbDbxmRz7AZrjNB8R+GfirDHcafdzSx2MweWzY7Nzfwl16kDt2oA6SxtNR/t28vr+6VrZwI7W3iY7UXqWPHLE/pWwPuihVAUcUtABRRRQAUUUUAFFFFACGjNBpaADNJQaKADNLmikNABRmiloAM0lBooAM0uaKQ0AFFFFAC0lLSUALRSYooAKKKKAFpKKKAClpKKACiiigAooooAKWkoxQAtcH8UtM8a6l4e2eBNQhtZQD50ZG2WQeiP0H0/Wu7xTZJY4kLyuqKOpY4oAwPAuo6jqfg6wm1q3lt79YxHcpKuG3rwT+JFdFVf7daC2+0faIvJ/wCem8bfz6VMGDAFSCCMgg0AOopKKAFopKTI9aAFopMj1FLuX1FABRS1A97bR3CwPPGsrHCoXAJ/CgCekwOeOtRi6gadoVmjMqjJjDDcB64qSgDkPGHiSw+HumjV5Le3jsp7wG92/LIxYY3qP4mGASOuM1r+F/E2n+L/AA9b6zo7s9rcA7d4wwIOCCOx4q5qel2Os2MtjqlpDd20o2yQzIGVh7g1meE/COneDNPm0/RfMSyknaaOB33CEtjIUnnGeaAN+ikyBS5A60AFFZV34p0OxvDaXeq2sdwv3ozINy/Udvxqca5pRvorEajam7nTzIoPOXe6/wB4DOSPegC7ketLketeJfFLxH4m8H/EDS5X167tfDWpNsdoIkJgfp1ZTx3rvovDOqzwJND421Zo3UMrCODBB/4BQBr+JtDTxNoNzpMtzJbxXI2yNF94r3A9M+tHhzwvo/hXS0sNDsorSBQM7Ryx9SepNct4Pk1i68W6pJJr93f6NY/6OjXCxASzfxEFVHA6U7UPEtzrPxCPhnR75bSCzg8+9uUKlyTwsak5A9z1oA9AHSiuCn1vVvCWm2ekahdprevajctFZfuwmV67nx2UdT3rrdPjuLHTl/tW9W4myTJKVCLz2A7AUAaFFVlv7Q2v2gXMJg/56iQbfz6VMGEihkIZSMgg5BoAfmiuP1TXrnwnr1susStcaRqVwIY7pgAbOVvuq57oTwD2PHpXXqcqKAFooooAQ0opDRQAtIaKKAFFFJRQAGlFJRQAtIaKKAFFFJRQAGiiigBaSlpKAFoxRmjNACUuKSlzQAYpKXNJQAUuKSlzQAlFFFAC4pKXNJQAUtJS5oAKoavBp9zp0o1ZIntUUtJ5o+UDHJOfar1c/d+Ebe+8RHVLu/vpYmVQdPaY/ZiV6Ep0Pr9eaAPK/hLo+m6qmu+H9c8y5stJu3FrZXK7EWGQ7lcrnqe2eg6V7J9u03TLmz0szxwSzqVtoc/eC9QPpWLL8PdIk8ZS+JPMuVuJo0Sa3SXEM2z7pZR1x71mxa7qV18SNXgtk+16dpFqqiGNE3vcMMlFY4wQMcZHWgDvM1R1bWdP0Oxe81a6jtbdOWkkOAK82ufGniIfEy1iHhjWVT+zWY6f58Hznf8Af+/jjp1zXQeP5pb/AOEer3F3ZSWUzWZJgmKs0ZyOCVJH5GgDs7e4jureOeBt8UihkYdweRVfVWhGk3JuZJIofKbe8RIZRjkjHeoPDWf+EX03/r1j/wDQRWntB60AeFfbPAv/AEOPi3/v7P8A/EVr+FLrwlJ4ks10zxN4ku7gyYSK6eUxsfRsrivXPJj/ALi/lSCCNfuqB9BQA8HivG/jmLLTItK1uwBi1exvUuTLDFudYvusze3TrxmvW9QsV1DT57RppoBMhQyQvtdc91PY1gL4A0tvDF3ot9NdX6XkPkz3V1LvmkXt8x9O1AE2heHNEspE1WxhWW+ngHmXsnMsysM5Y/rWtpuq2Or2rXGm3CXEKSNEzocgMpww/AiuWu7G1+HPw7v57e8upmsrQlbi6k8yRtowi88Y7AdOa2/CSXy+E9NbV2jN/JAslyY4wg8xuSNo6Yzj8KALerWN3f2nl2Ooy6dJuBMsUaOcemGBFY3/AAjOvf8AQ5ah/wCAsH/xNdTRQBi6To2pWN00l/r91qKFcCOaGJAD65VQaseILm4svDmo3Nku64htZHiUDqwUkVpU1lDZDcgjBBoA8t+BFrbzfDVdRmInvL+eWS7lf5md9xGGJ9OnpWN8P9Iivfjd4m1LzVa10b/QrSPOfKBOSB6AdK9Btfh/Y6Xc3TaFfXulW925kltrVx5e49WUEHaT7VBJ8MNANzp8tr9ptDZHLCCYr9p+bdiX+/8ANzz3oAs/ELwhB428F3ukyhfNdN0DkZ2SDoR/KvKPAvxJ1H/hCpfBdxu/4Si2n/s63XncVPG//gIz+le/7RtwOlcxbeANFs/HV14rhgA1C4iCMQvA9WHuaALul6FY6D4Vj0wIJLaGI+b5nPmHqzH3Jya86+D/AIb07VDrniS506E/bdRb7LlBhEQ4G2uk8V+MobrSdZ0TR4LttYH+iRQtCV3u44ZT0KgHluldB4N0BPDPhDTtJXBa2hCuw7v1Y/nQBwOpuX/ab0hLzPlR6XIbYHpuPWvTtSgs7mylTUVja325cSD5cVz/AIw8MS6nf6drekhV1fSpN8LHAEqH70ZPoRSx6FbeJNQi1m7m1SJSnly6XNKVh3A5+ZOh579DQB5v8KtG0zVbrxH4e1PfcaZp9601pZTptTZJyHI7+3Yda9hOoaXo0mn6W00Vs0/7m0h/vbRwo/AVkXXw/wBJuvFjeIDJdRTyQiGeGKUrFOo5UOo64qpFq19qHxZn0yGUHTdMsVkmBiU/v3OFAbqDtBNAGZ8d0jb4Raq7Z3xtC8eDghhIuMV3OhSSy+HtOkuc+c1rE0meu4oM/rXMeIdHn8b6jaWFxA8Gi2N0s9wZFwbqRDlUA/uA8knr2rtFAVQF4FADqKM0ZoAQ0opKM0ALSUuaSgAooooAMUUZooAKKKKACiiigAooooAWkpaSgBcUlLRQAlFFLQAlFLSUAFFLRQAlFFFABRS0lABRRS0AJRRRQAtZOn+GdL0zV73UrO323V9J5kzlictjBIB4HTtWrS0AUX0axk1tNWaEG8jhMCyZPCE5Ix061HrmhWXiHS5dO1ISNazDEiRyFN49CRWlRQBV07T4dLsYrS2L+VEoVA7liAOgyas5oooAWiis7VLu7isZ/wCyII7y9QAJC0oQZPTJ7DvQBhfEH4gWfw+0RdQvrWe68x9iRw4yTjvnoKk8B+IdX8T+Go9X1iyisRdMWt4I8llj7FiepPsAK1rPT5JrCD+30tbu8VSJJFhG35uoXOTjHHvWjHGkUSxxoFRQFVQOAPSgChrmg2HiPSJdN1eHzrWXaXTcVzg5HI56irlraw2dukFuu2NBgDOalooAWikooAWkNFFABXkWm/EHxDZfGjUvDd5p1xd6RPORbTqhHkkAFsE8MvI+leu1m60gjsnv47CO9urNWkgQgBs45CnHBIoA0wcgUVT0rUY9V0q3vYldFmjDhHXDLnsRVygBnlR+Z5mxd+Mbsc07GOlLRQA0gHrRgClooGL2rKs/DWl2GtXeq2tvsvLwgzPvYhiBtzgnA4GOK1aKBCYA6UAYGB0oooGFFKKQ0CCiilFACUUtIaAFpDSiigBKWkNKKAENFLSGgAooooAKKKKAFpKWkoAKM0tGKAEoopcUAJmilxSUAFGaXFGKAEooooAKKXFJQAUmRSnivOB411CTTZ9ZOoWCqtvcTHSRETNGsYfblgc7shdwIA5IHrQB6PmkyK4DUPHF9Gxt9LNnd3MdlBvKHKG6lkCheOwUMfpiotR8UeJdOj1acNb3EOlyRwllt8edI+M8lsKq7lyfY9KAPRMj1pdw9a81sPGHiC7m+xRC2eaa7jhhnkjXoVLSZVJGHygDnPenjWtev9V0yxGpQxA6pPG0yQ7ftEcXUYJ7k449M0AekZozXGeIfEdxB4kj0m21Kx09FtDczTXKbzjOAFGQO3/1qyo/Guq3Voxlns9KktrUTsZ4932onO0IpIwDx6nmgD0fcPWjcPWvOW8b6l/a1oJ2t4LdlUSRKgkYPt3Mr/NuT2+Uj1NZ48R6qL0XIvFjjj097qSyIJMjSPtTknPTB9KAPUpAXjZQxQkYDcZHvWdo2i22iwuInkmlmcyT3Mzbnlb1J7D0A4rjR4p1OCH9xc2sb206Wo0+RC803TcxJOR1OOvSrdj4i1q61DTbgzW32W/vpIYrcQHcYVz8+7PB4J6c0Ad5S0g6CigAopcUlABRRRQAUVh634sstCvYLSeG5nnnQuqQICdoOD1IyfYZPtWTcfEO0stV1CC+s54ra1ljt45jt/fzMu4ooJ4+XBycd84oA7KjrXJW/wARdLu1gSztL65uZpZIhbRRqzq0YG7J3bccjnOK1bXxLZXXh+XV1S4jhhD+bG8WJEKnDKV9cigBLW41KLxLd2dzbZsDGsltOiYA7Mjc9c8itkdBmuTXxrDfWcEtlBPA9zcrDF50QYSZBJxtYjoPXg9RTJPiTpVv5q3drewNHIIQHRMSSf3VIYjPrk8d6AOwzRkViaZ4p07VtHm1K3ZkitywlEmMoV6g4JH5E1zkfxE+y3jnVoVht3iR4Y05kZnPyJycZI57AUAd7S1yP/CxdHNgbmOG6crK0TxKE3IyjJyS23p6E07/AIWLpDQiWCC+nQWi3cjJBxHG2cZJI54PAoA6zOOtFchN48tWjkQWt5ZXGyF41u4PviRtq8K2ep71LB4/0ySdFkt72G3d5Y0u5IgsTGMEtjnOPlPOMUAdUaSue0/xlaahqttYfYb+3ku4mngaeEBZI1Ay3BOPvDg4PNF34zsbXUL60+zXkp09VNzLHECiFlyq5JGT7D1FAHQ5ozXF3HxFt2t4W07Tbq5uH1KOwaAlAVZl3k5DFT8mW4PbnFTWvxG0XUbtbSwd2kmST7NK4GyZkBJ6EsBweSBnBxQB11FZ2gaoNa8PWGpAbftUCSEehI5FaNABRRilxQAlFFGKACilxSUAFFFKKACg0UUAJRQaKAFpKWigAooooASloooAKSlooAKKKKAEopaKACkpaKACqy6daJLLJHbRI83EjKgBf6nvVmigCvDYWtuoWC3ijUYwEQADHSpDBGysrIpV/vAqMGpKKAIIrO3gVVhhjjVTlQqAYpfssJZWMSEoSynaOD61NRQBmnQdObUJ72W2WWefbvMg3AbRgYB6fhVp7C1mkR5beJ2jOULICV+lWKKAK/2C188zeRH5p437Bu/OnGzt2feYYy23bnYOnpU1FAFc2Fqbn7R9ni87GPM2Ddj61III127UUbfu4UcVJRQAlFLRQAUlLRQAlFLRQBg654TtNfnL3lzdrGyBJIEcbHAORwQSp91INVrnwHply07Ga6R5bv7YrK6kxybdpxlSCCOMNmunooA46PwCsOtR3dvql7AsNu0UbRyDeWdtzs2RjnjoBjHFbkfh60g0H+yrWSe3hx/rIpSJM5yW3dSSeuetatFAHKf8K+03a7fbL4TuzuZ1kVWDMoUsAFCg4HYe/WlTwFZJp1vafbr1vsr77eVvL3RHGDgbMHPfINdVRQBiHw3bw+HJ9Itmk2TRsrSSNuYk9z+NUP8AhBbGe3ja4kmS8UxuJ42GUZF28BgRjHYg11VFAHIzfDnS5tp+1XqP5LwvIHQs4c5J5U7T7rirVt4H0u20u4sVe5aO4WJZGaT5iIxhR06Y6+tdJRQBiXfhPTr3Umvp/NMzSRyHD8ZQHaMeg3E/WqWoeCbGbRreytlLLaQSQQxzOSpEgwxbHJOCefeuoooA5Pw74SudM1qTUdRvZbp1tltbdZJC/loDk9gM9B07VbvvBem31pcwvJcI1xerfNKrgsJVAA4IKkAKBggiuhooA5ez8BadZSxSR3N4zRX73+XdTvkePy2B+XlSO3bsRVYfD+1sbZItJuriLYhgh8xgRbxufn2gAZbGQCxOM12NFAFexsodP0+CztU8uCCMRxoP4VAwBU9LRQAUUUUABooooAKDRRQAlLRRQAUUUUABpKWigD//2Q==)"
   ]
  },
  {
   "cell_type": "code",
   "execution_count": 138,
   "metadata": {
    "id": "cZInWTjSBiwz"
   },
   "outputs": [],
   "source": [
    "gradient_0=(1/m)*sum(y_predict-y)\n",
    "gradient_1=(1/m)*sum((y_predict-y)*x)"
   ]
  },
  {
   "cell_type": "markdown",
   "metadata": {
    "id": "bRf2TsuDBiwz"
   },
   "source": [
    "### Step5: Update the parameters (simultaneously)\n",
    "![7.JPG](data:image/jpeg;base64,/9j/4AAQSkZJRgABAQEAYABgAAD/4REARXhpZgAATU0AKgAAAAgABAE7AAIAAAASAAAISodpAAQAAAABAAAIXJydAAEAAAAkAAAQ1OocAAcAAAgMAAAAPgAAAAAc6gAAAAgAAAAAAAAAAAAAAAAAAAAAAAAAAAAAAAAAAAAAAAAAAAAAAAAAAAAAAAAAAAAAAAAAAAAAAAAAAAAAAAAAAAAAAAAAAAAAAAAAAAAAAAAAAAAAAAAAAAAAAAAAAAAAAAAAAAAAAAAAAAAAAAAAAAAAAAAAAAAAAAAAAAAAAAAAAAAAAAAAAAAAAAAAAAAAAAAAAAAAAAAAAAAAAAAAAAAAAAAAAAAAAAAAAAAAAAAAAAAAAAAAAAAAAAAAAAAAAAAAAAAAAAAAAAAAAAAAAAAAAAAAAAAAAAAAAAAAAAAAAAAAAAAAAAAAAAAAAAAAAAAAAAAAAAAAAAAAAAAAAAAAAAAAAAAAAAAAAAAAAAAAAAAAAAAAAAAAAAAAAAAAAAAAAAAAAAAAAAAAAAAAAAAAAAAAAAAAAAAAAAAAAAAAAAAAAAAAAAAAAAAAAAAAAAAAAAAAAAAAAAAAAAAAAAAAAAAAAAAAAAAAAAAAAAAAAAAAAAAAAAAAAAAAAAAAAAAAAAAAAAAAAAAAAAAAAAAAAAAAAAAAAAAAAAAAAAAAAAAAAAAAAAAAAAAAAAAAAAAAAAAAAAAAAAAAAAAAAAAAAAAAAAAAAAAAAAAAAAAAAAAAAAAAAAAAAAAAAAAAAAAAAAAAAAAAAAAAAAAAAAAAAAAAAAAAAAAAAAAAAAAAAAAAAAAAAAAAAAAAAAAAAAAAAAAAAAAAAAAAAAAAAAAAAAAAAAAAAAAAAAAAAAAAAAAAAAAAAAAAAAAAAAAAAAAAAAAAAAAAAAAAAAAAAAAAAAAAAAAAAAAAAAAAAAAAAAAAAAAAAAAAAAAAAAAAAAAAAAAAAAAAAAAAAAAAAAAAAAAAAAAAAAAAAAAAAAAAAAAAAAAAAAAAAAAAAAAAAAAAAAAAAAAAAAAAAAAAAAAAAAAAAAAAAAAAAAAAAAAAAAAAAAAAAAAAAAAAAAAAAAAAAAAAAAAAAAAAAAAAAAAAAAAAAAAAAAAAAAAAAAAAAAAAAAAAAAAAAAAAAAAAAAAAAAAAAAAAAAAAAAAAAAAAAAAAAAAAAAAAAAAAAAAAAAAAAAAAAAAAAAAAAAAAAAAAAAAAAAAAAAAAAAAAAAAAAAAAAAAAAAAAAAAAAAAAAAAAAAAAAAAAAAAAAAAAAAAAAAAAAAAAAAAAAAAAAAAAAAAAAAAAAAAAAAAAAAAAAAAAAAAAAAAAAAAAAAAAAAAAAAAAAAAAAAAAAAAAAAAAAAAAAAAAAAAAAAAAAAAAAAAAAAAAAAAAAAAAAAAAAAAAAAAAAAAAAAAAAAAAAAAAAAAAAAAAAAAAAAAAAAAAAAAAAAAAAAAAAAAAAAAAAAAAAAAAAAAAAAAAAAAAAAAAAAAAAAAAAAAAAAAAAAAAAAAAAAAAAAAAAAAAAAAAAAAAAAAAAAAAAAAAAAAAAAAAAAAAAAAAAAAAAAAAAAAAAAAAAAAAAAAAAAAAAAAAAAAAAAAAAAAAAAAAAAAAAAAAAAAAAAAAAAAAAAAAAAAAAAAAAAAAAAAAAAAAAAAAAAAAAAAAAAAAAAAAAAAAAAAAAAAAAAAAAAAAAAAAAAAAAAAAAAAAAAAAAAAAAAAAAAAAAAAAAAAAAAAAAAAAAAAAAAAAAAAAAAAAAAAAAAAAAAAAAAAAAAAAAAAAAAAAAAAAAAAAAAAAAAAAAAAAAAAAAAAAAAAAAAAAAAAAAAAAAAAAAAAAAAAAAAAAAAAAAAAAAAAAAAAAAAAAAAAAAAAAAAAAAAAAAAAAAAAAAAAAAAAAAAAAAAAAAAAAAAAAAAAAAAAAAAAAAAAAAAAAAAAAAAAAAAAAAAAAAAAAAAAAAAAAAAAAAAAAAAAAAAAAAAAAAAAAAAAAAAAAAAAAAAAAAAAAAAAAAAAAAAAAAAAAAAAAAAAAAAAAAAAAAAAAAAAAAAAAAAAAAAAAAAAAAAAAAAAAAAAAAAAAAAAAAAAAAAAAAAAAAAAAAAAAAAAAAAAAAAAAAAAAAAAAAAAAAAAAAAAAAAAAAAAAAAAAAAAAAAAAAAAAAAAAAAAAAAAAAAAAAAAAAAAAAAAAAAAAAAAAAAAAAAAAAAAAAAAAAAAAAAAAAAAAAAAAAAAAAAAAAAAAAAAAAAAAAAAAAAAAAAAAAAAAAAAAAAAAAAAAAAAAAAAAAAAAAAAAAAAAAAAAAAAAAAAAAAAAAAAAAAAAAAAAAAAAAAAAAAAAAAAAAAAAAAAAAAAAAAAAAAAAAAAAAAAAAAAAAAAAAAAAAAAAAAAAAAAAAAAAAAAAAAAAAAAAAAAAAAAAAAAAAAAAAAAAAAAAAAAAAAAAAAAAAAAAAAAAAAAAAAAAAAAAAAAAAAAAAAAAAAAAAAAAAAAAAAAAAAAAAAAAAAAAAAAAAAAAAAAAAAAAAAAAAAAAAAAAAAAAAAAAAAAAAAAAAAAAAAAAAAAAAAAAAAAAAAAAAAAAAAAAAAAAAAAAAAAAAAAAAAAAAAAAAAAAAAAAAAAAAAAAAAAAAAAAAAAAAAAAAAAAAAAAAAAAAAAAAAAAAAAAAAAAAAAAAAAAAAAAAAAAAAAAAAAAAAAAAAAAAAAAAAAAAAAAAAAAAAAAAAAAAAAAAAAAAAAAAAAAAAAAAAAAAAAAAAAAAAAAAAAAAAAAAAAAAAAAAAAAAAAAAAAAAAAAAAAAAAAAAAAAAAAAAAAAAAAAAAAAAAAAAAAAAAAAAAAAAAAAAAAAAAAAAAAAAAAAAAAAAAAAAAAAAEFobWVkIEFiZGVscmVoZWVtAAAFkAMAAgAAABQAABCqkAQAAgAAABQAABC+kpEAAgAAAAM1MQAAkpIAAgAAAAM1MQAA6hwABwAACAwAAAieAAAAABzqAAAACAAAAAAAAAAAAAAAAAAAAAAAAAAAAAAAAAAAAAAAAAAAAAAAAAAAAAAAAAAAAAAAAAAAAAAAAAAAAAAAAAAAAAAAAAAAAAAAAAAAAAAAAAAAAAAAAAAAAAAAAAAAAAAAAAAAAAAAAAAAAAAAAAAAAAAAAAAAAAAAAAAAAAAAAAAAAAAAAAAAAAAAAAAAAAAAAAAAAAAAAAAAAAAAAAAAAAAAAAAAAAAAAAAAAAAAAAAAAAAAAAAAAAAAAAAAAAAAAAAAAAAAAAAAAAAAAAAAAAAAAAAAAAAAAAAAAAAAAAAAAAAAAAAAAAAAAAAAAAAAAAAAAAAAAAAAAAAAAAAAAAAAAAAAAAAAAAAAAAAAAAAAAAAAAAAAAAAAAAAAAAAAAAAAAAAAAAAAAAAAAAAAAAAAAAAAAAAAAAAAAAAAAAAAAAAAAAAAAAAAAAAAAAAAAAAAAAAAAAAAAAAAAAAAAAAAAAAAAAAAAAAAAAAAAAAAAAAAAAAAAAAAAAAAAAAAAAAAAAAAAAAAAAAAAAAAAAAAAAAAAAAAAAAAAAAAAAAAAAAAAAAAAAAAAAAAAAAAAAAAAAAAAAAAAAAAAAAAAAAAAAAAAAAAAAAAAAAAAAAAAAAAAAAAAAAAAAAAAAAAAAAAAAAAAAAAAAAAAAAAAAAAAAAAAAAAAAAAAAAAAAAAAAAAAAAAAAAAAAAAAAAAAAAAAAAAAAAAAAAAAAAAAAAAAAAAAAAAAAAAAAAAAAAAAAAAAAAAAAAAAAAAAAAAAAAAAAAAAAAAAAAAAAAAAAAAAAAAAAAAAAAAAAAAAAAAAAAAAAAAAAAAAAAAAAAAAAAAAAAAAAAAAAAAAAAAAAAAAAAAAAAAAAAAAAAAAAAAAAAAAAAAAAAAAAAAAAAAAAAAAAAAAAAAAAAAAAAAAAAAAAAAAAAAAAAAAAAAAAAAAAAAAAAAAAAAAAAAAAAAAAAAAAAAAAAAAAAAAAAAAAAAAAAAAAAAAAAAAAAAAAAAAAAAAAAAAAAAAAAAAAAAAAAAAAAAAAAAAAAAAAAAAAAAAAAAAAAAAAAAAAAAAAAAAAAAAAAAAAAAAAAAAAAAAAAAAAAAAAAAAAAAAAAAAAAAAAAAAAAAAAAAAAAAAAAAAAAAAAAAAAAAAAAAAAAAAAAAAAAAAAAAAAAAAAAAAAAAAAAAAAAAAAAAAAAAAAAAAAAAAAAAAAAAAAAAAAAAAAAAAAAAAAAAAAAAAAAAAAAAAAAAAAAAAAAAAAAAAAAAAAAAAAAAAAAAAAAAAAAAAAAAAAAAAAAAAAAAAAAAAAAAAAAAAAAAAAAAAAAAAAAAAAAAAAAAAAAAAAAAAAAAAAAAAAAAAAAAAAAAAAAAAAAAAAAAAAAAAAAAAAAAAAAAAAAAAAAAAAAAAAAAAAAAAAAAAAAAAAAAAAAAAAAAAAAAAAAAAAAAAAAAAAAAAAAAAAAAAAAAAAAAAAAAAAAAAAAAAAAAAAAAAAAAAAAAAAAAAAAAAAAAAAAAAAAAAAAAAAAAAAAAAAAAAAAAAAAAAAAAAAAAAAAAAAAAAAAAAAAAAAAAAAAAAAAAAAAAAAAAAAAAAAAAAAAAAAAAAAAAAAAAAAAAAAAAAAAAAAAAAAAAAAAAAAAAAAAAAAAAAAAAAAAAAAAAAAAAAAAAAAAAAAAAAAAAAAAAAAAAAAAAAAAAAAAAAAAAAAAAAAAAAAAAAAAAAAAAAAAAAAAAAAAAAAAAAAAAAAAAAAAAAAAAAAAAAAAAAAAAAAAAAAAAAAAAAAAAAAAAAAAAAAAAAAAAAAAAAAAAAAAAAAAAAAAAAAAAAAAAAAAAAAAAAAAAAAAAAAAAAAAAAAAAAAAAAAAAAAAAAAAAAAAAAAAAAAAAAAAAAAAAAAAAAAAAAAAAAAAAAAAAAAAAAAAAAAAAAAAAAAAAAAAAAAAAAAAAAAAAAAAAAAAAAAAAAAAAAAAAAAAAAAAAAAAAAAAAAAAAAAAAAAAAAAAAAAAAAAAAAAAAAAAAAAAAAAAAAAAAAAAAAAAAAAAAAAAAAAAAAAAAAAAAAAAAAAAAAAAAAAAAAAAAAAAAAAAAAAAAAAAAAAAAAAAAAAAAAAAAAAAAAAAAAAAAAAAAAAAAAAAAAAAAAAAAAAAAAAAAAAAAAAAAAAAAAAAAAAAAAAAAAAAAAAAAAAAAAAAAAAAAAAAAAAAAAAAAAAAAAAAAAAAAAAAAAAAAAAAAAAAAAAAAAAAAAAAAAAAAAAAAAAAAAAAAAAAAAAAAAAAAAAAAAAAAAAAAAAAAAAAAAAAAAAAAAAAAAAAAAAAAAAAAAAAAAAAAAAAAAAAAAAAAAAAAAAAAAAAAAAAAAAAAAAAAAAAAAAAAAAAAAAAAAAAAAAAAAAAAAAAAAAAAAAAAAAAAAAAAAAAAAAAAAAAAAAAAAAAAAAAAAAAAAAAAAAAAAAAAAAAAAAAAAAAAAAAAAAAAAAAAAAAAAAAAAAAAAAAAAAAAAAAAAAAAAAAAAAAAAAAAAAAAAAAAAAAAAAAAAAAAAAAAAAAAAAAAAAAAAAAAAAAAAAAAAAAAAAAAAAAAAAAAAAAAAAAAAAAAAAAAAAAAAAAAAAAAAAAAAAAAAAAAAAAAAAAAAAAAAAAAAAAAAAAAAAAAAAAAAAAAAAAAAAAAAAAAAAAAAAAAAAAAAAAAAAAAAAAAAAAAAAAAAAAAAAAAAAAAAAAAAAAAAAAAAAAAAAAAAAAAAAAAAAAAAAAAAAAAMjAyMTowNzowNyAxMToyMzo0MgAyMDIxOjA3OjA3IDExOjIzOjQyAAAAQQBoAG0AZQBkACAAQQBiAGQAZQBsAHIAZQBoAGUAZQBtAAAA/+ELJGh0dHA6Ly9ucy5hZG9iZS5jb20veGFwLzEuMC8APD94cGFja2V0IGJlZ2luPSfvu78nIGlkPSdXNU0wTXBDZWhpSHpyZVN6TlRjemtjOWQnPz4NCjx4OnhtcG1ldGEgeG1sbnM6eD0iYWRvYmU6bnM6bWV0YS8iPjxyZGY6UkRGIHhtbG5zOnJkZj0iaHR0cDovL3d3dy53My5vcmcvMTk5OS8wMi8yMi1yZGYtc3ludGF4LW5zIyI+PHJkZjpEZXNjcmlwdGlvbiByZGY6YWJvdXQ9InV1aWQ6ZmFmNWJkZDUtYmEzZC0xMWRhLWFkMzEtZDMzZDc1MTgyZjFiIiB4bWxuczpkYz0iaHR0cDovL3B1cmwub3JnL2RjL2VsZW1lbnRzLzEuMS8iLz48cmRmOkRlc2NyaXB0aW9uIHJkZjphYm91dD0idXVpZDpmYWY1YmRkNS1iYTNkLTExZGEtYWQzMS1kMzNkNzUxODJmMWIiIHhtbG5zOnhtcD0iaHR0cDovL25zLmFkb2JlLmNvbS94YXAvMS4wLyI+PHhtcDpDcmVhdGVEYXRlPjIwMjEtMDctMDdUMTE6MjM6NDIuNTA4PC94bXA6Q3JlYXRlRGF0ZT48L3JkZjpEZXNjcmlwdGlvbj48cmRmOkRlc2NyaXB0aW9uIHJkZjphYm91dD0idXVpZDpmYWY1YmRkNS1iYTNkLTExZGEtYWQzMS1kMzNkNzUxODJmMWIiIHhtbG5zOmRjPSJodHRwOi8vcHVybC5vcmcvZGMvZWxlbWVudHMvMS4xLyI+PGRjOmNyZWF0b3I+PHJkZjpTZXEgeG1sbnM6cmRmPSJodHRwOi8vd3d3LnczLm9yZy8xOTk5LzAyLzIyLXJkZi1zeW50YXgtbnMjIj48cmRmOmxpPkFobWVkIEFiZGVscmVoZWVtPC9yZGY6bGk+PC9yZGY6U2VxPg0KCQkJPC9kYzpjcmVhdG9yPjwvcmRmOkRlc2NyaXB0aW9uPjwvcmRmOlJERj48L3g6eG1wbWV0YT4NCiAgICAgICAgICAgICAgICAgICAgICAgICAgICAgICAgICAgICAgICAgICAgICAgICAgICAgICAgICAgICAgICAgICAgICAgICAgICAgICAgICAgICAgICAgICAgICAgICAgICAKICAgICAgICAgICAgICAgICAgICAgICAgICAgICAgICAgICAgICAgICAgICAgICAgICAgICAgICAgICAgICAgICAgICAgICAgICAgICAgICAgICAgICAgICAgICAgICAgICAgIAogICAgICAgICAgICAgICAgICAgICAgICAgICAgICAgICAgICAgICAgICAgICAgICAgICAgICAgICAgICAgICAgICAgICAgICAgICAgICAgICAgICAgICAgICAgICAgICAgICAgCiAgICAgICAgICAgICAgICAgICAgICAgICAgICAgICAgICAgICAgICAgICAgICAgICAgICAgICAgICAgICAgICAgICAgICAgICAgICAgICAgICAgICAgICAgICAgICAgICAgICAKICAgICAgICAgICAgICAgICAgICAgICAgICAgICAgICAgICAgICAgICAgICAgICAgICAgICAgICAgICAgICAgICAgICAgICAgICAgICAgICAgICAgICAgICAgICAgICAgICAgIAogICAgICAgICAgICAgICAgICAgICAgICAgICAgICAgICAgICAgICAgICAgICAgICAgICAgICAgICAgICAgICAgICAgICAgICAgICAgICAgICAgICAgICAgICAgICAgICAgICAgCiAgICAgICAgICAgICAgICAgICAgICAgICAgICAgICAgICAgICAgICAgICAgICAgICAgICAgICAgICAgICAgICAgICAgICAgICAgICAgICAgICAgICAgICAgICAgICAgICAgICAKICAgICAgICAgICAgICAgICAgICAgICAgICAgICAgICAgICAgICAgICAgICAgICAgICAgICAgICAgICAgICAgICAgICAgICAgICAgICAgICAgICAgICAgICAgICAgICAgICAgIAogICAgICAgICAgICAgICAgICAgICAgICAgICAgICAgICAgICAgICAgICAgICAgICAgICAgICAgICAgICAgICAgICAgICAgICAgICAgICAgICAgICAgICAgICAgICAgICAgICAgCiAgICAgICAgICAgICAgICAgICAgICAgICAgICAgICAgICAgICAgICAgICAgICAgICAgICAgICAgICAgICAgICAgICAgICAgICAgICAgICAgICAgICAgICAgICAgICAgICAgICAKICAgICAgICAgICAgICAgICAgICAgICAgICAgICAgICAgICAgICAgICAgICAgICAgICAgICAgICAgICAgICAgICAgICAgICAgICAgICAgICAgICAgICAgICAgICAgICAgICAgIAogICAgICAgICAgICAgICAgICAgICAgICAgICAgICAgICAgICAgICAgICAgICAgICAgICAgICAgICAgICAgICAgICAgICAgICAgICAgICAgICAgICAgICAgICAgICAgICAgICAgCiAgICAgICAgICAgICAgICAgICAgICAgICAgICAgICAgICAgICAgICAgICAgICAgICAgICAgICAgICAgICAgICAgICAgICAgICAgICAgICAgICAgICAgICAgICAgICAgICAgICAKICAgICAgICAgICAgICAgICAgICAgICAgICAgICAgICAgICAgICAgICAgICAgICAgICAgICAgICAgICAgICAgICAgICAgICAgICAgICAgICAgICAgICAgICAgICAgICAgICAgIAogICAgICAgICAgICAgICAgICAgICAgICAgICAgICAgICAgICAgICAgICAgICAgICAgICAgICAgICAgICAgICAgICAgICAgICAgICAgICAgICAgICAgICAgICAgICAgICAgICAgCiAgICAgICAgICAgICAgICAgICAgICAgICAgICAgICAgICAgICAgICAgICAgICAgICAgICAgICAgICAgICAgICAgICAgICAgICAgICAgICAgICAgICAgICAgICAgICAgICAgICAKICAgICAgICAgICAgICAgICAgICAgICAgICAgICAgICAgICAgICAgICAgICAgICAgICAgICAgICAgICAgICAgICAgICAgICAgICAgICAgICAgICAgICAgICAgICAgICAgICAgIAogICAgICAgICAgICAgICAgICAgICAgICAgICAgICAgICAgICAgICAgICAgICAgICAgICAgICAgICAgICAgICAgICAgICAgICAgICAgICAgICAgICAgICAgICAgICAgICAgICAgCiAgICAgICAgICAgICAgICAgICAgICAgICAgICAgICAgICAgICAgICAgICAgICAgICAgICAgICAgICAgICAgICAgICAgICAgICAgICAgICAgICAgICAgICAgICAgICAgICAgICAKICAgICAgICAgICAgICAgICAgICAgICAgICAgICAgICAgICAgICAgICAgICAgICAgICAgICAgICAgICAgICAgICAgICAgICAgICAgICAgICAgICAgICAgICAgICAgICAgICAgIAogICAgICAgICAgICAgICAgICAgICAgICAgICAgPD94cGFja2V0IGVuZD0ndyc/Pv/bAEMABwUFBgUEBwYFBggHBwgKEQsKCQkKFQ8QDBEYFRoZGBUYFxseJyEbHSUdFxgiLiIlKCkrLCsaIC8zLyoyJyorKv/bAEMBBwgICgkKFAsLFCocGBwqKioqKioqKioqKioqKioqKioqKioqKioqKioqKioqKioqKioqKioqKioqKioqKioqKv/AABEIAHAB0AMBIgACEQEDEQH/xAAfAAABBQEBAQEBAQAAAAAAAAAAAQIDBAUGBwgJCgv/xAC1EAACAQMDAgQDBQUEBAAAAX0BAgMABBEFEiExQQYTUWEHInEUMoGRoQgjQrHBFVLR8CQzYnKCCQoWFxgZGiUmJygpKjQ1Njc4OTpDREVGR0hJSlNUVVZXWFlaY2RlZmdoaWpzdHV2d3h5eoOEhYaHiImKkpOUlZaXmJmaoqOkpaanqKmqsrO0tba3uLm6wsPExcbHyMnK0tPU1dbX2Nna4eLj5OXm5+jp6vHy8/T19vf4+fr/xAAfAQADAQEBAQEBAQEBAAAAAAAAAQIDBAUGBwgJCgv/xAC1EQACAQIEBAMEBwUEBAABAncAAQIDEQQFITEGEkFRB2FxEyIygQgUQpGhscEJIzNS8BVictEKFiQ04SXxFxgZGiYnKCkqNTY3ODk6Q0RFRkdISUpTVFVWV1hZWmNkZWZnaGlqc3R1dnd4eXqCg4SFhoeIiYqSk5SVlpeYmZqio6Slpqeoqaqys7S1tre4ubrCw8TFxsfIycrS09TV1tfY2dri4+Tl5ufo6ery8/T19vf4+fr/2gAMAwEAAhEDEQA/APpGjFFFACYFLRRQAUUUUAFFFFABRRRQAUUUUAFFFFABRRRQAUUUUAFFFFABRRRQAUUUUAFFFFABRRRQAUUUUAFFFITQByHifxYtl4j07w9b3It7vUM4k27io9h6/Wl1HSdc0+ya707W7iaeFS3kzohSTHODgAj8KreILjw1F4ts7iW1+367FnyIrf5nX69hWpP4haKNo9R06W0jeM4kZgy5x0PpQAvgnxUni7w6moKgilVjHNGDnY44Iro68f8AgLctc23iEpkQ/b2KAdB16V6+O9AC0UUUAFGAaKKADApMClooAKKKKACiiigAooooAKKKKACiiigAooooATaKXFFFABRRRQAUUUUAFFNeVI0LuwVQMkscAVm2niPSr69a0tL6Ga4UEmNW5IHXHr+FAGpRQKKACiiigAooooAKKKKACiiigAooqG5vILSFpbmVYo1GWZzgCgCais7Tde07Vt39n3Uc+0ZIXIIHrg1o0AFFFFABRRRQAUUUUAFFFFABRRRQAUUUUAFYHjbXx4Z8HalqxGTbQlkHq3b9a365j4g6FL4m8D6ppVscTTwER57sOQP0oA474IaRNc6HP4o1XMt/qkhfe/VUz0FbnxguFtPhlq0hk8tzFtjPfdmqvw+8U6Zpfg+10vVZfsF7p8flTwzIVwR3HGD+FZ3iO3v/AIn6/Z2NlBJH4ZtJBJdXEo2faWHRUB5I96ALnwI8PS6F8OIHuAVmvX85w3XnpXpdQ2ltHZ2scEKhY41Cqo7AVNQAUUUUAFFBOOtUpNZ02GRkmvraN16q0ygj9aALtFVINVsLqTZbXlvK2M7Y5VY/oastIqrljgUAOorP07WLfVWmNnveKJtvm4+Vj3x61eLgAk9qAHUVkjxNo5vxZjUIDOW2hA2efTPTPtWsDnpQAUUUUAFFFFABRTWcKMnpWYviXSWvhaC/gMxbbs3d/TPTNAGrRSA5paACiq1/efYrOS48mSYRjJSMZY/Smabqtpq1mtzYyeZG35qe4I7GgC5RRRQAUZoPSqmo3aWGnT3UnCwxmQ/gKAPOvFuvTeJPiDa+B9MkZYUUT6jKnZeyfjVb4svD4W0/w5e6Wi288GpxRo6DGVPBBPcYrlfg9rN1NqGv+KpdEvb6XU7pvLniQEBAegz9aj+LHiS58UeL/C3huLTri0ka+SZo7gAFhnAI/WgD6DgffAjDoyg1JTIRsiVfQAVGt7bNeNarcRGdRuMQcbgPXHWgCegnFFMfPagB2RS15/4T1Xxpd+N9WtfEFgsGkxZ+zS7cZ54x6961te8YXGiah9nj8PapqA2g+baxBl+maAOqorgv+Fk3n/Qma/8A9+B/jR/wsm8IOPBmvZxx+4H+NAHe0VymheMrjWdUW1k8OapYBgSZbmMBR+NdWaAELAKSTgCvMLO9f4hfEG9j3OND0NxHtB+W4m6nPqBXV+Pdb/4R/wAE6lqA+9HC23JxzivOvg9qdzovgGBjoN/cTXkr3Ms0agiQseDkmgDZ1u5TRvjR4dis8RLfRPDKijAYY44+uK9QX7o+leEwarN4u/aO00raSQJpNu7SRzdVyP8AHFe7KflGTzQAtFQw3dvcSyxwTJI8J2yKrAlT6H0qagAopCcUbqAFopM0bh9KAFoJxRketUNa1e00TR7jUb+QJbwIWZqALxYDqQKNw9a888Oar4g8d2z6msh0jSmYi0CD97KP7xPYe1GmeK9Q0j4gL4T12T7R9oj8yzusYLj0I9aAPRMiisvS9VGo3V6sSfu7abyd+fvMACfyyK091AC03GScilzRmgCpLplpPJvmto3b+8yDNTxwrCu2NQqjoAOKkzRmgAFLSZozQAtFGaM0AB6V5p8aYNN074b6vftbR/anj8uOTGG3NxkfnXpR6V4j8fdQGo3nh3wnA2ZtRvkZl9VB4/UigDsPhN4at9H8B6XM0I+1zQCR5GOSd3PWp/iDq80f9m6BYOVu9Xn8vK9VjAyx/KuusLVbLToLaMALFGqDHsK89kZ9T/aBigfHl6VpRkAPcyNjI/75oA73S9Ni0vTorS1TZHGoAH9a4r4keI7qK707wxorsNQ1R8Oy9Y4u59q9DJCryeleA+H9euNa+OGu66un3WoW2nZtIRb4YJjg/mQaAO18faRZ+HPhTeyWMaxzWcaypKPveYCDnPua7Xwzff2n4Z0+8zkzW6MSfXFeRfGrxjcXngtNGGj31nNqVzHEhlUAP82SOvoK9c8P28ek+GLGCQrEsNuobccBeOaANaiq1vqNldsRa3cExUZIjkDY/KrNABSN0paZKwSMs3QDJoA8++JHiO6W80/wtosjLf6pIFZ1PMcfc/lVf4h6VbeGfhXOdPj2yWWx45cfNuzyc+9cX4b8RXGsfGfWNbXTLrUIbHNvEIQG2ds1e+MnjG5vfC8Gj/2Te2UmoXCRgzKPmGe2KAPW/C97JqPhjTrub781ujMPfFa9ZXhmz/s/wzp1oeTFbqvP0rRjuIpWZYpEcqcMFYHBoAcy561wMVyPCvxLj08fLY60CyDsso/xr0CvNfi9vsLXRNZiOHstRiP1BOKAPSgcgGimxtvjDDoeRTqACuf8cmYeCdV+zcv9mf8A9BNdBUF3ax3lpJbzLlJFKsPagDhPgxZR6d8IdGCnPmRGZj9STXOeG9PPjP4333iiRS+naOptbV2HDSd8fTNdHpnhTXtK8Lt4btbuJLNXdI7g58xYmJOB784rrtB0O08PaNBp2nxhIoVwMdWPcn3JoAsXuoW+nw+ZdSBFHA9SfQCsPQh4f1PxHf6zpuG1EKttcsQQygcgEHp1rXvLGGS6jvZix+zqdqk/KPeuI+FsbX+o+JteYErfaiYojn+CMAfzzQB6OvSloFRyDdwOvagBcgsccke9cv4g8bRaBqAtZNJ1O7O3O+2tWkX8wKw/Bvw91bw98QNY1y+1h7q1vs7LfJ4yR1z6V6LtBoA4E/FO3/6F7Xv/AAAf/Ck/4Wlb9vDuvf8AgA/+Fd/tFG0UAclofjuLWtXjsl0jVbYtn95cWrIg/EiuvpoUA040AebfHQM3wwvFXPzOin8TXTaRJbaF4BspTtjht7FHPoPkB/mat+JtDi8ReHrvTJ+FuEK59DXMXHhbXdY0Ww0TVbqKGwt0RLgwZ3TheApz2IAzQBi/CLRpL7V9Z8Z3sW2XUpSkGR/yzB6/pXoup6zZaSmb5ypboqgsx98DnFXLO0gsLOK2tYxHFGoVFA4ArnvE62+iaXquuyMzTrbHaWP3AB0X055oAm8JW+g/ZbrUfDpR4r+YyzSK2cuOOfQ+1dEOlcJ8HbKW1+HFlLcbvNvXkun3dcs3+ArvKAM3W9MfVrPyI72ezYMD5kD7W+lc9/wgt0eviXVf+/xrs6KAOM/4QS67eJdV/wC/xq9pHha40q/W5k1q/u1AIMU8pKmulooAaK8k+P1xMfDemadFI0cV7fJHJjuM9K9dPSua8beEoPF2ii0kYRTQyLLBLjOxx0oA1NFsY9N0SytIQBHDCqjA9q8d+JUt1b/HLw1Jp8bSTmEqgB6c9a9OgHiaKxigYWLOqbWmOee2cZrm9Z+G91eeINL8QWuoySapZybpGmOVkX+6B2H0oA7XQdM/snSY7ctukJLyv/edjkn9f0rM13wfHrd+bl9RvrfK7SsM5VR74rW0mO/jtnbU5Ved5C2EGFQcYUfl+taNAHD/APCtLc/8xjVf/Apv8aP+FZ2//QY1X/wKb/Gta7164m1OXT9EtVuZoSPOkkbCRn046mqk3iu50a+gg8R2qW0NxJ5Ud1GxKbj0DZ6ZoAqf8Kzt/wDoMar/AOBTf40f8Kzt/wDoMar/AOBTf412qnKgjkYyK5vUfGEMWvjQ9Lga91HZvkRT8sK+rH+lAGd/wrO3/wCgxqv/AIFN/jR/wrS3/wCgxqv/AIFN/jWv4d8TLrF1e2FxEIb6xcLNHnIwehHtXQCgDkLDwDDp+oQ3S6pqUhibIWS4YqfqM10l9fQadYzXl5KsUEKF3djwAO9XKy/EWjRa/oF5plwxWO6iMbEds0AUvCvjHR/GNhLeaJcieKKQxtxjBryZmPiv9qK3UHzLfRYS5yOFIH+OK7jRfDWq+F/DH9heH9PsbQ7dv2lM8noWI7mtLwL4Ds/B8E8zObnUrx99zdvyzn0+lAHXD7vPWvNtNkEP7Q2sRvgGbR4Cue+HavS6848WpHofxR8O6/KMRXEclhM4HQtgoSfqMfjQB319kWExXqEbH5V5H+zzZLFoOt3z582fUpVk3ex/+vXsYwyeoI/OuGs/C+raBd6tDoLQJZahObhdwO6F2+9j155oA5bxPbHx98ZtJ022xLpug/6VdMPu7/4R9a2PFmrDVPiRpPhE5Fs6efcDs4HRTXU+FPCtv4X0+SKI+dc3EhluLl/vSue5P8q4fXLOS2/aE0a+mGy3mtTEjH+96UAX/iTBB4U0SDxBpMS2tzZzIpeIbd0ZOCpHfivQtNu1vdMt7pfuzRq4z7iuA+NoMvw7kto+XmuIkQep3Cux0q0lTwva2rMY5RbBMjqp29aANcMG6HNVdULLpdyYxlhE2Pyrzr4YeE9W8H65q1jqmqPfrOftCEknbuJ9e5r01hvXa3QjBoA8g+ANiYtF1i8l4kuL192euQai8RRN49+NVjpVurPp+gDzblx90SnkCuo03wjrHhy41aLQZYFttQlMqeYTmFj1xzW94T8LWvhbTzBB+8uJmMl1csBvnkPJZjQBe1TTBf2IgFxNbgEHML7Scdq4X4OhhDr6NI8gTU5VBdsnAPHNemN90/SvM/g+fm8Sf9hab/0I0Aem15l8c8P4JggDBWlvoVHv8wr02vN/HNsNf8eeHdGWPzUgm+13HoEX1oA9Cs4zDZwxHqkaqfwFTU1eFFOoAKMUUUAGKjY7VySKkpCoPWgDgPEXjvTb3whq76PcF7qJmtFQL8xkPGAK1fhxoX/CPeAtOsZFKzbC8uTzvY5NbMXh/SoLo3MOn28cxYtvWMA5Pf61ohQAB6UAKOBRRRQAYoxRRQAUUUUAFFFFABijAoooArX15Dp1jNd3L7IYULucdAK838eeIbXxX4OtNP0KRriTWZFRFUYPl55J9BXp0sMc8TRzIro4wysMgiqVnoWl6fJvsbC3gYDaGjjAIHpQA/SLFNM0e0sol2pbwrGB9BirtAGOlFABRRRQAUUUUAFGKKKADA9KMCiigBNo9KDS1wfxW8dv4H8MedaKr3t0/k26t/ePegBuh+HtL8FeIdU1C616aWbUpml8meXKoCc8CqnxdvrS++E+rT2ssc3kqrKw/hYMMEVqeA/CxsdCgvtczeaveIJrmacZKswztHoB0wK4D9oXzbTS9N07SQsbaxcLbzIoxvA+YcfUUAdxF4tOk/B6DX718yLYB8nu23iqvwc0qWLwaNb1NjLqWtSNdzSP94AnCrn0AHSuP+LdnPZfDnw14Xt32G6ligY/TFdtD4c8R6JoKRx+JxHb2luAFFpHhQo+lAGD4UujN+0F4lSOTMa2aggHjOa9dFeJfAOwuL2/8ReIr+Tz5bq4MKzbcbgDzXs13c/ZbOWfYz+Wpbao5NAFiiszw/q765pMd9JZzWfmEgRTfeAB61p0AJgelLiiigArI8SaDb+I9FlsLngMQyOOqMOQRWvRigDC8NXF6bA2eqoRc2p8suBxIvZq3QKTaPSloAMVja94bsteEJuQyT2774J4zh429Qa2aTAoA5o+E1vb2CbXb2bU1tWDwxyqqorf3sKBk/WuiK4XA9O9SYoxQBmaTpzW81xd3W1rud/nK9Ao6AfhWngUAYooAMUh4FLQeRQBSv7WS8tzFFcy25zndGea5zQvAcXh26uZNO1K8RbqYzyozghmPWuu2+1AWgCvf3f2KxlnKs+xc7VGSawPDWjTJfXGtaoo+3XYwP8ApmnZa6jaDSbaAFFLSYxS0AFFFFABRRRQAUUUUAFFFFABRRRQAUUUUAFFFFABRRRQAUUUUAFFFFABRRRQAUUUUAFFFFABRRRQAV4t8dNOa51Tw1dXaFtNhvkFw3ZAT1Ne01U1DTLXVLN7W/hSaFxhkcZBoADeW8Nr5zSxrCFzv3Dbj1zXlX9nP8TPirbasyN/YOgZ8lyMC4nJ7ewx1rrYfhno0Mn+vvntx922e4JjA9MV1VpYwWNqlvaRrFEgwqqMAUAeZfFnT1bX/C17N/x7Q36iTjhcng5rb+JWtzJov9h6NiXVdU/cxIp5RD95zx0Fddqek2msWbWt/EssTdVI7+tV7Dw3p2nXBuIId05G3zZDuYD0BPQUAU/BfhyHwp4VtNLhH+qXMj/3mPU1neJ/F19pOk3+p2dtE1rY5DCdTmYjqFweP1rrioUY7V5v8Y5ml0Cx0a2RjJqV2kY8sgHGeeKAO58Pap/bWgWepCEwfaoRJ5ZOdue1adVNMtVsdNt7VPuwxKg/AYq3QAUUUUAFFFFABRRRQAUUUUAFFFFABRRRQAUUUUAFFFFABRRRQAUUUUAFFFFABRRRQAUUUUAFFFFABRRRQAUUUUAFFFFABRRRQAUUUUAFFFFABRRRQAUUUUAFFFFABRRRQAUUUUAFFFFABRRRQBz3jWfxBb+HZH8JW8dxqG5QqSMAAueTz3xWBBoWp+KPGGn6zrNoLS002PMUTNlpJT1bA6D0zXfMM0qrgmgAUY+lLRRQAUUUUAFFFFABRRRQAUUUUAFFFFABRRRQAUUUUAFFFFABRRRQAUUUUAf/2Q==)"
   ]
  },
  {
   "cell_type": "code",
   "execution_count": 139,
   "metadata": {
    "id": "KzoL_XJ_Biw0"
   },
   "outputs": [
    {
     "name": "stdout",
     "output_type": "stream",
     "text": [
      "[0.000136]\n",
      "[10.0005444]\n"
     ]
    }
   ],
   "source": [
    "theta_0=theta_0-alpha*gradient_0\n",
    "theta_1=theta_1-alpha*gradient_1\n",
    "print(theta_0)\n",
    "print(theta_1)"
   ]
  },
  {
   "cell_type": "markdown",
   "metadata": {
    "id": "U1c8ZD51Biw0"
   },
   "source": [
    "### Step6: Repeat from 2 to 5 until converge to the minimum or achieve maximum iterations.\n",
    "\n",
    "\n",
    "![8.JPG](data:image/jpeg;base64,/9j/4AAQSkZJRgABAQEAYABgAAD/4REARXhpZgAATU0AKgAAAAgABAE7AAIAAAASAAAISodpAAQAAAABAAAIXJydAAEAAAAkAAAQ1OocAAcAAAgMAAAAPgAAAAAc6gAAAAgAAAAAAAAAAAAAAAAAAAAAAAAAAAAAAAAAAAAAAAAAAAAAAAAAAAAAAAAAAAAAAAAAAAAAAAAAAAAAAAAAAAAAAAAAAAAAAAAAAAAAAAAAAAAAAAAAAAAAAAAAAAAAAAAAAAAAAAAAAAAAAAAAAAAAAAAAAAAAAAAAAAAAAAAAAAAAAAAAAAAAAAAAAAAAAAAAAAAAAAAAAAAAAAAAAAAAAAAAAAAAAAAAAAAAAAAAAAAAAAAAAAAAAAAAAAAAAAAAAAAAAAAAAAAAAAAAAAAAAAAAAAAAAAAAAAAAAAAAAAAAAAAAAAAAAAAAAAAAAAAAAAAAAAAAAAAAAAAAAAAAAAAAAAAAAAAAAAAAAAAAAAAAAAAAAAAAAAAAAAAAAAAAAAAAAAAAAAAAAAAAAAAAAAAAAAAAAAAAAAAAAAAAAAAAAAAAAAAAAAAAAAAAAAAAAAAAAAAAAAAAAAAAAAAAAAAAAAAAAAAAAAAAAAAAAAAAAAAAAAAAAAAAAAAAAAAAAAAAAAAAAAAAAAAAAAAAAAAAAAAAAAAAAAAAAAAAAAAAAAAAAAAAAAAAAAAAAAAAAAAAAAAAAAAAAAAAAAAAAAAAAAAAAAAAAAAAAAAAAAAAAAAAAAAAAAAAAAAAAAAAAAAAAAAAAAAAAAAAAAAAAAAAAAAAAAAAAAAAAAAAAAAAAAAAAAAAAAAAAAAAAAAAAAAAAAAAAAAAAAAAAAAAAAAAAAAAAAAAAAAAAAAAAAAAAAAAAAAAAAAAAAAAAAAAAAAAAAAAAAAAAAAAAAAAAAAAAAAAAAAAAAAAAAAAAAAAAAAAAAAAAAAAAAAAAAAAAAAAAAAAAAAAAAAAAAAAAAAAAAAAAAAAAAAAAAAAAAAAAAAAAAAAAAAAAAAAAAAAAAAAAAAAAAAAAAAAAAAAAAAAAAAAAAAAAAAAAAAAAAAAAAAAAAAAAAAAAAAAAAAAAAAAAAAAAAAAAAAAAAAAAAAAAAAAAAAAAAAAAAAAAAAAAAAAAAAAAAAAAAAAAAAAAAAAAAAAAAAAAAAAAAAAAAAAAAAAAAAAAAAAAAAAAAAAAAAAAAAAAAAAAAAAAAAAAAAAAAAAAAAAAAAAAAAAAAAAAAAAAAAAAAAAAAAAAAAAAAAAAAAAAAAAAAAAAAAAAAAAAAAAAAAAAAAAAAAAAAAAAAAAAAAAAAAAAAAAAAAAAAAAAAAAAAAAAAAAAAAAAAAAAAAAAAAAAAAAAAAAAAAAAAAAAAAAAAAAAAAAAAAAAAAAAAAAAAAAAAAAAAAAAAAAAAAAAAAAAAAAAAAAAAAAAAAAAAAAAAAAAAAAAAAAAAAAAAAAAAAAAAAAAAAAAAAAAAAAAAAAAAAAAAAAAAAAAAAAAAAAAAAAAAAAAAAAAAAAAAAAAAAAAAAAAAAAAAAAAAAAAAAAAAAAAAAAAAAAAAAAAAAAAAAAAAAAAAAAAAAAAAAAAAAAAAAAAAAAAAAAAAAAAAAAAAAAAAAAAAAAAAAAAAAAAAAAAAAAAAAAAAAAAAAAAAAAAAAAAAAAAAAAAAAAAAAAAAAAAAAAAAAAAAAAAAAAAAAAAAAAAAAAAAAAAAAAAAAAAAAAAAAAAAAAAAAAAAAAAAAAAAAAAAAAAAAAAAAAAAAAAAAAAAAAAAAAAAAAAAAAAAAAAAAAAAAAAAAAAAAAAAAAAAAAAAAAAAAAAAAAAAAAAAAAAAAAAAAAAAAAAAAAAAAAAAAAAAAAAAAAAAAAAAAAAAAAAAAAAAAAAAAAAAAAAAAAAAAAAAAAAAAAAAAAAAAAAAAAAAAAAAAAAAAAAAAAAAAAAAAAAAAAAAAAAAAAAAAAAAAAAAAAAAAAAAAAAAAAAAAAAAAAAAAAAAAAAAAAAAAAAAAAAAAAAAAAAAAAAAAAAAAAAAAAAAAAAAAAAAAAAAAAAAAAAAAAAAAAAAAAAAAAAAAAAAAAAAAAAAAAAAAAAAAAAAAAAAAAAAAAAAAAAAAAAAAAAAAAAAAAAAAAAAAAAAAAAAAAAAAAAAAAAAAAAAAAAAAAAAAAAAAAAAAAAAAAAAAAAAAAAAAAAAAAAAAAAAAAAAAAAAAAAAAAAAAAAAAAAAAAAAAAAAAAAAAAAAAAAAAAAAAAAAAAAAAAAAAAAAAAAAAAAAAAAAAAAAAAAAAAAAAAAAAAAAAAAAAAAAAAAAAAAAAAAAAAAAAAAAAAAAAAAAAAAAAAAAAAAAAAAAAAAAAAAAAAAAAAAAAAAAAAAAAAAAAAAAAAAAAAAAAAAAAAAAAAAAAAAAAAAAAAAAAAAAAAAAAAAAAAAAAAAAAAAAAAAAAAAAAAAAAAAAAAAAAAAAAAAAAAAAAAAAAAAAAAAAAAAAAAAAAAAAAAAAAAAAAAAAAAAAAAAAAAAAAAAAAAAAAAAAAAAAAAAAAAAAAAAAAAAAAAAAAAAAAAAAAAAAAAAAAAAAAAAAAAAAAAAAAAAAAAAAAAAAAAAAAAAAAAAAAAAAAAAAAAAAAAAAAAAAAAAAAAAAAAAAAAAAAAAAAAAAAAAAAAAAAAAAAAAAAAAAAAAAAAAAAAAAAAAAAAAAAAAAAAAAAAAAAAAAAAAAAAAAAAAAAAAAAAAAAAAAAAAAAAAAAAAAAAAAAAAAAAAAAAAAAAAAAAAAAAAAAAAAAAAAAAAAAAAAAAAAAAAAAAAAAAAAAAAAAAAAAAAAAAAAAAAAAAAAAAAAAAAAAAAAAAAAAAAAAAAAAAAAAAAAAAAAAAAEFobWVkIEFiZGVscmVoZWVtAAAFkAMAAgAAABQAABCqkAQAAgAAABQAABC+kpEAAgAAAAMyMwAAkpIAAgAAAAMyMwAA6hwABwAACAwAAAieAAAAABzqAAAACAAAAAAAAAAAAAAAAAAAAAAAAAAAAAAAAAAAAAAAAAAAAAAAAAAAAAAAAAAAAAAAAAAAAAAAAAAAAAAAAAAAAAAAAAAAAAAAAAAAAAAAAAAAAAAAAAAAAAAAAAAAAAAAAAAAAAAAAAAAAAAAAAAAAAAAAAAAAAAAAAAAAAAAAAAAAAAAAAAAAAAAAAAAAAAAAAAAAAAAAAAAAAAAAAAAAAAAAAAAAAAAAAAAAAAAAAAAAAAAAAAAAAAAAAAAAAAAAAAAAAAAAAAAAAAAAAAAAAAAAAAAAAAAAAAAAAAAAAAAAAAAAAAAAAAAAAAAAAAAAAAAAAAAAAAAAAAAAAAAAAAAAAAAAAAAAAAAAAAAAAAAAAAAAAAAAAAAAAAAAAAAAAAAAAAAAAAAAAAAAAAAAAAAAAAAAAAAAAAAAAAAAAAAAAAAAAAAAAAAAAAAAAAAAAAAAAAAAAAAAAAAAAAAAAAAAAAAAAAAAAAAAAAAAAAAAAAAAAAAAAAAAAAAAAAAAAAAAAAAAAAAAAAAAAAAAAAAAAAAAAAAAAAAAAAAAAAAAAAAAAAAAAAAAAAAAAAAAAAAAAAAAAAAAAAAAAAAAAAAAAAAAAAAAAAAAAAAAAAAAAAAAAAAAAAAAAAAAAAAAAAAAAAAAAAAAAAAAAAAAAAAAAAAAAAAAAAAAAAAAAAAAAAAAAAAAAAAAAAAAAAAAAAAAAAAAAAAAAAAAAAAAAAAAAAAAAAAAAAAAAAAAAAAAAAAAAAAAAAAAAAAAAAAAAAAAAAAAAAAAAAAAAAAAAAAAAAAAAAAAAAAAAAAAAAAAAAAAAAAAAAAAAAAAAAAAAAAAAAAAAAAAAAAAAAAAAAAAAAAAAAAAAAAAAAAAAAAAAAAAAAAAAAAAAAAAAAAAAAAAAAAAAAAAAAAAAAAAAAAAAAAAAAAAAAAAAAAAAAAAAAAAAAAAAAAAAAAAAAAAAAAAAAAAAAAAAAAAAAAAAAAAAAAAAAAAAAAAAAAAAAAAAAAAAAAAAAAAAAAAAAAAAAAAAAAAAAAAAAAAAAAAAAAAAAAAAAAAAAAAAAAAAAAAAAAAAAAAAAAAAAAAAAAAAAAAAAAAAAAAAAAAAAAAAAAAAAAAAAAAAAAAAAAAAAAAAAAAAAAAAAAAAAAAAAAAAAAAAAAAAAAAAAAAAAAAAAAAAAAAAAAAAAAAAAAAAAAAAAAAAAAAAAAAAAAAAAAAAAAAAAAAAAAAAAAAAAAAAAAAAAAAAAAAAAAAAAAAAAAAAAAAAAAAAAAAAAAAAAAAAAAAAAAAAAAAAAAAAAAAAAAAAAAAAAAAAAAAAAAAAAAAAAAAAAAAAAAAAAAAAAAAAAAAAAAAAAAAAAAAAAAAAAAAAAAAAAAAAAAAAAAAAAAAAAAAAAAAAAAAAAAAAAAAAAAAAAAAAAAAAAAAAAAAAAAAAAAAAAAAAAAAAAAAAAAAAAAAAAAAAAAAAAAAAAAAAAAAAAAAAAAAAAAAAAAAAAAAAAAAAAAAAAAAAAAAAAAAAAAAAAAAAAAAAAAAAAAAAAAAAAAAAAAAAAAAAAAAAAAAAAAAAAAAAAAAAAAAAAAAAAAAAAAAAAAAAAAAAAAAAAAAAAAAAAAAAAAAAAAAAAAAAAAAAAAAAAAAAAAAAAAAAAAAAAAAAAAAAAAAAAAAAAAAAAAAAAAAAAAAAAAAAAAAAAAAAAAAAAAAAAAAAAAAAAAAAAAAAAAAAAAAAAAAAAAAAAAAAAAAAAAAAAAAAAAAAAAAAAAAAAAAAAAAAAAAAAAAAAAAAAAAAAAAAAAAAAAAAAAAAAAAAAAAAAAAAAAAAAAAAAAAAAAAAAAAAAAAAAAAAAAAAAAAAAAAAAAAAAAAAAAAAAAAAAAAAAAAAAAAAAAAAAAAAAAAAAAAAAAAAAAAAAAAAAAAAAAAAAAAAAAAAAAAAAAAAAAAAAAAAAAAAAAAAAAAAAAAAAAAAAAAAAAAAAAAAAAAAAAAAAAAAAAAAAAAAAAAAAAAAAAAAAAAAAAAAAAAAAAAAAAAAAAAAAAAAAAAAAAAAAAAAAAAAAAAAAAAAAAAAAAAAAAAAAAAAAAAAAAAAAAAAAAAAAAAAAAAAAAAAAAAAAAAAAAAAAAAAAAAAAAAAAAAAAAAAAAAAAAAAAAAAAAAAAAAAAAAAAAAAAAAAAAAAAAAAAAAAAAAAAAAAAAAAAAAAAAAAAAAAAAAAAAAAAAAAAAAAAAAAAAAAAAAAAAAAAAAAAAAAAAAAAAAAAAAAAAAAAAAAAAAAAAAAAAAAAAAAAAAAAAAAAAAAAAAAAAAAAAAAAAAAAAAAAAAAAAAAAAAAAAAAAAAAAAAAAAAAAAAAAAAAAAAAAAAAAAAAAAAAAAAAAAAAAAAAAAAAAAAAAAAAAAAAAAAAAAAAAAAAAAAAAAAAAAAAAAAAAAAAAAAAAAAAAAAAAAAAAAAAAAAAAAAAAAAAAAAAAAAAAAAAAAAAAAAAAAAAAAAAAAAAAAAAAAAAAAAAAAAAAAAAAAAAAAAAAAAAAAAAAAAAAAAAAAAAAAAAAAAAAAAAAAAAAAAAAAAAAAAAAAAAAAAAAAAAAAAAAAAAAAAAAAAAAAAAAAAAAAAAAAAAAAAAAAAAAAAAAAAAAAAAAAAAAAAAAAAAAAAAAAAAAAAAAAAAAAAAAAAAAAAAAAAAAAAAAAAAAAAAAAAAAAAAAAAAAAAAAAAAAAAAAAAAAAAAAAAAAAAAAAAAAAAAAAAAAAAAAAMjAyMTowNzowNyAxMToyODoxMgAyMDIxOjA3OjA3IDExOjI4OjEyAAAAQQBoAG0AZQBkACAAQQBiAGQAZQBsAHIAZQBoAGUAZQBtAAAA/+ELJGh0dHA6Ly9ucy5hZG9iZS5jb20veGFwLzEuMC8APD94cGFja2V0IGJlZ2luPSfvu78nIGlkPSdXNU0wTXBDZWhpSHpyZVN6TlRjemtjOWQnPz4NCjx4OnhtcG1ldGEgeG1sbnM6eD0iYWRvYmU6bnM6bWV0YS8iPjxyZGY6UkRGIHhtbG5zOnJkZj0iaHR0cDovL3d3dy53My5vcmcvMTk5OS8wMi8yMi1yZGYtc3ludGF4LW5zIyI+PHJkZjpEZXNjcmlwdGlvbiByZGY6YWJvdXQ9InV1aWQ6ZmFmNWJkZDUtYmEzZC0xMWRhLWFkMzEtZDMzZDc1MTgyZjFiIiB4bWxuczpkYz0iaHR0cDovL3B1cmwub3JnL2RjL2VsZW1lbnRzLzEuMS8iLz48cmRmOkRlc2NyaXB0aW9uIHJkZjphYm91dD0idXVpZDpmYWY1YmRkNS1iYTNkLTExZGEtYWQzMS1kMzNkNzUxODJmMWIiIHhtbG5zOnhtcD0iaHR0cDovL25zLmFkb2JlLmNvbS94YXAvMS4wLyI+PHhtcDpDcmVhdGVEYXRlPjIwMjEtMDctMDdUMTE6Mjg6MTIuMjM0PC94bXA6Q3JlYXRlRGF0ZT48L3JkZjpEZXNjcmlwdGlvbj48cmRmOkRlc2NyaXB0aW9uIHJkZjphYm91dD0idXVpZDpmYWY1YmRkNS1iYTNkLTExZGEtYWQzMS1kMzNkNzUxODJmMWIiIHhtbG5zOmRjPSJodHRwOi8vcHVybC5vcmcvZGMvZWxlbWVudHMvMS4xLyI+PGRjOmNyZWF0b3I+PHJkZjpTZXEgeG1sbnM6cmRmPSJodHRwOi8vd3d3LnczLm9yZy8xOTk5LzAyLzIyLXJkZi1zeW50YXgtbnMjIj48cmRmOmxpPkFobWVkIEFiZGVscmVoZWVtPC9yZGY6bGk+PC9yZGY6U2VxPg0KCQkJPC9kYzpjcmVhdG9yPjwvcmRmOkRlc2NyaXB0aW9uPjwvcmRmOlJERj48L3g6eG1wbWV0YT4NCiAgICAgICAgICAgICAgICAgICAgICAgICAgICAgICAgICAgICAgICAgICAgICAgICAgICAgICAgICAgICAgICAgICAgICAgICAgICAgICAgICAgICAgICAgICAgICAgICAgICAKICAgICAgICAgICAgICAgICAgICAgICAgICAgICAgICAgICAgICAgICAgICAgICAgICAgICAgICAgICAgICAgICAgICAgICAgICAgICAgICAgICAgICAgICAgICAgICAgICAgIAogICAgICAgICAgICAgICAgICAgICAgICAgICAgICAgICAgICAgICAgICAgICAgICAgICAgICAgICAgICAgICAgICAgICAgICAgICAgICAgICAgICAgICAgICAgICAgICAgICAgCiAgICAgICAgICAgICAgICAgICAgICAgICAgICAgICAgICAgICAgICAgICAgICAgICAgICAgICAgICAgICAgICAgICAgICAgICAgICAgICAgICAgICAgICAgICAgICAgICAgICAKICAgICAgICAgICAgICAgICAgICAgICAgICAgICAgICAgICAgICAgICAgICAgICAgICAgICAgICAgICAgICAgICAgICAgICAgICAgICAgICAgICAgICAgICAgICAgICAgICAgIAogICAgICAgICAgICAgICAgICAgICAgICAgICAgICAgICAgICAgICAgICAgICAgICAgICAgICAgICAgICAgICAgICAgICAgICAgICAgICAgICAgICAgICAgICAgICAgICAgICAgCiAgICAgICAgICAgICAgICAgICAgICAgICAgICAgICAgICAgICAgICAgICAgICAgICAgICAgICAgICAgICAgICAgICAgICAgICAgICAgICAgICAgICAgICAgICAgICAgICAgICAKICAgICAgICAgICAgICAgICAgICAgICAgICAgICAgICAgICAgICAgICAgICAgICAgICAgICAgICAgICAgICAgICAgICAgICAgICAgICAgICAgICAgICAgICAgICAgICAgICAgIAogICAgICAgICAgICAgICAgICAgICAgICAgICAgICAgICAgICAgICAgICAgICAgICAgICAgICAgICAgICAgICAgICAgICAgICAgICAgICAgICAgICAgICAgICAgICAgICAgICAgCiAgICAgICAgICAgICAgICAgICAgICAgICAgICAgICAgICAgICAgICAgICAgICAgICAgICAgICAgICAgICAgICAgICAgICAgICAgICAgICAgICAgICAgICAgICAgICAgICAgICAKICAgICAgICAgICAgICAgICAgICAgICAgICAgICAgICAgICAgICAgICAgICAgICAgICAgICAgICAgICAgICAgICAgICAgICAgICAgICAgICAgICAgICAgICAgICAgICAgICAgIAogICAgICAgICAgICAgICAgICAgICAgICAgICAgICAgICAgICAgICAgICAgICAgICAgICAgICAgICAgICAgICAgICAgICAgICAgICAgICAgICAgICAgICAgICAgICAgICAgICAgCiAgICAgICAgICAgICAgICAgICAgICAgICAgICAgICAgICAgICAgICAgICAgICAgICAgICAgICAgICAgICAgICAgICAgICAgICAgICAgICAgICAgICAgICAgICAgICAgICAgICAKICAgICAgICAgICAgICAgICAgICAgICAgICAgICAgICAgICAgICAgICAgICAgICAgICAgICAgICAgICAgICAgICAgICAgICAgICAgICAgICAgICAgICAgICAgICAgICAgICAgIAogICAgICAgICAgICAgICAgICAgICAgICAgICAgICAgICAgICAgICAgICAgICAgICAgICAgICAgICAgICAgICAgICAgICAgICAgICAgICAgICAgICAgICAgICAgICAgICAgICAgCiAgICAgICAgICAgICAgICAgICAgICAgICAgICAgICAgICAgICAgICAgICAgICAgICAgICAgICAgICAgICAgICAgICAgICAgICAgICAgICAgICAgICAgICAgICAgICAgICAgICAKICAgICAgICAgICAgICAgICAgICAgICAgICAgICAgICAgICAgICAgICAgICAgICAgICAgICAgICAgICAgICAgICAgICAgICAgICAgICAgICAgICAgICAgICAgICAgICAgICAgIAogICAgICAgICAgICAgICAgICAgICAgICAgICAgICAgICAgICAgICAgICAgICAgICAgICAgICAgICAgICAgICAgICAgICAgICAgICAgICAgICAgICAgICAgICAgICAgICAgICAgCiAgICAgICAgICAgICAgICAgICAgICAgICAgICAgICAgICAgICAgICAgICAgICAgICAgICAgICAgICAgICAgICAgICAgICAgICAgICAgICAgICAgICAgICAgICAgICAgICAgICAKICAgICAgICAgICAgICAgICAgICAgICAgICAgICAgICAgICAgICAgICAgICAgICAgICAgICAgICAgICAgICAgICAgICAgICAgICAgICAgICAgICAgICAgICAgICAgICAgICAgIAogICAgICAgICAgICAgICAgICAgICAgICAgICAgPD94cGFja2V0IGVuZD0ndyc/Pv/bAEMABwUFBgUEBwYFBggHBwgKEQsKCQkKFQ8QDBEYFRoZGBUYFxseJyEbHSUdFxgiLiIlKCkrLCsaIC8zLyoyJyorKv/bAEMBBwgICgkKFAsLFCocGBwqKioqKioqKioqKioqKioqKioqKioqKioqKioqKioqKioqKioqKioqKioqKioqKioqKv/AABEIAB8AqwMBIgACEQEDEQH/xAAfAAABBQEBAQEBAQAAAAAAAAAAAQIDBAUGBwgJCgv/xAC1EAACAQMDAgQDBQUEBAAAAX0BAgMABBEFEiExQQYTUWEHInEUMoGRoQgjQrHBFVLR8CQzYnKCCQoWFxgZGiUmJygpKjQ1Njc4OTpDREVGR0hJSlNUVVZXWFlaY2RlZmdoaWpzdHV2d3h5eoOEhYaHiImKkpOUlZaXmJmaoqOkpaanqKmqsrO0tba3uLm6wsPExcbHyMnK0tPU1dbX2Nna4eLj5OXm5+jp6vHy8/T19vf4+fr/xAAfAQADAQEBAQEBAQEBAAAAAAAAAQIDBAUGBwgJCgv/xAC1EQACAQIEBAMEBwUEBAABAncAAQIDEQQFITEGEkFRB2FxEyIygQgUQpGhscEJIzNS8BVictEKFiQ04SXxFxgZGiYnKCkqNTY3ODk6Q0RFRkdISUpTVFVWV1hZWmNkZWZnaGlqc3R1dnd4eXqCg4SFhoeIiYqSk5SVlpeYmZqio6Slpqeoqaqys7S1tre4ubrCw8TFxsfIycrS09TV1tfY2dri4+Tl5ufo6ery8/T19vf4+fr/2gAMAwEAAhEDEQA/APoiisrU9VubbUrXTtNtIrm6uI5JsTzmFERCoJyFY5y64GPXnjmzLq2n299FY3N/axXkoBS3edRI+fRScnoe3atPZzsnbcv2crJ2LlFU5NX02G6S2m1C1juHk8pYmnUOz4B2gZyThlOP9oetXKhxa3RLTW4UViWniOO+8YXmi2otJo7O2WSaeK+jeSOUsR5Twj514wdx4OcVt0ulxdbBRWPpviCLVPEWpada/ZZYbBY908F7HK3mMWDI8a/NGV2/xdefQ1attc0m81BrG01OznvFjErW8VwjSBDjDbQc45HPTkVtKjUi7NbJP5PUVy9RSEhVJYgADJJ7VWt9TsLudoLW9t55VUO0ccqswUjIJAPQ5HPvWNxlqiqcGr6bdRTSWuoWs0duMzPHOrCMf7RB46Hr6U+DUrG6M4try3mNucTCOVW8o+jYPHQ9fSldDsyzRVC21zSb0SGz1SyuBEheTyrhG2L6nB4HvU1tqNleWrXVneQXFuud0sUoZRjryDijmQWZZorH07xAl7oa6tNay29vM5+yoQWkmjJ+RtgGQW6heoBGcHID18QWzaHbamsU5W6KrDAAvmOzHAXGcZ/HA65xTIcktzVorGHiW3Nqzm1ululuPs32IqvmmQjIH3tuNvzZ3Yx3oHia3e3Ux2t09207W/2EBPOEijLDltuAvzZ3YwRzzQT7SPf+v8/Lc2aKxbjxHHFoDavFaTSQwuRdRHCyW6qcSErzkrjJAPIBxngHSub+zs7P7ZeXUFvbDbmaWQInzEBfmPHJIA+ooLTTV0WKKKKBnNXnhayuvG1tqUukWcsP2WXzpXhjJM2+PYTnknCtg9vXmq+oaZqDnV9Pj0zz11O4SVL7zE2RDCDLgtv3Jsyu1SOF5HOOtorpjiZq19bK3Xvc3Veel9bHP2Ph6J9R12XUbNGW+vIpEckbpEjii2nIORh1Yj35roKKKynUlPf+rJL9DOU3J6/10OUjn1VviIbhvDmopY/Zfsn2xpbby8iQtv2ibftI/wBnd7CuroorJKyt/WruQ9W2ctp8mpnx/fXU2gX8FncWsNsl1JLblQYmmYsQspbafMXHy59QKi0fw/c6fb+GVWzSA2ck7XQQqNu9HyTg85YqTjPPJrrqK7pYybukkrpLr0Tj1fZkuN9yO4UvbSooyzIQB74rEsND+weGLRLayhTUbWwaKJHPyB2UFg2DggsBmt+iuBxTv5lp2scSuk63dx6i11Ddu02kyWqfa3tgxkPRQIuAvJwST36d5/EOnPbafevHCsNu2kraKUwMNvwFA/4FwOBzjI5rr6ZNDHcQvDPGksUilXR1BVgeoIPUVLp6WXn+N/8ANj5tf68v8jiPsl7qC6paTpLDq80dvMYzFFErwxvwABJKuThhluDkDGAavS6JeX/hvxBCDqMV9qVo8CvfG3BLeWyqR5PHfGTzwPSujstNsdNRk06yt7RXOWWCJUDH1OBVmkqemrGp2d0Y2k6xHfeFbTUNOtZrkNEFNtHsWRGHyuhDMoDKwIIJ4IIrGi0vVpfCGn2wsrm1u9OmR2j86INMuCGCMGYA4Y4Jxz6da66K3hgMhghjjMr+ZIUUDe2ANxx1OAOfapK1eruc7p30v0t/XmcQ/hq7Cfb7O0uLVherMbRLlfPePyzG2ZCSPMbcxzuzjHzA9E/4Rq8t/KvbSznhjN27y2Vvcqk5iaNV/wBZuxvJQMxDgnJ+Ynr3FFBH1eH9f1/wDl4Y4fDHg/UJ7yBbdJXkkW0Vtxy/ypEMfedvlGBnLNwTnJedOurD4d2OnSaRDr11bW1tC9nNIirKy7AzZcFflwWHH8IxzXRSQxTFDNGkhjbem5Qdreo9DyeafTT/AE/DY2UVFJLpf8QooopFH//Z)\n",
    "![1.png](data:image/png;base64,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)"
   ]
  },
  {
   "cell_type": "code",
   "execution_count": 140,
   "metadata": {
    "id": "h_yRHCWdBiw0"
   },
   "outputs": [],
   "source": [
    "loss_list=[]\n",
    "for _ in range(1000):\n",
    "    y_predict=theta_0+theta_1*x\n",
    "    cost_func=(1/(2*m))*sum((y_predict-y)**2)\n",
    "    loss_list.append(cost_func)\n",
    "    gradient_0=(1/m)*sum(y_predict-y)\n",
    "    gradient_1=(1/m)*sum((y_predict-y)*x)\n",
    "    theta_0=theta_0-alpha*gradient_0\n",
    "    theta_1=theta_1-alpha*gradient_1\n"
   ]
  },
  {
   "cell_type": "markdown",
   "metadata": {
    "id": "4cZBK5hLBiw0"
   },
   "source": [
    "#### Predict y values using the LR equation\n",
    "##### h(x)= theta_0 + theta_1 * x"
   ]
  },
  {
   "cell_type": "code",
   "execution_count": 141,
   "metadata": {
    "id": "TWGsTKHPBiw0"
   },
   "outputs": [],
   "source": [
    "y_predict=theta_0+theta_1*x"
   ]
  },
  {
   "cell_type": "markdown",
   "metadata": {
    "id": "Hf8CDPUZBiw1"
   },
   "source": [
    "#### Plot  LR equation output (fitted line) with the original data (scatter plot of X,y)"
   ]
  },
  {
   "cell_type": "code",
   "execution_count": 142,
   "metadata": {
    "id": "x0_O5ji8Biw1",
    "scrolled": false
   },
   "outputs": [
    {
     "data": {
      "image/png": "[encoded data removed]",
      "text/plain": [
       "<Figure size 432x288 with 1 Axes>"
      ]
     },
     "metadata": {
      "needs_background": "light"
     },
     "output_type": "display_data"
    }
   ],
   "source": [
    "plt.scatter(x,y)\n",
    "plt.plot(x,y_predict,color='red')\n",
    "plt.show()"
   ]
  },
  {
   "cell_type": "markdown",
   "metadata": {
    "id": "j_IhqwvUBiw1"
   },
   "source": [
    "#### Use R2 score to evaluate LR equation output\n",
    "![image.png](attachment:image.png)\n",
    "![image-2.png](attachment:image-2.png)\n",
    "![image-3.png](attachment:image-3.png)\n",
    "https://en.wikipedia.org/wiki/Coefficient_of_determination"
   ]
  },
  {
   "cell_type": "code",
   "execution_count": 143,
   "metadata": {
    "id": "jEGncywDBiw1"
   },
   "outputs": [
    {
     "name": "stdout",
     "output_type": "stream",
     "text": [
      "R_Squared =  [0.95109247]\n"
     ]
    }
   ],
   "source": [
    "y_mean=np.mean(y)\n",
    "ss_tot=sum((y-y_mean)**2)\n",
    "ss_res=sum((y-y_predict)**2)\n",
    "r2=1-(ss_res/ss_tot)\n",
    "print('R_Squared = ', r2)"
   ]
  },
  {
   "cell_type": "markdown",
   "metadata": {
    "id": "6sKM1QN8Biw1"
   },
   "source": [
    "## GD vectorize Implementation\n",
    "### Implement GD without iterate through data points i.e. use vector operations"
   ]
  },
  {
   "cell_type": "code",
   "execution_count": 144,
   "metadata": {
    "id": "tQQJffwZBiw2"
   },
   "outputs": [],
   "source": [
    "theta_0=0\n",
    "theta_1=10\n",
    "loss_list=[]\n",
    "for _ in range(1000):\n",
    "    y_predict=theta_0+theta_1*x\n",
    "    cost_func=(1/(2*m))*sum((y_predict-y)**2)\n",
    "    loss_list.append(cost_func)\n",
    "    gradient_0=(1/m)*sum(y_predict-y)\n",
    "    gradient_1=(1/m)*sum((y_predict-y)*x)\n",
    "    theta_0=theta_0-alpha*gradient_0\n",
    "    theta_1=theta_1-alpha*gradient_1\n"
   ]
  },
  {
   "cell_type": "markdown",
   "metadata": {
    "id": "n9WIRmqfBiw2"
   },
   "source": [
    "#### Plot the output and calculate R2 score\n",
    "##### Make sure that you obtained the same results"
   ]
  },
  {
   "cell_type": "code",
   "execution_count": 145,
   "metadata": {
    "id": "r35D-eHwBiw2"
   },
   "outputs": [],
   "source": [
    "y_predict=theta_0+theta_1*x"
   ]
  },
  {
   "cell_type": "code",
   "execution_count": 146,
   "metadata": {
    "id": "QyazMV1mBiw2"
   },
   "outputs": [
    {
     "data": {
      "image/png": "[encoded data removed]",
      "text/plain": [
       "<Figure size 432x288 with 1 Axes>"
      ]
     },
     "metadata": {
      "needs_background": "light"
     },
     "output_type": "display_data"
    }
   ],
   "source": [
    "plt.scatter(x,y)\n",
    "plt.plot(x,y_predict,color='red')\n",
    "plt.show()"
   ]
  },
  {
   "cell_type": "code",
   "execution_count": 147,
   "metadata": {
    "id": "aEyGrVbbBiw2"
   },
   "outputs": [
    {
     "name": "stdout",
     "output_type": "stream",
     "text": [
      "R_Squared =  [0.95109239]\n"
     ]
    }
   ],
   "source": [
    "y_mean=np.mean(y)\n",
    "ss_tot=sum((y-y_mean)**2)\n",
    "ss_res=sum((y-y_predict)**2)\n",
    "r2=1-(ss_res/ss_tot)\n",
    "print('R_Squared = ', r2)"
   ]
  },
  {
   "cell_type": "markdown",
   "metadata": {
    "id": "6E7snWKaBiw3"
   },
   "source": [
    "## Plot loss function\n",
    "### Repeat your last vectorized implementaion version and save loss for each iteration (epoch)"
   ]
  },
  {
   "cell_type": "code",
   "execution_count": 148,
   "metadata": {
    "id": "cDuM15ESBiw3"
   },
   "outputs": [
    {
     "name": "stdout",
     "output_type": "stream",
     "text": [
      "[[15.52      ]\n",
      " [15.51685634]\n",
      " [15.51373265]\n",
      " [15.51062881]\n",
      " [15.50754469]\n",
      " [15.50448016]\n",
      " [15.5014351 ]\n",
      " [15.49840939]\n",
      " [15.49540289]\n",
      " [15.4924155 ]\n",
      " [15.48944707]\n",
      " [15.48649751]\n",
      " [15.48356667]\n",
      " [15.48065445]\n",
      " [15.47776072]\n",
      " [15.47488537]\n",
      " [15.47202828]\n",
      " [15.46918932]\n",
      " [15.4663684 ]\n",
      " [15.46356538]\n",
      " [15.46078016]\n",
      " [15.45801262]\n",
      " [15.45526264]\n",
      " [15.45253013]\n",
      " [15.44981495]\n",
      " [15.44711701]\n",
      " [15.44443619]\n",
      " [15.44177239]\n",
      " [15.43912549]\n",
      " [15.43649539]\n",
      " [15.43388197]\n",
      " [15.43128514]\n",
      " [15.42870478]\n",
      " [15.42614079]\n",
      " [15.42359307]\n",
      " [15.42106151]\n",
      " [15.41854601]\n",
      " [15.41604646]\n",
      " [15.41356277]\n",
      " [15.41109482]\n",
      " [15.40864253]\n",
      " [15.40620579]\n",
      " [15.4037845 ]\n",
      " [15.40137856]\n",
      " [15.39898788]\n",
      " [15.39661235]\n",
      " [15.39425189]\n",
      " [15.39190638]\n",
      " [15.38957574]\n",
      " [15.38725988]\n",
      " [15.38495869]\n",
      " [15.38267209]\n",
      " [15.38039998]\n",
      " [15.37814226]\n",
      " [15.37589885]\n",
      " [15.37366966]\n",
      " [15.37145458]\n",
      " [15.36925354]\n",
      " [15.36706645]\n",
      " [15.3648932 ]\n",
      " [15.36273373]\n",
      " [15.36058792]\n",
      " [15.35845571]\n",
      " [15.356337  ]\n",
      " [15.35423171]\n",
      " [15.35213974]\n",
      " [15.35006103]\n",
      " [15.34799547]\n",
      " [15.34594298]\n",
      " [15.34390349]\n",
      " [15.34187691]\n",
      " [15.33986316]\n",
      " [15.33786215]\n",
      " [15.3358738 ]\n",
      " [15.33389803]\n",
      " [15.33193477]\n",
      " [15.32998392]\n",
      " [15.32804542]\n",
      " [15.32611918]\n",
      " [15.32420513]\n",
      " [15.32230318]\n",
      " [15.32041326]\n",
      " [15.31853529]\n",
      " [15.3166692 ]\n",
      " [15.31481491]\n",
      " [15.31297234]\n",
      " [15.31114142]\n",
      " [15.30932207]\n",
      " [15.30751423]\n",
      " [15.30571781]\n",
      " [15.30393274]\n",
      " [15.30215896]\n",
      " [15.30039638]\n",
      " [15.29864495]\n",
      " [15.29690457]\n",
      " [15.2951752 ]\n",
      " [15.29345674]\n",
      " [15.29174914]\n",
      " [15.29005233]\n",
      " [15.28836623]\n",
      " [15.28669078]\n",
      " [15.28502591]\n",
      " [15.28337155]\n",
      " [15.28172764]\n",
      " [15.2800941 ]\n",
      " [15.27847088]\n",
      " [15.2768579 ]\n",
      " [15.2752551 ]\n",
      " [15.27366241]\n",
      " [15.27207978]\n",
      " [15.27050712]\n",
      " [15.2689444 ]\n",
      " [15.26739152]\n",
      " [15.26584845]\n",
      " [15.26431511]\n",
      " [15.26279143]\n",
      " [15.26127737]\n",
      " [15.25977285]\n",
      " [15.25827782]\n",
      " [15.25679221]\n",
      " [15.25531596]\n",
      " [15.25384903]\n",
      " [15.25239133]\n",
      " [15.25094283]\n",
      " [15.24950345]\n",
      " [15.24807313]\n",
      " [15.24665183]\n",
      " [15.24523949]\n",
      " [15.24383603]\n",
      " [15.24244142]\n",
      " [15.24105559]\n",
      " [15.23967848]\n",
      " [15.23831005]\n",
      " [15.23695023]\n",
      " [15.23559897]\n",
      " [15.23425622]\n",
      " [15.23292191]\n",
      " [15.231596  ]\n",
      " [15.23027844]\n",
      " [15.22896916]\n",
      " [15.22766812]\n",
      " [15.22637527]\n",
      " [15.22509054]\n",
      " [15.22381389]\n",
      " [15.22254528]\n",
      " [15.22128463]\n",
      " [15.22003192]\n",
      " [15.21878707]\n",
      " [15.21755005]\n",
      " [15.21632081]\n",
      " [15.21509929]\n",
      " [15.21388544]\n",
      " [15.21267922]\n",
      " [15.21148057]\n",
      " [15.21028946]\n",
      " [15.20910582]\n",
      " [15.20792962]\n",
      " [15.2067608 ]\n",
      " [15.20559932]\n",
      " [15.20444512]\n",
      " [15.20329818]\n",
      " [15.20215843]\n",
      " [15.20102583]\n",
      " [15.19990034]\n",
      " [15.1987819 ]\n",
      " [15.19767049]\n",
      " [15.19656604]\n",
      " [15.19546852]\n",
      " [15.19437788]\n",
      " [15.19329407]\n",
      " [15.19221706]\n",
      " [15.1911468 ]\n",
      " [15.19008325]\n",
      " [15.18902636]\n",
      " [15.18797609]\n",
      " [15.1869324 ]\n",
      " [15.18589525]\n",
      " [15.18486459]\n",
      " [15.18384039]\n",
      " [15.18282259]\n",
      " [15.18181117]\n",
      " [15.18080608]\n",
      " [15.17980728]\n",
      " [15.17881473]\n",
      " [15.17782838]\n",
      " [15.17684821]\n",
      " [15.17587417]\n",
      " [15.17490622]\n",
      " [15.17394432]\n",
      " [15.17298843]\n",
      " [15.17203852]\n",
      " [15.17109455]\n",
      " [15.17015647]\n",
      " [15.16922426]\n",
      " [15.16829786]\n",
      " [15.16737726]\n",
      " [15.1664624 ]\n",
      " [15.16555326]\n",
      " [15.16464979]\n",
      " [15.16375196]\n",
      " [15.16285974]\n",
      " [15.16197308]\n",
      " [15.16109195]\n",
      " [15.16021633]\n",
      " [15.15934616]\n",
      " [15.15848142]\n",
      " [15.15762207]\n",
      " [15.15676807]\n",
      " [15.1559194 ]\n",
      " [15.15507602]\n",
      " [15.1542379 ]\n",
      " [15.15340499]\n",
      " [15.15257728]\n",
      " [15.15175471]\n",
      " [15.15093727]\n",
      " [15.15012492]\n",
      " [15.14931763]\n",
      " [15.14851536]\n",
      " [15.14771808]\n",
      " [15.14692576]\n",
      " [15.14613837]\n",
      " [15.14535588]\n",
      " [15.14457825]\n",
      " [15.14380545]\n",
      " [15.14303746]\n",
      " [15.14227425]\n",
      " [15.14151577]\n",
      " [15.140762  ]\n",
      " [15.14001292]\n",
      " [15.13926849]\n",
      " [15.13852868]\n",
      " [15.13779346]\n",
      " [15.13706281]\n",
      " [15.13633669]\n",
      " [15.13561507]\n",
      " [15.13489793]\n",
      " [15.13418524]\n",
      " [15.13347697]\n",
      " [15.13277308]\n",
      " [15.13207356]\n",
      " [15.13137838]\n",
      " [15.1306875 ]\n",
      " [15.1300009 ]\n",
      " [15.12931855]\n",
      " [15.12864042]\n",
      " [15.1279665 ]\n",
      " [15.12729674]\n",
      " [15.12663113]\n",
      " [15.12596963]\n",
      " [15.12531223]\n",
      " [15.12465889]\n",
      " [15.12400959]\n",
      " [15.12336431]\n",
      " [15.12272301]\n",
      " [15.12208567]\n",
      " [15.12145227]\n",
      " [15.12082278]\n",
      " [15.12019718]\n",
      " [15.11957544]\n",
      " [15.11895753]\n",
      " [15.11834344]\n",
      " [15.11773314]\n",
      " [15.1171266 ]\n",
      " [15.1165238 ]\n",
      " [15.11592471]\n",
      " [15.11532932]\n",
      " [15.11473759]\n",
      " [15.11414951]\n",
      " [15.11356506]\n",
      " [15.11298419]\n",
      " [15.11240691]\n",
      " [15.11183318]\n",
      " [15.11126297]\n",
      " [15.11069628]\n",
      " [15.11013307]\n",
      " [15.10957332]\n",
      " [15.10901701]\n",
      " [15.10846412]\n",
      " [15.10791462]\n",
      " [15.1073685 ]\n",
      " [15.10682573]\n",
      " [15.1062863 ]\n",
      " [15.10575017]\n",
      " [15.10521734]\n",
      " [15.10468777]\n",
      " [15.10416145]\n",
      " [15.10363835]\n",
      " [15.10311846]\n",
      " [15.10260176]\n",
      " [15.10208822]\n",
      " [15.10157782]\n",
      " [15.10107055]\n",
      " [15.10056639]\n",
      " [15.1000653 ]\n",
      " [15.09956729]\n",
      " [15.09907232]\n",
      " [15.09858037]\n",
      " [15.09809143]\n",
      " [15.09760548]\n",
      " [15.09712249]\n",
      " [15.09664246]\n",
      " [15.09616535]\n",
      " [15.09569116]\n",
      " [15.09521986]\n",
      " [15.09475143]\n",
      " [15.09428586]\n",
      " [15.09382313]\n",
      " [15.09336321]\n",
      " [15.0929061 ]\n",
      " [15.09245177]\n",
      " [15.09200021]\n",
      " [15.09155139]\n",
      " [15.09110531]\n",
      " [15.09066194]\n",
      " [15.09022126]\n",
      " [15.08978326]\n",
      " [15.08934792]\n",
      " [15.08891523]\n",
      " [15.08848517]\n",
      " [15.08805771]\n",
      " [15.08763285]\n",
      " [15.08721057]\n",
      " [15.08679084]\n",
      " [15.08637366]\n",
      " [15.08595901]\n",
      " [15.08554687]\n",
      " [15.08513723]\n",
      " [15.08473007]\n",
      " [15.08432537]\n",
      " [15.08392312]\n",
      " [15.0835233 ]\n",
      " [15.08312589]\n",
      " [15.08273089]\n",
      " [15.08233828]\n",
      " [15.08194804]\n",
      " [15.08156015]\n",
      " [15.0811746 ]\n",
      " [15.08079138]\n",
      " [15.08041047]\n",
      " [15.08003185]\n",
      " [15.07965552]\n",
      " [15.07928145]\n",
      " [15.07890964]\n",
      " [15.07854006]\n",
      " [15.07817271]\n",
      " [15.07780756]\n",
      " [15.07744462]\n",
      " [15.07708385]\n",
      " [15.07672525]\n",
      " [15.0763688 ]\n",
      " [15.07601449]\n",
      " [15.07566231]\n",
      " [15.07531224]\n",
      " [15.07496427]\n",
      " [15.07461838]\n",
      " [15.07427457]\n",
      " [15.07393281]\n",
      " [15.0735931 ]\n",
      " [15.07325542]\n",
      " [15.07291977]\n",
      " [15.07258611]\n",
      " [15.07225446]\n",
      " [15.07192478]\n",
      " [15.07159707]\n",
      " [15.07127132]\n",
      " [15.07094751]\n",
      " [15.07062563]\n",
      " [15.07030567]\n",
      " [15.06998761]\n",
      " [15.06967145]\n",
      " [15.06935717]\n",
      " [15.06904476]\n",
      " [15.06873421]\n",
      " [15.0684255 ]\n",
      " [15.06811863]\n",
      " [15.06781358]\n",
      " [15.06751034]\n",
      " [15.0672089 ]\n",
      " [15.06690925]\n",
      " [15.06661137]\n",
      " [15.06631526]\n",
      " [15.06602091]\n",
      " [15.06572829]\n",
      " [15.06543741]\n",
      " [15.06514824]\n",
      " [15.06486079]\n",
      " [15.06457503]\n",
      " [15.06429096]\n",
      " [15.06400857]\n",
      " [15.06372784]\n",
      " [15.06344877]\n",
      " [15.06317134]\n",
      " [15.06289555]\n",
      " [15.06262138]\n",
      " [15.06234882]\n",
      " [15.06207786]\n",
      " [15.0618085 ]\n",
      " [15.06154072]\n",
      " [15.06127452]\n",
      " [15.06100987]\n",
      " [15.06074678]\n",
      " [15.06048523]\n",
      " [15.06022521]\n",
      " [15.05996672]\n",
      " [15.05970973]\n",
      " [15.05945426]\n",
      " [15.05920027]\n",
      " [15.05894777]\n",
      " [15.05869674]\n",
      " [15.05844718]\n",
      " [15.05819908]\n",
      " [15.05795242]\n",
      " [15.05770719]\n",
      " [15.0574634 ]\n",
      " [15.05722102]\n",
      " [15.05698006]\n",
      " [15.05674049]\n",
      " [15.05650232]\n",
      " [15.05626553]\n",
      " [15.05603012]\n",
      " [15.05579607]\n",
      " [15.05556337]\n",
      " [15.05533203]\n",
      " [15.05510202]\n",
      " [15.05487334]\n",
      " [15.05464599]\n",
      " [15.05441995]\n",
      " [15.05419521]\n",
      " [15.05397178]\n",
      " [15.05374963]\n",
      " [15.05352876]\n",
      " [15.05330916]\n",
      " [15.05309083]\n",
      " [15.05287375]\n",
      " [15.05265792]\n",
      " [15.05244334]\n",
      " [15.05222998]\n",
      " [15.05201785]\n",
      " [15.05180693]\n",
      " [15.05159722]\n",
      " [15.05138872]\n",
      " [15.05118141]\n",
      " [15.05097528]\n",
      " [15.05077033]\n",
      " [15.05056655]\n",
      " [15.05036393]\n",
      " [15.05016247]\n",
      " [15.04996216]\n",
      " [15.04976299]\n",
      " [15.04956495]\n",
      " [15.04936804]\n",
      " [15.04917224]\n",
      " [15.04897756]\n",
      " [15.04878399]\n",
      " [15.04859151]\n",
      " [15.04840012]\n",
      " [15.04820982]\n",
      " [15.04802059]\n",
      " [15.04783243]\n",
      " [15.04764534]\n",
      " [15.0474593 ]\n",
      " [15.04727431]\n",
      " [15.04709036]\n",
      " [15.04690745]\n",
      " [15.04672557]\n",
      " [15.04654472]\n",
      " [15.04636488]\n",
      " [15.04618605]\n",
      " [15.04600822]\n",
      " [15.04583139]\n",
      " [15.04565555]\n",
      " [15.04548069]\n",
      " [15.04530681]\n",
      " [15.04513391]\n",
      " [15.04496197]\n",
      " [15.04479099]\n",
      " [15.04462096]\n",
      " [15.04445188]\n",
      " [15.04428374]\n",
      " [15.04411653]\n",
      " [15.04395026]\n",
      " [15.0437849 ]\n",
      " [15.04362047]\n",
      " [15.04345695]\n",
      " [15.04329433]\n",
      " [15.04313261]\n",
      " [15.04297178]\n",
      " [15.04281185]\n",
      " [15.04265279]\n",
      " [15.04249462]\n",
      " [15.04233731]\n",
      " [15.04218087]\n",
      " [15.04202529]\n",
      " [15.04187057]\n",
      " [15.04171669]\n",
      " [15.04156366]\n",
      " [15.04141147]\n",
      " [15.04126011]\n",
      " [15.04110958]\n",
      " [15.04095987]\n",
      " [15.04081098]\n",
      " [15.04066289]\n",
      " [15.04051562]\n",
      " [15.04036915]\n",
      " [15.04022347]\n",
      " [15.04007859]\n",
      " [15.03993449]\n",
      " [15.03979118]\n",
      " [15.03964864]\n",
      " [15.03950687]\n",
      " [15.03936587]\n",
      " [15.03922562]\n",
      " [15.03908614]\n",
      " [15.03894741]\n",
      " [15.03880942]\n",
      " [15.03867218]\n",
      " [15.03853568]\n",
      " [15.0383999 ]\n",
      " [15.03826486]\n",
      " [15.03813054]\n",
      " [15.03799694]\n",
      " [15.03786405]\n",
      " [15.03773187]\n",
      " [15.0376004 ]\n",
      " [15.03746963]\n",
      " [15.03733955]\n",
      " [15.03721016]\n",
      " [15.03708147]\n",
      " [15.03695345]\n",
      " [15.03682612]\n",
      " [15.03669946]\n",
      " [15.03657346]\n",
      " [15.03644814]\n",
      " [15.03632347]\n",
      " [15.03619947]\n",
      " [15.03607611]\n",
      " [15.03595341]\n",
      " [15.03583134]\n",
      " [15.03570992]\n",
      " [15.03558914]\n",
      " [15.03546899]\n",
      " [15.03534946]\n",
      " [15.03523056]\n",
      " [15.03511228]\n",
      " [15.03499462]\n",
      " [15.03487757]\n",
      " [15.03476113]\n",
      " [15.03464529]\n",
      " [15.03453005]\n",
      " [15.03441541]\n",
      " [15.03430137]\n",
      " [15.03418791]\n",
      " [15.03407504]\n",
      " [15.03396275]\n",
      " [15.03385104]\n",
      " [15.0337399 ]\n",
      " [15.03362933]\n",
      " [15.03351933]\n",
      " [15.03340989]\n",
      " [15.03330102]\n",
      " [15.03319269]\n",
      " [15.03308493]\n",
      " [15.03297771]\n",
      " [15.03287103]\n",
      " [15.0327649 ]\n",
      " [15.03265931]\n",
      " [15.03255425]\n",
      " [15.03244973]\n",
      " [15.03234573]\n",
      " [15.03224226]\n",
      " [15.03213931]\n",
      " [15.03203687]\n",
      " [15.03193496]\n",
      " [15.03183355]\n",
      " [15.03173266]\n",
      " [15.03163226]\n",
      " [15.03153237]\n",
      " [15.03143298]\n",
      " [15.03133409]\n",
      " [15.03123569]\n",
      " [15.03113777]\n",
      " [15.03104034]\n",
      " [15.0309434 ]\n",
      " [15.03084694]\n",
      " [15.03075095]\n",
      " [15.03065544]\n",
      " [15.03056039]\n",
      " [15.03046582]\n",
      " [15.03037171]\n",
      " [15.03027806]\n",
      " [15.03018487]\n",
      " [15.03009214]\n",
      " [15.02999986]\n",
      " [15.02990803]\n",
      " [15.02981664]\n",
      " [15.02972571]\n",
      " [15.02963521]\n",
      " [15.02954515]\n",
      " [15.02945553]\n",
      " [15.02936634]\n",
      " [15.02927758]\n",
      " [15.02918925]\n",
      " [15.02910135]\n",
      " [15.02901386]\n",
      " [15.0289268 ]\n",
      " [15.02884015]\n",
      " [15.02875392]\n",
      " [15.0286681 ]\n",
      " [15.02858269]\n",
      " [15.02849768]\n",
      " [15.02841308]\n",
      " [15.02832888]\n",
      " [15.02824508]\n",
      " [15.02816167]\n",
      " [15.02807866]\n",
      " [15.02799604]\n",
      " [15.0279138 ]\n",
      " [15.02783196]\n",
      " [15.02775049]\n",
      " [15.02766941]\n",
      " [15.0275887 ]\n",
      " [15.02750838]\n",
      " [15.02742842]\n",
      " [15.02734884]\n",
      " [15.02726963]\n",
      " [15.02719078]\n",
      " [15.0271123 ]\n",
      " [15.02703418]\n",
      " [15.02695642]\n",
      " [15.02687901]\n",
      " [15.02680197]\n",
      " [15.02672527]\n",
      " [15.02664893]\n",
      " [15.02657293]\n",
      " [15.02649728]\n",
      " [15.02642198]\n",
      " [15.02634701]\n",
      " [15.02627239]\n",
      " [15.0261981 ]\n",
      " [15.02612415]\n",
      " [15.02605053]\n",
      " [15.02597724]\n",
      " [15.02590429]\n",
      " [15.02583165]\n",
      " [15.02575935]\n",
      " [15.02568736]\n",
      " [15.0256157 ]\n",
      " [15.02554435]\n",
      " [15.02547332]\n",
      " [15.02540261]\n",
      " [15.02533221]\n",
      " [15.02526212]\n",
      " [15.02519233]\n",
      " [15.02512286]\n",
      " [15.02505369]\n",
      " [15.02498482]\n",
      " [15.02491625]\n",
      " [15.02484798]\n",
      " [15.02478001]\n",
      " [15.02471233]\n",
      " [15.02464494]\n",
      " [15.02457785]\n",
      " [15.02451105]\n",
      " [15.02444453]\n",
      " [15.0243783 ]\n",
      " [15.02431235]\n",
      " [15.02424669]\n",
      " [15.0241813 ]\n",
      " [15.02411619]\n",
      " [15.02405137]\n",
      " [15.02398681]\n",
      " [15.02392253]\n",
      " [15.02385852]\n",
      " [15.02379478]\n",
      " [15.02373131]\n",
      " [15.0236681 ]\n",
      " [15.02360516]\n",
      " [15.02354248]\n",
      " [15.02348006]\n",
      " [15.0234179 ]\n",
      " [15.023356  ]\n",
      " [15.02329436]\n",
      " [15.02323297]\n",
      " [15.02317183]\n",
      " [15.02311095]\n",
      " [15.02305031]\n",
      " [15.02298993]\n",
      " [15.02292979]\n",
      " [15.02286989]\n",
      " [15.02281024]\n",
      " [15.02275083]\n",
      " [15.02269166]\n",
      " [15.02263273]\n",
      " [15.02257403]\n",
      " [15.02251558]\n",
      " [15.02245735]\n",
      " [15.02239936]\n",
      " [15.0223416 ]\n",
      " [15.02228407]\n",
      " [15.02222677]\n",
      " [15.0221697 ]\n",
      " [15.02211285]\n",
      " [15.02205622]\n",
      " [15.02199982]\n",
      " [15.02194364]\n",
      " [15.02188768]\n",
      " [15.02183193]\n",
      " [15.02177641]\n",
      " [15.0217211 ]\n",
      " [15.021666  ]\n",
      " [15.02161112]\n",
      " [15.02155644]\n",
      " [15.02150198]\n",
      " [15.02144773]\n",
      " [15.02139368]\n",
      " [15.02133984]\n",
      " [15.02128621]\n",
      " [15.02123278]\n",
      " [15.02117955]\n",
      " [15.02112652]\n",
      " [15.02107369]\n",
      " [15.02102106]\n",
      " [15.02096863]\n",
      " [15.02091639]\n",
      " [15.02086435]\n",
      " [15.0208125 ]\n",
      " [15.02076084]\n",
      " [15.02070938]\n",
      " [15.0206581 ]\n",
      " [15.02060701]\n",
      " [15.02055611]\n",
      " [15.0205054 ]\n",
      " [15.02045487]\n",
      " [15.02040452]\n",
      " [15.02035436]\n",
      " [15.02030438]\n",
      " [15.02025458]\n",
      " [15.02020496]\n",
      " [15.02015551]\n",
      " [15.02010624]\n",
      " [15.02005715]\n",
      " [15.02000824]\n",
      " [15.01995949]\n",
      " [15.01991092]\n",
      " [15.01986252]\n",
      " [15.01981429]\n",
      " [15.01976623]\n",
      " [15.01971834]\n",
      " [15.01967061]\n",
      " [15.01962305]\n",
      " [15.01957565]\n",
      " [15.01952842]\n",
      " [15.01948135]\n",
      " [15.01943445]\n",
      " [15.0193877 ]\n",
      " [15.01934111]\n",
      " [15.01929469]\n",
      " [15.01924842]\n",
      " [15.0192023 ]\n",
      " [15.01915634]\n",
      " [15.01911054]\n",
      " [15.01906489]\n",
      " [15.01901939]\n",
      " [15.01897405]\n",
      " [15.01892885]\n",
      " [15.01888381]\n",
      " [15.01883891]\n",
      " [15.01879416]\n",
      " [15.01874956]\n",
      " [15.0187051 ]\n",
      " [15.01866079]\n",
      " [15.01861663]\n",
      " [15.0185726 ]\n",
      " [15.01852872]\n",
      " [15.01848498]\n",
      " [15.01844139]\n",
      " [15.01839793]\n",
      " [15.01835461]\n",
      " [15.01831142]\n",
      " [15.01826838]\n",
      " [15.01822547]\n",
      " [15.01818269]\n",
      " [15.01814005]\n",
      " [15.01809755]\n",
      " [15.01805517]\n",
      " [15.01801293]\n",
      " [15.01797082]\n",
      " [15.01792884]\n",
      " [15.01788699]\n",
      " [15.01784526]\n",
      " [15.01780367]\n",
      " [15.0177622 ]\n",
      " [15.01772086]\n",
      " [15.01767964]\n",
      " [15.01763855]\n",
      " [15.01759758]\n",
      " [15.01755673]\n",
      " [15.01751601]\n",
      " [15.01747541]\n",
      " [15.01743492]\n",
      " [15.01739456]\n",
      " [15.01735432]\n",
      " [15.01731419]\n",
      " [15.01727418]\n",
      " [15.01723429]\n",
      " [15.01719452]\n",
      " [15.01715486]\n",
      " [15.01711531]\n",
      " [15.01707588]\n",
      " [15.01703657]\n",
      " [15.01699736]\n",
      " [15.01695827]\n",
      " [15.01691928]\n",
      " [15.01688041]\n",
      " [15.01684165]\n",
      " [15.01680299]\n",
      " [15.01676445]\n",
      " [15.01672601]\n",
      " [15.01668768]\n",
      " [15.01664945]\n",
      " [15.01661133]\n",
      " [15.01657332]\n",
      " [15.01653541]\n",
      " [15.0164976 ]\n",
      " [15.01645989]\n",
      " [15.01642229]\n",
      " [15.01638479]\n",
      " [15.01634739]\n",
      " [15.01631009]\n",
      " [15.01627289]\n",
      " [15.01623579]\n",
      " [15.01619878]\n",
      " [15.01616188]\n",
      " [15.01612507]\n",
      " [15.01608836]\n",
      " [15.01605174]\n",
      " [15.01601522]\n",
      " [15.01597879]\n",
      " [15.01594246]\n",
      " [15.01590622]\n",
      " [15.01587008]\n",
      " [15.01583402]\n",
      " [15.01579806]\n",
      " [15.01576219]\n",
      " [15.01572641]\n",
      " [15.01569072]\n",
      " [15.01565512]\n",
      " [15.0156196 ]\n",
      " [15.01558418]\n",
      " [15.01554884]\n",
      " [15.01551359]\n",
      " [15.01547843]\n",
      " [15.01544336]\n",
      " [15.01540836]\n",
      " [15.01537346]\n",
      " [15.01533864]\n",
      " [15.0153039 ]\n",
      " [15.01526924]\n",
      " [15.01523467]\n",
      " [15.01520018]\n",
      " [15.01516577]\n",
      " [15.01513145]\n",
      " [15.0150972 ]\n",
      " [15.01506304]\n",
      " [15.01502895]\n",
      " [15.01499494]\n",
      " [15.01496102]\n",
      " [15.01492717]\n",
      " [15.01489339]\n",
      " [15.0148597 ]\n",
      " [15.01482608]\n",
      " [15.01479254]\n",
      " [15.01475907]\n",
      " [15.01472568]\n",
      " [15.01469237]\n",
      " [15.01465912]\n",
      " [15.01462596]\n",
      " [15.01459286]\n",
      " [15.01455984]\n",
      " [15.01452689]\n",
      " [15.01449401]\n",
      " [15.01446121]\n",
      " [15.01442847]\n",
      " [15.01439581]\n",
      " [15.01436322]\n",
      " [15.01433069]\n",
      " [15.01429824]\n",
      " [15.01426585]\n",
      " [15.01423354]\n",
      " [15.01420129]\n",
      " [15.01416911]\n",
      " [15.01413699]\n",
      " [15.01410494]\n",
      " [15.01407296]\n",
      " [15.01404105]\n",
      " [15.0140092 ]\n",
      " [15.01397741]\n",
      " [15.01394569]\n",
      " [15.01391404]\n",
      " [15.01388244]\n",
      " [15.01385091]\n",
      " [15.01381945]\n",
      " [15.01378805]\n",
      " [15.01375671]\n",
      " [15.01372543]\n",
      " [15.01369421]\n",
      " [15.01366305]\n",
      " [15.01363196]\n",
      " [15.01360092]\n",
      " [15.01356995]\n",
      " [15.01353903]\n",
      " [15.01350817]\n",
      " [15.01347737]\n",
      " [15.01344663]\n",
      " [15.01341595]\n",
      " [15.01338533]\n",
      " [15.01335476]\n",
      " [15.01332425]\n",
      " [15.0132938 ]\n",
      " [15.0132634 ]\n",
      " [15.01323306]\n",
      " [15.01320278]\n",
      " [15.01317255]\n",
      " [15.01314237]\n",
      " [15.01311225]\n",
      " [15.01308218]\n",
      " [15.01305217]\n",
      " [15.01302221]\n",
      " [15.0129923 ]\n",
      " [15.01296245]\n",
      " [15.01293265]\n",
      " [15.0129029 ]\n",
      " [15.0128732 ]\n",
      " [15.01284356]\n",
      " [15.01281396]\n",
      " [15.01278442]\n",
      " [15.01275493]\n",
      " [15.01272548]\n",
      " [15.01269609]\n",
      " [15.01266675]\n",
      " [15.01263745]\n",
      " [15.01260821]\n",
      " [15.01257901]\n",
      " [15.01254986]\n",
      " [15.01252076]\n",
      " [15.01249171]\n",
      " [15.0124627 ]\n",
      " [15.01243375]\n",
      " [15.01240483]\n",
      " [15.01237597]\n",
      " [15.01234715]\n",
      " [15.01231838]\n",
      " [15.01228965]\n",
      " [15.01226097]\n",
      " [15.01223233]\n",
      " [15.01220374]\n",
      " [15.0121752 ]\n",
      " [15.01214669]\n",
      " [15.01211823]\n",
      " [15.01208982]\n",
      " [15.01206145]\n",
      " [15.01203312]\n",
      " [15.01200483]\n",
      " [15.01197659]\n",
      " [15.01194839]\n",
      " [15.01192023]\n",
      " [15.01189211]\n",
      " [15.01186404]\n",
      " [15.011836  ]\n",
      " [15.01180801]\n",
      " [15.01178006]\n",
      " [15.01175215]\n",
      " [15.01172427]\n",
      " [15.01169644]\n",
      " [15.01166865]\n",
      " [15.0116409 ]\n",
      " [15.01161319]\n",
      " [15.01158551]\n",
      " [15.01155788]\n",
      " [15.01153028]\n",
      " [15.01150272]\n",
      " [15.0114752 ]\n",
      " [15.01144772]\n",
      " [15.01142027]\n",
      " [15.01139287]\n",
      " [15.0113655 ]\n",
      " [15.01133816]\n",
      " [15.01131086]\n",
      " [15.0112836 ]\n",
      " [15.01125638]\n",
      " [15.01122919]\n",
      " [15.01120204]\n",
      " [15.01117492]\n",
      " [15.01114784]\n",
      " [15.01112079]\n",
      " [15.01109378]\n",
      " [15.0110668 ]\n",
      " [15.01103986]\n",
      " [15.01101295]\n",
      " [15.01098608]]\n"
     ]
    }
   ],
   "source": [
    "theta_0=0\n",
    "theta_1=10\n",
    "loss_list=[]\n",
    "for _ in range(1000):\n",
    "    y_predict=theta_0+theta_1*x\n",
    "    cost_func=(1/(2*m))*sum((y_predict-y)**2)\n",
    "    loss_list.append(cost_func)\n",
    "    gradient_0=(1/m)*sum(y_predict-y)\n",
    "    gradient_1=(1/m)*sum((y_predict-y)*x)\n",
    "    theta_0=theta_0-alpha*gradient_0\n",
    "    theta_1=theta_1-alpha*gradient_1\n",
    "loss_list=np.array(loss_list)\n",
    "print(loss_list)"
   ]
  },
  {
   "cell_type": "markdown",
   "metadata": {
    "id": "i4MNcSd3Biw3"
   },
   "source": [
    "### Plot loss vs. iterations"
   ]
  },
  {
   "cell_type": "code",
   "execution_count": 149,
   "metadata": {
    "id": "GMSOD4-2Biw3"
   },
   "outputs": [
    {
     "data": {
      "image/png": "[encoded data removed]",
      "text/plain": [
       "<Figure size 432x288 with 1 Axes>"
      ]
     },
     "metadata": {
      "needs_background": "light"
     },
     "output_type": "display_data"
    }
   ],
   "source": [
    "plt.plot(loss_list)\n",
    "plt.show()"
   ]
  },
  {
   "cell_type": "markdown",
   "metadata": {
    "id": "kPBJw-klBiw3"
   },
   "source": [
    "## Multivariate LR"
   ]
  },
  {
   "cell_type": "markdown",
   "metadata": {
    "id": "pfuZyWqtBiw4"
   },
   "source": [
    "#### Read MultipleLR csv file into numpy array  (check your data)\n",
    "##### Data source\n",
    "https://college.cengage.com/mathematics/brase/understandable_statistics/7e/students/datasets/slr/frames/frame.html\n"
   ]
  },
  {
   "cell_type": "code",
   "execution_count": 150,
   "metadata": {
    "id": "fwpbkOM9Biw4"
   },
   "outputs": [],
   "source": [
    "data2=np.genfromtxt('/home/mnasser/Downloads/california_housing_train.csv',delimiter=',',skip_header=1)"
   ]
  },
  {
   "cell_type": "code",
   "execution_count": 151,
   "metadata": {
    "id": "1Aj9jaN5Biw4"
   },
   "outputs": [
    {
     "name": "stdout",
     "output_type": "stream",
     "text": [
      "[[-1.1431e+02  3.4190e+01  1.5000e+01 ...  4.7200e+02  1.4936e+00\n",
      "   6.6900e+04]\n",
      " [-1.1447e+02  3.4400e+01  1.9000e+01 ...  4.6300e+02  1.8200e+00\n",
      "   8.0100e+04]\n",
      " [-1.1456e+02  3.3690e+01  1.7000e+01 ...  1.1700e+02  1.6509e+00\n",
      "   8.5700e+04]\n",
      " ...\n",
      " [-1.2430e+02  4.1840e+01  1.7000e+01 ...  4.5600e+02  3.0313e+00\n",
      "   1.0360e+05]\n",
      " [-1.2430e+02  4.1800e+01  1.9000e+01 ...  4.7800e+02  1.9797e+00\n",
      "   8.5800e+04]\n",
      " [-1.2435e+02  4.0540e+01  5.2000e+01 ...  2.7000e+02  3.0147e+00\n",
      "   9.4600e+04]]\n"
     ]
    }
   ],
   "source": [
    "print(data2)"
   ]
  },
  {
   "cell_type": "code",
   "execution_count": 152,
   "metadata": {
    "id": "_Jk48kpxBiw4"
   },
   "outputs": [
    {
     "name": "stdout",
     "output_type": "stream",
     "text": [
      "Features : \n",
      " [[-114.31     34.19     15.     ... 1015.      472.        1.4936]\n",
      " [-114.47     34.4      19.     ... 1129.      463.        1.82  ]\n",
      " [-114.56     33.69     17.     ...  333.      117.        1.6509]\n",
      " ...\n",
      " [-124.3      41.84     17.     ... 1244.      456.        3.0313]\n",
      " [-124.3      41.8      19.     ... 1298.      478.        1.9797]\n",
      " [-124.35     40.54     52.     ...  806.      270.        3.0147]]\n",
      "Output : \n",
      " [[ 66900.]\n",
      " [ 80100.]\n",
      " [ 85700.]\n",
      " ...\n",
      " [103600.]\n",
      " [ 85800.]\n",
      " [ 94600.]]\n"
     ]
    }
   ],
   "source": [
    "x_features=np.array(data2[:,0:8])\n",
    "y=np.array(data2[:,8]).reshape(len(data2),1)\n",
    "print('Features : \\n',x_features)\n",
    "print('Output : \\n',y)"
   ]
  },
  {
   "cell_type": "code",
   "execution_count": 153,
   "metadata": {
    "id": "ARYC6bKwBiw5"
   },
   "outputs": [
    {
     "name": "stdout",
     "output_type": "stream",
     "text": [
      "[[ 1.          2.619365   -0.67152023 ... -0.36118401 -0.07599796\n",
      "  -1.25254316]\n",
      " [ 1.          2.53956878 -0.57326437 ... -0.26186523 -0.09940441\n",
      "  -1.08148298]\n",
      " [ 1.          2.4946834  -0.90546278 ... -0.95535424 -0.99925206\n",
      "  -1.17010515]\n",
      " ...\n",
      " [ 1.         -2.36291168  2.90780067 ... -0.16167524 -0.11760942\n",
      "  -0.44666313]\n",
      " [ 1.         -2.36291168  2.88908527 ... -0.1146295  -0.06039367\n",
      "  -0.99778717]\n",
      " [ 1.         -2.387848    2.29955006 ... -0.54326844 -0.60134255\n",
      "  -0.45536288]]\n",
      "[[-1.21055773]\n",
      " [-1.09674535]\n",
      " [-1.04846131]\n",
      " ...\n",
      " [-0.89412482]\n",
      " [-1.04759909]\n",
      " [-0.97172417]]\n"
     ]
    }
   ],
   "source": [
    "#Normalizing data\n",
    "\n",
    "    #normalizing x data(independent features)\n",
    "x_means=x_features.mean(axis=0) #getting mean for every column(feature)\n",
    "mat_xmeans=np.outer(np.ones(len(y)),x_means) #extend the array of means to be matrix\n",
    "x_stds=x_features.std(axis=0) #getting standard deviation for every column(feature)\n",
    "mat_xstds=np.outer(np.ones(len(y)),x_stds) #extend the array of means to be matrix\n",
    "x_norm=(x_features-mat_xmeans)/mat_xstds #normalized x data(independent features)\n",
    "xo=np.ones(len(x_norm))  # Making xo column to multiply it with theta_0 (the intercept)\n",
    "x_norm=np.c_[xo,x_norm] # Adding the column to the beginning of x_norm\n",
    "\n",
    "    #normalizing y data(dependent feature)\n",
    "y_mean=y.mean()\n",
    "y_std=y.std()\n",
    "y_norm=(y-y_mean)/y_std #normalized y data(dependent feature)\n",
    "\n",
    "print(x_norm)\n",
    "print(y_norm)"
   ]
  },
  {
   "cell_type": "code",
   "execution_count": 154,
   "metadata": {},
   "outputs": [
    {
     "name": "stdout",
     "output_type": "stream",
     "text": [
      "[[1.]\n",
      " [1.]\n",
      " [1.]\n",
      " [1.]\n",
      " [1.]\n",
      " [1.]\n",
      " [1.]\n",
      " [1.]\n",
      " [1.]]\n"
     ]
    }
   ],
   "source": [
    "# Initializing values of thetas (factors of x_features) equal to one\n",
    "thetas=np.ones(np.shape(x_norm)[1]) \n",
    "thetas=thetas.reshape(len(thetas),1)\n",
    "print(thetas)"
   ]
  },
  {
   "cell_type": "code",
   "execution_count": 155,
   "metadata": {
    "id": "fOAzAlnzBiw5"
   },
   "outputs": [
    {
     "name": "stdout",
     "output_type": "stream",
     "text": [
      "The initial predictions of y : \n",
      " [[ 3.3043475 ]\n",
      " [ 6.28872858]\n",
      " [-3.20568087]\n",
      " ...\n",
      " [-0.10649311]\n",
      " [-0.36564161]\n",
      " [ 0.22583637]]\n",
      "The initial loss function \n",
      " [7.32015474]\n"
     ]
    }
   ],
   "source": [
    "#Prediction of y based on initial assuming\n",
    "y_predict=np.dot(x_norm,thetas)\n",
    "print('The initial predictions of y : \\n',y_predict)\n",
    "m=len(y_norm)\n",
    "cost_func=(1/(2*m))*sum((y_predict-y_norm)**2) #initailize the cost(loss) function initial assuming\n",
    "print('The initial loss function \\n',cost_func)\n",
    "alpha=0.001 #This is the learning rate\n",
    "gradients=np.zeros(len(thetas)) #initializing gradients"
   ]
  },
  {
   "cell_type": "markdown",
   "metadata": {
    "id": "Ic2ViraWBiw5"
   },
   "source": [
    "### Repeat your implementation but for more than one variable"
   ]
  },
  {
   "cell_type": "code",
   "execution_count": 156,
   "metadata": {
    "id": "is3qoEjhBiw5"
   },
   "outputs": [
    {
     "name": "stdout",
     "output_type": "stream",
     "text": [
      "[[ 3.2930576 ]\n",
      " [ 6.26916016]\n",
      " [-3.1950659 ]\n",
      " ...\n",
      " [-0.10591235]\n",
      " [-0.36532835]\n",
      " [ 0.2341768 ]]\n",
      "[7.27217961]\n"
     ]
    }
   ],
   "source": [
    "for i in range(len(thetas)):\n",
    "    gradients[i]=(1/m)*sum((y_predict-y_norm)*x_norm[:,i].reshape(len(y_norm),1)) #set the gradient of every theta(column)(feature)\n",
    "    thetas[i]=thetas[i]-alpha*gradients[i] #update every theta\n",
    "y_predict=np.dot(x_norm,thetas) #make prediction after the first update for all thetas\n",
    "print(y_predict) #printing the first prediction of y after updating all thetas\n",
    "cost_func=(1/(2*m))*sum((y_predict-y_norm)**2) #update cost(loss) function after the first prediction for y\n",
    "print(cost_func)"
   ]
  },
  {
   "cell_type": "markdown",
   "metadata": {
    "id": "HVzawIE1Biw5"
   },
   "source": [
    "#### Predict y values using the LR equation\n",
    "##### h(x)= theta_0 + theta_1 * x1 + theta_2 * x2 + theta_3 * x3"
   ]
  },
  {
   "cell_type": "code",
   "execution_count": 157,
   "metadata": {
    "id": "hVzOONh4Biw6"
   },
   "outputs": [
    {
     "name": "stdout",
     "output_type": "stream",
     "text": [
      "The minimum cost function after 200 iteration : \n",
      " [2.31716379]\n",
      "The predictions of y after 200 iterations : \n",
      " [[ 1.74247539]\n",
      " [ 3.54756853]\n",
      " [-1.68889203]\n",
      " ...\n",
      " [-0.07632774]\n",
      " [-0.37850472]\n",
      " [ 1.24296476]]\n"
     ]
    }
   ],
   "source": [
    "# now we can optimize our fitting by updating the thetas(parameters of the model) like 100 times to reach the minimum loss function\n",
    "cost_list=[]\n",
    "for _ in range(200):\n",
    "    for i in range(len(thetas)):\n",
    "        gradients[i]=(1/m)*sum((y_predict-y_norm)*x_norm[:,i].reshape(len(y_norm),1)) \n",
    "        thetas[i]=thetas[i]-alpha*gradients[i] \n",
    "    y_predict=np.dot(x_norm,thetas)\n",
    "    cost_func=(1/(2*m))*sum((y_predict-y_norm)**2)\n",
    "    cost_list.append(cost_func)\n",
    "    \n",
    "cost_func=(1/(2*m))*sum((y_predict-y_norm)**2) #the cost function after 100 updating(iterations) \n",
    "print('The minimum cost function after 200 iteration : \\n',cost_func)\n",
    "print('The predictions of y after 200 iterations : \\n',y_predict)"
   ]
  },
  {
   "cell_type": "code",
   "execution_count": 158,
   "metadata": {},
   "outputs": [
    {
     "name": "stdout",
     "output_type": "stream",
     "text": [
      "[[409393.82314501]\n",
      " [618749.1630977 ]\n",
      " [ 11422.61853547]\n",
      " ...\n",
      " [198448.39372026]\n",
      " [163401.801356  ]\n",
      " [351460.40414362]]\n"
     ]
    }
   ],
   "source": [
    "y_predicted=(y_predict*y_std)+y_mean #The predictions of y values without normalization\n",
    "print(y_predicted)"
   ]
  },
  {
   "cell_type": "markdown",
   "metadata": {
    "id": "zhOf8KPABiw6"
   },
   "source": [
    "### Plot loss vs. iterations"
   ]
  },
  {
   "cell_type": "code",
   "execution_count": 159,
   "metadata": {
    "id": "10jsKBUVBiw6",
    "scrolled": false
   },
   "outputs": [
    {
     "data": {
      "image/png": "[encoded data removed]",
      "text/plain": [
       "<Figure size 432x288 with 1 Axes>"
      ]
     },
     "metadata": {
      "needs_background": "light"
     },
     "output_type": "display_data"
    }
   ],
   "source": [
    "plt.plot(cost_list)\n",
    "plt.show()"
   ]
  },
  {
   "cell_type": "markdown",
   "metadata": {
    "id": "jxj1FVmCBiw6"
   },
   "source": [
    "#### Use R2 score to evaluate LR equation output"
   ]
  },
  {
   "cell_type": "code",
   "execution_count": 160,
   "metadata": {
    "id": "HySA2DQlBiw6"
   },
   "outputs": [
    {
     "name": "stdout",
     "output_type": "stream",
     "text": [
      "R_Squared =  [-3.63432758]\n"
     ]
    }
   ],
   "source": [
    "ss_tot=sum((y_norm-y_norm.mean())**2)\n",
    "ss_res=sum((y_norm-y_predict)**2)\n",
    "r2=1-(ss_res/ss_tot)\n",
    "print('R_Squared = ', r2)"
   ]
  },
  {
   "cell_type": "markdown",
   "metadata": {
    "id": "qWNSGbrFBiw7"
   },
   "source": [
    "# Bonus\n",
    "## LR Using sklearn"
   ]
  },
  {
   "cell_type": "markdown",
   "metadata": {
    "id": "u0m1p9qwBiw7"
   },
   "source": [
    "### Single Variable"
   ]
  },
  {
   "cell_type": "markdown",
   "metadata": {
    "id": "uibJCsIvBiw7"
   },
   "source": [
    "#### Build a LR model usin linearmodel.LinearRegression() from sklearn library"
   ]
  },
  {
   "cell_type": "code",
   "execution_count": 161,
   "metadata": {
    "id": "crPj3tMzBiw7"
   },
   "outputs": [],
   "source": [
    "from sklearn.linear_model import LinearRegression"
   ]
  },
  {
   "cell_type": "code",
   "execution_count": 162,
   "metadata": {
    "id": "LH-aPJKrBiw7"
   },
   "outputs": [],
   "source": [
    "data=np.genfromtxt('/home/mnasser/Downloads/student_scores.csv',delimiter=',',skip_header=1)\n",
    "x=data[:,0].reshape(len(data),1)\n",
    "y=data[:,1].reshape(len(data),1)"
   ]
  },
  {
   "cell_type": "code",
   "execution_count": 163,
   "metadata": {},
   "outputs": [
    {
     "name": "stdout",
     "output_type": "stream",
     "text": [
      "The independent feature data : \n",
      " [[2.5]\n",
      " [5.1]\n",
      " [3.2]\n",
      " [8.5]\n",
      " [3.5]\n",
      " [1.5]\n",
      " [9.2]\n",
      " [5.5]\n",
      " [8.3]\n",
      " [2.7]\n",
      " [7.7]\n",
      " [5.9]\n",
      " [4.5]\n",
      " [3.3]\n",
      " [1.1]\n",
      " [8.9]\n",
      " [2.5]\n",
      " [1.9]\n",
      " [6.1]\n",
      " [7.4]\n",
      " [2.7]\n",
      " [4.8]\n",
      " [3.8]\n",
      " [6.9]\n",
      " [7.8]]\n",
      "The dependent feature data : \n",
      " [[21.]\n",
      " [47.]\n",
      " [27.]\n",
      " [75.]\n",
      " [30.]\n",
      " [20.]\n",
      " [88.]\n",
      " [60.]\n",
      " [81.]\n",
      " [25.]\n",
      " [85.]\n",
      " [62.]\n",
      " [41.]\n",
      " [42.]\n",
      " [17.]\n",
      " [95.]\n",
      " [30.]\n",
      " [24.]\n",
      " [67.]\n",
      " [69.]\n",
      " [30.]\n",
      " [54.]\n",
      " [35.]\n",
      " [76.]\n",
      " [86.]]\n"
     ]
    }
   ],
   "source": [
    "print('The independent feature data : \\n',x)\n",
    "print('The dependent feature data : \\n',y)"
   ]
  },
  {
   "cell_type": "markdown",
   "metadata": {
    "id": "mWHy57y4Biw7"
   },
   "source": [
    "#### Train the model (fit the model to the training data)"
   ]
  },
  {
   "cell_type": "code",
   "execution_count": 164,
   "metadata": {
    "id": "bNL8J-C8Biw8",
    "scrolled": true
   },
   "outputs": [
    {
     "name": "stdout",
     "output_type": "stream",
     "text": [
      "Intercept =  [2.48367341]\n",
      "Slope =  [[9.77580339]]\n"
     ]
    }
   ],
   "source": [
    "model = LinearRegression()\n",
    "model.fit(x, y)\n",
    "print('Intercept = ', model.intercept_)\n",
    "print('Slope = ', model.coef_)"
   ]
  },
  {
   "cell_type": "markdown",
   "metadata": {
    "id": "9EI8YD5gBiw8"
   },
   "source": [
    "#### Predict y values using the trained model"
   ]
  },
  {
   "cell_type": "code",
   "execution_count": 165,
   "metadata": {
    "id": "AYFmCureBiw8"
   },
   "outputs": [
    {
     "name": "stdout",
     "output_type": "stream",
     "text": [
      "[[26.92318188]\n",
      " [52.3402707 ]\n",
      " [33.76624426]\n",
      " [85.57800223]\n",
      " [36.69898527]\n",
      " [17.14737849]\n",
      " [92.4210646 ]\n",
      " [56.25059205]\n",
      " [83.62284155]\n",
      " [28.87834256]\n",
      " [77.75735951]\n",
      " [60.16091341]\n",
      " [46.47478866]\n",
      " [34.74382459]\n",
      " [13.23705714]\n",
      " [89.48832358]\n",
      " [26.92318188]\n",
      " [21.05769985]\n",
      " [62.11607409]\n",
      " [74.8246185 ]\n",
      " [28.87834256]\n",
      " [49.40752968]\n",
      " [39.63172629]\n",
      " [69.9367168 ]\n",
      " [78.73493985]]\n"
     ]
    }
   ],
   "source": [
    "y_predict = model.predict(x)\n",
    "print(y_predict)"
   ]
  },
  {
   "cell_type": "markdown",
   "metadata": {
    "id": "e4NQqWMOBiw8"
   },
   "source": [
    "#### Plot model output (fitted line) with the original data (scatter plot of X,y)"
   ]
  },
  {
   "cell_type": "code",
   "execution_count": 166,
   "metadata": {
    "id": "TbT9cC8eBiw8"
   },
   "outputs": [
    {
     "data": {
      "image/png": "[encoded data removed]",
      "text/plain": [
       "<Figure size 432x288 with 1 Axes>"
      ]
     },
     "metadata": {
      "needs_background": "light"
     },
     "output_type": "display_data"
    }
   ],
   "source": [
    "plt.scatter(x, y)\n",
    "plt.plot(x, y_predict, color='red')\n",
    "plt.show()"
   ]
  },
  {
   "cell_type": "markdown",
   "metadata": {
    "id": "57PoVRRvBiw9"
   },
   "source": [
    "#### Use R2 score to evaluate model output"
   ]
  },
  {
   "cell_type": "code",
   "execution_count": 167,
   "metadata": {
    "id": "QCd7nuepBiw9"
   },
   "outputs": [
    {
     "name": "stdout",
     "output_type": "stream",
     "text": [
      "R_Squared =  0.9529481969048356\n"
     ]
    }
   ],
   "source": [
    "ss_tot = np.sum((y - np.mean(y)) ** 2)\n",
    "ss_res = np.sum((y_predict - y) ** 2)\n",
    "r2 = 1 - (ss_res / ss_tot)\n",
    "print('R_Squared = ', r2)"
   ]
  },
  {
   "cell_type": "markdown",
   "metadata": {
    "id": "1ROtFEqSBiw9"
   },
   "source": [
    "### Repeat for Mulivariate"
   ]
  },
  {
   "cell_type": "code",
   "execution_count": 168,
   "metadata": {
    "id": "qGrt34chBiw9"
   },
   "outputs": [],
   "source": [
    "data2=np.genfromtxt('/home/mnasser/Downloads/california_housing_train.csv',delimiter=',',skip_header=1)"
   ]
  },
  {
   "cell_type": "code",
   "execution_count": 169,
   "metadata": {},
   "outputs": [
    {
     "name": "stdout",
     "output_type": "stream",
     "text": [
      "Features : \n",
      " [[-114.31     34.19     15.     ... 1015.      472.        1.4936]\n",
      " [-114.47     34.4      19.     ... 1129.      463.        1.82  ]\n",
      " [-114.56     33.69     17.     ...  333.      117.        1.6509]\n",
      " ...\n",
      " [-124.3      41.84     17.     ... 1244.      456.        3.0313]\n",
      " [-124.3      41.8      19.     ... 1298.      478.        1.9797]\n",
      " [-124.35     40.54     52.     ...  806.      270.        3.0147]]\n",
      "Output : \n",
      " [[ 66900.]\n",
      " [ 80100.]\n",
      " [ 85700.]\n",
      " ...\n",
      " [103600.]\n",
      " [ 85800.]\n",
      " [ 94600.]]\n"
     ]
    }
   ],
   "source": [
    "x_features=np.array(data2[:,0:8])\n",
    "y=np.array(data2[:,8]).reshape(len(data2),1)\n",
    "print('Features : \\n',x_features)\n",
    "print('Output : \\n',y)"
   ]
  },
  {
   "cell_type": "code",
   "execution_count": 170,
   "metadata": {},
   "outputs": [
    {
     "name": "stdout",
     "output_type": "stream",
     "text": [
      "Intercept =  [-3620600.892974]\n",
      "Coeficients =  [[-4.31396373e+04 -4.29256731e+04  1.15069493e+03 -8.37825121e+00\n",
      "   1.17648543e+02 -3.84887721e+01  4.54360026e+01  4.05070684e+04]]\n"
     ]
    }
   ],
   "source": [
    "model = LinearRegression()\n",
    "model.fit(x_features, y)\n",
    "print('Intercept = ', model.intercept_)\n",
    "print('Coeficients = ', model.coef_)"
   ]
  },
  {
   "cell_type": "code",
   "execution_count": 171,
   "metadata": {},
   "outputs": [
    {
     "name": "stdout",
     "output_type": "stream",
     "text": [
      "[[  7128.08452522]\n",
      " [ 73675.60144233]\n",
      " [-31317.28531193]\n",
      " ...\n",
      " [100878.32872674]\n",
      " [ 63733.2214472 ]\n",
      " [186850.92450277]]\n"
     ]
    }
   ],
   "source": [
    "y_predict=model.predict(x_features)\n",
    "print(y_predict)"
   ]
  },
  {
   "cell_type": "code",
   "execution_count": 172,
   "metadata": {},
   "outputs": [
    {
     "name": "stdout",
     "output_type": "stream",
     "text": [
      "R_Squared =  0.6413378529502689\n"
     ]
    }
   ],
   "source": [
    "ss_tot = np.sum((y - np.mean(y)) ** 2)\n",
    "ss_res = np.sum((y_predict - y) ** 2)\n",
    "r2 = 1 - (ss_res / ss_tot)\n",
    "print('R_Squared = ', r2)"
   ]
  },
  {
   "cell_type": "code",
   "execution_count": null,
   "metadata": {},
   "outputs": [],
   "source": []
  }
 ],
 "metadata": {
  "colab": {
   "collapsed_sections": [
    "n9WIRmqfBiw2",
    "pfuZyWqtBiw4",
    "HVzawIE1Biw5",
    "jxj1FVmCBiw6",
    "uibJCsIvBiw7",
    "mWHy57y4Biw7",
    "9EI8YD5gBiw8",
    "e4NQqWMOBiw8",
    "57PoVRRvBiw9"
   ],
   "name": "Practical Session 1 GD Implementation for LR .ipynb",
   "provenance": []
  },
  "kernelspec": {
   "display_name": "Python 3",
   "language": "python",
   "name": "python3"
  },
  "language_info": {
   "codemirror_mode": {
    "name": "ipython",
    "version": 3
   },
   "file_extension": ".py",
   "mimetype": "text/x-python",
   "name": "python",
   "nbconvert_exporter": "python",
   "pygments_lexer": "ipython3",
   "version": "3.8.8"
  }
 },
 "nbformat": 4,
 "nbformat_minor": 1
}
