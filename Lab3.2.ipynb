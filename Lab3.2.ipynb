{
 "cells": [
  {
   "cell_type": "markdown",
   "id": "fb91e1f7",
   "metadata": {},
   "source": [
    "<center>\n",
    "    <h1>Mohamed Nasser Aboelnasr</h1>\n",
    "</center>"
   ]
  },
  {
   "cell_type": "code",
   "execution_count": 2,
   "id": "38d1e7ae",
   "metadata": {},
   "outputs": [],
   "source": [
    "import numpy as np\n",
    "import matplotlib.pyplot as plt "
   ]
  },
  {
   "cell_type": "code",
   "execution_count": 3,
   "id": "3f88017a",
   "metadata": {},
   "outputs": [],
   "source": [
    "data2=np.genfromtxt('/home/mnasser/Downloads/california_housing_train.csv',delimiter=',',skip_header=1)"
   ]
  },
  {
   "cell_type": "code",
   "execution_count": 5,
   "id": "4cc1c66b",
   "metadata": {},
   "outputs": [
    {
     "name": "stdout",
     "output_type": "stream",
     "text": [
      "[[-1.1431e+02  3.4190e+01  1.5000e+01 ...  4.7200e+02  1.4936e+00\n",
      "   6.6900e+04]\n",
      " [-1.1447e+02  3.4400e+01  1.9000e+01 ...  4.6300e+02  1.8200e+00\n",
      "   8.0100e+04]\n",
      " [-1.1456e+02  3.3690e+01  1.7000e+01 ...  1.1700e+02  1.6509e+00\n",
      "   8.5700e+04]\n",
      " ...\n",
      " [-1.2430e+02  4.1840e+01  1.7000e+01 ...  4.5600e+02  3.0313e+00\n",
      "   1.0360e+05]\n",
      " [-1.2430e+02  4.1800e+01  1.9000e+01 ...  4.7800e+02  1.9797e+00\n",
      "   8.5800e+04]\n",
      " [-1.2435e+02  4.0540e+01  5.2000e+01 ...  2.7000e+02  3.0147e+00\n",
      "   9.4600e+04]]\n"
     ]
    }
   ],
   "source": [
    "print(data2)"
   ]
  },
  {
   "cell_type": "code",
   "execution_count": 6,
   "id": "ea395c0c",
   "metadata": {},
   "outputs": [
    {
     "name": "stdout",
     "output_type": "stream",
     "text": [
      "Features : \n",
      " [[-114.31     34.19     15.     ... 1015.      472.        1.4936]\n",
      " [-114.47     34.4      19.     ... 1129.      463.        1.82  ]\n",
      " [-114.56     33.69     17.     ...  333.      117.        1.6509]\n",
      " ...\n",
      " [-124.3      41.84     17.     ... 1244.      456.        3.0313]\n",
      " [-124.3      41.8      19.     ... 1298.      478.        1.9797]\n",
      " [-124.35     40.54     52.     ...  806.      270.        3.0147]]\n",
      "Output : \n",
      " [[ 66900.]\n",
      " [ 80100.]\n",
      " [ 85700.]\n",
      " ...\n",
      " [103600.]\n",
      " [ 85800.]\n",
      " [ 94600.]]\n"
     ]
    }
   ],
   "source": [
    "x_features=np.array(data2[:,0:8])\n",
    "y=np.array(data2[:,8]).reshape(len(data2),1)\n",
    "print('Features : \\n',x_features)\n",
    "print('Output : \\n',y)"
   ]
  },
  {
   "cell_type": "code",
   "execution_count": 7,
   "id": "34a1541e",
   "metadata": {},
   "outputs": [
    {
     "name": "stdout",
     "output_type": "stream",
     "text": [
      "[[ 1.          2.619365   -0.67152023 ... -0.36118401 -0.07599796\n",
      "  -1.25254316]\n",
      " [ 1.          2.53956878 -0.57326437 ... -0.26186523 -0.09940441\n",
      "  -1.08148298]\n",
      " [ 1.          2.4946834  -0.90546278 ... -0.95535424 -0.99925206\n",
      "  -1.17010515]\n",
      " ...\n",
      " [ 1.         -2.36291168  2.90780067 ... -0.16167524 -0.11760942\n",
      "  -0.44666313]\n",
      " [ 1.         -2.36291168  2.88908527 ... -0.1146295  -0.06039367\n",
      "  -0.99778717]\n",
      " [ 1.         -2.387848    2.29955006 ... -0.54326844 -0.60134255\n",
      "  -0.45536288]]\n",
      "[[-1.21055773]\n",
      " [-1.09674535]\n",
      " [-1.04846131]\n",
      " ...\n",
      " [-0.89412482]\n",
      " [-1.04759909]\n",
      " [-0.97172417]]\n"
     ]
    }
   ],
   "source": [
    "#Normalizing data\n",
    "\n",
    "    #normalizing x data(independent features)\n",
    "x_means=x_features.mean(axis=0) #getting mean for every column(feature)\n",
    "mat_xmeans=np.outer(np.ones(len(y)),x_means) #extend the array of means to be matrix\n",
    "x_stds=x_features.std(axis=0) #getting standard deviation for every column(feature)\n",
    "mat_xstds=np.outer(np.ones(len(y)),x_stds) #extend the array of means to be matrix\n",
    "x_norm=(x_features-mat_xmeans)/mat_xstds #normalized x data(independent features)\n",
    "xo=np.ones(len(x_norm))  # Making xo column to multiply it with theta_0 (the intercept)\n",
    "x_norm=np.c_[xo,x_norm] # Adding the column to the beginning of x_norm\n",
    "\n",
    "    #normalizing y data(dependent feature)\n",
    "y_mean=y.mean()\n",
    "y_std=y.std()\n",
    "y_norm=(y-y_mean)/y_std #normalized y data(dependent feature)\n",
    "\n",
    "print(x_norm)\n",
    "print(y_norm)"
   ]
  },
  {
   "cell_type": "code",
   "execution_count": 8,
   "id": "d1290013",
   "metadata": {},
   "outputs": [
    {
     "name": "stdout",
     "output_type": "stream",
     "text": [
      "[[1.]\n",
      " [1.]\n",
      " [1.]\n",
      " [1.]\n",
      " [1.]\n",
      " [1.]\n",
      " [1.]\n",
      " [1.]\n",
      " [1.]]\n"
     ]
    }
   ],
   "source": [
    "# Initializing values of thetas (factors of x_features) equal to one\n",
    "thetas=np.ones(np.shape(x_norm)[1]) \n",
    "thetas=thetas.reshape(len(thetas),1)\n",
    "print(thetas)"
   ]
  },
  {
   "cell_type": "code",
   "execution_count": 9,
   "id": "690ba40a",
   "metadata": {},
   "outputs": [
    {
     "name": "stdout",
     "output_type": "stream",
     "text": [
      "The initial predictions of y : \n",
      " [[ 3.3043475 ]\n",
      " [ 6.28872858]\n",
      " [-3.20568087]\n",
      " ...\n",
      " [-0.10649311]\n",
      " [-0.36564161]\n",
      " [ 0.22583637]]\n",
      "The initial loss function \n",
      " [7.32015474]\n"
     ]
    }
   ],
   "source": [
    "#Prediction of y based on initial assuming\n",
    "y_predict=np.dot(x_norm,thetas)\n",
    "print('The initial predictions of y : \\n',y_predict)\n",
    "m=len(y_norm)\n",
    "cost_func=(1/(2*m))*sum((y_predict-y_norm)**2) #initailize the cost(loss) function initial assuming\n",
    "print('The initial loss function \\n',cost_func)\n",
    "alpha=0.1 #This is the learning rate\n",
    "gradients=np.zeros(len(thetas)) #initializing gradients"
   ]
  },
  {
   "cell_type": "code",
   "execution_count": 10,
   "id": "2fc4628d",
   "metadata": {},
   "outputs": [
    {
     "name": "stdout",
     "output_type": "stream",
     "text": [
      "[[ 2.1753574 ]\n",
      " [ 4.33188648]\n",
      " [-2.14418376]\n",
      " ...\n",
      " [-0.04841753]\n",
      " [-0.33431502]\n",
      " [ 1.05987946]]\n",
      "[3.42415903]\n"
     ]
    }
   ],
   "source": [
    "for i in range(len(thetas)):\n",
    "    gradients[i]=(1/m)*sum((y_predict-y_norm)*x_norm[:,i].reshape(len(y_norm),1)) #set the gradient of every theta(column)(feature)\n",
    "    thetas[i]=thetas[i]-alpha*gradients[i] #update every theta\n",
    "y_predict=np.dot(x_norm,thetas) #make prediction after the first update for all thetas\n",
    "print(y_predict) #printing the first prediction of y after updating all thetas\n",
    "cost_func=(1/(2*m))*sum((y_predict-y_norm)**2) #update cost(loss) function after the first prediction for y\n",
    "print(cost_func)"
   ]
  },
  {
   "cell_type": "code",
   "execution_count": 11,
   "id": "d30a03c6",
   "metadata": {},
   "outputs": [
    {
     "name": "stdout",
     "output_type": "stream",
     "text": [
      "The minimum cost function after 300 iteration : \n",
      " [0.18498721]\n",
      "The predictions of y after 300 iterations : \n",
      " [[-1.55093888]\n",
      " [-1.18360567]\n",
      " [-1.69544173]\n",
      " ...\n",
      " [-0.81955374]\n",
      " [-1.16270733]\n",
      " [-0.18945894]]\n"
     ]
    }
   ],
   "source": [
    "# now we can optimize our fitting by updating the thetas(parameters of the model) like 100 times to reach the minimum loss function\n",
    "cost_list=[]\n",
    "for _ in range(300):\n",
    "    for i in range(len(thetas)):\n",
    "        gradients[i]=(1/m)*sum((y_predict-y_norm)*x_norm[:,i].reshape(len(y_norm),1)) \n",
    "        thetas[i]=thetas[i]-alpha*gradients[i] \n",
    "    y_predict=np.dot(x_norm,thetas)\n",
    "    cost_func=(1/(2*m))*sum((y_predict-y_norm)**2)\n",
    "    cost_list.append(cost_func)\n",
    "    \n",
    "cost_func=(1/(2*m))*sum((y_predict-y_norm)**2) #the cost function after 100 updating(iterations) \n",
    "print('The minimum cost function after 300 iteration : \\n',cost_func)\n",
    "print('The predictions of y after 300 iterations : \\n',y_predict)"
   ]
  },
  {
   "cell_type": "code",
   "execution_count": 12,
   "id": "ec813233",
   "metadata": {},
   "outputs": [
    {
     "name": "stdout",
     "output_type": "stream",
     "text": [
      "[[ 27422.47371486]\n",
      " [ 70025.9083287 ]\n",
      " [ 10662.98202041]\n",
      " ...\n",
      " [112248.78055373]\n",
      " [ 72449.70563581]\n",
      " [185327.39776775]]\n"
     ]
    }
   ],
   "source": [
    "y_predicted=(y_predict*y_std)+y_mean #The predictions of y values without normalization\n",
    "print(y_predicted)"
   ]
  },
  {
   "cell_type": "code",
   "execution_count": 13,
   "id": "09a4eef5",
   "metadata": {},
   "outputs": [
    {
     "data": {
      "image/png": "[encoded data removed]",
      "text/plain": [
       "<Figure size 432x288 with 1 Axes>"
      ]
     },
     "metadata": {
      "needs_background": "light"
     },
     "output_type": "display_data"
    }
   ],
   "source": [
    "plt.plot(cost_list)\n",
    "plt.show()"
   ]
  },
  {
   "cell_type": "code",
   "execution_count": 14,
   "id": "0e5970df",
   "metadata": {},
   "outputs": [
    {
     "name": "stdout",
     "output_type": "stream",
     "text": [
      "R_Squared =  [0.63002559]\n"
     ]
    }
   ],
   "source": [
    "ss_tot=sum((y_norm-y_norm.mean())**2)\n",
    "ss_res=sum((y_norm-y_predict)**2)\n",
    "r2=1-(ss_res/ss_tot)\n",
    "print('R_Squared = ', r2)"
   ]
  },
  {
   "cell_type": "markdown",
   "id": "62c7f408",
   "metadata": {},
   "source": [
    "# Using sklearn"
   ]
  },
  {
   "cell_type": "code",
   "execution_count": 18,
   "id": "64d68ae7",
   "metadata": {},
   "outputs": [],
   "source": [
    "from sklearn.linear_model import LinearRegression"
   ]
  },
  {
   "cell_type": "code",
   "execution_count": 19,
   "id": "6a735ce7",
   "metadata": {},
   "outputs": [],
   "source": [
    "data2=np.genfromtxt('/home/mnasser/Downloads/california_housing_train.csv',delimiter=',',skip_header=1)"
   ]
  },
  {
   "cell_type": "code",
   "execution_count": 20,
   "id": "d6876ce6",
   "metadata": {},
   "outputs": [
    {
     "name": "stdout",
     "output_type": "stream",
     "text": [
      "Features : \n",
      " [[-114.31     34.19     15.     ... 1015.      472.        1.4936]\n",
      " [-114.47     34.4      19.     ... 1129.      463.        1.82  ]\n",
      " [-114.56     33.69     17.     ...  333.      117.        1.6509]\n",
      " ...\n",
      " [-124.3      41.84     17.     ... 1244.      456.        3.0313]\n",
      " [-124.3      41.8      19.     ... 1298.      478.        1.9797]\n",
      " [-124.35     40.54     52.     ...  806.      270.        3.0147]]\n",
      "Output : \n",
      " [[ 66900.]\n",
      " [ 80100.]\n",
      " [ 85700.]\n",
      " ...\n",
      " [103600.]\n",
      " [ 85800.]\n",
      " [ 94600.]]\n"
     ]
    }
   ],
   "source": [
    "x_features=np.array(data2[:,0:8])\n",
    "y=np.array(data2[:,8]).reshape(len(data2),1)\n",
    "print('Features : \\n',x_features)\n",
    "print('Output : \\n',y)"
   ]
  },
  {
   "cell_type": "code",
   "execution_count": 21,
   "id": "0edc4bd5",
   "metadata": {},
   "outputs": [
    {
     "name": "stdout",
     "output_type": "stream",
     "text": [
      "Intercept =  [-3620600.892974]\n",
      "Coeficients =  [[-4.31396373e+04 -4.29256731e+04  1.15069493e+03 -8.37825121e+00\n",
      "   1.17648543e+02 -3.84887721e+01  4.54360026e+01  4.05070684e+04]]\n"
     ]
    }
   ],
   "source": [
    "model = LinearRegression()\n",
    "model.fit(x_features, y)\n",
    "print('Intercept = ', model.intercept_)\n",
    "print('Coeficients = ', model.coef_)"
   ]
  },
  {
   "cell_type": "code",
   "execution_count": 22,
   "id": "f6e14c8d",
   "metadata": {},
   "outputs": [
    {
     "name": "stdout",
     "output_type": "stream",
     "text": [
      "[[  7128.08452522]\n",
      " [ 73675.60144233]\n",
      " [-31317.28531193]\n",
      " ...\n",
      " [100878.32872674]\n",
      " [ 63733.2214472 ]\n",
      " [186850.92450277]]\n"
     ]
    }
   ],
   "source": [
    "y_predict=model.predict(x_features)\n",
    "print(y_predict)"
   ]
  },
  {
   "cell_type": "code",
   "execution_count": 23,
   "id": "acecae82",
   "metadata": {},
   "outputs": [
    {
     "name": "stdout",
     "output_type": "stream",
     "text": [
      "R_Squared =  0.6413378529502689\n"
     ]
    }
   ],
   "source": [
    "r2=model.score(x_features,y)\n",
    "print('R_Squared = ', r2)"
   ]
  },
  {
   "cell_type": "code",
   "execution_count": null,
   "id": "e4377d89",
   "metadata": {},
   "outputs": [],
   "source": []
  }
 ],
 "metadata": {
  "kernelspec": {
   "display_name": "Python 3",
   "language": "python",
   "name": "python3"
  },
  "language_info": {
   "codemirror_mode": {
    "name": "ipython",
    "version": 3
   },
   "file_extension": ".py",
   "mimetype": "text/x-python",
   "name": "python",
   "nbconvert_exporter": "python",
   "pygments_lexer": "ipython3",
   "version": "3.8.8"
  }
 },
 "nbformat": 4,
 "nbformat_minor": 5
}
